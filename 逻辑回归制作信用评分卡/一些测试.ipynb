{
 "cells": [
  {
   "cell_type": "code",
   "execution_count": 2,
   "metadata": {},
   "outputs": [
    {
     "name": "stderr",
     "output_type": "stream",
     "text": [
      "C:\\ProgramData\\Anaconda3\\lib\\importlib\\_bootstrap.py:219: RuntimeWarning: numpy.ufunc size changed, may indicate binary incompatibility. Expected 216, got 192\n",
      "  return f(*args, **kwds)\n"
     ]
    }
   ],
   "source": [
    "import pandas as pd\n",
    "import numpy as np\n",
    "import matplotlib.pyplot as plt\n"
   ]
  },
  {
   "cell_type": "code",
   "execution_count": 27,
   "metadata": {},
   "outputs": [],
   "source": [
    "#drop_duplicates\n",
    "#创建数据集\n",
    "data = pd.DataFrame({\"a\":[1,2,4,4],\"b\":[4,3,4,4]})"
   ]
  },
  {
   "cell_type": "code",
   "execution_count": 28,
   "metadata": {},
   "outputs": [
    {
     "data": {
      "text/html": [
       "<div>\n",
       "<style scoped>\n",
       "    .dataframe tbody tr th:only-of-type {\n",
       "        vertical-align: middle;\n",
       "    }\n",
       "\n",
       "    .dataframe tbody tr th {\n",
       "        vertical-align: top;\n",
       "    }\n",
       "\n",
       "    .dataframe thead th {\n",
       "        text-align: right;\n",
       "    }\n",
       "</style>\n",
       "<table border=\"1\" class=\"dataframe\">\n",
       "  <thead>\n",
       "    <tr style=\"text-align: right;\">\n",
       "      <th></th>\n",
       "      <th>a</th>\n",
       "      <th>b</th>\n",
       "    </tr>\n",
       "  </thead>\n",
       "  <tbody>\n",
       "    <tr>\n",
       "      <th>0</th>\n",
       "      <td>1</td>\n",
       "      <td>4</td>\n",
       "    </tr>\n",
       "    <tr>\n",
       "      <th>1</th>\n",
       "      <td>2</td>\n",
       "      <td>3</td>\n",
       "    </tr>\n",
       "    <tr>\n",
       "      <th>2</th>\n",
       "      <td>4</td>\n",
       "      <td>4</td>\n",
       "    </tr>\n",
       "  </tbody>\n",
       "</table>\n",
       "</div>"
      ],
      "text/plain": [
       "   a  b\n",
       "0  1  4\n",
       "1  2  3\n",
       "2  4  4"
      ]
     },
     "execution_count": 28,
     "metadata": {},
     "output_type": "execute_result"
    }
   ],
   "source": [
    "#去除重复值\n",
    "data.drop_duplicates()"
   ]
  },
  {
   "cell_type": "code",
   "execution_count": 5,
   "metadata": {},
   "outputs": [],
   "source": [
    "#尝试用栈来实现分箱合并\n",
    "class Stack():   #定义类\n",
    "    def __init__(self):  #产生一个空的容器\n",
    "        self.__list = []\n",
    "    def push(self, item):  #入栈\n",
    "        self.__list.append(item)\n",
    "    def pop(self):  #出栈\n",
    "        return self.__list.pop()\n",
    "    def speek(self):  #返回栈顶元素\n",
    "        return self.__list[-1]\n",
    "    def is_empty(self):  #判断是否已为空\n",
    "        return not self.__list\n",
    "    def size(self):  #返回栈中元素个数\n",
    "        return len(self.__list)\n"
   ]
  },
  {
   "cell_type": "code",
   "execution_count": 23,
   "metadata": {},
   "outputs": [
    {
     "data": {
      "text/plain": [
       "[(21.0, 31.0, 3571, 13425),\n",
       " (31.0, 34.0, 4075, 6756),\n",
       " (34.0, 36.0, 2908, 4609),\n",
       " (36.0, 39.0, 5182, 7518),\n",
       " (39.0, 41.0, 3956, 5852),\n",
       " (41.0, 45.0, 4389, 11656),\n",
       " (45.0, 46.0, 2419, 3295),\n",
       " (46.0, 48.0, 4813, 6153),\n",
       " (48.0, 50.0, 4900, 6239),\n",
       " (50.0, 54.0, 4728, 5003),\n",
       " (54.0, 56.0, 4677, 4014),\n",
       " (56.0, 64.0, 6968, 11402),\n",
       " (64.0, 68.0, 6623, 2284),\n",
       " (68.0, 107.0, 7737, 3309)]"
      ]
     },
     "execution_count": 23,
     "metadata": {},
     "output_type": "execute_result"
    }
   ],
   "source": [
    "test = [\n",
    "    (21.0, 28.0, 0, 7524),\n",
    " (28.0, 31.0, 3571, 5901),\n",
    " (31.0, 34.0, 4075, 6756),\n",
    " (34.0, 36.0, 2908, 4609),\n",
    " (36.0, 39.0, 5182, 7518),\n",
    " (39.0, 41.0, 3956, 5852),\n",
    " (41.0, 43.0, 0, 5672),\n",
    " (43.0, 45.0, 4389, 5984),\n",
    " (45.0, 46.0, 2419, 3295),\n",
    " (46.0, 48.0, 4813, 6153),\n",
    " (48.0, 50.0, 4900, 6239),\n",
    " (50.0, 52.0, 4728, 0),\n",
    " (52.0, 54.0, 0, 5003),\n",
    " (54.0, 56.0, 4677, 4014),\n",
    " (56.0, 58.0, 0, 3443),\n",
    " (58.0, 61.0, 0, 4770),\n",
    " (61.0, 64.0, 6968, 3189),\n",
    " (64.0, 68.0, 6623, 2284),\n",
    " (68.0, 74.0, 0, 1919),\n",
    " (74.0, 107.0, 7737, 1390)]\n",
    "s = Stack()\n",
    "#首先将列表翻转，降序\n",
    "test = sorted(test,reverse=True)\n",
    "#全部入栈\n",
    "for i in test:\n",
    "    s.push(i)\n",
    "lis =[]\n",
    "while not s.is_empty():\n",
    "    s1 = s.pop()\n",
    "    if 0 in s1[2:]:\n",
    "        s2 = s.pop()\n",
    "        s3 = (s1[0],s2[1],s1[2]+s2[2],s1[3]+s2[3])\n",
    "        s.push(s3)\n",
    "    else:\n",
    "        lis.append(s1)\n",
    "lis"
   ]
  },
  {
   "cell_type": "code",
   "execution_count": 15,
   "metadata": {},
   "outputs": [
    {
     "data": {
      "text/plain": [
       "[(74.0, 107.0, 7737, 1390),\n",
       " (68.0, 74.0, 6753, 1919),\n",
       " (64.0, 68.0, 6623, 2284),\n",
       " (61.0, 64.0, 6968, 3189),\n",
       " (58.0, 61.0, 6583, 4770),\n",
       " (56.0, 58.0, 4483, 3443),\n",
       " (54.0, 56.0, 4677, 4014),\n",
       " (52.0, 54.0, 4681, 5003),\n",
       " (50.0, 52.0, 4728, 5802),\n",
       " (48.0, 50.0, 4900, 6239),\n",
       " (46.0, 48.0, 4813, 6153),\n",
       " (45.0, 46.0, 2419, 3295),\n",
       " (43.0, 45.0, 4389, 5984),\n",
       " (41.0, 43.0, 4002, 5672),\n",
       " (39.0, 41.0, 3956, 5852),\n",
       " (36.0, 39.0, 5182, 7518),\n",
       " (34.0, 36.0, 2908, 4609),\n",
       " (31.0, 34.0, 4075, 6756),\n",
       " (28.0, 31.0, 3571, 5901),\n",
       " (21.0, 28.0, 4243, 7524)]"
      ]
     },
     "execution_count": 15,
     "metadata": {},
     "output_type": "execute_result"
    }
   ],
   "source": [
    "sorted(test,reverse=True)"
   ]
  },
  {
   "cell_type": "code",
   "execution_count": 9,
   "metadata": {},
   "outputs": [
    {
     "data": {
      "text/plain": [
       "(1, 2, 4, 1, 2, 4)"
      ]
     },
     "execution_count": 9,
     "metadata": {},
     "output_type": "execute_result"
    }
   ],
   "source": []
  },
  {
   "cell_type": "code",
   "execution_count": null,
   "metadata": {},
   "outputs": [],
   "source": []
  }
 ],
 "metadata": {
  "kernelspec": {
   "display_name": "Python 3",
   "language": "python",
   "name": "python3"
  },
  "language_info": {
   "codemirror_mode": {
    "name": "ipython",
    "version": 3
   },
   "file_extension": ".py",
   "mimetype": "text/x-python",
   "name": "python",
   "nbconvert_exporter": "python",
   "pygments_lexer": "ipython3",
   "version": "3.6.5"
  }
 },
 "nbformat": 4,
 "nbformat_minor": 2
}
