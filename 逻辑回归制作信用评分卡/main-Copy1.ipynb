{
 "cells": [
  {
   "cell_type": "markdown",
   "metadata": {},
   "source": [
    "# 1.前言\n",
    "在银行借贷场景中，评分卡是一种以分数形式来衡量一个客户的信用风险大小的手段，它衡量向受信人或需要融资的公司不能如期履行合同中的还本付息责任和让授信人或银行等金融机构造成经济损失的可能性的一种方式。一般来说，评分卡打出的分数越高，客户的信用越好，风险越小。\n",
    "\n",
    "这些”借钱的人“，可能是个人，有可能是有需求的公司和企业。对于企业来说，我们按照融资主体的融资用途，分别使用企业融资模型，现金流融资模型，项目融资模型等模型。而对于个人来说，我们有”四张卡“来评判个人的信用程度：A卡，B卡，C卡和F卡。而众人常说的“评分卡”其实是指A卡，又称为申请者评级模型，主要应用于相关融 资类业务中新用户的主体评级，即判断金融机构是否应该借钱给一个新用户，如果这个人的风险太高，我们可以拒绝贷款。\n",
    "\n",
    "本项目使用的数据集由[kaggle提供](https://link.zhihu.com/?target=https%3A//www.kaggle.com/c/GiveMeSomeCredit/data)\n",
    "[数据集下载地址](https://www.jianshu.com/p/b94036ec839f)"
   ]
  },
  {
   "cell_type": "markdown",
   "metadata": {},
   "source": [
    "SeriousDlqin2yrs：超过90天或更糟的逾期拖欠\n",
    "\n",
    "RevolvingUtilization Of UnsecuredLines：无担保放款的循环利用：除了不动产和像车 贷那样除以信用额度总和的无分期付款债务的信用卡和个人信用额度总额\n",
    "\n",
    "Age：借款人年龄\n",
    "\n",
    "NumberOfTime30-59DaysPastDueNotWorse：30-59天逾期次数\n",
    "\n",
    "DebtRatio：负债比例\n",
    "\n",
    "MonthlyIncome：月收入\n",
    "\n",
    "Number Of OpenCreditLinesAndLoans：贷款数量\n",
    "\n",
    "NumberOfTimes90DaysLate：90天逾期次数：借款者有90天或更高逾期的次数\n",
    "\n",
    "NumberReal Estate Loans Or Lines：不动产贷款或额度数量：抵押贷款和不动产放款包 括房屋净值信贷额度\n",
    "\n",
    "Number Of Time 60-89Days PastDue Not Worse：60-89天逾期次数\n",
    "\n",
    "NumberOfDependents：不包括本人在内的家属数量\n",
    "首先是基于个人借贷的场景，确定“违约”的定义： 根据新的Basel II Capital Accord（巴塞尔二资本协议），一般逾期90天算作违约。"
   ]
  },
  {
   "cell_type": "markdown",
   "metadata": {},
   "source": [
    "# 2.数据预处理"
   ]
  },
  {
   "cell_type": "markdown",
   "metadata": {},
   "source": [
    "## 2.1 读取数据以及导入包"
   ]
  },
  {
   "cell_type": "code",
   "execution_count": 122,
   "metadata": {
    "pycharm": {
     "is_executing": false
    }
   },
   "outputs": [],
   "source": [
    "import numpy as np\n",
    "import matplotlib.pyplot as plt\n",
    "from sklearn.linear_model import LogisticRegression as LR\n",
    "import pandas as pd\n",
    "import seaborn as sns\n",
    "#读取寻训练数据，为了使不同的端可以正常使用数据，故设置两段读取\n",
    "#从kaggle训练集库读取\n",
    "try:\n",
    "    path = \"E:\\kaggledatabase\\GiveMeSomeCredit\\\\\"\n",
    "    data = pd.read_csv(path+\"cs-training.csv\",index_col=0)#设置某列作为索引\n",
    "except FileNotFoundError:#除非找不到文件，再从该目录下查找文件\n",
    "    data = pd.read_csv(\"cs-training.csv\",index_col=0)#设置某列作为索引"
   ]
  },
  {
   "cell_type": "markdown",
   "metadata": {
    "pycharm": {
     "name": "#%% md\n"
    }
   },
   "source": [
    "## 2.2 数据预处理"
   ]
  },
  {
   "cell_type": "markdown",
   "metadata": {},
   "source": [
    "### 2.2.1 观察数据结构"
   ]
  },
  {
   "cell_type": "code",
   "execution_count": 123,
   "metadata": {
    "pycharm": {
     "is_executing": false,
     "name": "#%%\n"
    }
   },
   "outputs": [
    {
     "name": "stdout",
     "output_type": "stream",
     "text": [
      "<class 'pandas.core.frame.DataFrame'>\n",
      "Int64Index: 150000 entries, 1 to 150000\n",
      "Data columns (total 11 columns):\n",
      "SeriousDlqin2yrs                        150000 non-null int64\n",
      "RevolvingUtilizationOfUnsecuredLines    150000 non-null float64\n",
      "age                                     150000 non-null int64\n",
      "NumberOfTime30-59DaysPastDueNotWorse    150000 non-null int64\n",
      "DebtRatio                               150000 non-null float64\n",
      "MonthlyIncome                           120269 non-null float64\n",
      "NumberOfOpenCreditLinesAndLoans         150000 non-null int64\n",
      "NumberOfTimes90DaysLate                 150000 non-null int64\n",
      "NumberRealEstateLoansOrLines            150000 non-null int64\n",
      "NumberOfTime60-89DaysPastDueNotWorse    150000 non-null int64\n",
      "NumberOfDependents                      146076 non-null float64\n",
      "dtypes: float64(4), int64(7)\n",
      "memory usage: 13.7 MB\n"
     ]
    }
   ],
   "source": [
    "data.info()"
   ]
  },
  {
   "cell_type": "markdown",
   "metadata": {
    "pycharm": {
     "name": "#%% md\n"
    }
   },
   "source": [
    "十个特征，一个被解释变量"
   ]
  },
  {
   "cell_type": "markdown",
   "metadata": {},
   "source": [
    "### 2.2.2 去除重复值\n",
    "\n",
    "现实数据，尤其是银行业数据，可能会存在的一个问题就是样本重复，即有超过一行的样本所显示的所有特征都一样。有时候可能时人为输入重复，有时候可能是系统录入重复，总而言之我们必须对数据进行去重处理。可能有人会说，难道不可能出现说两个样本的特征就是一模一样，但他们是两个样本吗？比如，两个人，一模一样的名字，年龄，性别，学历，工资……当特征量很少的时候，这的确是有可能的，但一些指标，比如说家属人数，月收入，已借有的房地产贷款数量等等，几乎不可能都出现一样。尤其是银行业数据经常是几百个特征，所有特征都一样的可能性是微乎其微的。即便真的出现了如此极端的情况，我们也可以当作是少量信息损失，将这条记录当作重复值除去。"
   ]
  },
  {
   "cell_type": "code",
   "execution_count": 124,
   "metadata": {
    "pycharm": {
     "is_executing": false,
     "name": "#%%\n"
    }
   },
   "outputs": [],
   "source": [
    "#去除重复值\n",
    "#inplace=True表示替换原数据\n",
    "data.drop_duplicates(inplace=True)#当两行数据完全一样就删除\n",
    "#删除完记得恢复索引\n",
    "data.index = range(data.shape[0])"
   ]
  },
  {
   "cell_type": "code",
   "execution_count": 125,
   "metadata": {
    "pycharm": {
     "is_executing": false
    }
   },
   "outputs": [
    {
     "name": "stdout",
     "output_type": "stream",
     "text": [
      "<class 'pandas.core.frame.DataFrame'>\n",
      "RangeIndex: 149391 entries, 0 to 149390\n",
      "Data columns (total 11 columns):\n",
      "SeriousDlqin2yrs                        149391 non-null int64\n",
      "RevolvingUtilizationOfUnsecuredLines    149391 non-null float64\n",
      "age                                     149391 non-null int64\n",
      "NumberOfTime30-59DaysPastDueNotWorse    149391 non-null int64\n",
      "DebtRatio                               149391 non-null float64\n",
      "MonthlyIncome                           120170 non-null float64\n",
      "NumberOfOpenCreditLinesAndLoans         149391 non-null int64\n",
      "NumberOfTimes90DaysLate                 149391 non-null int64\n",
      "NumberRealEstateLoansOrLines            149391 non-null int64\n",
      "NumberOfTime60-89DaysPastDueNotWorse    149391 non-null int64\n",
      "NumberOfDependents                      145563 non-null float64\n",
      "dtypes: float64(4), int64(7)\n",
      "memory usage: 12.5 MB\n"
     ]
    }
   ],
   "source": [
    "data.info()"
   ]
  },
  {
   "cell_type": "markdown",
   "metadata": {
    "pycharm": {
     "name": "#%% md\n"
    }
   },
   "source": [
    "### 2.2.3 探索缺失值\n",
    "\n",
    "第二个要面临的问题，就是缺失值。在这里我们需要填补的特征是“月收入”和“家属人数”。“家属人数”缺失很少，仅缺失了大约2.5%，可以考虑直接删除，或者使用均值来填补。“收入”缺失了几乎20%，并且我们知道，“收入”必然是 一个对信用评分来说很重要的因素，因此这个特征必须要进行填补。在这里，我们使用均值填补“家属人数”。"
   ]
  },
  {
   "cell_type": "code",
   "execution_count": 126,
   "metadata": {
    "pycharm": {
     "is_executing": false,
     "name": "#%%\n"
    }
   },
   "outputs": [
    {
     "data": {
      "text/plain": [
       "SeriousDlqin2yrs                        0.000000\n",
       "RevolvingUtilizationOfUnsecuredLines    0.000000\n",
       "age                                     0.000000\n",
       "NumberOfTime30-59DaysPastDueNotWorse    0.000000\n",
       "DebtRatio                               0.000000\n",
       "MonthlyIncome                           0.195601\n",
       "NumberOfOpenCreditLinesAndLoans         0.000000\n",
       "NumberOfTimes90DaysLate                 0.000000\n",
       "NumberRealEstateLoansOrLines            0.000000\n",
       "NumberOfTime60-89DaysPastDueNotWorse    0.000000\n",
       "NumberOfDependents                      0.025624\n",
       "dtype: float64"
      ]
     },
     "execution_count": 126,
     "metadata": {},
     "output_type": "execute_result"
    }
   ],
   "source": [
    "#查看缺失值比例\n",
    "data.isnull().mean()"
   ]
  },
  {
   "cell_type": "code",
   "execution_count": 127,
   "metadata": {
    "pycharm": {
     "is_executing": false
    }
   },
   "outputs": [
    {
     "name": "stdout",
     "output_type": "stream",
     "text": [
      "<class 'pandas.core.frame.DataFrame'>\n",
      "RangeIndex: 149391 entries, 0 to 149390\n",
      "Data columns (total 11 columns):\n",
      "SeriousDlqin2yrs                        149391 non-null int64\n",
      "RevolvingUtilizationOfUnsecuredLines    149391 non-null float64\n",
      "age                                     149391 non-null int64\n",
      "NumberOfTime30-59DaysPastDueNotWorse    149391 non-null int64\n",
      "DebtRatio                               149391 non-null float64\n",
      "MonthlyIncome                           120170 non-null float64\n",
      "NumberOfOpenCreditLinesAndLoans         149391 non-null int64\n",
      "NumberOfTimes90DaysLate                 149391 non-null int64\n",
      "NumberRealEstateLoansOrLines            149391 non-null int64\n",
      "NumberOfTime60-89DaysPastDueNotWorse    149391 non-null int64\n",
      "NumberOfDependents                      149391 non-null float64\n",
      "dtypes: float64(4), int64(7)\n",
      "memory usage: 12.5 MB\n"
     ]
    }
   ],
   "source": [
    "#使用均值填补“家属”缺失值\n",
    "data['NumberOfDependents'].fillna(int(data['NumberOfDependents'].mean()),inplace=True)\n",
    "data.info()"
   ]
  },
  {
   "cell_type": "code",
   "execution_count": 128,
   "metadata": {
    "pycharm": {
     "is_executing": false
    }
   },
   "outputs": [
    {
     "data": {
      "text/plain": [
       "SeriousDlqin2yrs                        0.000000\n",
       "RevolvingUtilizationOfUnsecuredLines    0.000000\n",
       "age                                     0.000000\n",
       "NumberOfTime30-59DaysPastDueNotWorse    0.000000\n",
       "DebtRatio                               0.000000\n",
       "MonthlyIncome                           0.195601\n",
       "NumberOfOpenCreditLinesAndLoans         0.000000\n",
       "NumberOfTimes90DaysLate                 0.000000\n",
       "NumberRealEstateLoansOrLines            0.000000\n",
       "NumberOfTime60-89DaysPastDueNotWorse    0.000000\n",
       "NumberOfDependents                      0.000000\n",
       "dtype: float64"
      ]
     },
     "execution_count": 128,
     "metadata": {},
     "output_type": "execute_result"
    }
   ],
   "source": [
    "data.isnull().mean()"
   ]
  },
  {
   "cell_type": "markdown",
   "metadata": {
    "pycharm": {
     "name": "#%% md\n"
    }
   },
   "source": [
    "那字段\"月收入\"怎么办呢？对于银行数据来说，我们甚至可以有这样的推断：一个来借钱的人应该是会知道，“高收入”或者“稳定收入”于他/她自己而言会是申请贷款过程中的一个助力，因此如果收入稳定良好的人，肯定会倾向于写上自己的收入情况，那么这些“收入”栏缺失的人，更可能是收入状况不稳定或收入比较低的人。基于这种判断，我们可以用比如说，四分位数来填补缺失值，把所有收入为空的客户都当成是低收入人群。当然了，也有可能这些缺失是银行数据收集过程中的失误，我们并无法判断为什么收入栏会有缺失，所以我们的推断也有可能是不正确的。具体采用什么样的手段填补缺失值，要和业务人员去沟通，观察缺失值是如何产生的。\n",
    "\n",
    "在这里，我们使用随机森林填补“月收入”。 随机森林利用“既然我可以使用A，B，C去预测Z，那我也可以使用A，C，Z去预测B”的思想来填补缺失值。这种做法，对于某一个特征大量缺失，其他特征却很完整的情况，非常适用。\n",
    "\n",
    "对于一个有n个特征的数据来说，其中特征T有缺失值，我们就把特征T当作标签，其他的n-1个特征和原本的标签组成新的特征矩阵。在新的特征矩阵中，它没有缺失的部分，就是我们的训练集，这部分数据既有标签也有特征，而它缺失的部分，只有特征没有标签，就是我们需要预测的部分。\n",
    "\n",
    "特征T不缺失的值对应的其他n-1个特征 + 本来的标签：X_train\n",
    "\n",
    "特征T不缺失的值：Y_train\n",
    "\n",
    "特征T缺失的值对应的其他n-1个特征 + 本来的标签：X_test\n",
    "\n",
    "特征T缺失的值：未知，我们需要预测的Y_test\n",
    "![新的特征矩阵](https://img-blog.csdnimg.cn/20200918231243334.png?x-oss-process=image/watermark,type_ZmFuZ3poZW5naGVpdGk,shadow_10,text_aHR0cHM6Ly9ibG9nLmNzZG4ubmV0L3dlaXhpbl80Mzk2NjkwMA==,size_16,color_FFFFFF,t_70#pic_center)"
   ]
  },
  {
   "cell_type": "markdown",
   "metadata": {},
   "source": [
    "#### 使用随机森林填补一个特征的缺失值的函数"
   ]
  },
  {
   "cell_type": "code",
   "execution_count": 129,
   "metadata": {
    "pycharm": {
     "is_executing": false,
     "name": "#%%\n"
    }
   },
   "outputs": [],
   "source": [
    "def fill_missing_rf(X,y,to_fill):\n",
    "\n",
    "    \"\"\"\n",
    "    使用随机森林填补一个特征的缺失值的函数\n",
    "\n",
    "    参数：\n",
    "    X：要填补的特征矩阵\n",
    "    y：完整的，没有缺失值的标签\n",
    "    to_fill：字符串，要填补的那一列的名称\n",
    "    \"\"\"\n",
    "\n",
    "    #构建新特征矩阵和新标签\n",
    "    df = X.copy()\n",
    "    fill = df.loc[:,to_fill]\n",
    "    df = pd.concat([df.loc[:,df.columns != to_fill],pd.DataFrame(y)],axis=1)\n",
    "\n",
    "    # 找出我们的训练集和测试集\n",
    "    Ytrain = fill[fill.notnull()]\n",
    "    Ytest = fill[fill.isnull()]\n",
    "    Xtrain = df.loc[Ytrain.index,:]\n",
    "    Xtest = df.loc[Ytest.index,:]\n",
    "\n",
    "    #用随机森林回归来填补缺失值\n",
    "    from sklearn.ensemble import RandomForestRegressor as rfr\n",
    "    rfr = rfr(n_estimators=100)\n",
    "    rfr = rfr.fit(Xtrain, Ytrain)\n",
    "    Ypredict = rfr.predict(Xtest)\n",
    "\n",
    "    return Ypredict"
   ]
  },
  {
   "cell_type": "code",
   "execution_count": 92,
   "metadata": {
    "pycharm": {
     "is_executing": false
    }
   },
   "outputs": [],
   "source": [
    "X = data.iloc[:,1:]\n",
    "y = data[\"SeriousDlqin2yrs\"]\n",
    "\n",
    "#将参数输入函数\n",
    "y_pred = fill_missing_rf(X,y,\"MonthlyIncome\")"
   ]
  },
  {
   "cell_type": "code",
   "execution_count": 130,
   "metadata": {
    "pycharm": {
     "is_executing": false
    }
   },
   "outputs": [
    {
     "data": {
      "text/plain": [
       "(29221,)"
      ]
     },
     "execution_count": 130,
     "metadata": {},
     "output_type": "execute_result"
    }
   ],
   "source": [
    "y_pred.shape"
   ]
  },
  {
   "cell_type": "code",
   "execution_count": 131,
   "metadata": {
    "pycharm": {
     "is_executing": false
    }
   },
   "outputs": [
    {
     "data": {
      "text/plain": [
       "(29221,)"
      ]
     },
     "execution_count": 131,
     "metadata": {},
     "output_type": "execute_result"
    }
   ],
   "source": [
    "data.loc[data.loc[:,'MonthlyIncome'].isnull(),\"MonthlyIncome\"].shape"
   ]
  },
  {
   "cell_type": "code",
   "execution_count": 132,
   "metadata": {
    "pycharm": {
     "is_executing": false
    }
   },
   "outputs": [
    {
     "data": {
      "text/plain": [
       "True"
      ]
     },
     "execution_count": 132,
     "metadata": {},
     "output_type": "execute_result"
    }
   ],
   "source": [
    "#查看预测出来的与原来的缺失值数量是否对的上\n",
    "y_pred.shape == data.loc[data.loc[:,'MonthlyIncome'].isnull(),\"MonthlyIncome\"].shape"
   ]
  },
  {
   "cell_type": "code",
   "execution_count": null,
   "metadata": {
    "pycharm": {
     "is_executing": false
    }
   },
   "outputs": [],
   "source": []
  },
  {
   "cell_type": "code",
   "execution_count": 133,
   "metadata": {
    "pycharm": {
     "is_executing": false
    }
   },
   "outputs": [],
   "source": [
    "#进行覆盖\n",
    "data.loc[data.loc[:,\"MonthlyIncome\"].isnull(),\"MonthlyIncome\"] = y_pred"
   ]
  },
  {
   "cell_type": "code",
   "execution_count": 134,
   "metadata": {},
   "outputs": [],
   "source": [
    "#data.to_csv(\"nonull.csv\")"
   ]
  },
  {
   "cell_type": "code",
   "execution_count": 135,
   "metadata": {
    "pycharm": {
     "is_executing": false
    }
   },
   "outputs": [
    {
     "name": "stdout",
     "output_type": "stream",
     "text": [
      "<class 'pandas.core.frame.DataFrame'>\n",
      "RangeIndex: 149391 entries, 0 to 149390\n",
      "Data columns (total 11 columns):\n",
      "SeriousDlqin2yrs                        149391 non-null int64\n",
      "RevolvingUtilizationOfUnsecuredLines    149391 non-null float64\n",
      "age                                     149391 non-null int64\n",
      "NumberOfTime30-59DaysPastDueNotWorse    149391 non-null int64\n",
      "DebtRatio                               149391 non-null float64\n",
      "MonthlyIncome                           149391 non-null float64\n",
      "NumberOfOpenCreditLinesAndLoans         149391 non-null int64\n",
      "NumberOfTimes90DaysLate                 149391 non-null int64\n",
      "NumberRealEstateLoansOrLines            149391 non-null int64\n",
      "NumberOfTime60-89DaysPastDueNotWorse    149391 non-null int64\n",
      "NumberOfDependents                      149391 non-null float64\n",
      "dtypes: float64(4), int64(7)\n",
      "memory usage: 12.5 MB\n"
     ]
    }
   ],
   "source": [
    "data.info()\n",
    "#留一个拷贝\n",
    "data_cp = data.copy()"
   ]
  },
  {
   "cell_type": "code",
   "execution_count": 136,
   "metadata": {},
   "outputs": [
    {
     "data": {
      "text/plain": [
       "<matplotlib.axes._subplots.AxesSubplot at 0x1d004880d68>"
      ]
     },
     "execution_count": 136,
     "metadata": {},
     "output_type": "execute_result"
    },
    {
     "data": {
      "image/png": "[encoded data removed]",
      "text/plain": [
       "<Figure size 432x288 with 2 Axes>"
      ]
     },
     "metadata": {},
     "output_type": "display_data"
    }
   ],
   "source": [
    "sns.heatmap(data_cp.corr())"
   ]
  },
  {
   "cell_type": "code",
   "execution_count": 137,
   "metadata": {},
   "outputs": [],
   "source": [
    "#去除NumberOfTime30-59DaysPastDueNotWorse,NumberOfTimes90DaysLate\n",
    "del data['NumberOfTime30-59DaysPastDueNotWorse']\n",
    "del data['NumberOfTimes90DaysLate']\n",
    "del data['NumberOfTime60-89DaysPastDueNotWorse']"
   ]
  },
  {
   "cell_type": "code",
   "execution_count": 138,
   "metadata": {},
   "outputs": [
    {
     "name": "stdout",
     "output_type": "stream",
     "text": [
      "<class 'pandas.core.frame.DataFrame'>\n",
      "RangeIndex: 149391 entries, 0 to 149390\n",
      "Data columns (total 8 columns):\n",
      "SeriousDlqin2yrs                        149391 non-null int64\n",
      "RevolvingUtilizationOfUnsecuredLines    149391 non-null float64\n",
      "age                                     149391 non-null int64\n",
      "DebtRatio                               149391 non-null float64\n",
      "MonthlyIncome                           149391 non-null float64\n",
      "NumberOfOpenCreditLinesAndLoans         149391 non-null int64\n",
      "NumberRealEstateLoansOrLines            149391 non-null int64\n",
      "NumberOfDependents                      149391 non-null float64\n",
      "dtypes: float64(4), int64(4)\n",
      "memory usage: 9.1 MB\n"
     ]
    }
   ],
   "source": [
    "data.info()"
   ]
  },
  {
   "cell_type": "markdown",
   "metadata": {},
   "source": [
    "相当于从去除共线向量的角度，去除了异常值。最后的结果并不会发生改变，再去掉俩个试试"
   ]
  },
  {
   "cell_type": "code",
   "execution_count": 139,
   "metadata": {},
   "outputs": [],
   "source": [
    "del data['NumberOfOpenCreditLinesAndLoans']\n",
    "del data['NumberRealEstateLoansOrLines']"
   ]
  },
  {
   "cell_type": "markdown",
   "metadata": {
    "pycharm": {
     "name": "#%% md\n"
    }
   },
   "source": [
    "# 2.2.4 异常值的处理\n",
    "现实数据永远都会有一些异常值，首先我们要去把他们捕捉出来，然后观察他们的性质。注意，我们并不是要排除掉所有异常值，相反很多时候，异常值是我们的重点研究对象，比如说，双十一中购买量超高的品牌，或课堂上让很多学生都兴奋的课题，这些是我们要重点研究观察的。\n",
    "\n",
    "日常处理异常值，我们使用箱线图或者3σ法则来找到异常值。但在银行数据中，我们希望排除的“异常值”不是一些超高或超低的数字，而是一些不符合常理的数据：比如，收入不能为负数，但是一个超高水平的收入却是合理的，可以存在的。所以在银行业中，我们往往就使用普通的描述性统计来观察数据的异常与否与数据的分布情况。注意，这种方法只能在特征量有限的情况下进行，如果有几百个特征又无法成功降维或特征选择不管用，那还是用3σ比较好。"
   ]
  },
  {
   "cell_type": "code",
   "execution_count": 140,
   "metadata": {
    "pycharm": {
     "is_executing": false,
     "name": "#%%\n"
    }
   },
   "outputs": [],
   "source": [
    "(data['age'] == 0).sum()\n",
    "data  = data[data['age'] != 0]"
   ]
  },
  {
   "cell_type": "markdown",
   "metadata": {
    "pycharm": {
     "name": "#%% md\n"
    }
   },
   "source": [
    "另外，有三个指标看起来很奇怪： \"NumberOfTime30-59DaysPastDueNotWorse\" 、\"NumberOfTime60-89DaysPastDueNotWorse\"、 \"NumberOfTimes90DaysLate\" 这三个指标分别是“过去两年内出现35-59天逾期但是没有发展的更坏的次数”，“过去两年内出现60-89天逾期但是没 有发展的更坏的次数”，“过去两年内出现90天逾期的次数”。这三个指标，在99%的分布的时候依然是2，最大值却是 98，看起来非常奇怪。一个人在过去两年内逾期35~59天98次，一年6个60天，两年内逾期98次这是怎么算出来的？ 我们可以去咨询业务人员，请教他们这个逾期次数是如何计算的。如果这个指标是正常的，那这些两年内逾期了98次的客户，应该都是坏客户。"
   ]
  },
  {
   "cell_type": "code",
   "execution_count": 141,
   "metadata": {
    "pycharm": {
     "is_executing": false,
     "name": "#%%\n"
    }
   },
   "outputs": [
    {
     "name": "stdout",
     "output_type": "stream",
     "text": [
      "样本个数:149390;违约的占比6.70%,不违约的占比93.30%\n"
     ]
    }
   ],
   "source": [
    "#探索标签的分布\n",
    "#特征矩阵\n",
    "X = data.iloc[:,1: ]\n",
    "#标签值\n",
    "y = data.iloc[:,0]\n",
    "#查看违约与不违约的数量\n",
    "y.value_counts()\n",
    "n_sample = X.shape[0]\n",
    "n_1_sample = y.value_counts()[1]\n",
    "n_0_sample = y.value_counts()[0]\n",
    "print('样本个数:{};违约的占比{:.2%},不违约的占比{:.2%}'.format(n_sample,\n",
    "                                                n_1_sample/n_sample,\n",
    "                                                n_0_sample/n_sample))\n",
    "#print('样本个数：{}; 1{:.2%}; 0占{:.2%}'.format(n_sample,n_1_sample/n_sample,n_0_sample/n_sample))"
   ]
  },
  {
   "cell_type": "code",
   "execution_count": 142,
   "metadata": {},
   "outputs": [
    {
     "data": {
      "text/plain": [
       "<matplotlib.axes._subplots.AxesSubplot at 0x1d0047b4208>"
      ]
     },
     "execution_count": 142,
     "metadata": {},
     "output_type": "execute_result"
    },
    {
     "data": {
      "image/png": "[encoded data removed]",
      "text/plain": [
       "<Figure size 432x288 with 2 Axes>"
      ]
     },
     "metadata": {},
     "output_type": "display_data"
    }
   ],
   "source": [
    "#采样前的相关系数分布\n",
    "import seaborn as sns\n",
    "sns.heatmap(X.corr())"
   ]
  },
  {
   "cell_type": "markdown",
   "metadata": {
    "pycharm": {
     "name": "#%% md\n"
    }
   },
   "source": [
    "可以看出，样本严重不均衡。虽然大家都在努力防范信用风险，但实际违约的人并不多。并且，银行并不会真的一棒子打死所有会违约的人，很多人是会还钱的，只是忘记了还款日，很多人是不愿意欠人钱的，但是当时真的很困难，资金周转不过来，所以发生逾期，但一旦他有了钱，他就会把钱换上。对于银行来说，只要你最后能够把钱还上，我都愿意借钱给你，因为我借给你就有收入（利息）。所以，对于银行来说，真正想要被判别出来的其实是”恶意违约“的人，而这部分人数非常非常少，样本就会不均衡。这一直是银行业建模的一个痛点：我们永远希望捕捉少数类。逻辑回归中使用最多的是上采样方法来平衡样本。"
   ]
  },
  {
   "cell_type": "code",
   "execution_count": 143,
   "metadata": {
    "pycharm": {
     "is_executing": false,
     "name": "#%%\n"
    }
   },
   "outputs": [
    {
     "name": "stdout",
     "output_type": "stream",
     "text": [
      "样本个数:278762;违约的占比50.00%,不违约的占比50.00%\n"
     ]
    }
   ],
   "source": [
    "#imblearn是专门用来处理不平衡数据集的库，采用SMOTE的方法上采样解决样本分布不平衡的问题\n",
    "from imblearn.over_sampling import SMOTE\n",
    "sm = SMOTE(random_state=42)#实例化\n",
    "X,y = sm.fit_sample(X,y)\n",
    "n_sample = X.shape[0]\n",
    "n_1_sample = y.value_counts()[1]\n",
    "n_0_sample = y.value_counts()[0]\n",
    "print('样本个数:{};违约的占比{:.2%},不违约的占比{:.2%}'.format(n_sample,\n",
    "                                                n_1_sample/n_sample,\n",
    "                                                n_0_sample/n_sample))"
   ]
  },
  {
   "cell_type": "code",
   "execution_count": 144,
   "metadata": {},
   "outputs": [
    {
     "data": {
      "text/plain": [
       "<matplotlib.axes._subplots.AxesSubplot at 0x1d0047b4c18>"
      ]
     },
     "execution_count": 144,
     "metadata": {},
     "output_type": "execute_result"
    },
    {
     "data": {
      "image/png": "[encoded data removed]",
      "text/plain": [
       "<Figure size 432x288 with 2 Axes>"
      ]
     },
     "metadata": {},
     "output_type": "display_data"
    }
   ],
   "source": [
    "#采样后的相关系数分布\n",
    "import seaborn as sns\n",
    "sns.heatmap(X.corr())"
   ]
  },
  {
   "cell_type": "markdown",
   "metadata": {},
   "source": [
    "重新采样后，变量相关性消失"
   ]
  },
  {
   "cell_type": "code",
   "execution_count": 145,
   "metadata": {
    "scrolled": true
   },
   "outputs": [
    {
     "name": "stdout",
     "output_type": "stream",
     "text": [
      "<class 'pandas.core.frame.DataFrame'>\n",
      "RangeIndex: 278762 entries, 0 to 278761\n",
      "Data columns (total 5 columns):\n",
      "RevolvingUtilizationOfUnsecuredLines    278762 non-null float64\n",
      "age                                     278762 non-null int64\n",
      "DebtRatio                               278762 non-null float64\n",
      "MonthlyIncome                           278762 non-null float64\n",
      "NumberOfDependents                      278762 non-null float64\n",
      "dtypes: float64(4), int64(1)\n",
      "memory usage: 10.6 MB\n"
     ]
    }
   ],
   "source": [
    "#分界点\n",
    "X.info()"
   ]
  },
  {
   "cell_type": "code",
   "execution_count": 146,
   "metadata": {
    "pycharm": {
     "name": "#%%\n"
    }
   },
   "outputs": [
    {
     "data": {
      "text/plain": [
       "278762"
      ]
     },
     "execution_count": 146,
     "metadata": {},
     "output_type": "execute_result"
    }
   ],
   "source": [
    "len(y)"
   ]
  },
  {
   "cell_type": "markdown",
   "metadata": {
    "pycharm": {
     "name": "#%% md\n"
    }
   },
   "source": [
    "分出训练集以及测试集"
   ]
  },
  {
   "cell_type": "code",
   "execution_count": 147,
   "metadata": {
    "pycharm": {
     "is_executing": false,
     "name": "#%%\n"
    }
   },
   "outputs": [],
   "source": [
    "\n",
    "from sklearn.model_selection import train_test_split\n",
    "X = pd.DataFrame(X)\n",
    "y = pd.DataFrame(y)\n",
    "X_train,X_vali,Y_train,Y_vali = train_test_split(X,y,test_size=0.3,random_state=420)\n",
    "#训练集\n",
    "model_data = pd.concat([Y_train,X_train],axis=1)#肩并肩拼接在一起\n",
    "model_data.index = range(model_data.shape[0])\n",
    "model_data.columns = data.columns\n",
    "#验证集\n",
    "vali_data = pd.concat([Y_vali,X_vali],axis=1)\n",
    "vali_data.index = range(vali_data.shape[0])\n",
    "vali_data.columns = data.columns\n",
    "#分别储存，便于后续操作\n",
    "model_data.to_csv(\"./model_data.csv\")\n",
    "vali_data.to_csv(\"./vali_data.csv\")"
   ]
  },
  {
   "cell_type": "markdown",
   "metadata": {
    "pycharm": {
     "name": "#%% md\n"
    }
   },
   "source": [
    "# 3.特征工程\n",
    "## 3.1 等频分箱\n",
    "前面提到过，我们要制作评分卡，是要给各个特征进行分档，以便业务人员能够根据新客户填写的信息为客户打分。因此在评分卡制作过程中，一个重要的步骤就是分箱。可以说，分箱是评分卡最难，也是最核心的思路，分箱的本质，其实就是离散化连续变量，好让拥有不同属性的人被分成不同的类别（打上不同的分数），其实本质比较类似于聚类。那我们在分箱中要回答几个问题：\n",
    "\n",
    "首先，要分多少个箱子才合适？\n",
    "\n",
    "最开始我们并不知道，但是既然是将连续型变量离散化，想也知道箱子个数必然不能太多，最好控制在十个以下。而用来制作评分卡，最好能在4~5个为最佳。我们知道，离散化连续变量必然伴随着信息的损失，并且箱子越少，信息损失越大。为了衡量特征上的信息量以及特征对预测函数的贡献，银行业定义了概念Information value(IV)：\n",
    "![IV](https://pic4.zhimg.com/80/v2-afea53f959954c27ca9c02dbda6810d6_720w.png)\n",
    "其中N是这个特征上箱子的个数，i代表每个箱子，good%是这个箱内的优质客户（标签为0的客户）占整个特征中所有优质客户的比例，bad%是这个箱子里的坏客户（就是那些会违约，标签为1的那些客户）占整个特征中所有坏客户的比例，而WOEi则写作：\n",
    "![WOE](https://pic1.zhimg.com/80/v2-e983240e8e3aca5f992f5b44f21f39e4_720w.png)\n",
    "这是我们在银行业中用来衡量违约概率的指标，中文叫做证据权重(weight of Evidence)，本质其实就是优质客户比上坏客户的比例的对数。WOE是对一个箱子来说的，WOE越大，代表了这个箱子里的优质客户越多。而IV是对整个特征来说的，IV代表的意义是我们特征上的信息量以及这个特征对模型的贡献，由下表来控制：\n",
    "![IV表](https://picb.zhimg.com/80/v2-92d24cd3638e1d7f5e62014b7f9fe672_720w.jpg)\n",
    "可见，IV并非越大越好，我们想要找到IV的大小和箱子个数的平衡点。箱子越多，IV必然越小，因为信息损失会非常多。所以，我们会对特征进行分箱，然后计算每个特征在n个箱子数目下的WOE值，利用IV值的曲线，找出每个特征合适的分箱个数。\n",
    "\n",
    "**其次，分箱要达成什么样的效果？**\n",
    "\n",
    "我们希望不同属性的人有不同的分数，因此我们希望在同一个箱子内的人的属性是尽量相似的，而不同箱子的人的属性是尽量不同的，即业界常说的”组间差异大，组内差异小“。对于评分卡来说，就是说我们希望一个箱子内的人违约概率是类似的，而不同箱子的人的违约概率差距很大，即WOE差距要大，并且每个箱子中坏客户所占的比重（bad%）也要不同。那我们，可以使用卡方检验来对比两个箱子之间的相似性，如果两个箱子之间卡方检验的P值很大，则说明他们非常相似，那我们就可以将这两个箱子合并为一个箱子。\n",
    "\n",
    "基于这样的思想，我们总结出我们对一个特征进行分箱的步骤：\n",
    "\n",
    "- 1.我们首先把连续型变量分成一组数量较多的分类型变量，比如，将几万个样本分成100组，或50组\n",
    "- 2.确保每一组中都要包含两种类别的样本，否则IV值会无法计算\n",
    "- 3.我们对相邻的组进行卡方检验，卡方检验的P值很大的组进行合并，直到数据中的组数小于设定的N箱为止\n",
    "- 4.我们让一个特征分别分成[2,3,4.....20]箱，观察每个分箱个数下的IV值如何变，找出最适合的分箱个数\n",
    "- 5.分箱完毕后，我们计算每个箱的WOE值，观察分箱效果\n",
    "\n",
    "这些步骤都完成后，我们可以对各个特征都进行分箱，然后观察每个特征的IV值，以此来挑选特征。\n",
    "\n",
    "接下来，我们就以\"age\"为例子，来看看分箱如何完成。"
   ]
  },
  {
   "cell_type": "code",
   "execution_count": 148,
   "metadata": {
    "pycharm": {
     "is_executing": false
    }
   },
   "outputs": [
    {
     "data": {
      "text/plain": [
       "(36.0, 39.0]      12462\n",
       "(20.999, 28.0]    11900\n",
       "(58.0, 61.0]      11484\n",
       "(45.0, 47.0]      11044\n",
       "(48.0, 50.0]      10963\n",
       "(31.0, 34.0]      10832\n",
       "(50.0, 52.0]      10454\n",
       "(43.0, 45.0]      10225\n",
       "(61.0, 64.0]      10222\n",
       "(39.0, 41.0]       9753\n",
       "(52.0, 54.0]       9745\n",
       "(41.0, 43.0]       9660\n",
       "(28.0, 31.0]       9576\n",
       "(74.0, 109.0]      9115\n",
       "(64.0, 68.0]       9090\n",
       "(68.0, 74.0]       8717\n",
       "(54.0, 56.0]       8669\n",
       "(56.0, 58.0]       7951\n",
       "(34.0, 36.0]       7641\n",
       "(47.0, 48.0]       5630\n",
       "Name: qcut, dtype: int64"
      ]
     },
     "execution_count": 148,
     "metadata": {},
     "output_type": "execute_result"
    }
   ],
   "source": [
    "#按照等频对需要分箱的列进行分箱，以“age”列为例\n",
    "\"\"\"\n",
    "pd.qcut，基于分位数的分箱函数，本质是将连续型变量离散化，只能够处理一维数据。返回箱子的上限和下限\n",
    "参数q：要分箱的个数\n",
    "参数retbins=True来要求同时返回结构为：索引为样本索引，元素为分到的箱子的Series\n",
    "现在返回两个值：每个样本属于哪个箱子，以及所有箱子的上限和下限\n",
    "\"\"\"\n",
    "#在这里时让model_data新添加一列叫做“分箱”，这一列其实就是每个样本所对应的箱子\n",
    "model_data['qcut'],updown = pd.qcut(model_data['age'],retbins=True,q=20)\n",
    "model_data.head()\n",
    "model_data['qcut'].value_counts()\n"
   ]
  },
  {
   "cell_type": "code",
   "execution_count": 149,
   "metadata": {
    "pycharm": {
     "is_executing": false
    }
   },
   "outputs": [
    {
     "data": {
      "text/plain": [
       "array([ 21.,  28.,  31.,  34.,  36.,  39.,  41.,  43.,  45.,  47.,  48.,\n",
       "        50.,  52.,  54.,  56.,  58.,  61.,  64.,  68.,  74., 109.])"
      ]
     },
     "execution_count": 149,
     "metadata": {},
     "output_type": "execute_result"
    }
   ],
   "source": [
    "#所有箱子的上限和下限\n",
    "updown"
   ]
  },
  {
   "cell_type": "code",
   "execution_count": 150,
   "metadata": {
    "pycharm": {
     "is_executing": false
    }
   },
   "outputs": [
    {
     "data": {
      "text/html": [
       "<div>\n",
       "<style scoped>\n",
       "    .dataframe tbody tr th:only-of-type {\n",
       "        vertical-align: middle;\n",
       "    }\n",
       "\n",
       "    .dataframe tbody tr th {\n",
       "        vertical-align: top;\n",
       "    }\n",
       "\n",
       "    .dataframe thead th {\n",
       "        text-align: right;\n",
       "    }\n",
       "</style>\n",
       "<table border=\"1\" class=\"dataframe\">\n",
       "  <thead>\n",
       "    <tr style=\"text-align: right;\">\n",
       "      <th></th>\n",
       "      <th>SeriousDlqin2yrs</th>\n",
       "      <th>RevolvingUtilizationOfUnsecuredLines</th>\n",
       "      <th>age</th>\n",
       "      <th>DebtRatio</th>\n",
       "      <th>MonthlyIncome</th>\n",
       "      <th>NumberOfDependents</th>\n",
       "      <th>qcut</th>\n",
       "    </tr>\n",
       "  </thead>\n",
       "  <tbody>\n",
       "    <tr>\n",
       "      <th>0</th>\n",
       "      <td>1</td>\n",
       "      <td>0.233067</td>\n",
       "      <td>54</td>\n",
       "      <td>11566.756930</td>\n",
       "      <td>102.878733</td>\n",
       "      <td>0.000000</td>\n",
       "      <td>(52.0, 54.0]</td>\n",
       "    </tr>\n",
       "    <tr>\n",
       "      <th>1</th>\n",
       "      <td>1</td>\n",
       "      <td>0.026404</td>\n",
       "      <td>66</td>\n",
       "      <td>0.321150</td>\n",
       "      <td>4300.000000</td>\n",
       "      <td>1.188335</td>\n",
       "      <td>(64.0, 68.0]</td>\n",
       "    </tr>\n",
       "    <tr>\n",
       "      <th>2</th>\n",
       "      <td>0</td>\n",
       "      <td>0.438251</td>\n",
       "      <td>85</td>\n",
       "      <td>0.301340</td>\n",
       "      <td>5000.000000</td>\n",
       "      <td>1.000000</td>\n",
       "      <td>(74.0, 109.0]</td>\n",
       "    </tr>\n",
       "    <tr>\n",
       "      <th>3</th>\n",
       "      <td>0</td>\n",
       "      <td>0.693844</td>\n",
       "      <td>27</td>\n",
       "      <td>0.043536</td>\n",
       "      <td>2250.000000</td>\n",
       "      <td>0.000000</td>\n",
       "      <td>(20.999, 28.0]</td>\n",
       "    </tr>\n",
       "    <tr>\n",
       "      <th>4</th>\n",
       "      <td>0</td>\n",
       "      <td>0.008259</td>\n",
       "      <td>73</td>\n",
       "      <td>0.074116</td>\n",
       "      <td>8000.000000</td>\n",
       "      <td>0.000000</td>\n",
       "      <td>(68.0, 74.0]</td>\n",
       "    </tr>\n",
       "  </tbody>\n",
       "</table>\n",
       "</div>"
      ],
      "text/plain": [
       "   SeriousDlqin2yrs  RevolvingUtilizationOfUnsecuredLines  age     DebtRatio  \\\n",
       "0                 1                              0.233067   54  11566.756930   \n",
       "1                 1                              0.026404   66      0.321150   \n",
       "2                 0                              0.438251   85      0.301340   \n",
       "3                 0                              0.693844   27      0.043536   \n",
       "4                 0                              0.008259   73      0.074116   \n",
       "\n",
       "   MonthlyIncome  NumberOfDependents            qcut  \n",
       "0     102.878733            0.000000    (52.0, 54.0]  \n",
       "1    4300.000000            1.188335    (64.0, 68.0]  \n",
       "2    5000.000000            1.000000   (74.0, 109.0]  \n",
       "3    2250.000000            0.000000  (20.999, 28.0]  \n",
       "4    8000.000000            0.000000    (68.0, 74.0]  "
      ]
     },
     "execution_count": 150,
     "metadata": {},
     "output_type": "execute_result"
    }
   ],
   "source": [
    "model_data.head()"
   ]
  },
  {
   "cell_type": "code",
   "execution_count": 151,
   "metadata": {
    "pycharm": {
     "is_executing": false,
     "name": "#%%\n"
    }
   },
   "outputs": [
    {
     "data": {
      "text/plain": [
       "[(21.0, 28.0, 4232, 7668),\n",
       " (28.0, 31.0, 3618, 5958),\n",
       " (31.0, 34.0, 3981, 6851),\n",
       " (34.0, 36.0, 2908, 4733),\n",
       " (36.0, 39.0, 5105, 7357),\n",
       " (39.0, 41.0, 4008, 5745),\n",
       " (41.0, 43.0, 4006, 5654),\n",
       " (43.0, 45.0, 4421, 5804),\n",
       " (45.0, 47.0, 4756, 6288),\n",
       " (47.0, 48.0, 2417, 3213),\n",
       " (48.0, 50.0, 4856, 6107),\n",
       " (50.0, 52.0, 4690, 5764),\n",
       " (52.0, 54.0, 4753, 4992),\n",
       " (54.0, 56.0, 4602, 4067),\n",
       " (56.0, 58.0, 4467, 3484),\n",
       " (58.0, 61.0, 6684, 4800),\n",
       " (61.0, 64.0, 6977, 3245),\n",
       " (64.0, 68.0, 6701, 2389),\n",
       " (68.0, 74.0, 6827, 1890),\n",
       " (74.0, 109.0, 7820, 1295)]"
      ]
     },
     "execution_count": 151,
     "metadata": {},
     "output_type": "execute_result"
    }
   ],
   "source": [
    "# 统计每个分箱中0和1的数量\n",
    "# 这里使用了数据透视表的功能groupby\n",
    "count_y0 = model_data[model_data['SeriousDlqin2yrs'] == 0].groupby(\"qcut\").count()['SeriousDlqin2yrs']\n",
    "count_y1 = model_data[model_data['SeriousDlqin2yrs'] == 1].groupby(\"qcut\").count()['SeriousDlqin2yrs']\n",
    "#num_bins（箱子的数量）值分别为每个区间的上界，下界，0出现的次数，1出现的次数\n",
    "num_bins = [*zip(updown,updown[1:],count_y0,count_y1)]\n",
    "num_bins"
   ]
  },
  {
   "cell_type": "markdown",
   "metadata": {
    "pycharm": {
     "name": "#%% md\n"
    }
   },
   "source": [
    "# 原文的代码如下："
   ]
  },
  {
   "cell_type": "code",
   "execution_count": 152,
   "metadata": {
    "pycharm": {
     "is_executing": false,
     "name": "#%%\n"
    }
   },
   "outputs": [],
   "source": [
    "for i in range(20):\n",
    "    #如果第一个组没有包含正样本或负样本，向后合并\n",
    "    if 0 in num_bins[0][2:]:\n",
    "        num_bins[0:2] = [(\n",
    "            num_bins[0][0],\n",
    "            num_bins[1][1],\n",
    "            num_bins[0][2]+num_bins[1][2],\n",
    "            num_bins[0][3]+num_bins[1][3])]\n",
    "        continue\n",
    "\n",
    "    \"\"\"\n",
    "    合并了之后，第一行的组是否一定有两种样本了呢？不一定\n",
    "    如果原本的第一组和第二组都没有包含正样本，或者都没有包含负样本，那即便合并之后，\n",
    "    第一行的组也还是没有包含两种样本\n",
    "    所以我们在每次合并完毕之后，还需要再检查，第一组是否已经包含了两种样本\n",
    "    这里使用continue跳出了本次循环，开始下一次循环，所以回到了最开始的for i in range(20), 让i+1\n",
    "    这就跳过了下面的代码，又从头开始检查，第一组是否包含了两种样本\n",
    "    如果第一组中依然没有包含两种样本，则if通过，继续合并，每合并一次就会循环检查一次，最多合并20次\n",
    "    如果第一组中已经包含两种样本，则if不通过，就开始执行下面的代码\n",
    "    \"\"\"\n",
    "    #已经确认第一组中肯定包含两种样本了，如果其他组没有包含两种样本，就向前合并\n",
    "    #此时的num_bins已经被上面的代码处理过，可能被合并过，也可能没有被合并\n",
    "    #但无论如何，我们要在num_bins中遍历，所以写成in range(len(num_bins))\n",
    "    for i in range(len(num_bins)):\n",
    "        if 0 in num_bins[i][2:]:\n",
    "            num_bins[i-1:i+1] = [(\n",
    "                num_bins[i-1][0],\n",
    "                num_bins[i][1],\n",
    "                num_bins[i-1][2]+num_bins[i][2],\n",
    "                num_bins[i-1][3]+num_bins[i][3])]\n",
    "        break\n",
    "        #如果对第一组和对后面所有组的判断中，都没有进入if去合并，则提前结束所有的循环\n",
    "    else:\n",
    "        break\n",
    "\n",
    "    \"\"\"\n",
    "    这个break，只有在if被满足的条件下才会被触发\n",
    "    也就是说，只有发生了合并，才会打断for i in range(len(num_bins))这个循环\n",
    "    为什么要打断这个循环？因为我们是在range(len(num_bins))中遍历\n",
    "    但合并发生后，len(num_bins)发生了改变，但循环却不会重新开始\n",
    "    举个例子，本来num_bins是5组，for i in range(len(num_bins))在第一次运行的时候就等于for i in \n",
    "    range(5)\n",
    "    range中输入的变量会被转换为数字，不会跟着num_bins的变化而变化，所以i会永远在[0,1,2,3,4]中遍历\n",
    "    进行合并后，num_bins变成了4组，已经不存在=4的索引了，但i却依然会取到4，循环就会报错\n",
    "    因此在这里，一旦if被触发，即一旦合并发生，我们就让循环被破坏，使用break跳出当前循环\n",
    "    循环就会回到最开始的for i in range(20)中\n",
    "    此时判断第一组是否有两种标签的代码不会被触发，但for i in range(len(num_bins))却会被重新运行\n",
    "    这样就更新了i的取值，循环就不会报错了\n",
    "    \"\"\""
   ]
  },
  {
   "cell_type": "markdown",
   "metadata": {
    "pycharm": {
     "name": "#%% md\n"
    }
   },
   "source": [
    "# 使用栈来构造代码会更简单一些"
   ]
  },
  {
   "cell_type": "code",
   "execution_count": 153,
   "metadata": {
    "pycharm": {
     "is_executing": false
    }
   },
   "outputs": [],
   "source": [
    "test = [\n",
    "        (21.0, 28.0, 0, 7524),\n",
    "     (28.0, 31.0, 0, 5901),\n",
    "     (31.0, 34.0, 0, 6756),\n",
    "     (34.0, 36.0, 0, 4609),\n",
    "     (36.0, 39.0, 0, 7518),\n",
    "     (39.0, 41.0, 0, 5852),\n",
    "     (41.0, 43.0, 0, 5672),\n",
    "     (43.0, 45.0, 4389, 0),\n",
    "     (45.0, 46.0, 2419, 0),\n",
    "     (46.0, 48.0, 4813, 0),\n",
    "     (48.0, 50.0, 4900, 0),\n",
    "     (50.0, 52.0, 4728, 0),\n",
    "     (52.0, 54.0, 0, 5003),\n",
    "     (54.0, 56.0, 4677, 4014),\n",
    "     (56.0, 58.0, 0, 3443),\n",
    "     (58.0, 61.0, 0, 4770),\n",
    "     (61.0, 64.0, 6968, 3189),\n",
    "     (64.0, 68.0, 6623, 2284),\n",
    "     (68.0, 74.0, 0, 1919),\n",
    "     (74.0, 107.0, 7737, 1390)]\n",
    "#尝试用栈来实现分箱合并\n",
    "def get_newbins(bins):\n",
    "    class Stack():   #定义类\n",
    "        def __init__(self):  #产生一个空的容器\n",
    "            self.__list = []\n",
    "        def push(self, item):  #入栈\n",
    "            self.__list.append(item)\n",
    "        def pop(self):  #出栈\n",
    "            return self.__list.pop()\n",
    "        def speek(self):  #返回栈顶元素\n",
    "            return self.__list[-1]\n",
    "        def is_empty(self):  #判断是否已为空\n",
    "            return not self.__list\n",
    "        def size(self):  #返回栈中元素个数\n",
    "            return len(self.__list)\n",
    "    \n",
    "    s = Stack()\n",
    "    #首先将列表翻转，降序\n",
    "    bins = sorted(num_bins,reverse=True)\n",
    "    #全部入栈\n",
    "    for i in bins:\n",
    "        s.push(i)\n",
    "    lis =[]\n",
    "    while not s.is_empty():\n",
    "        s1 = s.pop()\n",
    "        if 0 in s1[2:]:\n",
    "            s2 = s.pop()\n",
    "            s3 = (s1[0],s2[1],s1[2]+s2[2],s1[3]+s2[3])\n",
    "            s.push(s3)\n",
    "        else:\n",
    "            lis.append(s1)\n",
    "    return lis"
   ]
  },
  {
   "cell_type": "code",
   "execution_count": 154,
   "metadata": {
    "pycharm": {
     "is_executing": false,
     "name": "#%%\n"
    }
   },
   "outputs": [
    {
     "data": {
      "text/plain": [
       "[(21.0, 28.0, 4232, 7668),\n",
       " (28.0, 31.0, 3618, 5958),\n",
       " (31.0, 34.0, 3981, 6851),\n",
       " (34.0, 36.0, 2908, 4733),\n",
       " (36.0, 39.0, 5105, 7357),\n",
       " (39.0, 41.0, 4008, 5745),\n",
       " (41.0, 43.0, 4006, 5654),\n",
       " (43.0, 45.0, 4421, 5804),\n",
       " (45.0, 47.0, 4756, 6288),\n",
       " (47.0, 48.0, 2417, 3213),\n",
       " (48.0, 50.0, 4856, 6107),\n",
       " (50.0, 52.0, 4690, 5764),\n",
       " (52.0, 54.0, 4753, 4992),\n",
       " (54.0, 56.0, 4602, 4067),\n",
       " (56.0, 58.0, 4467, 3484),\n",
       " (58.0, 61.0, 6684, 4800),\n",
       " (61.0, 64.0, 6977, 3245),\n",
       " (64.0, 68.0, 6701, 2389),\n",
       " (68.0, 74.0, 6827, 1890),\n",
       " (74.0, 109.0, 7820, 1295)]"
      ]
     },
     "execution_count": 154,
     "metadata": {},
     "output_type": "execute_result"
    }
   ],
   "source": [
    "get_newbins(test)"
   ]
  },
  {
   "cell_type": "markdown",
   "metadata": {
    "pycharm": {
     "name": "#%% md\n"
    }
   },
   "source": [
    "# 3.3 定义WOE和IV函数"
   ]
  },
  {
   "cell_type": "code",
   "execution_count": 155,
   "metadata": {
    "pycharm": {
     "is_executing": false,
     "name": "#%%\n"
    }
   },
   "outputs": [],
   "source": [
    "#计算WOE和BADRATE\n",
    "#BAD RATE与bad%不是一个东西\n",
    "#BAD RATE是一个箱中，坏的样本所占箱子中总样本的比例 (bad/total)\n",
    "#而bad%是一个箱中的坏样本占整个特征中的坏样本的比例\n",
    "def get_woe(num_bins):\n",
    "    #通过numbins计算woe\n",
    "    columns = ['min','max','count_0','count_1']\n",
    "    df = pd.DataFrame(num_bins,columns=columns)\n",
    "    df['total'] = df.count_0 + df.count_1 #一个箱子中所有的样本数\n",
    "    df['percentage'] = df.total / df.total.sum()#一个箱子的样本数占所有样本的比例\n",
    "    df['good%'] = df.count_0 / df.count_0.sum()\n",
    "    df['bad%'] = df.count_1 / df.count_1.sum()\n",
    "    df['woe'] = np.log(df['good%']/df['bad%'])\n",
    "    return df\n",
    "\n",
    "#计算IV值\n",
    "def get_iv(df):\n",
    "    rate = df['good%'] - df['bad%']\n",
    "    iv = np.sum(rate * df.woe)\n",
    "    return iv\n"
   ]
  },
  {
   "cell_type": "markdown",
   "metadata": {
    "pycharm": {
     "name": "#%% md\n"
    }
   },
   "source": [
    "# 3.4 利用卡方检验合并箱体，并画出IV曲线"
   ]
  },
  {
   "cell_type": "code",
   "execution_count": 156,
   "metadata": {
    "pycharm": {
     "is_executing": false,
     "name": "#%%\n"
    }
   },
   "outputs": [
    {
     "data": {
      "image/png": "[encoded data removed]",
      "text/plain": [
       "<Figure size 432x288 with 1 Axes>"
      ]
     },
     "metadata": {},
     "output_type": "display_data"
    }
   ],
   "source": [
    "num_bins_ = num_bins.copy()#不希望覆盖源数据\n",
    "import scipy.stats\n",
    "IV = []\n",
    "axisx = []\n",
    "\n",
    "while len(num_bins_) > 2:#大于 设置的最低分箱个数\n",
    "    pvs = []\n",
    "    #获取 num_bins_两两之间的卡方检验的置信度（或者卡方值）\n",
    "    for i in range(len(num_bins_) - 1):\n",
    "        x1 = num_bins_[i][2:]\n",
    "        x2 = num_bins_[i+1][2:]\n",
    "        # 0 返回 chi2 值，1 返回 p 值。直接用p值进行判断就行\n",
    "        pv = scipy.stats.chi2_contingency([x1,x2])[1]#p值\n",
    "        pvs.append(pv)\n",
    "    #合并P值最大的两组\n",
    "    i = pvs.index(max(pvs))#P值最大的对象\n",
    "    num_bins_[i:i+2] = [(\n",
    "        num_bins_[i][0],\n",
    "        num_bins_[i+1][1],\n",
    "        num_bins_[i][2] + num_bins_[i+1][2],\n",
    "        num_bins_[i][3] + num_bins_[i+1][3]\n",
    "    )]\n",
    "    bins_df = get_woe(num_bins_)\n",
    "    axisx.append(len(num_bins_))\n",
    "    IV.append(get_iv(bins_df))\n",
    "plt.figure()\n",
    "plt.plot(axisx,IV,'r')\n",
    "plt.xticks(axisx)\n",
    "plt.title(\"Box number with IV\")\n",
    "plt.xlabel(\"number of box\")\n",
    "plt.ylabel(\"IV\")\n",
    "plt.grid()\n",
    "plt.show()\n",
    "#选择转折点处，也就是下坠最快的折线点，所以这里对于age来说选择箱数为6"
   ]
  },
  {
   "cell_type": "markdown",
   "metadata": {
    "pycharm": {
     "name": "#%% md\n"
    }
   },
   "source": [
    "# 3.5 定义最佳分箱函数，并验证分箱结果"
   ]
  },
  {
   "cell_type": "code",
   "execution_count": 157,
   "metadata": {
    "pycharm": {
     "is_executing": false
    }
   },
   "outputs": [],
   "source": [
    "def get_bin(num_bins_,n):\n",
    "    while len(num_bins_) > n:\n",
    "        pvs = []\n",
    "        for i in range(len(num_bins_)-1):\n",
    "            x1 = num_bins_[i][2:]\n",
    "            x2 = num_bins_[i+1][2:]\n",
    "            pv = scipy.stats.chi2_contingency([x1,x2])[1]#卡方检验\n",
    "            # chi2 = scipy.stats.chi2_contingency([x1,x2])[0]\n",
    "            pvs.append(pv)\n",
    "\n",
    "        i = pvs.index(max(pvs))\n",
    "        num_bins_[i:i+2] = [(\n",
    "                num_bins_[i][0],\n",
    "                num_bins_[i+1][1],\n",
    "                num_bins_[i][2]+num_bins_[i+1][2],\n",
    "                num_bins_[i][3]+num_bins_[i+1][3])]\n",
    "    return num_bins_"
   ]
  },
  {
   "cell_type": "code",
   "execution_count": 158,
   "metadata": {
    "pycharm": {
     "is_executing": false
    }
   },
   "outputs": [
    {
     "data": {
      "text/plain": [
       "[(21.0, 36.0, 14739, 25210),\n",
       " (36.0, 52.0, 34259, 45932),\n",
       " (52.0, 61.0, 20506, 17343),\n",
       " (61.0, 64.0, 6977, 3245),\n",
       " (64.0, 74.0, 13528, 4279),\n",
       " (74.0, 109.0, 7820, 1295)]"
      ]
     },
     "execution_count": 158,
     "metadata": {},
     "output_type": "execute_result"
    }
   ],
   "source": [
    "afterbins = get_bin(num_bins,6)\n",
    "afterbins"
   ]
  },
  {
   "cell_type": "code",
   "execution_count": 159,
   "metadata": {
    "pycharm": {
     "is_executing": false,
     "name": "#%%\n"
    }
   },
   "outputs": [
    {
     "data": {
      "text/html": [
       "<div>\n",
       "<style scoped>\n",
       "    .dataframe tbody tr th:only-of-type {\n",
       "        vertical-align: middle;\n",
       "    }\n",
       "\n",
       "    .dataframe tbody tr th {\n",
       "        vertical-align: top;\n",
       "    }\n",
       "\n",
       "    .dataframe thead th {\n",
       "        text-align: right;\n",
       "    }\n",
       "</style>\n",
       "<table border=\"1\" class=\"dataframe\">\n",
       "  <thead>\n",
       "    <tr style=\"text-align: right;\">\n",
       "      <th></th>\n",
       "      <th>min</th>\n",
       "      <th>max</th>\n",
       "      <th>count_0</th>\n",
       "      <th>count_1</th>\n",
       "      <th>total</th>\n",
       "      <th>percentage</th>\n",
       "      <th>good%</th>\n",
       "      <th>bad%</th>\n",
       "      <th>woe</th>\n",
       "    </tr>\n",
       "  </thead>\n",
       "  <tbody>\n",
       "    <tr>\n",
       "      <th>0</th>\n",
       "      <td>21.0</td>\n",
       "      <td>36.0</td>\n",
       "      <td>14739</td>\n",
       "      <td>25210</td>\n",
       "      <td>39949</td>\n",
       "      <td>0.204727</td>\n",
       "      <td>0.150661</td>\n",
       "      <td>0.259085</td>\n",
       "      <td>-0.542125</td>\n",
       "    </tr>\n",
       "    <tr>\n",
       "      <th>1</th>\n",
       "      <td>36.0</td>\n",
       "      <td>52.0</td>\n",
       "      <td>34259</td>\n",
       "      <td>45932</td>\n",
       "      <td>80191</td>\n",
       "      <td>0.410956</td>\n",
       "      <td>0.350193</td>\n",
       "      <td>0.472046</td>\n",
       "      <td>-0.298594</td>\n",
       "    </tr>\n",
       "    <tr>\n",
       "      <th>2</th>\n",
       "      <td>52.0</td>\n",
       "      <td>61.0</td>\n",
       "      <td>20506</td>\n",
       "      <td>17343</td>\n",
       "      <td>37849</td>\n",
       "      <td>0.193965</td>\n",
       "      <td>0.209611</td>\n",
       "      <td>0.178235</td>\n",
       "      <td>0.162148</td>\n",
       "    </tr>\n",
       "    <tr>\n",
       "      <th>3</th>\n",
       "      <td>61.0</td>\n",
       "      <td>64.0</td>\n",
       "      <td>6977</td>\n",
       "      <td>3245</td>\n",
       "      <td>10222</td>\n",
       "      <td>0.052385</td>\n",
       "      <td>0.071318</td>\n",
       "      <td>0.033349</td>\n",
       "      <td>0.760123</td>\n",
       "    </tr>\n",
       "    <tr>\n",
       "      <th>4</th>\n",
       "      <td>64.0</td>\n",
       "      <td>74.0</td>\n",
       "      <td>13528</td>\n",
       "      <td>4279</td>\n",
       "      <td>17807</td>\n",
       "      <td>0.091256</td>\n",
       "      <td>0.138282</td>\n",
       "      <td>0.043976</td>\n",
       "      <td>1.145661</td>\n",
       "    </tr>\n",
       "    <tr>\n",
       "      <th>5</th>\n",
       "      <td>74.0</td>\n",
       "      <td>109.0</td>\n",
       "      <td>7820</td>\n",
       "      <td>1295</td>\n",
       "      <td>9115</td>\n",
       "      <td>0.046712</td>\n",
       "      <td>0.079935</td>\n",
       "      <td>0.013309</td>\n",
       "      <td>1.792793</td>\n",
       "    </tr>\n",
       "  </tbody>\n",
       "</table>\n",
       "</div>"
      ],
      "text/plain": [
       "    min    max  count_0  count_1  total  percentage     good%      bad%  \\\n",
       "0  21.0   36.0    14739    25210  39949    0.204727  0.150661  0.259085   \n",
       "1  36.0   52.0    34259    45932  80191    0.410956  0.350193  0.472046   \n",
       "2  52.0   61.0    20506    17343  37849    0.193965  0.209611  0.178235   \n",
       "3  61.0   64.0     6977     3245  10222    0.052385  0.071318  0.033349   \n",
       "4  64.0   74.0    13528     4279  17807    0.091256  0.138282  0.043976   \n",
       "5  74.0  109.0     7820     1295   9115    0.046712  0.079935  0.013309   \n",
       "\n",
       "        woe  \n",
       "0 -0.542125  \n",
       "1 -0.298594  \n",
       "2  0.162148  \n",
       "3  0.760123  \n",
       "4  1.145661  \n",
       "5  1.792793  "
      ]
     },
     "execution_count": 159,
     "metadata": {},
     "output_type": "execute_result"
    }
   ],
   "source": [
    "bins_dfk = get_woe(afterbins)\n",
    "bins_dfk"
   ]
  },
  {
   "cell_type": "markdown",
   "metadata": {},
   "source": [
    "希望每组的bad_rate相差越大越好。num_bins保留的信息越多越好\n",
    "\n",
    "woe差异越大越好，应该具有单调性，随着箱的增加，要么由正到负，要么由负到正，只能有一个转折过程。如果woe值大小变化是有两个转折，比如呈现w型，证明分箱过程有问题"
   ]
  },
  {
   "cell_type": "markdown",
   "metadata": {
    "pycharm": {
     "name": "#%% md\n"
    }
   },
   "source": [
    "# 3.6 定义根据IV曲线选取每个特征的最佳分箱个数函数\n",
    "\n",
    "结合3.1至3.5，将前面的过程封装为一个函数。"
   ]
  },
  {
   "cell_type": "code",
   "execution_count": 160,
   "metadata": {
    "pycharm": {
     "is_executing": false
    }
   },
   "outputs": [],
   "source": [
    "class Stack():   #定义类\n",
    "    def __init__(self):  #产生一个空的容器\n",
    "        self.__list = []\n",
    "    def push(self, item):  #入栈\n",
    "        self.__list.append(item)\n",
    "    def pop(self):  #出栈\n",
    "        return self.__list.pop()\n",
    "    def speek(self):  #返回栈顶元素\n",
    "        return self.__list[-1]\n",
    "    def is_empty(self):  #判断是否已为空\n",
    "        return not self.__list\n",
    "    def size(self):  #返回栈中元素个数\n",
    "        return len(self.__list)\n",
    "    \n",
    "def graphforbestbin(DF,X,Y,n=5,q=20,graph=True):\n",
    "    '''\n",
    "    自动最优分箱函数，基于卡方检验的分箱\n",
    "\n",
    "    参数：\n",
    "    DF: 需要输入的数据\n",
    "    X: 需要分箱的列名\n",
    "    Y: 分箱数据对应的标签 Y 列名\n",
    "    n: 保留分箱个数\n",
    "    q: 初始分箱的个数\n",
    "    graph: 是否要画出IV图像\n",
    "    区间为前开后闭 (]\n",
    "    '''\n",
    "    DF = DF[[X,Y]].copy()#[[X,Y]]是将这两列单独拼接成一个新的表\n",
    "    #开始分箱\n",
    "    DF['qcut'],bins = pd.qcut(DF[X],retbins=True,duplicates='drop',q=q)\n",
    "    coount_y0 = DF.loc[DF[Y] == 0].groupby('qcut').count()[Y]#取出为0的计数结果\n",
    "    coount_y1 = DF.loc[DF[Y] == 1].groupby('qcut').count()[Y]#取出为1的计数结果\n",
    "    #将序列解压\n",
    "    num_bins = [*zip(bins,bins[1:],coount_y0,coount_y1)]\n",
    "    \n",
    "    #将num_bins合并直到没有0样本情况存在\n",
    "    def get_newbins(bins):\n",
    "        class Stack():\n",
    "            #定义类\n",
    "            def __init__(self):  #产生一个空的容器\n",
    "                self.__list = []\n",
    "            def push(self, item):  #入栈\n",
    "                self.__list.append(item)\n",
    "            def pop(self):  #出栈\n",
    "                return self.__list.pop()\n",
    "            def speek(self):  #返回栈顶元素\n",
    "                return self.__list[-1]\n",
    "            def is_empty(self):  #判断是否已为空\n",
    "                return not self.__list\n",
    "            def size(self):  #返回栈中元素个数\n",
    "                return len(self.__list)\n",
    "\n",
    "        s = Stack()\n",
    "        #首先将列表翻转，降序\n",
    "        bins = sorted(num_bins,reverse=True)\n",
    "        #全部入栈\n",
    "        for i in bins:\n",
    "            s.push(i)\n",
    "        lis =[]\n",
    "        while not s.is_empty():\n",
    "            s1 = s.pop()\n",
    "            if 0 in s1[2:]:\n",
    "                s2 = s.pop()\n",
    "                s3 = (s1[0],s2[1],s1[2]+s2[2],s1[3]+s2[3])\n",
    "                s.push(s3)\n",
    "            else:\n",
    "                lis.append(s1)\n",
    "        return lis\n",
    "\n",
    "    num_bins = get_newbins(num_bins)\n",
    "    \n",
    "    def get_woe(num_bins):\n",
    "        columns = [\"min\",\"max\",\"count_0\",\"count_1\"]\n",
    "        df = pd.DataFrame(num_bins,columns=columns)\n",
    "        df[\"total\"] = df.count_0 + df.count_1\n",
    "        df[\"percentage\"] = df.total / df.total.sum()\n",
    "        df[\"bad_rate\"] = df.count_1 / df.total\n",
    "        df[\"good%\"] = df.count_0/df.count_0.sum()\n",
    "        df[\"bad%\"] = df.count_1/df.count_1.sum()\n",
    "        df[\"woe\"] = np.log(df[\"good%\"] / df[\"bad%\"])\n",
    "        return df\n",
    "\n",
    "    def get_iv(df):\n",
    "        rate = df[\"good%\"] - df[\"bad%\"]\n",
    "        iv = np.sum(rate * df.woe)\n",
    "        return iv\n",
    "\n",
    "    IV = []\n",
    "    axisx = []\n",
    "    while len(num_bins) > n:\n",
    "        pvs = []\n",
    "        for i in range(len(num_bins)-1):\n",
    "            x1 = num_bins[i][2:]\n",
    "            x2 = num_bins[i+1][2:]\n",
    "            pv = scipy.stats.chi2_contingency([x1,x2])[1]\n",
    "            pvs.append(pv)\n",
    "\n",
    "        i = pvs.index(max(pvs))\n",
    "        num_bins[i:i+2] = [(\n",
    "            num_bins[i][0],\n",
    "            num_bins[i+1][1],\n",
    "            num_bins[i][2]+num_bins[i+1][2],\n",
    "            num_bins[i][3]+num_bins[i+1][3])]\n",
    "        global bins_dfs\n",
    "        bins_dfs = pd.DataFrame(get_woe(num_bins))\n",
    "        axisx.append(len(num_bins))\n",
    "        IV.append(get_iv(bins_dfs))\n",
    "\n",
    "    if graph:\n",
    "        plt.figure()\n",
    "        plt.plot(axisx,IV)\n",
    "        plt.xticks(axisx)\n",
    "        plt.xlabel(\"number of box\")\n",
    "        plt.ylabel(\"IV\")\n",
    "        plt.grid(True)\n",
    "        plt.show()\n",
    "    return bins_dfs\n",
    "\n",
    "\n",
    "\n"
   ]
  },
  {
   "cell_type": "code",
   "execution_count": 161,
   "metadata": {},
   "outputs": [],
   "source": [
    "def graphforbestbin(DF, X, Y, n=5,q=20,graph=True):\n",
    "    '''\n",
    "    自动最优分箱函数，基于卡方检验的分箱\n",
    "\n",
    "    参数：\n",
    "    DF: 需要输入的数据\n",
    "    X: 需要分箱的列名\n",
    "    Y: 分箱数据对应的标签 Y 列名\n",
    "    n: 保留分箱个数\n",
    "    q: 初始分箱的个数\n",
    "    graph: 是否要画出IV图像\n",
    "\n",
    "    区间为前开后闭 (]\n",
    "\n",
    "    '''\n",
    "\n",
    "    DF = DF[[X,Y]].copy()\n",
    "\n",
    "    DF[\"qcut\"],bins = pd.qcut(DF[X], retbins=True, q=q,duplicates=\"drop\")\n",
    "    coount_y0 = DF.loc[DF[Y]==0].groupby(by=\"qcut\").count()[Y]\n",
    "    coount_y1 = DF.loc[DF[Y]==1].groupby(by=\"qcut\").count()[Y]\n",
    "    num_bins = [*zip(bins,bins[1:],coount_y0,coount_y1)]\n",
    "\n",
    "    for i in range(q):\n",
    "        if 0 in num_bins[0][2:]:\n",
    "            num_bins[0:2] = [(\n",
    "                num_bins[0][0],\n",
    "                num_bins[1][1],\n",
    "                num_bins[0][2]+num_bins[1][2],\n",
    "                num_bins[0][3]+num_bins[1][3])]\n",
    "            continue\n",
    "\n",
    "        for i in range(len(num_bins)):\n",
    "            if 0 in num_bins[i][2:]:\n",
    "                num_bins[i-1:i+1] = [(\n",
    "                    num_bins[i-1][0],\n",
    "                    num_bins[i][1],\n",
    "                    num_bins[i-1][2]+num_bins[i][2],\n",
    "                    num_bins[i-1][3]+num_bins[i][3])]\n",
    "                break\n",
    "        else:\n",
    "            break\n",
    "\n",
    "    def get_woe(num_bins):\n",
    "        columns = [\"min\",\"max\",\"count_0\",\"count_1\"]\n",
    "        df = pd.DataFrame(num_bins,columns=columns)\n",
    "        df[\"total\"] = df.count_0 + df.count_1\n",
    "        df[\"percentage\"] = df.total / df.total.sum()\n",
    "        df[\"bad_rate\"] = df.count_1 / df.total\n",
    "        df[\"good%\"] = df.count_0/df.count_0.sum()\n",
    "        df[\"bad%\"] = df.count_1/df.count_1.sum()\n",
    "        df[\"woe\"] = np.log(df[\"good%\"] / df[\"bad%\"])\n",
    "        return df\n",
    "\n",
    "    def get_iv(df):\n",
    "        rate = df[\"good%\"] - df[\"bad%\"]\n",
    "        iv = np.sum(rate * df.woe)\n",
    "        return iv\n",
    "\n",
    "    IV = []\n",
    "    axisx = []\n",
    "    while len(num_bins) > n:\n",
    "        pvs = []\n",
    "        for i in range(len(num_bins)-1):\n",
    "            x1 = num_bins[i][2:]\n",
    "            x2 = num_bins[i+1][2:]\n",
    "            pv = scipy.stats.chi2_contingency([x1,x2])[1]\n",
    "            pvs.append(pv)\n",
    "\n",
    "        i = pvs.index(max(pvs))\n",
    "        num_bins[i:i+2] = [(\n",
    "            num_bins[i][0],\n",
    "            num_bins[i+1][1],\n",
    "            num_bins[i][2]+num_bins[i+1][2],\n",
    "            num_bins[i][3]+num_bins[i+1][3])]\n",
    "        global bins_df\n",
    "        bins_df = pd.DataFrame(get_woe(num_bins))\n",
    "        axisx.append(len(num_bins))\n",
    "        IV.append(get_iv(bins_df))\n",
    "\n",
    "    if graph:\n",
    "        plt.figure()\n",
    "        plt.plot(axisx,IV)\n",
    "        plt.xticks(axisx)\n",
    "        plt.xlabel(\"number of box\")\n",
    "        plt.ylabel(\"IV\")\n",
    "        plt.grid()\n",
    "        plt.show()\n",
    "    return bins_df"
   ]
  },
  {
   "cell_type": "code",
   "execution_count": 162,
   "metadata": {
    "pycharm": {
     "is_executing": false,
     "name": "#%%\n"
    },
    "scrolled": true
   },
   "outputs": [
    {
     "name": "stdout",
     "output_type": "stream",
     "text": [
      "RevolvingUtilizationOfUnsecuredLines\n"
     ]
    },
    {
     "data": {
      "image/png": "[encoded data removed]",
      "text/plain": [
       "<Figure size 432x288 with 1 Axes>"
      ]
     },
     "metadata": {},
     "output_type": "display_data"
    },
    {
     "name": "stdout",
     "output_type": "stream",
     "text": [
      "age\n"
     ]
    },
    {
     "data": {
      "image/png": "[encoded data removed]",
      "text/plain": [
       "<Figure size 432x288 with 1 Axes>"
      ]
     },
     "metadata": {},
     "output_type": "display_data"
    },
    {
     "name": "stdout",
     "output_type": "stream",
     "text": [
      "DebtRatio\n"
     ]
    },
    {
     "data": {
      "image/png": "[encoded data removed]",
      "text/plain": [
       "<Figure size 432x288 with 1 Axes>"
      ]
     },
     "metadata": {},
     "output_type": "display_data"
    },
    {
     "name": "stdout",
     "output_type": "stream",
     "text": [
      "MonthlyIncome\n"
     ]
    },
    {
     "data": {
      "image/png": "[encoded data removed]",
      "text/plain": [
       "<Figure size 432x288 with 1 Axes>"
      ]
     },
     "metadata": {},
     "output_type": "display_data"
    },
    {
     "name": "stdout",
     "output_type": "stream",
     "text": [
      "NumberOfDependents\n"
     ]
    },
    {
     "data": {
      "image/png": "[encoded data removed]",
      "text/plain": [
       "<Figure size 432x288 with 1 Axes>"
      ]
     },
     "metadata": {},
     "output_type": "display_data"
    }
   ],
   "source": [
    "#model_data.columns\n",
    "\n",
    "for i in model_data.columns[1:-1]:\n",
    "    print(i)\n",
    "    graphforbestbin(model_data,i,\"SeriousDlqin2yrs\",n=2,q=20)"
   ]
  },
  {
   "cell_type": "markdown",
   "metadata": {
    "pycharm": {
     "name": "#%% md\n"
    }
   },
   "source": [
    "我们发现，不是所有的特征都可以使用这个分箱函数，比如说有的特征，像家人数量，就无法分出20组。于是我们将可以分箱的特征放出来单独分组，不能自动分箱的变量自己观察然后手写："
   ]
  },
  {
   "cell_type": "code",
   "execution_count": 163,
   "metadata": {
    "pycharm": {
     "is_executing": false,
     "name": "#%%\n"
    }
   },
   "outputs": [],
   "source": [
    "auto_col_bins = {\"RevolvingUtilizationOfUnsecuredLines\":5,\n",
    "                \"age\":4,\n",
    "                \"DebtRatio\":4,\n",
    "                \"MonthlyIncome\":3\n",
    "                }\n",
    "#不能使用自动分箱的变量\n",
    "hand_bins = {\"NumberOfDependents\":[0,1,2,3,20]}\n",
    "\n",
    "#保证区间覆盖使用np.inf替换最大值，用-np.inf替换最小值 \n",
    "#原因：比如一些新的值出现，例如家庭人数为30，以前没出现过\n",
    "#改成范围为极大值之后，这些新值就都能分到箱里边了\n",
    "hand_bins = {k:[-np.inf,*v[:-1],np.inf] for k,v in hand_bins.items()}"
   ]
  },
  {
   "cell_type": "code",
   "execution_count": 164,
   "metadata": {
    "pycharm": {
     "name": "#%%\n"
    }
   },
   "outputs": [
    {
     "data": {
      "text/plain": [
       "count    195133.000000\n",
       "mean          0.822561\n",
       "std           1.076851\n",
       "min           0.000000\n",
       "0%            0.000000\n",
       "15%           0.000000\n",
       "25%           0.000000\n",
       "35%           0.000000\n",
       "45%           0.000000\n",
       "50%           0.175961\n",
       "55.0%         0.571809\n",
       "65%           1.000000\n",
       "75%           1.380110\n",
       "85%           2.000000\n",
       "95%           3.000000\n",
       "100%         13.000000\n",
       "max          13.000000\n",
       "Name: NumberOfDependents, dtype: float64"
      ]
     },
     "execution_count": 164,
     "metadata": {},
     "output_type": "execute_result"
    }
   ],
   "source": [
    "#s手动检测数据分布，发现可以手动分成0,1,2,3，inf组也就是四组的样子,其他的变量类似。\n",
    "model_data['NumberOfDependents'].describe([0,.15,.25,.35,.45,.55,.65,.75,.85,.95,1])\n"
   ]
  },
  {
   "cell_type": "code",
   "execution_count": 165,
   "metadata": {
    "pycharm": {
     "name": "#%%\n"
    }
   },
   "outputs": [
    {
     "data": {
      "text/plain": [
       "{'NumberOfDependents': [-inf, 0, 1, 2, 3, inf]}"
      ]
     },
     "execution_count": 165,
     "metadata": {},
     "output_type": "execute_result"
    }
   ],
   "source": [
    "hand_bins"
   ]
  },
  {
   "cell_type": "markdown",
   "metadata": {},
   "source": [
    "接下来对所有特征按照选择的箱体个数和手写的分箱范围进行分箱：\n",
    "[union函数](https://www.runoob.com/python3/ref-set-union.html)"
   ]
  },
  {
   "cell_type": "code",
   "execution_count": 166,
   "metadata": {
    "pycharm": {
     "name": "#%%\n"
    }
   },
   "outputs": [
    {
     "data": {
      "text/plain": [
       "{'RevolvingUtilizationOfUnsecuredLines': [-inf,\n",
       "  0.38751362076862816,\n",
       "  0.7343066620280232,\n",
       "  0.9844015963275243,\n",
       "  0.9999998999999999,\n",
       "  inf],\n",
       " 'age': [-inf, 52.0, 61.0, 74.0, inf],\n",
       " 'DebtRatio': [-inf,\n",
       "  0.017065179849744844,\n",
       "  0.399935373,\n",
       "  1.5012419355380964,\n",
       "  inf],\n",
       " 'MonthlyIncome': [-inf, 0.11, 6833.0, inf],\n",
       " 'NumberOfDependents': [-inf, 0, 1, 2, 3, inf]}"
      ]
     },
     "execution_count": 166,
     "metadata": {},
     "output_type": "execute_result"
    }
   ],
   "source": [
    "bins_of_col = {}\n",
    "#生成自动分箱的分享区间以及分箱后的IV值\n",
    "for col in auto_col_bins:\n",
    "    bins_df = graphforbestbin(model_data,col,\n",
    "                             \"SeriousDlqin2yrs\",\n",
    "                             n=auto_col_bins[col],\n",
    "                             q=20,\n",
    "                             graph=False)\n",
    "    bins_list = sorted(set(bins_df['min']).union(bins_df['max']))\n",
    "    #保证区间覆盖使用 np.inf 替换最大值 -np.inf 替换最小值\n",
    "    bins_list[0],bins_list[-1] = -np.inf,np.inf\n",
    "    bins_of_col[col] = bins_list\n",
    "\n",
    "#合并手动分箱数据    \n",
    "bins_of_col.update(hand_bins)\n",
    "bins_of_col"
   ]
  },
  {
   "cell_type": "markdown",
   "metadata": {},
   "source": [
    "# 3.7 计算各箱的WOE并映射到数据中\n",
    "我们现在已经有了我们的箱子，接下来我们要做的是计算各箱的WOE，并且把WOE替换到我们的原始数据model_data中，因为我们将使用WOE覆盖后的数据来建模，我们希望获取的是”各个箱”的分类结果，即评分卡上各个评分项目的分类结果。"
   ]
  },
  {
   "cell_type": "code",
   "execution_count": 167,
   "metadata": {
    "pycharm": {
     "name": "#%%\n"
    }
   },
   "outputs": [
    {
     "data": {
      "text/html": [
       "<div>\n",
       "<style scoped>\n",
       "    .dataframe tbody tr th:only-of-type {\n",
       "        vertical-align: middle;\n",
       "    }\n",
       "\n",
       "    .dataframe tbody tr th {\n",
       "        vertical-align: top;\n",
       "    }\n",
       "\n",
       "    .dataframe thead th {\n",
       "        text-align: right;\n",
       "    }\n",
       "</style>\n",
       "<table border=\"1\" class=\"dataframe\">\n",
       "  <thead>\n",
       "    <tr style=\"text-align: right;\">\n",
       "      <th></th>\n",
       "      <th>age</th>\n",
       "      <th>SeriousDlqin2yrs</th>\n",
       "      <th>cut</th>\n",
       "    </tr>\n",
       "  </thead>\n",
       "  <tbody>\n",
       "    <tr>\n",
       "      <th>0</th>\n",
       "      <td>54</td>\n",
       "      <td>1</td>\n",
       "      <td>(36.0, 54.0]</td>\n",
       "    </tr>\n",
       "    <tr>\n",
       "      <th>1</th>\n",
       "      <td>66</td>\n",
       "      <td>1</td>\n",
       "      <td>(61.0, 74.0]</td>\n",
       "    </tr>\n",
       "    <tr>\n",
       "      <th>2</th>\n",
       "      <td>85</td>\n",
       "      <td>0</td>\n",
       "      <td>(74.0, inf]</td>\n",
       "    </tr>\n",
       "    <tr>\n",
       "      <th>3</th>\n",
       "      <td>27</td>\n",
       "      <td>0</td>\n",
       "      <td>(-inf, 36.0]</td>\n",
       "    </tr>\n",
       "    <tr>\n",
       "      <th>4</th>\n",
       "      <td>73</td>\n",
       "      <td>0</td>\n",
       "      <td>(61.0, 74.0]</td>\n",
       "    </tr>\n",
       "  </tbody>\n",
       "</table>\n",
       "</div>"
      ],
      "text/plain": [
       "   age  SeriousDlqin2yrs           cut\n",
       "0   54                 1  (36.0, 54.0]\n",
       "1   66                 1  (61.0, 74.0]\n",
       "2   85                 0   (74.0, inf]\n",
       "3   27                 0  (-inf, 36.0]\n",
       "4   73                 0  (61.0, 74.0]"
      ]
     },
     "execution_count": 167,
     "metadata": {},
     "output_type": "execute_result"
    }
   ],
   "source": [
    "#函数pd.cut，可以根据已知的分箱间隔把数据分箱\n",
    "#参数为 pd.cut(数据，以列表表示的分箱间隔)\n",
    "data = model_data.copy()\n",
    "#函数pd.cut，可以根据已知的分箱间隔把数据分箱\n",
    "#参数为 pd.cut(数据，以列表表示的分箱间隔)\n",
    "data = data[['age','SeriousDlqin2yrs']].copy()\n",
    "data['cut'] = pd.cut(data['age'],[-np.inf, 36.0, 54.0, 61.0, 74.0, np.inf])\n",
    "data.head()"
   ]
  },
  {
   "cell_type": "code",
   "execution_count": 168,
   "metadata": {
    "pycharm": {
     "name": "#%%\n"
    }
   },
   "outputs": [
    {
     "data": {
      "text/plain": [
       "cut           SeriousDlqin2yrs\n",
       "(-inf, 36.0]  1                   25210\n",
       "              0                   14739\n",
       "(36.0, 54.0]  1                   50924\n",
       "              0                   39012\n",
       "(54.0, 61.0]  0                   15753\n",
       "              1                   12351\n",
       "(61.0, 74.0]  0                   20505\n",
       "              1                    7524\n",
       "(74.0, inf]   0                    7820\n",
       "              1                    1295\n",
       "Name: SeriousDlqin2yrs, dtype: int64"
      ]
     },
     "execution_count": 168,
     "metadata": {},
     "output_type": "execute_result"
    }
   ],
   "source": [
    "#将数据按照分箱结果过聚合，并取出其中的标签值\n",
    "data.groupby(\"cut\")['SeriousDlqin2yrs'].value_counts()"
   ]
  },
  {
   "cell_type": "code",
   "execution_count": 169,
   "metadata": {
    "pycharm": {
     "name": "#%%\n"
    }
   },
   "outputs": [
    {
     "data": {
      "text/html": [
       "<div>\n",
       "<style scoped>\n",
       "    .dataframe tbody tr th:only-of-type {\n",
       "        vertical-align: middle;\n",
       "    }\n",
       "\n",
       "    .dataframe tbody tr th {\n",
       "        vertical-align: top;\n",
       "    }\n",
       "\n",
       "    .dataframe thead th {\n",
       "        text-align: right;\n",
       "    }\n",
       "</style>\n",
       "<table border=\"1\" class=\"dataframe\">\n",
       "  <thead>\n",
       "    <tr style=\"text-align: right;\">\n",
       "      <th>SeriousDlqin2yrs</th>\n",
       "      <th>0</th>\n",
       "      <th>1</th>\n",
       "      <th>woe</th>\n",
       "    </tr>\n",
       "    <tr>\n",
       "      <th>cut</th>\n",
       "      <th></th>\n",
       "      <th></th>\n",
       "      <th></th>\n",
       "    </tr>\n",
       "  </thead>\n",
       "  <tbody>\n",
       "    <tr>\n",
       "      <th>(-inf, 36.0]</th>\n",
       "      <td>14739</td>\n",
       "      <td>25210</td>\n",
       "      <td>-0.542125</td>\n",
       "    </tr>\n",
       "    <tr>\n",
       "      <th>(36.0, 54.0]</th>\n",
       "      <td>39012</td>\n",
       "      <td>50924</td>\n",
       "      <td>-0.271846</td>\n",
       "    </tr>\n",
       "    <tr>\n",
       "      <th>(54.0, 61.0]</th>\n",
       "      <td>15753</td>\n",
       "      <td>12351</td>\n",
       "      <td>0.237913</td>\n",
       "    </tr>\n",
       "    <tr>\n",
       "      <th>(61.0, 74.0]</th>\n",
       "      <td>20505</td>\n",
       "      <td>7524</td>\n",
       "      <td>0.997190</td>\n",
       "    </tr>\n",
       "    <tr>\n",
       "      <th>(74.0, inf]</th>\n",
       "      <td>7820</td>\n",
       "      <td>1295</td>\n",
       "      <td>1.792793</td>\n",
       "    </tr>\n",
       "  </tbody>\n",
       "</table>\n",
       "</div>"
      ],
      "text/plain": [
       "SeriousDlqin2yrs      0      1       woe\n",
       "cut                                     \n",
       "(-inf, 36.0]      14739  25210 -0.542125\n",
       "(36.0, 54.0]      39012  50924 -0.271846\n",
       "(54.0, 61.0]      15753  12351  0.237913\n",
       "(61.0, 74.0]      20505   7524  0.997190\n",
       "(74.0, inf]        7820   1295  1.792793"
      ]
     },
     "execution_count": 169,
     "metadata": {},
     "output_type": "execute_result"
    }
   ],
   "source": [
    "#使用unstack()来将树状结构变为表结构\n",
    "data.groupby(\"cut\")['SeriousDlqin2yrs'].value_counts().unstack()\n",
    "bins_df = data.groupby(\"cut\")['SeriousDlqin2yrs'].value_counts().unstack()\n",
    "bins_df['woe'] = np.log((bins_df[0]/bins_df[0].sum())/(bins_df[1]/bins_df[1].sum()))\n",
    "bins_df"
   ]
  },
  {
   "cell_type": "markdown",
   "metadata": {},
   "source": [
    "把以上计算一个特征中所有woe值的过程包装成函数："
   ]
  },
  {
   "cell_type": "code",
   "execution_count": 170,
   "metadata": {
    "pycharm": {
     "name": "#%%\n"
    }
   },
   "outputs": [
    {
     "data": {
      "text/plain": [
       "{'RevolvingUtilizationOfUnsecuredLines': cut\n",
       " (-inf, 0.388]     1.269681\n",
       " (0.388, 0.734]   -0.640125\n",
       " (0.734, 0.984]   -1.388699\n",
       " (0.984, 1.0]     -0.445865\n",
       " (1.0, inf]       -2.050909\n",
       " dtype: float64, 'age': cut\n",
       " (-inf, 52.0]   -0.378279\n",
       " (52.0, 61.0]    0.162148\n",
       " (61.0, 74.0]    0.997190\n",
       " (74.0, inf]     1.792793\n",
       " dtype: float64, 'DebtRatio': cut\n",
       " (-inf, 0.0171]    1.478842\n",
       " (0.0171, 0.4]     0.034529\n",
       " (0.4, 1.501]     -0.379100\n",
       " (1.501, inf]      0.171108\n",
       " dtype: float64, 'MonthlyIncome': cut\n",
       " (-inf, 0.11]      1.558621\n",
       " (0.11, 6833.0]   -0.215822\n",
       " (6833.0, inf]     0.333867\n",
       " dtype: float64, 'NumberOfDependents': cut\n",
       " (-inf, 0.0]    0.564851\n",
       " (0.0, 1.0]    -0.563415\n",
       " (1.0, 2.0]    -0.478403\n",
       " (2.0, 3.0]    -0.501332\n",
       " (3.0, inf]    -0.387643\n",
       " dtype: float64}"
      ]
     },
     "execution_count": 170,
     "metadata": {},
     "output_type": "execute_result"
    }
   ],
   "source": [
    "def get_woe(df,col,y,bins):\n",
    "    df = df[[col,y]].copy()\n",
    "    df['cut'] = pd.cut(df[col],bins)\n",
    "    bins_df = df.groupby('cut')[y].value_counts().unstack()\n",
    "    woe = bins_df['woe'] = np.log((bins_df[0]/bins_df[0].sum())/(bins_df[1]/bins_df[1].sum()))\n",
    "    return woe\n",
    "#将所有的特征的woe储存在字典当中。\n",
    "woeall = {}\n",
    "for col in bins_of_col:\n",
    "    woeall[col] = get_woe(model_data,col,\"SeriousDlqin2yrs\",bins_of_col[col])\n",
    "woeall"
   ]
  },
  {
   "cell_type": "code",
   "execution_count": 171,
   "metadata": {
    "pycharm": {
     "name": "#%%\n"
    }
   },
   "outputs": [
    {
     "data": {
      "text/plain": [
       "{'RevolvingUtilizationOfUnsecuredLines': [-inf,\n",
       "  0.38751362076862816,\n",
       "  0.7343066620280232,\n",
       "  0.9844015963275243,\n",
       "  0.9999998999999999,\n",
       "  inf],\n",
       " 'age': [-inf, 52.0, 61.0, 74.0, inf],\n",
       " 'DebtRatio': [-inf,\n",
       "  0.017065179849744844,\n",
       "  0.399935373,\n",
       "  1.5012419355380964,\n",
       "  inf],\n",
       " 'MonthlyIncome': [-inf, 0.11, 6833.0, inf],\n",
       " 'NumberOfDependents': [-inf, 0, 1, 2, 3, inf]}"
      ]
     },
     "execution_count": 171,
     "metadata": {},
     "output_type": "execute_result"
    }
   ],
   "source": [
    "bins_of_col"
   ]
  },
  {
   "cell_type": "code",
   "execution_count": 172,
   "metadata": {
    "pycharm": {
     "name": "#%%\n"
    }
   },
   "outputs": [
    {
     "data": {
      "text/plain": [
       "'RevolvingUtilizationOfUnsecuredLines'"
      ]
     },
     "execution_count": 172,
     "metadata": {},
     "output_type": "execute_result"
    }
   ],
   "source": [
    "a=iter(woeall)\n",
    "next(a)\n"
   ]
  },
  {
   "cell_type": "code",
   "execution_count": 173,
   "metadata": {
    "pycharm": {
     "name": "#%%\n"
    }
   },
   "outputs": [
    {
     "data": {
      "text/plain": [
       "cut\n",
       "(-inf, 0.388]     1.269681\n",
       "(0.388, 0.734]   -0.640125\n",
       "(0.734, 0.984]   -1.388699\n",
       "(0.984, 1.0]     -0.445865\n",
       "(1.0, inf]       -2.050909\n",
       "dtype: float64"
      ]
     },
     "execution_count": 173,
     "metadata": {},
     "output_type": "execute_result"
    }
   ],
   "source": [
    "woeall['RevolvingUtilizationOfUnsecuredLines']"
   ]
  },
  {
   "cell_type": "code",
   "execution_count": 174,
   "metadata": {
    "pycharm": {
     "name": "#%%\n"
    }
   },
   "outputs": [
    {
     "data": {
      "text/plain": [
       "pandas.core.series.Series"
      ]
     },
     "execution_count": 174,
     "metadata": {},
     "output_type": "execute_result"
    }
   ],
   "source": [
    "type(woeall['RevolvingUtilizationOfUnsecuredLines'])"
   ]
  },
  {
   "cell_type": "code",
   "execution_count": 175,
   "metadata": {},
   "outputs": [
    {
     "data": {
      "text/plain": [
       "{'NumberOfDependents': [-inf, 0, 1, 2, 3, inf]}"
      ]
     },
     "execution_count": 175,
     "metadata": {},
     "output_type": "execute_result"
    }
   ],
   "source": [
    "hand_bins"
   ]
  },
  {
   "cell_type": "markdown",
   "metadata": {},
   "source": [
    "# 3.7 计算各箱的WOE并映射到数据中\n",
    "我们现在已经有了我们的箱子，接下来我们要做的是计算各箱的WOE，并且把WOE替换到我们的原始数据model_data中，因为我们将使用WOE覆盖后的数据来建模，我们希望获取的是”各个箱”的分类结果，即评分卡上各个评分项目的分类结果。"
   ]
  },
  {
   "cell_type": "code",
   "execution_count": 176,
   "metadata": {},
   "outputs": [
    {
     "data": {
      "text/html": [
       "<div>\n",
       "<style scoped>\n",
       "    .dataframe tbody tr th:only-of-type {\n",
       "        vertical-align: middle;\n",
       "    }\n",
       "\n",
       "    .dataframe tbody tr th {\n",
       "        vertical-align: top;\n",
       "    }\n",
       "\n",
       "    .dataframe thead th {\n",
       "        text-align: right;\n",
       "    }\n",
       "</style>\n",
       "<table border=\"1\" class=\"dataframe\">\n",
       "  <thead>\n",
       "    <tr style=\"text-align: right;\">\n",
       "      <th></th>\n",
       "      <th>age</th>\n",
       "      <th>SeriousDlqin2yrs</th>\n",
       "      <th>cut</th>\n",
       "    </tr>\n",
       "  </thead>\n",
       "  <tbody>\n",
       "    <tr>\n",
       "      <th>0</th>\n",
       "      <td>54</td>\n",
       "      <td>1</td>\n",
       "      <td>(36.0, 54.0]</td>\n",
       "    </tr>\n",
       "    <tr>\n",
       "      <th>1</th>\n",
       "      <td>66</td>\n",
       "      <td>1</td>\n",
       "      <td>(61.0, 74.0]</td>\n",
       "    </tr>\n",
       "    <tr>\n",
       "      <th>2</th>\n",
       "      <td>85</td>\n",
       "      <td>0</td>\n",
       "      <td>(74.0, inf]</td>\n",
       "    </tr>\n",
       "    <tr>\n",
       "      <th>3</th>\n",
       "      <td>27</td>\n",
       "      <td>0</td>\n",
       "      <td>(-inf, 36.0]</td>\n",
       "    </tr>\n",
       "    <tr>\n",
       "      <th>4</th>\n",
       "      <td>73</td>\n",
       "      <td>0</td>\n",
       "      <td>(61.0, 74.0]</td>\n",
       "    </tr>\n",
       "  </tbody>\n",
       "</table>\n",
       "</div>"
      ],
      "text/plain": [
       "   age  SeriousDlqin2yrs           cut\n",
       "0   54                 1  (36.0, 54.0]\n",
       "1   66                 1  (61.0, 74.0]\n",
       "2   85                 0   (74.0, inf]\n",
       "3   27                 0  (-inf, 36.0]\n",
       "4   73                 0  (61.0, 74.0]"
      ]
     },
     "execution_count": 176,
     "metadata": {},
     "output_type": "execute_result"
    }
   ],
   "source": [
    "#函数pd.cut，可以根据已知的分箱间隔把数据分箱\n",
    "#参数为 pd.cut(数据，以列表表示的分箱间隔)\n",
    "data = model_data.copy()\n",
    "#函数pd.cut，可以根据已知的分箱间隔把数据分箱\n",
    "#参数为 pd.cut(数据，以列表表示的分箱间隔)\n",
    "data = data[['age','SeriousDlqin2yrs']].copy()\n",
    "data['cut'] = pd.cut(data['age'],[-np.inf, 36.0, 54.0, 61.0, 74.0, np.inf])\n",
    "data.head()"
   ]
  },
  {
   "cell_type": "code",
   "execution_count": 177,
   "metadata": {},
   "outputs": [
    {
     "data": {
      "text/plain": [
       "cut           SeriousDlqin2yrs\n",
       "(-inf, 36.0]  1                   25210\n",
       "              0                   14739\n",
       "(36.0, 54.0]  1                   50924\n",
       "              0                   39012\n",
       "(54.0, 61.0]  0                   15753\n",
       "              1                   12351\n",
       "(61.0, 74.0]  0                   20505\n",
       "              1                    7524\n",
       "(74.0, inf]   0                    7820\n",
       "              1                    1295\n",
       "Name: SeriousDlqin2yrs, dtype: int64"
      ]
     },
     "execution_count": 177,
     "metadata": {},
     "output_type": "execute_result"
    }
   ],
   "source": [
    "#将数据按照分箱结果过聚合，并取出其中的标签值\n",
    "data.groupby(\"cut\")['SeriousDlqin2yrs'].value_counts()"
   ]
  },
  {
   "cell_type": "code",
   "execution_count": 178,
   "metadata": {},
   "outputs": [
    {
     "data": {
      "text/html": [
       "<div>\n",
       "<style scoped>\n",
       "    .dataframe tbody tr th:only-of-type {\n",
       "        vertical-align: middle;\n",
       "    }\n",
       "\n",
       "    .dataframe tbody tr th {\n",
       "        vertical-align: top;\n",
       "    }\n",
       "\n",
       "    .dataframe thead th {\n",
       "        text-align: right;\n",
       "    }\n",
       "</style>\n",
       "<table border=\"1\" class=\"dataframe\">\n",
       "  <thead>\n",
       "    <tr style=\"text-align: right;\">\n",
       "      <th>SeriousDlqin2yrs</th>\n",
       "      <th>0</th>\n",
       "      <th>1</th>\n",
       "      <th>woe</th>\n",
       "    </tr>\n",
       "    <tr>\n",
       "      <th>cut</th>\n",
       "      <th></th>\n",
       "      <th></th>\n",
       "      <th></th>\n",
       "    </tr>\n",
       "  </thead>\n",
       "  <tbody>\n",
       "    <tr>\n",
       "      <th>(-inf, 36.0]</th>\n",
       "      <td>14739</td>\n",
       "      <td>25210</td>\n",
       "      <td>-0.542125</td>\n",
       "    </tr>\n",
       "    <tr>\n",
       "      <th>(36.0, 54.0]</th>\n",
       "      <td>39012</td>\n",
       "      <td>50924</td>\n",
       "      <td>-0.271846</td>\n",
       "    </tr>\n",
       "    <tr>\n",
       "      <th>(54.0, 61.0]</th>\n",
       "      <td>15753</td>\n",
       "      <td>12351</td>\n",
       "      <td>0.237913</td>\n",
       "    </tr>\n",
       "    <tr>\n",
       "      <th>(61.0, 74.0]</th>\n",
       "      <td>20505</td>\n",
       "      <td>7524</td>\n",
       "      <td>0.997190</td>\n",
       "    </tr>\n",
       "    <tr>\n",
       "      <th>(74.0, inf]</th>\n",
       "      <td>7820</td>\n",
       "      <td>1295</td>\n",
       "      <td>1.792793</td>\n",
       "    </tr>\n",
       "  </tbody>\n",
       "</table>\n",
       "</div>"
      ],
      "text/plain": [
       "SeriousDlqin2yrs      0      1       woe\n",
       "cut                                     \n",
       "(-inf, 36.0]      14739  25210 -0.542125\n",
       "(36.0, 54.0]      39012  50924 -0.271846\n",
       "(54.0, 61.0]      15753  12351  0.237913\n",
       "(61.0, 74.0]      20505   7524  0.997190\n",
       "(74.0, inf]        7820   1295  1.792793"
      ]
     },
     "execution_count": 178,
     "metadata": {},
     "output_type": "execute_result"
    }
   ],
   "source": [
    "#使用unstack()来将树状结构变为表结构\n",
    "data.groupby(\"cut\")['SeriousDlqin2yrs'].value_counts().unstack()\n",
    "bins_df = data.groupby(\"cut\")['SeriousDlqin2yrs'].value_counts().unstack()\n",
    "bins_df['woe'] = np.log((bins_df[0]/bins_df[0].sum())/(bins_df[1]/bins_df[1].sum()))\n",
    "bins_df"
   ]
  },
  {
   "cell_type": "markdown",
   "metadata": {},
   "source": [
    "把以上计算一个特征中所有woe值的过程包装成函数："
   ]
  },
  {
   "cell_type": "code",
   "execution_count": 179,
   "metadata": {},
   "outputs": [
    {
     "data": {
      "text/plain": [
       "{'RevolvingUtilizationOfUnsecuredLines': cut\n",
       " (-inf, 0.388]     1.269681\n",
       " (0.388, 0.734]   -0.640125\n",
       " (0.734, 0.984]   -1.388699\n",
       " (0.984, 1.0]     -0.445865\n",
       " (1.0, inf]       -2.050909\n",
       " dtype: float64, 'age': cut\n",
       " (-inf, 52.0]   -0.378279\n",
       " (52.0, 61.0]    0.162148\n",
       " (61.0, 74.0]    0.997190\n",
       " (74.0, inf]     1.792793\n",
       " dtype: float64, 'DebtRatio': cut\n",
       " (-inf, 0.0171]    1.478842\n",
       " (0.0171, 0.4]     0.034529\n",
       " (0.4, 1.501]     -0.379100\n",
       " (1.501, inf]      0.171108\n",
       " dtype: float64, 'MonthlyIncome': cut\n",
       " (-inf, 0.11]      1.558621\n",
       " (0.11, 6833.0]   -0.215822\n",
       " (6833.0, inf]     0.333867\n",
       " dtype: float64, 'NumberOfDependents': cut\n",
       " (-inf, 0.0]    0.564851\n",
       " (0.0, 1.0]    -0.563415\n",
       " (1.0, 2.0]    -0.478403\n",
       " (2.0, 3.0]    -0.501332\n",
       " (3.0, inf]    -0.387643\n",
       " dtype: float64}"
      ]
     },
     "execution_count": 179,
     "metadata": {},
     "output_type": "execute_result"
    }
   ],
   "source": [
    "def get_woe(df,col,y,bins):\n",
    "    df = df[[col,y]].copy()\n",
    "    df['cut'] = pd.cut(df[col],bins)\n",
    "    bins_df = df.groupby('cut')[y].value_counts().unstack()\n",
    "    woe = bins_df['woe'] = np.log((bins_df[0]/bins_df[0].sum())/(bins_df[1]/bins_df[1].sum()))\n",
    "    return woe\n",
    "#将所有的特征的woe储存在字典当中。\n",
    "woeall = {}\n",
    "for col in bins_of_col:\n",
    "    woeall[col] = get_woe(model_data,col,\"SeriousDlqin2yrs\",bins_of_col[col])\n",
    "woeall\n"
   ]
  },
  {
   "cell_type": "code",
   "execution_count": 180,
   "metadata": {},
   "outputs": [
    {
     "data": {
      "text/html": [
       "<div>\n",
       "<style scoped>\n",
       "    .dataframe tbody tr th:only-of-type {\n",
       "        vertical-align: middle;\n",
       "    }\n",
       "\n",
       "    .dataframe tbody tr th {\n",
       "        vertical-align: top;\n",
       "    }\n",
       "\n",
       "    .dataframe thead th {\n",
       "        text-align: right;\n",
       "    }\n",
       "</style>\n",
       "<table border=\"1\" class=\"dataframe\">\n",
       "  <thead>\n",
       "    <tr style=\"text-align: right;\">\n",
       "      <th></th>\n",
       "      <th>age</th>\n",
       "    </tr>\n",
       "  </thead>\n",
       "  <tbody>\n",
       "    <tr>\n",
       "      <th>0</th>\n",
       "      <td>0.162148</td>\n",
       "    </tr>\n",
       "    <tr>\n",
       "      <th>1</th>\n",
       "      <td>0.997190</td>\n",
       "    </tr>\n",
       "    <tr>\n",
       "      <th>2</th>\n",
       "      <td>1.792793</td>\n",
       "    </tr>\n",
       "    <tr>\n",
       "      <th>3</th>\n",
       "      <td>-0.378279</td>\n",
       "    </tr>\n",
       "    <tr>\n",
       "      <th>4</th>\n",
       "      <td>0.997190</td>\n",
       "    </tr>\n",
       "  </tbody>\n",
       "</table>\n",
       "</div>"
      ],
      "text/plain": [
       "        age\n",
       "0  0.162148\n",
       "1  0.997190\n",
       "2  1.792793\n",
       "3 -0.378279\n",
       "4  0.997190"
      ]
     },
     "execution_count": 180,
     "metadata": {},
     "output_type": "execute_result"
    }
   ],
   "source": [
    "#不希望覆盖掉原本的数据，创建一个新的DataFrame，索引和原始数据model_data一模一样\n",
    "model_woe = pd.DataFrame(index=model_data.index)\n",
    "#将元数据分箱后，按照箱子的结果吧woe结构用针对SEries的apply函数映射到数据中\n",
    "model_woe['age'] = pd.cut(model_data['age'],bins_of_col['age']).apply(woeall['age'])\n",
    "model_woe.head()"
   ]
  },
  {
   "cell_type": "code",
   "execution_count": 181,
   "metadata": {
    "scrolled": true
   },
   "outputs": [
    {
     "data": {
      "text/html": [
       "<div>\n",
       "<style scoped>\n",
       "    .dataframe tbody tr th:only-of-type {\n",
       "        vertical-align: middle;\n",
       "    }\n",
       "\n",
       "    .dataframe tbody tr th {\n",
       "        vertical-align: top;\n",
       "    }\n",
       "\n",
       "    .dataframe thead th {\n",
       "        text-align: right;\n",
       "    }\n",
       "</style>\n",
       "<table border=\"1\" class=\"dataframe\">\n",
       "  <thead>\n",
       "    <tr style=\"text-align: right;\">\n",
       "      <th></th>\n",
       "      <th>age</th>\n",
       "      <th>RevolvingUtilizationOfUnsecuredLines</th>\n",
       "      <th>DebtRatio</th>\n",
       "      <th>MonthlyIncome</th>\n",
       "      <th>NumberOfDependents</th>\n",
       "      <th>SeriousDlqin2yrs</th>\n",
       "    </tr>\n",
       "  </thead>\n",
       "  <tbody>\n",
       "    <tr>\n",
       "      <th>0</th>\n",
       "      <td>0.162148</td>\n",
       "      <td>1.269681</td>\n",
       "      <td>0.171108</td>\n",
       "      <td>-0.215822</td>\n",
       "      <td>0.564851</td>\n",
       "      <td>1</td>\n",
       "    </tr>\n",
       "    <tr>\n",
       "      <th>1</th>\n",
       "      <td>0.997190</td>\n",
       "      <td>1.269681</td>\n",
       "      <td>0.034529</td>\n",
       "      <td>-0.215822</td>\n",
       "      <td>-0.478403</td>\n",
       "      <td>1</td>\n",
       "    </tr>\n",
       "    <tr>\n",
       "      <th>2</th>\n",
       "      <td>1.792793</td>\n",
       "      <td>-0.640125</td>\n",
       "      <td>0.034529</td>\n",
       "      <td>-0.215822</td>\n",
       "      <td>-0.563415</td>\n",
       "      <td>0</td>\n",
       "    </tr>\n",
       "    <tr>\n",
       "      <th>3</th>\n",
       "      <td>-0.378279</td>\n",
       "      <td>-0.640125</td>\n",
       "      <td>0.034529</td>\n",
       "      <td>-0.215822</td>\n",
       "      <td>0.564851</td>\n",
       "      <td>0</td>\n",
       "    </tr>\n",
       "    <tr>\n",
       "      <th>4</th>\n",
       "      <td>0.997190</td>\n",
       "      <td>1.269681</td>\n",
       "      <td>0.034529</td>\n",
       "      <td>0.333867</td>\n",
       "      <td>0.564851</td>\n",
       "      <td>0</td>\n",
       "    </tr>\n",
       "  </tbody>\n",
       "</table>\n",
       "</div>"
      ],
      "text/plain": [
       "        age RevolvingUtilizationOfUnsecuredLines DebtRatio MonthlyIncome  \\\n",
       "0  0.162148                             1.269681  0.171108     -0.215822   \n",
       "1  0.997190                             1.269681  0.034529     -0.215822   \n",
       "2  1.792793                            -0.640125  0.034529     -0.215822   \n",
       "3 -0.378279                            -0.640125  0.034529     -0.215822   \n",
       "4  0.997190                             1.269681  0.034529      0.333867   \n",
       "\n",
       "  NumberOfDependents  SeriousDlqin2yrs  \n",
       "0           0.564851                 1  \n",
       "1          -0.478403                 1  \n",
       "2          -0.563415                 0  \n",
       "3           0.564851                 0  \n",
       "4           0.564851                 0  "
      ]
     },
     "execution_count": 181,
     "metadata": {},
     "output_type": "execute_result"
    }
   ],
   "source": [
    "#对所有的特征操作可以写成\n",
    "for col in bins_of_col:\n",
    "    model_woe[col] = pd.cut(model_data[col],bins_of_col[col]).apply(woeall[col])\n",
    "#添加标签\n",
    "model_woe[\"SeriousDlqin2yrs\"] = model_data[\"SeriousDlqin2yrs\"]\n",
    "model_woe.head()"
   ]
  },
  {
   "cell_type": "markdown",
   "metadata": {},
   "source": [
    "此即为我们的建模数据"
   ]
  },
  {
   "cell_type": "markdown",
   "metadata": {},
   "source": [
    "终于弄完了我们的训练集，接下来我们要处理测试集，在已经有分箱的情况下，测试集的处理就非常简单了，我们只需要将已经计算好的WOE映射到测试集中去就可以了\n",
    "\n"
   ]
  },
  {
   "cell_type": "code",
   "execution_count": 182,
   "metadata": {},
   "outputs": [],
   "source": [
    "vali_data = pd.read_csv(\"vali_data.csv\")\n",
    "vali_woe = pd.DataFrame(index=vali_data.index)\n",
    "\n",
    "for col in bins_of_col:\n",
    "    vali_woe[col] = pd.cut(vali_data[col],bins_of_col[col]).map(woeall[col])\n",
    "\n",
    "vali_woe[\"SeriousDlqin2yrs\"] = vali_data[\"SeriousDlqin2yrs\"]"
   ]
  },
  {
   "cell_type": "code",
   "execution_count": 183,
   "metadata": {},
   "outputs": [
    {
     "data": {
      "text/html": [
       "<div>\n",
       "<style scoped>\n",
       "    .dataframe tbody tr th:only-of-type {\n",
       "        vertical-align: middle;\n",
       "    }\n",
       "\n",
       "    .dataframe tbody tr th {\n",
       "        vertical-align: top;\n",
       "    }\n",
       "\n",
       "    .dataframe thead th {\n",
       "        text-align: right;\n",
       "    }\n",
       "</style>\n",
       "<table border=\"1\" class=\"dataframe\">\n",
       "  <thead>\n",
       "    <tr style=\"text-align: right;\">\n",
       "      <th></th>\n",
       "      <th>RevolvingUtilizationOfUnsecuredLines</th>\n",
       "      <th>age</th>\n",
       "      <th>DebtRatio</th>\n",
       "      <th>MonthlyIncome</th>\n",
       "      <th>NumberOfDependents</th>\n",
       "      <th>SeriousDlqin2yrs</th>\n",
       "    </tr>\n",
       "  </thead>\n",
       "  <tbody>\n",
       "    <tr>\n",
       "      <th>0</th>\n",
       "      <td>1.269681</td>\n",
       "      <td>-0.378279</td>\n",
       "      <td>0.034529</td>\n",
       "      <td>0.333867</td>\n",
       "      <td>0.564851</td>\n",
       "      <td>0</td>\n",
       "    </tr>\n",
       "    <tr>\n",
       "      <th>1</th>\n",
       "      <td>1.269681</td>\n",
       "      <td>-0.378279</td>\n",
       "      <td>0.171108</td>\n",
       "      <td>1.558621</td>\n",
       "      <td>-0.563415</td>\n",
       "      <td>0</td>\n",
       "    </tr>\n",
       "    <tr>\n",
       "      <th>2</th>\n",
       "      <td>-0.640125</td>\n",
       "      <td>-0.378279</td>\n",
       "      <td>0.034529</td>\n",
       "      <td>0.333867</td>\n",
       "      <td>-0.501332</td>\n",
       "      <td>1</td>\n",
       "    </tr>\n",
       "    <tr>\n",
       "      <th>3</th>\n",
       "      <td>1.269681</td>\n",
       "      <td>0.162148</td>\n",
       "      <td>0.171108</td>\n",
       "      <td>1.558621</td>\n",
       "      <td>0.564851</td>\n",
       "      <td>0</td>\n",
       "    </tr>\n",
       "    <tr>\n",
       "      <th>4</th>\n",
       "      <td>1.269681</td>\n",
       "      <td>0.162148</td>\n",
       "      <td>-0.379100</td>\n",
       "      <td>-0.215822</td>\n",
       "      <td>-0.563415</td>\n",
       "      <td>1</td>\n",
       "    </tr>\n",
       "  </tbody>\n",
       "</table>\n",
       "</div>"
      ],
      "text/plain": [
       "   RevolvingUtilizationOfUnsecuredLines       age  DebtRatio  MonthlyIncome  \\\n",
       "0                              1.269681 -0.378279   0.034529       0.333867   \n",
       "1                              1.269681 -0.378279   0.171108       1.558621   \n",
       "2                             -0.640125 -0.378279   0.034529       0.333867   \n",
       "3                              1.269681  0.162148   0.171108       1.558621   \n",
       "4                              1.269681  0.162148  -0.379100      -0.215822   \n",
       "\n",
       "   NumberOfDependents  SeriousDlqin2yrs  \n",
       "0            0.564851                 0  \n",
       "1           -0.563415                 0  \n",
       "2           -0.501332                 1  \n",
       "3            0.564851                 0  \n",
       "4           -0.563415                 1  "
      ]
     },
     "execution_count": 183,
     "metadata": {},
     "output_type": "execute_result"
    }
   ],
   "source": [
    "vali_woe.head()"
   ]
  },
  {
   "cell_type": "markdown",
   "metadata": {},
   "source": [
    "# 4. 建立模型与模型验证"
   ]
  },
  {
   "cell_type": "code",
   "execution_count": 184,
   "metadata": {},
   "outputs": [
    {
     "data": {
      "text/plain": [
       "0.7557426251659114"
      ]
     },
     "execution_count": 184,
     "metadata": {},
     "output_type": "execute_result"
    }
   ],
   "source": [
    "#尝试使用命名切片\n",
    "WithOutLastOne = slice(-1)\n",
    "OnlyLastOne = slice(-1,None)\n",
    "\n",
    "\n",
    "\n",
    "vali_X = vali_woe.iloc[:,:-1]\n",
    "vali_y = vali_woe.iloc[:,-1]\n",
    "X = model_woe.iloc[:,:-1]\n",
    "y = model_woe.iloc[:,-1]\n",
    "#交换age列，是训练数据与测试数据一一对应\n",
    "mid = vali_X['age']\n",
    "vali_X.drop(labels = \"age\",axis=1,inplace=True)\n",
    "vali_X.insert(0,\"age\",mid)\n",
    "\n",
    "from sklearn.linear_model import LogisticRegression as LR\n",
    "\n",
    "lr = LR(penalty=\"l2\").fit(X,y)\n",
    "lr.score(vali_X,vali_y)"
   ]
  },
  {
   "cell_type": "code",
   "execution_count": 185,
   "metadata": {},
   "outputs": [
    {
     "data": {
      "text/html": [
       "<div>\n",
       "<style scoped>\n",
       "    .dataframe tbody tr th:only-of-type {\n",
       "        vertical-align: middle;\n",
       "    }\n",
       "\n",
       "    .dataframe tbody tr th {\n",
       "        vertical-align: top;\n",
       "    }\n",
       "\n",
       "    .dataframe thead th {\n",
       "        text-align: right;\n",
       "    }\n",
       "</style>\n",
       "<table border=\"1\" class=\"dataframe\">\n",
       "  <thead>\n",
       "    <tr style=\"text-align: right;\">\n",
       "      <th></th>\n",
       "      <th>age</th>\n",
       "      <th>RevolvingUtilizationOfUnsecuredLines</th>\n",
       "      <th>DebtRatio</th>\n",
       "      <th>MonthlyIncome</th>\n",
       "      <th>NumberOfDependents</th>\n",
       "    </tr>\n",
       "  </thead>\n",
       "  <tbody>\n",
       "    <tr>\n",
       "      <th>0</th>\n",
       "      <td>0.162148</td>\n",
       "      <td>1.269681</td>\n",
       "      <td>0.171108</td>\n",
       "      <td>-0.215822</td>\n",
       "      <td>0.564851</td>\n",
       "    </tr>\n",
       "    <tr>\n",
       "      <th>1</th>\n",
       "      <td>0.997190</td>\n",
       "      <td>1.269681</td>\n",
       "      <td>0.034529</td>\n",
       "      <td>-0.215822</td>\n",
       "      <td>-0.478403</td>\n",
       "    </tr>\n",
       "    <tr>\n",
       "      <th>2</th>\n",
       "      <td>1.792793</td>\n",
       "      <td>-0.640125</td>\n",
       "      <td>0.034529</td>\n",
       "      <td>-0.215822</td>\n",
       "      <td>-0.563415</td>\n",
       "    </tr>\n",
       "    <tr>\n",
       "      <th>3</th>\n",
       "      <td>-0.378279</td>\n",
       "      <td>-0.640125</td>\n",
       "      <td>0.034529</td>\n",
       "      <td>-0.215822</td>\n",
       "      <td>0.564851</td>\n",
       "    </tr>\n",
       "    <tr>\n",
       "      <th>4</th>\n",
       "      <td>0.997190</td>\n",
       "      <td>1.269681</td>\n",
       "      <td>0.034529</td>\n",
       "      <td>0.333867</td>\n",
       "      <td>0.564851</td>\n",
       "    </tr>\n",
       "  </tbody>\n",
       "</table>\n",
       "</div>"
      ],
      "text/plain": [
       "        age RevolvingUtilizationOfUnsecuredLines DebtRatio MonthlyIncome  \\\n",
       "0  0.162148                             1.269681  0.171108     -0.215822   \n",
       "1  0.997190                             1.269681  0.034529     -0.215822   \n",
       "2  1.792793                            -0.640125  0.034529     -0.215822   \n",
       "3 -0.378279                            -0.640125  0.034529     -0.215822   \n",
       "4  0.997190                             1.269681  0.034529      0.333867   \n",
       "\n",
       "  NumberOfDependents  \n",
       "0           0.564851  \n",
       "1          -0.478403  \n",
       "2          -0.563415  \n",
       "3           0.564851  \n",
       "4           0.564851  "
      ]
     },
     "execution_count": 185,
     "metadata": {},
     "output_type": "execute_result"
    }
   ],
   "source": [
    "X.head()"
   ]
  },
  {
   "cell_type": "code",
   "execution_count": 188,
   "metadata": {},
   "outputs": [
    {
     "data": {
      "text/html": [
       "<div>\n",
       "<style scoped>\n",
       "    .dataframe tbody tr th:only-of-type {\n",
       "        vertical-align: middle;\n",
       "    }\n",
       "\n",
       "    .dataframe tbody tr th {\n",
       "        vertical-align: top;\n",
       "    }\n",
       "\n",
       "    .dataframe thead th {\n",
       "        text-align: right;\n",
       "    }\n",
       "</style>\n",
       "<table border=\"1\" class=\"dataframe\">\n",
       "  <thead>\n",
       "    <tr style=\"text-align: right;\">\n",
       "      <th></th>\n",
       "      <th>age</th>\n",
       "      <th>RevolvingUtilizationOfUnsecuredLines</th>\n",
       "      <th>DebtRatio</th>\n",
       "      <th>MonthlyIncome</th>\n",
       "      <th>NumberOfDependents</th>\n",
       "    </tr>\n",
       "  </thead>\n",
       "  <tbody>\n",
       "    <tr>\n",
       "      <th>0</th>\n",
       "      <td>-0.378279</td>\n",
       "      <td>1.269681</td>\n",
       "      <td>0.034529</td>\n",
       "      <td>0.333867</td>\n",
       "      <td>0.564851</td>\n",
       "    </tr>\n",
       "    <tr>\n",
       "      <th>1</th>\n",
       "      <td>-0.378279</td>\n",
       "      <td>1.269681</td>\n",
       "      <td>0.171108</td>\n",
       "      <td>1.558621</td>\n",
       "      <td>-0.563415</td>\n",
       "    </tr>\n",
       "    <tr>\n",
       "      <th>2</th>\n",
       "      <td>-0.378279</td>\n",
       "      <td>-0.640125</td>\n",
       "      <td>0.034529</td>\n",
       "      <td>0.333867</td>\n",
       "      <td>-0.501332</td>\n",
       "    </tr>\n",
       "    <tr>\n",
       "      <th>3</th>\n",
       "      <td>0.162148</td>\n",
       "      <td>1.269681</td>\n",
       "      <td>0.171108</td>\n",
       "      <td>1.558621</td>\n",
       "      <td>0.564851</td>\n",
       "    </tr>\n",
       "    <tr>\n",
       "      <th>4</th>\n",
       "      <td>0.162148</td>\n",
       "      <td>1.269681</td>\n",
       "      <td>-0.379100</td>\n",
       "      <td>-0.215822</td>\n",
       "      <td>-0.563415</td>\n",
       "    </tr>\n",
       "  </tbody>\n",
       "</table>\n",
       "</div>"
      ],
      "text/plain": [
       "        age  RevolvingUtilizationOfUnsecuredLines  DebtRatio  MonthlyIncome  \\\n",
       "0 -0.378279                              1.269681   0.034529       0.333867   \n",
       "1 -0.378279                              1.269681   0.171108       1.558621   \n",
       "2 -0.378279                             -0.640125   0.034529       0.333867   \n",
       "3  0.162148                              1.269681   0.171108       1.558621   \n",
       "4  0.162148                              1.269681  -0.379100      -0.215822   \n",
       "\n",
       "   NumberOfDependents  \n",
       "0            0.564851  \n",
       "1           -0.563415  \n",
       "2           -0.501332  \n",
       "3            0.564851  \n",
       "4           -0.563415  "
      ]
     },
     "execution_count": 188,
     "metadata": {},
     "output_type": "execute_result"
    }
   ],
   "source": [
    "vali_X.head()"
   ]
  },
  {
   "cell_type": "code",
   "execution_count": 189,
   "metadata": {},
   "outputs": [
    {
     "data": {
      "text/html": [
       "<div>\n",
       "<style scoped>\n",
       "    .dataframe tbody tr th:only-of-type {\n",
       "        vertical-align: middle;\n",
       "    }\n",
       "\n",
       "    .dataframe tbody tr th {\n",
       "        vertical-align: top;\n",
       "    }\n",
       "\n",
       "    .dataframe thead th {\n",
       "        text-align: right;\n",
       "    }\n",
       "</style>\n",
       "<table border=\"1\" class=\"dataframe\">\n",
       "  <thead>\n",
       "    <tr style=\"text-align: right;\">\n",
       "      <th></th>\n",
       "      <th>age</th>\n",
       "      <th>RevolvingUtilizationOfUnsecuredLines</th>\n",
       "      <th>DebtRatio</th>\n",
       "      <th>MonthlyIncome</th>\n",
       "      <th>NumberOfDependents</th>\n",
       "    </tr>\n",
       "  </thead>\n",
       "  <tbody>\n",
       "    <tr>\n",
       "      <th>0</th>\n",
       "      <td>0.162148</td>\n",
       "      <td>1.269681</td>\n",
       "      <td>0.171108</td>\n",
       "      <td>-0.215822</td>\n",
       "      <td>0.564851</td>\n",
       "    </tr>\n",
       "    <tr>\n",
       "      <th>1</th>\n",
       "      <td>0.997190</td>\n",
       "      <td>1.269681</td>\n",
       "      <td>0.034529</td>\n",
       "      <td>-0.215822</td>\n",
       "      <td>-0.478403</td>\n",
       "    </tr>\n",
       "    <tr>\n",
       "      <th>2</th>\n",
       "      <td>1.792793</td>\n",
       "      <td>-0.640125</td>\n",
       "      <td>0.034529</td>\n",
       "      <td>-0.215822</td>\n",
       "      <td>-0.563415</td>\n",
       "    </tr>\n",
       "    <tr>\n",
       "      <th>3</th>\n",
       "      <td>-0.378279</td>\n",
       "      <td>-0.640125</td>\n",
       "      <td>0.034529</td>\n",
       "      <td>-0.215822</td>\n",
       "      <td>0.564851</td>\n",
       "    </tr>\n",
       "    <tr>\n",
       "      <th>4</th>\n",
       "      <td>0.997190</td>\n",
       "      <td>1.269681</td>\n",
       "      <td>0.034529</td>\n",
       "      <td>0.333867</td>\n",
       "      <td>0.564851</td>\n",
       "    </tr>\n",
       "  </tbody>\n",
       "</table>\n",
       "</div>"
      ],
      "text/plain": [
       "        age RevolvingUtilizationOfUnsecuredLines DebtRatio MonthlyIncome  \\\n",
       "0  0.162148                             1.269681  0.171108     -0.215822   \n",
       "1  0.997190                             1.269681  0.034529     -0.215822   \n",
       "2  1.792793                            -0.640125  0.034529     -0.215822   \n",
       "3 -0.378279                            -0.640125  0.034529     -0.215822   \n",
       "4  0.997190                             1.269681  0.034529      0.333867   \n",
       "\n",
       "  NumberOfDependents  \n",
       "0           0.564851  \n",
       "1          -0.478403  \n",
       "2          -0.563415  \n",
       "3           0.564851  \n",
       "4           0.564851  "
      ]
     },
     "execution_count": 189,
     "metadata": {},
     "output_type": "execute_result"
    }
   ],
   "source": [
    "X.head()"
   ]
  },
  {
   "cell_type": "code",
   "execution_count": 190,
   "metadata": {},
   "outputs": [
    {
     "data": {
      "image/png": "[encoded data removed]",
      "text/plain": [
       "<Figure size 432x288 with 1 Axes>"
      ]
     },
     "metadata": {},
     "output_type": "display_data"
    },
    {
     "name": "stderr",
     "output_type": "stream",
     "text": [
      "C:\\ProgramData\\Anaconda3\\lib\\site-packages\\sklearn\\svm\\_base.py:977: ConvergenceWarning: Liblinear failed to converge, increase the number of iterations.\n",
      "  \"the number of iterations.\", ConvergenceWarning)\n",
      "C:\\ProgramData\\Anaconda3\\lib\\site-packages\\sklearn\\svm\\_base.py:977: ConvergenceWarning: Liblinear failed to converge, increase the number of iterations.\n",
      "  \"the number of iterations.\", ConvergenceWarning)\n",
      "C:\\ProgramData\\Anaconda3\\lib\\site-packages\\sklearn\\svm\\_base.py:977: ConvergenceWarning: Liblinear failed to converge, increase the number of iterations.\n",
      "  \"the number of iterations.\", ConvergenceWarning)\n",
      "C:\\ProgramData\\Anaconda3\\lib\\site-packages\\sklearn\\svm\\_base.py:977: ConvergenceWarning: Liblinear failed to converge, increase the number of iterations.\n",
      "  \"the number of iterations.\", ConvergenceWarning)\n"
     ]
    },
    {
     "data": {
      "image/png": "[encoded data removed]",
      "text/plain": [
       "<Figure size 432x288 with 1 Axes>"
      ]
     },
     "metadata": {},
     "output_type": "display_data"
    }
   ],
   "source": [
    "c_1 = np.linspace(0.01,1,20)\n",
    "c_2 = np.linspace(0.01,0.2,20)\n",
    "\n",
    "score = []\n",
    "for i in c_2: \n",
    "    lr = LR(solver='liblinear',C=i).fit(X,y)\n",
    "    score.append(lr.score(vali_X,vali_y))\n",
    "plt.figure()\n",
    "plt.plot(c_1,score)\n",
    "plt.show()\n",
    "\n",
    "lr.n_iter_\n",
    "\n",
    "score = []\n",
    "for i in [1,2,3,4,5,6]: \n",
    "    lr = LR(solver='liblinear',C=0.025,max_iter=i).fit(X,y)\n",
    "    score.append(lr.score(vali_X,vali_y))\n",
    "plt.figure()\n",
    "plt.plot([1,2,3,4,5,6],score)\n",
    "plt.show()"
   ]
  },
  {
   "cell_type": "code",
   "execution_count": 191,
   "metadata": {},
   "outputs": [
    {
     "data": {
      "text/plain": [
       "<matplotlib.axes._subplots.AxesSubplot at 0x1d00cbe9a20>"
      ]
     },
     "execution_count": 191,
     "metadata": {},
     "output_type": "execute_result"
    },
    {
     "data": {
      "image/png": "[encoded data removed]",
      "text/plain": [
       "<Figure size 432x432 with 1 Axes>"
      ]
     },
     "metadata": {},
     "output_type": "display_data"
    }
   ],
   "source": [
    "import scikitplot as skplt\n",
    "\n",
    "vali_proba_df = pd.DataFrame(lr.predict_proba(vali_X))\n",
    "\n",
    "skplt.metrics.plot_roc(vali_y, vali_proba_df,\n",
    "                        plot_micro=False,figsize=(6,6),\n",
    "                        plot_macro=False)"
   ]
  },
  {
   "cell_type": "markdown",
   "metadata": {},
   "source": [
    "现在的问题是这样子的,我电脑上有2个python，然后还有2个虚拟环境，我现在pip是在往annoconda的里面装，但是我在用房的环境并没有装，还得手动去复制过来，佛了\n"
   ]
  },
  {
   "cell_type": "markdown",
   "metadata": {},
   "source": [
    "# 5. 评分卡制作"
   ]
  },
  {
   "cell_type": "code",
   "execution_count": 192,
   "metadata": {},
   "outputs": [],
   "source": [
    "\"\"\"600 =x1 - x2*np.log(1/60)\n",
    "620 = x1 - x2*np.log(1/30)\n",
    "x1,x2\"\"\"\n",
    "#求解\n",
    "x = np.array([[1,-np.log(1/60)],[1,-np.log(1/30)]])\n",
    "b = np.array([600,620])\n",
    "A,B = np.linalg.solve(x,b)"
   ]
  },
  {
   "cell_type": "markdown",
   "metadata": {},
   "source": [
    "有了x1和x2，分数就很容易得到了。其中不受评分卡中各特征影响的基础分，就是将截距作为 log(odds)带入公式进行计算，而其他各个特征各个分档的分数，也是将系数带入进行计算："
   ]
  },
  {
   "cell_type": "code",
   "execution_count": 194,
   "metadata": {},
   "outputs": [
    {
     "data": {
      "text/plain": [
       "array([717.76965239])"
      ]
     },
     "execution_count": 194,
     "metadata": {},
     "output_type": "execute_result"
    }
   ],
   "source": [
    "base_score = A - B*lr.intercept_\n",
    "base_score"
   ]
  },
  {
   "cell_type": "code",
   "execution_count": 195,
   "metadata": {},
   "outputs": [
    {
     "data": {
      "text/plain": [
       "cut\n",
       "(-inf, 52.0]     9.758992\n",
       "(52.0, 61.0]    -4.183144\n",
       "(61.0, 74.0]   -25.725876\n",
       "(74.0, inf]    -46.251138\n",
       "dtype: float64"
      ]
     },
     "execution_count": 195,
     "metadata": {},
     "output_type": "execute_result"
    }
   ],
   "source": [
    "score_age = woeall['age'] * (-B * lr.coef_[0][1])\n",
    "score_age"
   ]
  },
  {
   "cell_type": "markdown",
   "metadata": {},
   "source": [
    "我们可以通过循环，将所有特征的评分卡内容全部一次性写往一个本地文件ScoreData.csv："
   ]
  },
  {
   "cell_type": "code",
   "execution_count": 196,
   "metadata": {},
   "outputs": [],
   "source": [
    "file = \"./ScoreData_less.csv \"\n",
    "\n",
    "with open(file,\"w\") as fdata:\n",
    "    fdata.write(\"base_score,{}\\n\".format(base_score))\n",
    "for i,col in enumerate(X.columns):\n",
    "    score = woeall[col] * (-B*lr.coef_[0][i])\n",
    "    score.name = \"Score\"\n",
    "    score.index.name = col\n",
    "    score.to_csv(file,header=True,mode=\"w\")"
   ]
  },
  {
   "cell_type": "markdown",
   "metadata": {},
   "source": [
    "# 6.模型的再分析"
   ]
  },
  {
   "cell_type": "code",
   "execution_count": 197,
   "metadata": {},
   "outputs": [
    {
     "data": {
      "text/html": [
       "<div>\n",
       "<style scoped>\n",
       "    .dataframe tbody tr th:only-of-type {\n",
       "        vertical-align: middle;\n",
       "    }\n",
       "\n",
       "    .dataframe tbody tr th {\n",
       "        vertical-align: top;\n",
       "    }\n",
       "\n",
       "    .dataframe thead th {\n",
       "        text-align: right;\n",
       "    }\n",
       "</style>\n",
       "<table border=\"1\" class=\"dataframe\">\n",
       "  <thead>\n",
       "    <tr style=\"text-align: right;\">\n",
       "      <th></th>\n",
       "      <th>age</th>\n",
       "      <th>RevolvingUtilizationOfUnsecuredLines</th>\n",
       "      <th>DebtRatio</th>\n",
       "      <th>MonthlyIncome</th>\n",
       "      <th>NumberOfDependents</th>\n",
       "    </tr>\n",
       "  </thead>\n",
       "  <tbody>\n",
       "    <tr>\n",
       "      <th>0</th>\n",
       "      <td>0.162148</td>\n",
       "      <td>1.269681</td>\n",
       "      <td>0.171108</td>\n",
       "      <td>-0.215822</td>\n",
       "      <td>0.564851</td>\n",
       "    </tr>\n",
       "    <tr>\n",
       "      <th>1</th>\n",
       "      <td>0.997190</td>\n",
       "      <td>1.269681</td>\n",
       "      <td>0.034529</td>\n",
       "      <td>-0.215822</td>\n",
       "      <td>-0.478403</td>\n",
       "    </tr>\n",
       "    <tr>\n",
       "      <th>2</th>\n",
       "      <td>1.792793</td>\n",
       "      <td>-0.640125</td>\n",
       "      <td>0.034529</td>\n",
       "      <td>-0.215822</td>\n",
       "      <td>-0.563415</td>\n",
       "    </tr>\n",
       "    <tr>\n",
       "      <th>3</th>\n",
       "      <td>-0.378279</td>\n",
       "      <td>-0.640125</td>\n",
       "      <td>0.034529</td>\n",
       "      <td>-0.215822</td>\n",
       "      <td>0.564851</td>\n",
       "    </tr>\n",
       "    <tr>\n",
       "      <th>4</th>\n",
       "      <td>0.997190</td>\n",
       "      <td>1.269681</td>\n",
       "      <td>0.034529</td>\n",
       "      <td>0.333867</td>\n",
       "      <td>0.564851</td>\n",
       "    </tr>\n",
       "    <tr>\n",
       "      <th>5</th>\n",
       "      <td>-0.378279</td>\n",
       "      <td>1.269681</td>\n",
       "      <td>-0.379100</td>\n",
       "      <td>-0.215822</td>\n",
       "      <td>-0.478403</td>\n",
       "    </tr>\n",
       "    <tr>\n",
       "      <th>6</th>\n",
       "      <td>0.997190</td>\n",
       "      <td>-0.640125</td>\n",
       "      <td>-0.379100</td>\n",
       "      <td>-0.215822</td>\n",
       "      <td>0.564851</td>\n",
       "    </tr>\n",
       "    <tr>\n",
       "      <th>7</th>\n",
       "      <td>-0.378279</td>\n",
       "      <td>1.269681</td>\n",
       "      <td>-0.379100</td>\n",
       "      <td>0.333867</td>\n",
       "      <td>0.564851</td>\n",
       "    </tr>\n",
       "    <tr>\n",
       "      <th>8</th>\n",
       "      <td>0.162148</td>\n",
       "      <td>1.269681</td>\n",
       "      <td>0.034529</td>\n",
       "      <td>-0.215822</td>\n",
       "      <td>0.564851</td>\n",
       "    </tr>\n",
       "    <tr>\n",
       "      <th>9</th>\n",
       "      <td>1.792793</td>\n",
       "      <td>1.269681</td>\n",
       "      <td>0.171108</td>\n",
       "      <td>-0.215822</td>\n",
       "      <td>0.564851</td>\n",
       "    </tr>\n",
       "    <tr>\n",
       "      <th>10</th>\n",
       "      <td>-0.378279</td>\n",
       "      <td>1.269681</td>\n",
       "      <td>0.171108</td>\n",
       "      <td>1.558621</td>\n",
       "      <td>-0.478403</td>\n",
       "    </tr>\n",
       "    <tr>\n",
       "      <th>11</th>\n",
       "      <td>0.997190</td>\n",
       "      <td>1.269681</td>\n",
       "      <td>0.171108</td>\n",
       "      <td>-0.215822</td>\n",
       "      <td>0.564851</td>\n",
       "    </tr>\n",
       "    <tr>\n",
       "      <th>12</th>\n",
       "      <td>0.162148</td>\n",
       "      <td>1.269681</td>\n",
       "      <td>0.034529</td>\n",
       "      <td>0.333867</td>\n",
       "      <td>0.564851</td>\n",
       "    </tr>\n",
       "    <tr>\n",
       "      <th>13</th>\n",
       "      <td>-0.378279</td>\n",
       "      <td>-0.640125</td>\n",
       "      <td>-0.379100</td>\n",
       "      <td>-0.215822</td>\n",
       "      <td>0.564851</td>\n",
       "    </tr>\n",
       "    <tr>\n",
       "      <th>14</th>\n",
       "      <td>-0.378279</td>\n",
       "      <td>-0.640125</td>\n",
       "      <td>0.171108</td>\n",
       "      <td>-0.215822</td>\n",
       "      <td>0.564851</td>\n",
       "    </tr>\n",
       "  </tbody>\n",
       "</table>\n",
       "</div>"
      ],
      "text/plain": [
       "         age RevolvingUtilizationOfUnsecuredLines DebtRatio MonthlyIncome  \\\n",
       "0   0.162148                             1.269681  0.171108     -0.215822   \n",
       "1   0.997190                             1.269681  0.034529     -0.215822   \n",
       "2   1.792793                            -0.640125  0.034529     -0.215822   \n",
       "3  -0.378279                            -0.640125  0.034529     -0.215822   \n",
       "4   0.997190                             1.269681  0.034529      0.333867   \n",
       "5  -0.378279                             1.269681 -0.379100     -0.215822   \n",
       "6   0.997190                            -0.640125 -0.379100     -0.215822   \n",
       "7  -0.378279                             1.269681 -0.379100      0.333867   \n",
       "8   0.162148                             1.269681  0.034529     -0.215822   \n",
       "9   1.792793                             1.269681  0.171108     -0.215822   \n",
       "10 -0.378279                             1.269681  0.171108      1.558621   \n",
       "11  0.997190                             1.269681  0.171108     -0.215822   \n",
       "12  0.162148                             1.269681  0.034529      0.333867   \n",
       "13 -0.378279                            -0.640125 -0.379100     -0.215822   \n",
       "14 -0.378279                            -0.640125  0.171108     -0.215822   \n",
       "\n",
       "   NumberOfDependents  \n",
       "0            0.564851  \n",
       "1           -0.478403  \n",
       "2           -0.563415  \n",
       "3            0.564851  \n",
       "4            0.564851  \n",
       "5           -0.478403  \n",
       "6            0.564851  \n",
       "7            0.564851  \n",
       "8            0.564851  \n",
       "9            0.564851  \n",
       "10          -0.478403  \n",
       "11           0.564851  \n",
       "12           0.564851  \n",
       "13           0.564851  \n",
       "14           0.564851  "
      ]
     },
     "execution_count": 197,
     "metadata": {},
     "output_type": "execute_result"
    }
   ],
   "source": [
    "X.head(15)"
   ]
  },
  {
   "cell_type": "code",
   "execution_count": 198,
   "metadata": {},
   "outputs": [
    {
     "data": {
      "text/html": [
       "<div>\n",
       "<style scoped>\n",
       "    .dataframe tbody tr th:only-of-type {\n",
       "        vertical-align: middle;\n",
       "    }\n",
       "\n",
       "    .dataframe tbody tr th {\n",
       "        vertical-align: top;\n",
       "    }\n",
       "\n",
       "    .dataframe thead th {\n",
       "        text-align: right;\n",
       "    }\n",
       "</style>\n",
       "<table border=\"1\" class=\"dataframe\">\n",
       "  <thead>\n",
       "    <tr style=\"text-align: right;\">\n",
       "      <th></th>\n",
       "      <th>age</th>\n",
       "      <th>RevolvingUtilizationOfUnsecuredLines</th>\n",
       "      <th>DebtRatio</th>\n",
       "      <th>MonthlyIncome</th>\n",
       "      <th>NumberOfDependents</th>\n",
       "    </tr>\n",
       "  </thead>\n",
       "  <tbody>\n",
       "    <tr>\n",
       "      <th>0</th>\n",
       "      <td>-0.378279</td>\n",
       "      <td>1.269681</td>\n",
       "      <td>0.034529</td>\n",
       "      <td>0.333867</td>\n",
       "      <td>0.564851</td>\n",
       "    </tr>\n",
       "    <tr>\n",
       "      <th>1</th>\n",
       "      <td>-0.378279</td>\n",
       "      <td>1.269681</td>\n",
       "      <td>0.171108</td>\n",
       "      <td>1.558621</td>\n",
       "      <td>-0.563415</td>\n",
       "    </tr>\n",
       "    <tr>\n",
       "      <th>2</th>\n",
       "      <td>-0.378279</td>\n",
       "      <td>-0.640125</td>\n",
       "      <td>0.034529</td>\n",
       "      <td>0.333867</td>\n",
       "      <td>-0.501332</td>\n",
       "    </tr>\n",
       "    <tr>\n",
       "      <th>3</th>\n",
       "      <td>0.162148</td>\n",
       "      <td>1.269681</td>\n",
       "      <td>0.171108</td>\n",
       "      <td>1.558621</td>\n",
       "      <td>0.564851</td>\n",
       "    </tr>\n",
       "    <tr>\n",
       "      <th>4</th>\n",
       "      <td>0.162148</td>\n",
       "      <td>1.269681</td>\n",
       "      <td>-0.379100</td>\n",
       "      <td>-0.215822</td>\n",
       "      <td>-0.563415</td>\n",
       "    </tr>\n",
       "    <tr>\n",
       "      <th>5</th>\n",
       "      <td>0.997190</td>\n",
       "      <td>1.269681</td>\n",
       "      <td>0.034529</td>\n",
       "      <td>0.333867</td>\n",
       "      <td>-0.563415</td>\n",
       "    </tr>\n",
       "    <tr>\n",
       "      <th>6</th>\n",
       "      <td>-0.378279</td>\n",
       "      <td>1.269681</td>\n",
       "      <td>-0.379100</td>\n",
       "      <td>-0.215822</td>\n",
       "      <td>-0.501332</td>\n",
       "    </tr>\n",
       "    <tr>\n",
       "      <th>7</th>\n",
       "      <td>0.997190</td>\n",
       "      <td>1.269681</td>\n",
       "      <td>-0.379100</td>\n",
       "      <td>0.333867</td>\n",
       "      <td>0.564851</td>\n",
       "    </tr>\n",
       "    <tr>\n",
       "      <th>8</th>\n",
       "      <td>-0.378279</td>\n",
       "      <td>-1.388699</td>\n",
       "      <td>0.034529</td>\n",
       "      <td>-0.215822</td>\n",
       "      <td>0.564851</td>\n",
       "    </tr>\n",
       "    <tr>\n",
       "      <th>9</th>\n",
       "      <td>-0.378279</td>\n",
       "      <td>1.269681</td>\n",
       "      <td>0.034529</td>\n",
       "      <td>-0.215822</td>\n",
       "      <td>0.564851</td>\n",
       "    </tr>\n",
       "    <tr>\n",
       "      <th>10</th>\n",
       "      <td>-0.378279</td>\n",
       "      <td>1.269681</td>\n",
       "      <td>0.034529</td>\n",
       "      <td>0.333867</td>\n",
       "      <td>-0.563415</td>\n",
       "    </tr>\n",
       "    <tr>\n",
       "      <th>11</th>\n",
       "      <td>0.162148</td>\n",
       "      <td>1.269681</td>\n",
       "      <td>0.171108</td>\n",
       "      <td>-0.215822</td>\n",
       "      <td>0.564851</td>\n",
       "    </tr>\n",
       "    <tr>\n",
       "      <th>12</th>\n",
       "      <td>-0.378279</td>\n",
       "      <td>1.269681</td>\n",
       "      <td>-0.379100</td>\n",
       "      <td>-0.215822</td>\n",
       "      <td>-0.478403</td>\n",
       "    </tr>\n",
       "    <tr>\n",
       "      <th>13</th>\n",
       "      <td>-0.378279</td>\n",
       "      <td>1.269681</td>\n",
       "      <td>1.478842</td>\n",
       "      <td>-0.215822</td>\n",
       "      <td>0.564851</td>\n",
       "    </tr>\n",
       "    <tr>\n",
       "      <th>14</th>\n",
       "      <td>-0.378279</td>\n",
       "      <td>-1.388699</td>\n",
       "      <td>-0.379100</td>\n",
       "      <td>-0.215822</td>\n",
       "      <td>-0.478403</td>\n",
       "    </tr>\n",
       "  </tbody>\n",
       "</table>\n",
       "</div>"
      ],
      "text/plain": [
       "         age  RevolvingUtilizationOfUnsecuredLines  DebtRatio  MonthlyIncome  \\\n",
       "0  -0.378279                              1.269681   0.034529       0.333867   \n",
       "1  -0.378279                              1.269681   0.171108       1.558621   \n",
       "2  -0.378279                             -0.640125   0.034529       0.333867   \n",
       "3   0.162148                              1.269681   0.171108       1.558621   \n",
       "4   0.162148                              1.269681  -0.379100      -0.215822   \n",
       "5   0.997190                              1.269681   0.034529       0.333867   \n",
       "6  -0.378279                              1.269681  -0.379100      -0.215822   \n",
       "7   0.997190                              1.269681  -0.379100       0.333867   \n",
       "8  -0.378279                             -1.388699   0.034529      -0.215822   \n",
       "9  -0.378279                              1.269681   0.034529      -0.215822   \n",
       "10 -0.378279                              1.269681   0.034529       0.333867   \n",
       "11  0.162148                              1.269681   0.171108      -0.215822   \n",
       "12 -0.378279                              1.269681  -0.379100      -0.215822   \n",
       "13 -0.378279                              1.269681   1.478842      -0.215822   \n",
       "14 -0.378279                             -1.388699  -0.379100      -0.215822   \n",
       "\n",
       "    NumberOfDependents  \n",
       "0             0.564851  \n",
       "1            -0.563415  \n",
       "2            -0.501332  \n",
       "3             0.564851  \n",
       "4            -0.563415  \n",
       "5            -0.563415  \n",
       "6            -0.501332  \n",
       "7             0.564851  \n",
       "8             0.564851  \n",
       "9             0.564851  \n",
       "10           -0.563415  \n",
       "11            0.564851  \n",
       "12           -0.478403  \n",
       "13            0.564851  \n",
       "14           -0.478403  "
      ]
     },
     "execution_count": 198,
     "metadata": {},
     "output_type": "execute_result"
    }
   ],
   "source": [
    "vali_X.head(15)"
   ]
  },
  {
   "cell_type": "code",
   "execution_count": 201,
   "metadata": {},
   "outputs": [
    {
     "data": {
      "text/html": [
       "<div>\n",
       "<style scoped>\n",
       "    .dataframe tbody tr th:only-of-type {\n",
       "        vertical-align: middle;\n",
       "    }\n",
       "\n",
       "    .dataframe tbody tr th {\n",
       "        vertical-align: top;\n",
       "    }\n",
       "\n",
       "    .dataframe thead th {\n",
       "        text-align: right;\n",
       "    }\n",
       "</style>\n",
       "<table border=\"1\" class=\"dataframe\">\n",
       "  <thead>\n",
       "    <tr style=\"text-align: right;\">\n",
       "      <th></th>\n",
       "      <th>x1</th>\n",
       "      <th>x2</th>\n",
       "      <th>x3</th>\n",
       "      <th>x4</th>\n",
       "      <th>x5</th>\n",
       "    </tr>\n",
       "  </thead>\n",
       "  <tbody>\n",
       "    <tr>\n",
       "      <th>0</th>\n",
       "      <td>0.162148</td>\n",
       "      <td>1.269681</td>\n",
       "      <td>0.171108</td>\n",
       "      <td>-0.215822</td>\n",
       "      <td>0.564851</td>\n",
       "    </tr>\n",
       "    <tr>\n",
       "      <th>1</th>\n",
       "      <td>0.997190</td>\n",
       "      <td>1.269681</td>\n",
       "      <td>0.034529</td>\n",
       "      <td>-0.215822</td>\n",
       "      <td>-0.478403</td>\n",
       "    </tr>\n",
       "    <tr>\n",
       "      <th>2</th>\n",
       "      <td>1.792793</td>\n",
       "      <td>-0.640125</td>\n",
       "      <td>0.034529</td>\n",
       "      <td>-0.215822</td>\n",
       "      <td>-0.563415</td>\n",
       "    </tr>\n",
       "    <tr>\n",
       "      <th>3</th>\n",
       "      <td>-0.378279</td>\n",
       "      <td>-0.640125</td>\n",
       "      <td>0.034529</td>\n",
       "      <td>-0.215822</td>\n",
       "      <td>0.564851</td>\n",
       "    </tr>\n",
       "    <tr>\n",
       "      <th>4</th>\n",
       "      <td>0.997190</td>\n",
       "      <td>1.269681</td>\n",
       "      <td>0.034529</td>\n",
       "      <td>0.333867</td>\n",
       "      <td>0.564851</td>\n",
       "    </tr>\n",
       "  </tbody>\n",
       "</table>\n",
       "</div>"
      ],
      "text/plain": [
       "         x1        x2        x3        x4        x5\n",
       "0  0.162148  1.269681  0.171108 -0.215822  0.564851\n",
       "1  0.997190  1.269681  0.034529 -0.215822 -0.478403\n",
       "2  1.792793 -0.640125  0.034529 -0.215822 -0.563415\n",
       "3 -0.378279 -0.640125  0.034529 -0.215822  0.564851\n",
       "4  0.997190  1.269681  0.034529  0.333867  0.564851"
      ]
     },
     "execution_count": 201,
     "metadata": {},
     "output_type": "execute_result"
    }
   ],
   "source": [
    "#相关系数矩阵\n",
    "#重命名列名\n",
    "col = ['x1','x2','x3','x4','x5']\n",
    "len(col)\n",
    "xcp = X.copy()\n",
    "xcp.columns=col\n",
    "xcp.head()\n",
    "\n",
    "\n"
   ]
  },
  {
   "cell_type": "code",
   "execution_count": 202,
   "metadata": {
    "scrolled": true
   },
   "outputs": [
    {
     "data": {
      "text/html": [
       "<div>\n",
       "<style scoped>\n",
       "    .dataframe tbody tr th:only-of-type {\n",
       "        vertical-align: middle;\n",
       "    }\n",
       "\n",
       "    .dataframe tbody tr th {\n",
       "        vertical-align: top;\n",
       "    }\n",
       "\n",
       "    .dataframe thead th {\n",
       "        text-align: right;\n",
       "    }\n",
       "</style>\n",
       "<table border=\"1\" class=\"dataframe\">\n",
       "  <thead>\n",
       "    <tr style=\"text-align: right;\">\n",
       "      <th></th>\n",
       "      <th>age</th>\n",
       "      <th>RevolvingUtilizationOfUnsecuredLines</th>\n",
       "      <th>DebtRatio</th>\n",
       "      <th>MonthlyIncome</th>\n",
       "      <th>NumberOfDependents</th>\n",
       "    </tr>\n",
       "  </thead>\n",
       "  <tbody>\n",
       "    <tr>\n",
       "      <th>age</th>\n",
       "      <td>1.000000</td>\n",
       "      <td>0.299142</td>\n",
       "      <td>0.171718</td>\n",
       "      <td>0.060798</td>\n",
       "      <td>0.290404</td>\n",
       "    </tr>\n",
       "    <tr>\n",
       "      <th>RevolvingUtilizationOfUnsecuredLines</th>\n",
       "      <td>0.299142</td>\n",
       "      <td>1.000000</td>\n",
       "      <td>0.162388</td>\n",
       "      <td>0.160624</td>\n",
       "      <td>0.182562</td>\n",
       "    </tr>\n",
       "    <tr>\n",
       "      <th>DebtRatio</th>\n",
       "      <td>0.171718</td>\n",
       "      <td>0.162388</td>\n",
       "      <td>1.000000</td>\n",
       "      <td>0.064807</td>\n",
       "      <td>0.194602</td>\n",
       "    </tr>\n",
       "    <tr>\n",
       "      <th>MonthlyIncome</th>\n",
       "      <td>0.060798</td>\n",
       "      <td>0.160624</td>\n",
       "      <td>0.064807</td>\n",
       "      <td>1.000000</td>\n",
       "      <td>0.045588</td>\n",
       "    </tr>\n",
       "    <tr>\n",
       "      <th>NumberOfDependents</th>\n",
       "      <td>0.290404</td>\n",
       "      <td>0.182562</td>\n",
       "      <td>0.194602</td>\n",
       "      <td>0.045588</td>\n",
       "      <td>1.000000</td>\n",
       "    </tr>\n",
       "  </tbody>\n",
       "</table>\n",
       "</div>"
      ],
      "text/plain": [
       "                                           age  \\\n",
       "age                                   1.000000   \n",
       "RevolvingUtilizationOfUnsecuredLines  0.299142   \n",
       "DebtRatio                             0.171718   \n",
       "MonthlyIncome                         0.060798   \n",
       "NumberOfDependents                    0.290404   \n",
       "\n",
       "                                      RevolvingUtilizationOfUnsecuredLines  \\\n",
       "age                                                               0.299142   \n",
       "RevolvingUtilizationOfUnsecuredLines                              1.000000   \n",
       "DebtRatio                                                         0.162388   \n",
       "MonthlyIncome                                                     0.160624   \n",
       "NumberOfDependents                                                0.182562   \n",
       "\n",
       "                                      DebtRatio  MonthlyIncome  \\\n",
       "age                                    0.171718       0.060798   \n",
       "RevolvingUtilizationOfUnsecuredLines   0.162388       0.160624   \n",
       "DebtRatio                              1.000000       0.064807   \n",
       "MonthlyIncome                          0.064807       1.000000   \n",
       "NumberOfDependents                     0.194602       0.045588   \n",
       "\n",
       "                                      NumberOfDependents  \n",
       "age                                             0.290404  \n",
       "RevolvingUtilizationOfUnsecuredLines            0.182562  \n",
       "DebtRatio                                       0.194602  \n",
       "MonthlyIncome                                   0.045588  \n",
       "NumberOfDependents                              1.000000  "
      ]
     },
     "execution_count": 202,
     "metadata": {},
     "output_type": "execute_result"
    }
   ],
   "source": [
    "Xcp = X.copy()\n",
    "Xcp = Xcp.apply(lambda x:x.astype(float))\n",
    "\n",
    "Xcp.corr()"
   ]
  },
  {
   "cell_type": "code",
   "execution_count": 203,
   "metadata": {},
   "outputs": [
    {
     "data": {
      "text/plain": [
       "<matplotlib.axes._subplots.AxesSubplot at 0x1d005932438>"
      ]
     },
     "execution_count": 203,
     "metadata": {},
     "output_type": "execute_result"
    },
    {
     "data": {
      "image/png": "[encoded data removed]",
      "text/plain": [
       "<Figure size 432x288 with 2 Axes>"
      ]
     },
     "metadata": {},
     "output_type": "display_data"
    }
   ],
   "source": [
    "import seaborn as sns\n",
    "sns.heatmap(Xcp.corr())"
   ]
  },
  {
   "cell_type": "code",
   "execution_count": 204,
   "metadata": {},
   "outputs": [
    {
     "data": {
      "text/plain": [
       "<matplotlib.axes._subplots.AxesSubplot at 0x1d00c8eff98>"
      ]
     },
     "execution_count": 204,
     "metadata": {},
     "output_type": "execute_result"
    },
    {
     "data": {
      "image/png": "[encoded data removed]",
      "text/plain": [
       "<Figure size 432x288 with 2 Axes>"
      ]
     },
     "metadata": {},
     "output_type": "display_data"
    }
   ],
   "source": [
    "import seaborn as sns\n",
    "sns.heatmap(vali_X.corr())"
   ]
  },
  {
   "cell_type": "code",
   "execution_count": 205,
   "metadata": {},
   "outputs": [
    {
     "name": "stdout",
     "output_type": "stream",
     "text": [
      "Help on method corr in module pandas.core.frame:\n",
      "\n",
      "corr(method='pearson', min_periods=1) method of pandas.core.frame.DataFrame instance\n",
      "    Compute pairwise correlation of columns, excluding NA/null values\n",
      "    \n",
      "    Parameters\n",
      "    ----------\n",
      "    method : {'pearson', 'kendall', 'spearman'}\n",
      "        * pearson : standard correlation coefficient\n",
      "        * kendall : Kendall Tau correlation coefficient\n",
      "        * spearman : Spearman rank correlation\n",
      "    min_periods : int, optional\n",
      "        Minimum number of observations required per pair of columns\n",
      "        to have a valid result. Currently only available for pearson\n",
      "        and spearman correlation\n",
      "    \n",
      "    Returns\n",
      "    -------\n",
      "    y : DataFrame\n",
      "\n"
     ]
    }
   ],
   "source": [
    "help(xcp.corr)"
   ]
  },
  {
   "cell_type": "code",
   "execution_count": null,
   "metadata": {},
   "outputs": [],
   "source": []
  },
  {
   "cell_type": "code",
   "execution_count": null,
   "metadata": {},
   "outputs": [],
   "source": []
  }
 ],
 "metadata": {
  "kernelspec": {
   "display_name": "Python 3",
   "language": "python",
   "name": "python3"
  },
  "language_info": {
   "codemirror_mode": {
    "name": "ipython",
    "version": 3
   },
   "file_extension": ".py",
   "mimetype": "text/x-python",
   "name": "python",
   "nbconvert_exporter": "python",
   "pygments_lexer": "ipython3",
   "version": "3.6.5"
  },
  "pycharm": {
   "stem_cell": {
    "cell_type": "raw",
    "metadata": {
     "collapsed": false
    },
    "source": []
   }
  }
 },
 "nbformat": 4,
 "nbformat_minor": 2
}
