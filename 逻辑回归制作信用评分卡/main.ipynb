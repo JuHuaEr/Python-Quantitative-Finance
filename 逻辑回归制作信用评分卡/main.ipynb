{
 "cells": [
  {
   "cell_type": "markdown",
   "metadata": {},
   "source": [
    "# 1.前言\n",
    "在银行借贷场景中，评分卡是一种以分数形式来衡量一个客户的信用风险大小的手段，它衡量向受信人或需要融资的公司不能如期履行合同中的还本付息责任和让授信人或银行等金融机构造成经济损失的可能性的一种方式。一般来说，评分卡打出的分数越高，客户的信用越好，风险越小。\n",
    "\n",
    "这些”借钱的人“，可能是个人，有可能是有需求的公司和企业。对于企业来说，我们按照融资主体的融资用途，分别使用企业融资模型，现金流融资模型，项目融资模型等模型。而对于个人来说，我们有”四张卡“来评判个人的信用程度：A卡，B卡，C卡和F卡。而众人常说的“评分卡”其实是指A卡，又称为申请者评级模型，主要应用于相关融 资类业务中新用户的主体评级，即判断金融机构是否应该借钱给一个新用户，如果这个人的风险太高，我们可以拒绝贷款。\n",
    "\n",
    "本项目使用的数据集由[kaggle提供](https://link.zhihu.com/?target=https%3A//www.kaggle.com/c/GiveMeSomeCredit/data)\n",
    "[数据集下载地址](https://www.jianshu.com/p/b94036ec839f)"
   ]
  },
  {
   "cell_type": "markdown",
   "metadata": {},
   "source": [
    "SeriousDlqin2yrs：超过90天或更糟的逾期拖欠\n",
    "\n",
    "RevolvingUtilization Of UnsecuredLines：无担保放款的循环利用：除了不动产和像车 贷那样除以信用额度总和的无分期付款债务的信用卡和个人信用额度总额\n",
    "\n",
    "Age：借款人年龄\n",
    "\n",
    "NumberOfTime30-59DaysPastDueNotWorse：30-59天逾期次数\n",
    "\n",
    "DebtRatio：负债比例\n",
    "\n",
    "MonthlyIncome：月收入\n",
    "\n",
    "Number Of OpenCreditLinesAndLoans：贷款数量\n",
    "\n",
    "NumberOfTimes90DaysLate：90天逾期次数：借款者有90天或更高逾期的次数\n",
    "\n",
    "NumberReal Estate Loans Or Lines：不动产贷款或额度数量：抵押贷款和不动产放款包 括房屋净值信贷额度\n",
    "\n",
    "Number Of Time 60-89Days PastDue Not Worse：60-89天逾期次数\n",
    "\n",
    "NumberOfDependents：不包括本人在内的家属数量\n",
    "首先是基于个人借贷的场景，确定“违约”的定义： 根据新的Basel II Capital Accord（巴塞尔二资本协议），一般逾期90天算作违约。"
   ]
  },
  {
   "cell_type": "markdown",
   "metadata": {},
   "source": [
    "# 2.数据预处理"
   ]
  },
  {
   "cell_type": "markdown",
   "metadata": {},
   "source": [
    "## 2.1 读取数据以及导入包"
   ]
  },
  {
   "cell_type": "code",
   "execution_count": 1,
   "metadata": {},
   "outputs": [],
   "source": [
    "import numpy as np\n",
    "import matplotlib.pyplot as plt\n",
    "from sklearn.linear_model import LogisticRegression as LR\n",
    "path = \"E:\\kaggledatabase\\GiveMeSomeCredit\\\\\"\n",
    "import pandas as pd\n",
    "#读取寻训练数据\n",
    "data = pd.read_csv(path+\"cs-training.csv\",index_col=0)#设置某列作为索引"
   ]
  },
  {
   "cell_type": "code",
   "execution_count": 2,
   "metadata": {},
   "outputs": [
    {
     "data": {
      "text/html": [
       "<div>\n",
       "<style scoped>\n",
       "    .dataframe tbody tr th:only-of-type {\n",
       "        vertical-align: middle;\n",
       "    }\n",
       "\n",
       "    .dataframe tbody tr th {\n",
       "        vertical-align: top;\n",
       "    }\n",
       "\n",
       "    .dataframe thead th {\n",
       "        text-align: right;\n",
       "    }\n",
       "</style>\n",
       "<table border=\"1\" class=\"dataframe\">\n",
       "  <thead>\n",
       "    <tr style=\"text-align: right;\">\n",
       "      <th></th>\n",
       "      <th>SeriousDlqin2yrs</th>\n",
       "      <th>RevolvingUtilizationOfUnsecuredLines</th>\n",
       "      <th>age</th>\n",
       "      <th>NumberOfTime30-59DaysPastDueNotWorse</th>\n",
       "      <th>DebtRatio</th>\n",
       "      <th>MonthlyIncome</th>\n",
       "      <th>NumberOfOpenCreditLinesAndLoans</th>\n",
       "      <th>NumberOfTimes90DaysLate</th>\n",
       "      <th>NumberRealEstateLoansOrLines</th>\n",
       "      <th>NumberOfTime60-89DaysPastDueNotWorse</th>\n",
       "      <th>NumberOfDependents</th>\n",
       "    </tr>\n",
       "  </thead>\n",
       "  <tbody>\n",
       "    <tr>\n",
       "      <th>1</th>\n",
       "      <td>1</td>\n",
       "      <td>0.766127</td>\n",
       "      <td>45</td>\n",
       "      <td>2</td>\n",
       "      <td>0.802982</td>\n",
       "      <td>9120.0</td>\n",
       "      <td>13</td>\n",
       "      <td>0</td>\n",
       "      <td>6</td>\n",
       "      <td>0</td>\n",
       "      <td>2.0</td>\n",
       "    </tr>\n",
       "    <tr>\n",
       "      <th>2</th>\n",
       "      <td>0</td>\n",
       "      <td>0.957151</td>\n",
       "      <td>40</td>\n",
       "      <td>0</td>\n",
       "      <td>0.121876</td>\n",
       "      <td>2600.0</td>\n",
       "      <td>4</td>\n",
       "      <td>0</td>\n",
       "      <td>0</td>\n",
       "      <td>0</td>\n",
       "      <td>1.0</td>\n",
       "    </tr>\n",
       "    <tr>\n",
       "      <th>3</th>\n",
       "      <td>0</td>\n",
       "      <td>0.658180</td>\n",
       "      <td>38</td>\n",
       "      <td>1</td>\n",
       "      <td>0.085113</td>\n",
       "      <td>3042.0</td>\n",
       "      <td>2</td>\n",
       "      <td>1</td>\n",
       "      <td>0</td>\n",
       "      <td>0</td>\n",
       "      <td>0.0</td>\n",
       "    </tr>\n",
       "    <tr>\n",
       "      <th>4</th>\n",
       "      <td>0</td>\n",
       "      <td>0.233810</td>\n",
       "      <td>30</td>\n",
       "      <td>0</td>\n",
       "      <td>0.036050</td>\n",
       "      <td>3300.0</td>\n",
       "      <td>5</td>\n",
       "      <td>0</td>\n",
       "      <td>0</td>\n",
       "      <td>0</td>\n",
       "      <td>0.0</td>\n",
       "    </tr>\n",
       "    <tr>\n",
       "      <th>5</th>\n",
       "      <td>0</td>\n",
       "      <td>0.907239</td>\n",
       "      <td>49</td>\n",
       "      <td>1</td>\n",
       "      <td>0.024926</td>\n",
       "      <td>63588.0</td>\n",
       "      <td>7</td>\n",
       "      <td>0</td>\n",
       "      <td>1</td>\n",
       "      <td>0</td>\n",
       "      <td>0.0</td>\n",
       "    </tr>\n",
       "  </tbody>\n",
       "</table>\n",
       "</div>"
      ],
      "text/plain": [
       "   SeriousDlqin2yrs  RevolvingUtilizationOfUnsecuredLines  age  \\\n",
       "1                 1                              0.766127   45   \n",
       "2                 0                              0.957151   40   \n",
       "3                 0                              0.658180   38   \n",
       "4                 0                              0.233810   30   \n",
       "5                 0                              0.907239   49   \n",
       "\n",
       "   NumberOfTime30-59DaysPastDueNotWorse  DebtRatio  MonthlyIncome  \\\n",
       "1                                     2   0.802982         9120.0   \n",
       "2                                     0   0.121876         2600.0   \n",
       "3                                     1   0.085113         3042.0   \n",
       "4                                     0   0.036050         3300.0   \n",
       "5                                     1   0.024926        63588.0   \n",
       "\n",
       "   NumberOfOpenCreditLinesAndLoans  NumberOfTimes90DaysLate  \\\n",
       "1                               13                        0   \n",
       "2                                4                        0   \n",
       "3                                2                        1   \n",
       "4                                5                        0   \n",
       "5                                7                        0   \n",
       "\n",
       "   NumberRealEstateLoansOrLines  NumberOfTime60-89DaysPastDueNotWorse  \\\n",
       "1                             6                                     0   \n",
       "2                             0                                     0   \n",
       "3                             0                                     0   \n",
       "4                             0                                     0   \n",
       "5                             1                                     0   \n",
       "\n",
       "   NumberOfDependents  \n",
       "1                 2.0  \n",
       "2                 1.0  \n",
       "3                 0.0  \n",
       "4                 0.0  \n",
       "5                 0.0  "
      ]
     },
     "execution_count": 2,
     "metadata": {},
     "output_type": "execute_result"
    }
   ],
   "source": [
    "data.head()"
   ]
  },
  {
   "cell_type": "markdown",
   "metadata": {},
   "source": [
    "## 2.2 数据预处理"
   ]
  },
  {
   "cell_type": "markdown",
   "metadata": {},
   "source": [
    "### 2.2.1 观察数据结构"
   ]
  },
  {
   "cell_type": "code",
   "execution_count": 3,
   "metadata": {},
   "outputs": [
    {
     "name": "stdout",
     "output_type": "stream",
     "text": [
      "<class 'pandas.core.frame.DataFrame'>\n",
      "Int64Index: 150000 entries, 1 to 150000\n",
      "Data columns (total 11 columns):\n",
      "SeriousDlqin2yrs                        150000 non-null int64\n",
      "RevolvingUtilizationOfUnsecuredLines    150000 non-null float64\n",
      "age                                     150000 non-null int64\n",
      "NumberOfTime30-59DaysPastDueNotWorse    150000 non-null int64\n",
      "DebtRatio                               150000 non-null float64\n",
      "MonthlyIncome                           120269 non-null float64\n",
      "NumberOfOpenCreditLinesAndLoans         150000 non-null int64\n",
      "NumberOfTimes90DaysLate                 150000 non-null int64\n",
      "NumberRealEstateLoansOrLines            150000 non-null int64\n",
      "NumberOfTime60-89DaysPastDueNotWorse    150000 non-null int64\n",
      "NumberOfDependents                      146076 non-null float64\n",
      "dtypes: float64(4), int64(7)\n",
      "memory usage: 13.7 MB\n"
     ]
    }
   ],
   "source": [
    "data.info()"
   ]
  },
  {
   "cell_type": "markdown",
   "metadata": {},
   "source": [
    "十个特征，一个被解释变量"
   ]
  },
  {
   "cell_type": "markdown",
   "metadata": {},
   "source": [
    "### 2.2.2 去除重复值\n",
    "\n",
    "现实数据，尤其是银行业数据，可能会存在的一个问题就是样本重复，即有超过一行的样本所显示的所有特征都一样。有时候可能时人为输入重复，有时候可能是系统录入重复，总而言之我们必须对数据进行去重处理。可能有人会说，难道不可能出现说两个样本的特征就是一模一样，但他们是两个样本吗？比如，两个人，一模一样的名字，年龄，性别，学历，工资……当特征量很少的时候，这的确是有可能的，但一些指标，比如说家属人数，月收入，已借有的房地产贷款数量等等，几乎不可能都出现一样。尤其是银行业数据经常是几百个特征，所有特征都一样的可能性是微乎其微的。即便真的出现了如此极端的情况，我们也可以当作是少量信息损失，将这条记录当作重复值除去。"
   ]
  },
  {
   "cell_type": "code",
   "execution_count": 4,
   "metadata": {},
   "outputs": [],
   "source": [
    "#去除重复值\n",
    "#inplace=True表示替换原数据\n",
    "data.drop_duplicates(inplace=True)#当两行数据完全一样就删除\n",
    "#删除完记得恢复索引\n",
    "data.index = range(data.shape[0])"
   ]
  },
  {
   "cell_type": "code",
   "execution_count": 5,
   "metadata": {},
   "outputs": [
    {
     "name": "stdout",
     "output_type": "stream",
     "text": [
      "<class 'pandas.core.frame.DataFrame'>\n",
      "RangeIndex: 149391 entries, 0 to 149390\n",
      "Data columns (total 11 columns):\n",
      "SeriousDlqin2yrs                        149391 non-null int64\n",
      "RevolvingUtilizationOfUnsecuredLines    149391 non-null float64\n",
      "age                                     149391 non-null int64\n",
      "NumberOfTime30-59DaysPastDueNotWorse    149391 non-null int64\n",
      "DebtRatio                               149391 non-null float64\n",
      "MonthlyIncome                           120170 non-null float64\n",
      "NumberOfOpenCreditLinesAndLoans         149391 non-null int64\n",
      "NumberOfTimes90DaysLate                 149391 non-null int64\n",
      "NumberRealEstateLoansOrLines            149391 non-null int64\n",
      "NumberOfTime60-89DaysPastDueNotWorse    149391 non-null int64\n",
      "NumberOfDependents                      145563 non-null float64\n",
      "dtypes: float64(4), int64(7)\n",
      "memory usage: 12.5 MB\n"
     ]
    }
   ],
   "source": [
    "data.info()"
   ]
  },
  {
   "cell_type": "markdown",
   "metadata": {},
   "source": [
    "### 2.2.3 探索缺失值\n",
    "\n",
    "第二个要面临的问题，就是缺失值。在这里我们需要填补的特征是“月收入”和“家属人数”。“家属人数”缺失很少，仅缺失了大约2.5%，可以考虑直接删除，或者使用均值来填补。“收入”缺失了几乎20%，并且我们知道，“收入”必然是 一个对信用评分来说很重要的因素，因此这个特征必须要进行填补。在这里，我们使用均值填补“家属人数”。"
   ]
  },
  {
   "cell_type": "code",
   "execution_count": 6,
   "metadata": {},
   "outputs": [
    {
     "data": {
      "text/plain": [
       "SeriousDlqin2yrs                        0.000000\n",
       "RevolvingUtilizationOfUnsecuredLines    0.000000\n",
       "age                                     0.000000\n",
       "NumberOfTime30-59DaysPastDueNotWorse    0.000000\n",
       "DebtRatio                               0.000000\n",
       "MonthlyIncome                           0.195601\n",
       "NumberOfOpenCreditLinesAndLoans         0.000000\n",
       "NumberOfTimes90DaysLate                 0.000000\n",
       "NumberRealEstateLoansOrLines            0.000000\n",
       "NumberOfTime60-89DaysPastDueNotWorse    0.000000\n",
       "NumberOfDependents                      0.025624\n",
       "dtype: float64"
      ]
     },
     "execution_count": 6,
     "metadata": {},
     "output_type": "execute_result"
    }
   ],
   "source": [
    "#查看缺失值比例\n",
    "data.isnull().mean()"
   ]
  },
  {
   "cell_type": "code",
   "execution_count": 7,
   "metadata": {},
   "outputs": [
    {
     "name": "stdout",
     "output_type": "stream",
     "text": [
      "<class 'pandas.core.frame.DataFrame'>\n",
      "RangeIndex: 149391 entries, 0 to 149390\n",
      "Data columns (total 11 columns):\n",
      "SeriousDlqin2yrs                        149391 non-null int64\n",
      "RevolvingUtilizationOfUnsecuredLines    149391 non-null float64\n",
      "age                                     149391 non-null int64\n",
      "NumberOfTime30-59DaysPastDueNotWorse    149391 non-null int64\n",
      "DebtRatio                               149391 non-null float64\n",
      "MonthlyIncome                           120170 non-null float64\n",
      "NumberOfOpenCreditLinesAndLoans         149391 non-null int64\n",
      "NumberOfTimes90DaysLate                 149391 non-null int64\n",
      "NumberRealEstateLoansOrLines            149391 non-null int64\n",
      "NumberOfTime60-89DaysPastDueNotWorse    149391 non-null int64\n",
      "NumberOfDependents                      149391 non-null float64\n",
      "dtypes: float64(4), int64(7)\n",
      "memory usage: 12.5 MB\n"
     ]
    }
   ],
   "source": [
    "#使用均值填补“家属”缺失值\n",
    "data['NumberOfDependents'].fillna(int(data['NumberOfDependents'].mean()),inplace=True)\n",
    "data.info()"
   ]
  },
  {
   "cell_type": "code",
   "execution_count": 8,
   "metadata": {},
   "outputs": [
    {
     "data": {
      "text/plain": [
       "SeriousDlqin2yrs                        0.000000\n",
       "RevolvingUtilizationOfUnsecuredLines    0.000000\n",
       "age                                     0.000000\n",
       "NumberOfTime30-59DaysPastDueNotWorse    0.000000\n",
       "DebtRatio                               0.000000\n",
       "MonthlyIncome                           0.195601\n",
       "NumberOfOpenCreditLinesAndLoans         0.000000\n",
       "NumberOfTimes90DaysLate                 0.000000\n",
       "NumberRealEstateLoansOrLines            0.000000\n",
       "NumberOfTime60-89DaysPastDueNotWorse    0.000000\n",
       "NumberOfDependents                      0.000000\n",
       "dtype: float64"
      ]
     },
     "execution_count": 8,
     "metadata": {},
     "output_type": "execute_result"
    }
   ],
   "source": [
    "data.isnull().mean()"
   ]
  },
  {
   "cell_type": "markdown",
   "metadata": {},
   "source": [
    "那字段\"月收入\"怎么办呢？对于银行数据来说，我们甚至可以有这样的推断：一个来借钱的人应该是会知道，“高收入”或者“稳定收入”于他/她自己而言会是申请贷款过程中的一个助力，因此如果收入稳定良好的人，肯定会倾向于写上自己的收入情况，那么这些“收入”栏缺失的人，更可能是收入状况不稳定或收入比较低的人。基于这种判断，我们可以用比如说，四分位数来填补缺失值，把所有收入为空的客户都当成是低收入人群。当然了，也有可能这些缺失是银行数据收集过程中的失误，我们并无法判断为什么收入栏会有缺失，所以我们的推断也有可能是不正确的。具体采用什么样的手段填补缺失值，要和业务人员去沟通，观察缺失值是如何产生的。\n",
    "\n",
    "在这里，我们使用随机森林填补“月收入”。 随机森林利用“既然我可以使用A，B，C去预测Z，那我也可以使用A，C，Z去预测B”的思想来填补缺失值。这种做法，对于某一个特征大量缺失，其他特征却很完整的情况，非常适用。\n",
    "\n",
    "对于一个有n个特征的数据来说，其中特征T有缺失值，我们就把特征T当作标签，其他的n-1个特征和原本的标签组成新的特征矩阵。在新的特征矩阵中，它没有缺失的部分，就是我们的训练集，这部分数据既有标签也有特征，而它缺失的部分，只有特征没有标签，就是我们需要预测的部分。\n",
    "\n",
    "特征T不缺失的值对应的其他n-1个特征 + 本来的标签：X_train\n",
    "\n",
    "特征T不缺失的值：Y_train\n",
    "\n",
    "特征T缺失的值对应的其他n-1个特征 + 本来的标签：X_test\n",
    "\n",
    "特征T缺失的值：未知，我们需要预测的Y_test\n",
    "![新的特征矩阵](https://img-blog.csdnimg.cn/20200918231243334.png?x-oss-process=image/watermark,type_ZmFuZ3poZW5naGVpdGk,shadow_10,text_aHR0cHM6Ly9ibG9nLmNzZG4ubmV0L3dlaXhpbl80Mzk2NjkwMA==,size_16,color_FFFFFF,t_70#pic_center)"
   ]
  },
  {
   "cell_type": "markdown",
   "metadata": {},
   "source": [
    "#### 使用随机森林填补一个特征的缺失值的函数"
   ]
  },
  {
   "cell_type": "code",
   "execution_count": 9,
   "metadata": {},
   "outputs": [],
   "source": [
    "def fill_missing_rf(X,y,to_fill):\n",
    "\n",
    "    \"\"\"\n",
    "    使用随机森林填补一个特征的缺失值的函数\n",
    "\n",
    "    参数：\n",
    "    X：要填补的特征矩阵\n",
    "    y：完整的，没有缺失值的标签\n",
    "    to_fill：字符串，要填补的那一列的名称\n",
    "    \"\"\"\n",
    "\n",
    "    #构建新特征矩阵和新标签\n",
    "    df = X.copy()\n",
    "    fill = df.loc[:,to_fill]\n",
    "    df = pd.concat([df.loc[:,df.columns != to_fill],pd.DataFrame(y)],axis=1)\n",
    "\n",
    "    # 找出我们的训练集和测试集\n",
    "    Ytrain = fill[fill.notnull()]\n",
    "    Ytest = fill[fill.isnull()]\n",
    "    Xtrain = df.loc[Ytrain.index,:]\n",
    "    Xtest = df.loc[Ytest.index,:]\n",
    "\n",
    "    #用随机森林回归来填补缺失值\n",
    "    from sklearn.ensemble import RandomForestRegressor as rfr\n",
    "    rfr = rfr(n_estimators=100)\n",
    "    rfr = rfr.fit(Xtrain, Ytrain)\n",
    "    Ypredict = rfr.predict(Xtest)\n",
    "\n",
    "    return Ypredict"
   ]
  },
  {
   "cell_type": "code",
   "execution_count": 10,
   "metadata": {},
   "outputs": [],
   "source": [
    "X = data.iloc[:,1:]\n",
    "y = data[\"SeriousDlqin2yrs\"]\n",
    "\n",
    "#将参数输入函数\n",
    "y_pred = fill_missing_rf(X,y,\"MonthlyIncome\")"
   ]
  },
  {
   "cell_type": "code",
   "execution_count": 11,
   "metadata": {},
   "outputs": [
    {
     "data": {
      "text/plain": [
       "(29221,)"
      ]
     },
     "execution_count": 11,
     "metadata": {},
     "output_type": "execute_result"
    }
   ],
   "source": [
    "y_pred.shape"
   ]
  },
  {
   "cell_type": "code",
   "execution_count": 12,
   "metadata": {},
   "outputs": [
    {
     "data": {
      "text/plain": [
       "(29221,)"
      ]
     },
     "execution_count": 12,
     "metadata": {},
     "output_type": "execute_result"
    }
   ],
   "source": [
    "data.loc[data.loc[:,'MonthlyIncome'].isnull(),\"MonthlyIncome\"].shape"
   ]
  },
  {
   "cell_type": "code",
   "execution_count": 13,
   "metadata": {},
   "outputs": [
    {
     "data": {
      "text/plain": [
       "True"
      ]
     },
     "execution_count": 13,
     "metadata": {},
     "output_type": "execute_result"
    }
   ],
   "source": [
    "#查看预测出来的与原来的缺失值数量是否对的上\n",
    "y_pred.shape == data.loc[data.loc[:,'MonthlyIncome'].isnull(),\"MonthlyIncome\"].shape"
   ]
  },
  {
   "cell_type": "code",
   "execution_count": null,
   "metadata": {},
   "outputs": [],
   "source": []
  },
  {
   "cell_type": "code",
   "execution_count": 14,
   "metadata": {},
   "outputs": [],
   "source": [
    "#进行覆盖\n",
    "data.loc[data.loc[:,\"MonthlyIncome\"].isnull(),\"MonthlyIncome\"] = y_pred"
   ]
  },
  {
   "cell_type": "code",
   "execution_count": 15,
   "metadata": {},
   "outputs": [
    {
     "name": "stdout",
     "output_type": "stream",
     "text": [
      "<class 'pandas.core.frame.DataFrame'>\n",
      "RangeIndex: 149391 entries, 0 to 149390\n",
      "Data columns (total 11 columns):\n",
      "SeriousDlqin2yrs                        149391 non-null int64\n",
      "RevolvingUtilizationOfUnsecuredLines    149391 non-null float64\n",
      "age                                     149391 non-null int64\n",
      "NumberOfTime30-59DaysPastDueNotWorse    149391 non-null int64\n",
      "DebtRatio                               149391 non-null float64\n",
      "MonthlyIncome                           149391 non-null float64\n",
      "NumberOfOpenCreditLinesAndLoans         149391 non-null int64\n",
      "NumberOfTimes90DaysLate                 149391 non-null int64\n",
      "NumberRealEstateLoansOrLines            149391 non-null int64\n",
      "NumberOfTime60-89DaysPastDueNotWorse    149391 non-null int64\n",
      "NumberOfDependents                      149391 non-null float64\n",
      "dtypes: float64(4), int64(7)\n",
      "memory usage: 12.5 MB\n"
     ]
    }
   ],
   "source": [
    "data.info()"
   ]
  },
  {
   "cell_type": "markdown",
   "metadata": {},
   "source": [
    "# 2.2.4 异常值的处理\n",
    "现实数据永远都会有一些异常值，首先我们要去把他们捕捉出来，然后观察他们的性质。注意，我们并不是要排除掉所有异常值，相反很多时候，异常值是我们的重点研究对象，比如说，双十一中购买量超高的品牌，或课堂上让很多学生都兴奋的课题，这些是我们要重点研究观察的。\n",
    "\n",
    "日常处理异常值，我们使用箱线图或者3σ法则来找到异常值。但在银行数据中，我们希望排除的“异常值”不是一些超高或超低的数字，而是一些不符合常理的数据：比如，收入不能为负数，但是一个超高水平的收入却是合理的，可以存在的。所以在银行业中，我们往往就使用普通的描述性统计来观察数据的异常与否与数据的分布情况。注意，这种方法只能在特征量有限的情况下进行，如果有几百个特征又无法成功降维或特征选择不管用，那还是用3σ比较好。"
   ]
  },
  {
   "cell_type": "code",
   "execution_count": 16,
   "metadata": {},
   "outputs": [
    {
     "data": {
      "text/html": [
       "<div>\n",
       "<style scoped>\n",
       "    .dataframe tbody tr th:only-of-type {\n",
       "        vertical-align: middle;\n",
       "    }\n",
       "\n",
       "    .dataframe tbody tr th {\n",
       "        vertical-align: top;\n",
       "    }\n",
       "\n",
       "    .dataframe thead th {\n",
       "        text-align: right;\n",
       "    }\n",
       "</style>\n",
       "<table border=\"1\" class=\"dataframe\">\n",
       "  <thead>\n",
       "    <tr style=\"text-align: right;\">\n",
       "      <th></th>\n",
       "      <th>count</th>\n",
       "      <th>mean</th>\n",
       "      <th>std</th>\n",
       "      <th>min</th>\n",
       "      <th>1%</th>\n",
       "      <th>10%</th>\n",
       "      <th>25%</th>\n",
       "      <th>50%</th>\n",
       "      <th>75%</th>\n",
       "      <th>90%</th>\n",
       "      <th>99%</th>\n",
       "      <th>max</th>\n",
       "    </tr>\n",
       "  </thead>\n",
       "  <tbody>\n",
       "    <tr>\n",
       "      <th>SeriousDlqin2yrs</th>\n",
       "      <td>149391.0</td>\n",
       "      <td>0.066999</td>\n",
       "      <td>0.250021</td>\n",
       "      <td>0.0</td>\n",
       "      <td>0.0</td>\n",
       "      <td>0.000000</td>\n",
       "      <td>0.000000</td>\n",
       "      <td>0.000000</td>\n",
       "      <td>0.000000</td>\n",
       "      <td>0.000000</td>\n",
       "      <td>1.000000</td>\n",
       "      <td>1.0</td>\n",
       "    </tr>\n",
       "    <tr>\n",
       "      <th>RevolvingUtilizationOfUnsecuredLines</th>\n",
       "      <td>149391.0</td>\n",
       "      <td>6.071087</td>\n",
       "      <td>250.263672</td>\n",
       "      <td>0.0</td>\n",
       "      <td>0.0</td>\n",
       "      <td>0.003199</td>\n",
       "      <td>0.030132</td>\n",
       "      <td>0.154235</td>\n",
       "      <td>0.556494</td>\n",
       "      <td>0.978007</td>\n",
       "      <td>1.093922</td>\n",
       "      <td>50708.0</td>\n",
       "    </tr>\n",
       "    <tr>\n",
       "      <th>age</th>\n",
       "      <td>149391.0</td>\n",
       "      <td>52.306237</td>\n",
       "      <td>14.725962</td>\n",
       "      <td>0.0</td>\n",
       "      <td>24.0</td>\n",
       "      <td>33.000000</td>\n",
       "      <td>41.000000</td>\n",
       "      <td>52.000000</td>\n",
       "      <td>63.000000</td>\n",
       "      <td>72.000000</td>\n",
       "      <td>87.000000</td>\n",
       "      <td>109.0</td>\n",
       "    </tr>\n",
       "    <tr>\n",
       "      <th>NumberOfTime30-59DaysPastDueNotWorse</th>\n",
       "      <td>149391.0</td>\n",
       "      <td>0.393886</td>\n",
       "      <td>3.852953</td>\n",
       "      <td>0.0</td>\n",
       "      <td>0.0</td>\n",
       "      <td>0.000000</td>\n",
       "      <td>0.000000</td>\n",
       "      <td>0.000000</td>\n",
       "      <td>0.000000</td>\n",
       "      <td>1.000000</td>\n",
       "      <td>4.000000</td>\n",
       "      <td>98.0</td>\n",
       "    </tr>\n",
       "    <tr>\n",
       "      <th>DebtRatio</th>\n",
       "      <td>149391.0</td>\n",
       "      <td>354.436740</td>\n",
       "      <td>2041.843455</td>\n",
       "      <td>0.0</td>\n",
       "      <td>0.0</td>\n",
       "      <td>0.034991</td>\n",
       "      <td>0.177441</td>\n",
       "      <td>0.368234</td>\n",
       "      <td>0.875279</td>\n",
       "      <td>1275.000000</td>\n",
       "      <td>4985.100000</td>\n",
       "      <td>329664.0</td>\n",
       "    </tr>\n",
       "    <tr>\n",
       "      <th>MonthlyIncome</th>\n",
       "      <td>149391.0</td>\n",
       "      <td>5425.720812</td>\n",
       "      <td>13244.551479</td>\n",
       "      <td>0.0</td>\n",
       "      <td>0.0</td>\n",
       "      <td>0.170000</td>\n",
       "      <td>1800.000000</td>\n",
       "      <td>4425.000000</td>\n",
       "      <td>7416.000000</td>\n",
       "      <td>10800.000000</td>\n",
       "      <td>23250.000000</td>\n",
       "      <td>3008750.0</td>\n",
       "    </tr>\n",
       "    <tr>\n",
       "      <th>NumberOfOpenCreditLinesAndLoans</th>\n",
       "      <td>149391.0</td>\n",
       "      <td>8.480892</td>\n",
       "      <td>5.136515</td>\n",
       "      <td>0.0</td>\n",
       "      <td>0.0</td>\n",
       "      <td>3.000000</td>\n",
       "      <td>5.000000</td>\n",
       "      <td>8.000000</td>\n",
       "      <td>11.000000</td>\n",
       "      <td>15.000000</td>\n",
       "      <td>24.000000</td>\n",
       "      <td>58.0</td>\n",
       "    </tr>\n",
       "    <tr>\n",
       "      <th>NumberOfTimes90DaysLate</th>\n",
       "      <td>149391.0</td>\n",
       "      <td>0.238120</td>\n",
       "      <td>3.826165</td>\n",
       "      <td>0.0</td>\n",
       "      <td>0.0</td>\n",
       "      <td>0.000000</td>\n",
       "      <td>0.000000</td>\n",
       "      <td>0.000000</td>\n",
       "      <td>0.000000</td>\n",
       "      <td>0.000000</td>\n",
       "      <td>3.000000</td>\n",
       "      <td>98.0</td>\n",
       "    </tr>\n",
       "    <tr>\n",
       "      <th>NumberRealEstateLoansOrLines</th>\n",
       "      <td>149391.0</td>\n",
       "      <td>1.022391</td>\n",
       "      <td>1.130196</td>\n",
       "      <td>0.0</td>\n",
       "      <td>0.0</td>\n",
       "      <td>0.000000</td>\n",
       "      <td>0.000000</td>\n",
       "      <td>1.000000</td>\n",
       "      <td>2.000000</td>\n",
       "      <td>2.000000</td>\n",
       "      <td>4.000000</td>\n",
       "      <td>54.0</td>\n",
       "    </tr>\n",
       "    <tr>\n",
       "      <th>NumberOfTime60-89DaysPastDueNotWorse</th>\n",
       "      <td>149391.0</td>\n",
       "      <td>0.212503</td>\n",
       "      <td>3.810523</td>\n",
       "      <td>0.0</td>\n",
       "      <td>0.0</td>\n",
       "      <td>0.000000</td>\n",
       "      <td>0.000000</td>\n",
       "      <td>0.000000</td>\n",
       "      <td>0.000000</td>\n",
       "      <td>0.000000</td>\n",
       "      <td>2.000000</td>\n",
       "      <td>98.0</td>\n",
       "    </tr>\n",
       "    <tr>\n",
       "      <th>NumberOfDependents</th>\n",
       "      <td>149391.0</td>\n",
       "      <td>0.740393</td>\n",
       "      <td>1.108272</td>\n",
       "      <td>0.0</td>\n",
       "      <td>0.0</td>\n",
       "      <td>0.000000</td>\n",
       "      <td>0.000000</td>\n",
       "      <td>0.000000</td>\n",
       "      <td>1.000000</td>\n",
       "      <td>2.000000</td>\n",
       "      <td>4.000000</td>\n",
       "      <td>20.0</td>\n",
       "    </tr>\n",
       "  </tbody>\n",
       "</table>\n",
       "</div>"
      ],
      "text/plain": [
       "                                         count         mean           std  \\\n",
       "SeriousDlqin2yrs                      149391.0     0.066999      0.250021   \n",
       "RevolvingUtilizationOfUnsecuredLines  149391.0     6.071087    250.263672   \n",
       "age                                   149391.0    52.306237     14.725962   \n",
       "NumberOfTime30-59DaysPastDueNotWorse  149391.0     0.393886      3.852953   \n",
       "DebtRatio                             149391.0   354.436740   2041.843455   \n",
       "MonthlyIncome                         149391.0  5425.720812  13244.551479   \n",
       "NumberOfOpenCreditLinesAndLoans       149391.0     8.480892      5.136515   \n",
       "NumberOfTimes90DaysLate               149391.0     0.238120      3.826165   \n",
       "NumberRealEstateLoansOrLines          149391.0     1.022391      1.130196   \n",
       "NumberOfTime60-89DaysPastDueNotWorse  149391.0     0.212503      3.810523   \n",
       "NumberOfDependents                    149391.0     0.740393      1.108272   \n",
       "\n",
       "                                      min    1%        10%          25%  \\\n",
       "SeriousDlqin2yrs                      0.0   0.0   0.000000     0.000000   \n",
       "RevolvingUtilizationOfUnsecuredLines  0.0   0.0   0.003199     0.030132   \n",
       "age                                   0.0  24.0  33.000000    41.000000   \n",
       "NumberOfTime30-59DaysPastDueNotWorse  0.0   0.0   0.000000     0.000000   \n",
       "DebtRatio                             0.0   0.0   0.034991     0.177441   \n",
       "MonthlyIncome                         0.0   0.0   0.170000  1800.000000   \n",
       "NumberOfOpenCreditLinesAndLoans       0.0   0.0   3.000000     5.000000   \n",
       "NumberOfTimes90DaysLate               0.0   0.0   0.000000     0.000000   \n",
       "NumberRealEstateLoansOrLines          0.0   0.0   0.000000     0.000000   \n",
       "NumberOfTime60-89DaysPastDueNotWorse  0.0   0.0   0.000000     0.000000   \n",
       "NumberOfDependents                    0.0   0.0   0.000000     0.000000   \n",
       "\n",
       "                                              50%          75%           90%  \\\n",
       "SeriousDlqin2yrs                         0.000000     0.000000      0.000000   \n",
       "RevolvingUtilizationOfUnsecuredLines     0.154235     0.556494      0.978007   \n",
       "age                                     52.000000    63.000000     72.000000   \n",
       "NumberOfTime30-59DaysPastDueNotWorse     0.000000     0.000000      1.000000   \n",
       "DebtRatio                                0.368234     0.875279   1275.000000   \n",
       "MonthlyIncome                         4425.000000  7416.000000  10800.000000   \n",
       "NumberOfOpenCreditLinesAndLoans          8.000000    11.000000     15.000000   \n",
       "NumberOfTimes90DaysLate                  0.000000     0.000000      0.000000   \n",
       "NumberRealEstateLoansOrLines             1.000000     2.000000      2.000000   \n",
       "NumberOfTime60-89DaysPastDueNotWorse     0.000000     0.000000      0.000000   \n",
       "NumberOfDependents                       0.000000     1.000000      2.000000   \n",
       "\n",
       "                                               99%        max  \n",
       "SeriousDlqin2yrs                          1.000000        1.0  \n",
       "RevolvingUtilizationOfUnsecuredLines      1.093922    50708.0  \n",
       "age                                      87.000000      109.0  \n",
       "NumberOfTime30-59DaysPastDueNotWorse      4.000000       98.0  \n",
       "DebtRatio                              4985.100000   329664.0  \n",
       "MonthlyIncome                         23250.000000  3008750.0  \n",
       "NumberOfOpenCreditLinesAndLoans          24.000000       58.0  \n",
       "NumberOfTimes90DaysLate                   3.000000       98.0  \n",
       "NumberRealEstateLoansOrLines              4.000000       54.0  \n",
       "NumberOfTime60-89DaysPastDueNotWorse      2.000000       98.0  \n",
       "NumberOfDependents                        4.000000       20.0  "
      ]
     },
     "execution_count": 16,
     "metadata": {},
     "output_type": "execute_result"
    }
   ],
   "source": [
    "#描述性统计\n",
    "data.describe([0.01,0.1,0.25,.5,.75,.9,.99]).T"
   ]
  },
  {
   "cell_type": "markdown",
   "metadata": {},
   "source": [
    "异常值也被我们观察到，年龄的最小值居然有0，这不符合银行的业务需求，即便是儿童账户也要至少8岁，我们可以查看一下年龄为0的人有多少，发现只有1个人年龄为0，可以判断这肯定是录入失误造成的，可以当成是缺失值来处理，直接删除掉这个样本。"
   ]
  },
  {
   "cell_type": "code",
   "execution_count": 17,
   "metadata": {},
   "outputs": [],
   "source": [
    "(data['age'] == 0).sum()\n",
    "data  = data[data['age'] != 0]"
   ]
  },
  {
   "cell_type": "markdown",
   "metadata": {},
   "source": [
    "另外，有三个指标看起来很奇怪： \"NumberOfTime30-59DaysPastDueNotWorse\" 、\"NumberOfTime60-89DaysPastDueNotWorse\"、 \"NumberOfTimes90DaysLate\" 这三个指标分别是“过去两年内出现35-59天逾期但是没有发展的更坏的次数”，“过去两年内出现60-89天逾期但是没 有发展的更坏的次数”，“过去两年内出现90天逾期的次数”。这三个指标，在99%的分布的时候依然是2，最大值却是 98，看起来非常奇怪。一个人在过去两年内逾期35~59天98次，一年6个60天，两年内逾期98次这是怎么算出来的？ 我们可以去咨询业务人员，请教他们这个逾期次数是如何计算的。如果这个指标是正常的，那这些两年内逾期了98次的客户，应该都是坏客户。"
   ]
  },
  {
   "cell_type": "code",
   "execution_count": 18,
   "metadata": {},
   "outputs": [
    {
     "data": {
      "text/plain": [
       "225"
      ]
     },
     "execution_count": 18,
     "metadata": {},
     "output_type": "execute_result"
    }
   ],
   "source": [
    "#在我们无法询问他们情况下，我们查看一下有多少个样本存在这种异常：  \n",
    "(data['NumberOfTime30-59DaysPastDueNotWorse'] > 15).sum()"
   ]
  },
  {
   "cell_type": "code",
   "execution_count": 19,
   "metadata": {},
   "outputs": [
    {
     "data": {
      "text/plain": [
       "225"
      ]
     },
     "execution_count": 19,
     "metadata": {},
     "output_type": "execute_result"
    }
   ],
   "source": [
    "(data['NumberOfTimes90DaysLate'] > 90).sum()"
   ]
  },
  {
   "cell_type": "code",
   "execution_count": 20,
   "metadata": {},
   "outputs": [
    {
     "data": {
      "text/plain": [
       "225"
      ]
     },
     "execution_count": 20,
     "metadata": {},
     "output_type": "execute_result"
    }
   ],
   "source": [
    "(data['NumberOfTime60-89DaysPastDueNotWorse'] > 90).sum()"
   ]
  },
  {
   "cell_type": "markdown",
   "metadata": {},
   "source": [
    "3类异常样本数量全都一样，会不会全是同一组样本？"
   ]
  },
  {
   "cell_type": "code",
   "execution_count": 21,
   "metadata": {},
   "outputs": [],
   "source": [
    "df = data[data['NumberOfTime30-59DaysPastDueNotWorse'] > 90]"
   ]
  },
  {
   "cell_type": "code",
   "execution_count": 22,
   "metadata": {},
   "outputs": [],
   "source": [
    "df = df[df['NumberOfTimes90DaysLate'] > 90]"
   ]
  },
  {
   "cell_type": "code",
   "execution_count": 23,
   "metadata": {},
   "outputs": [],
   "source": [
    "df = df[df['NumberOfTime60-89DaysPastDueNotWorse'] > 90]"
   ]
  },
  {
   "cell_type": "code",
   "execution_count": 24,
   "metadata": {},
   "outputs": [
    {
     "data": {
      "text/plain": [
       "(225, 11)"
      ]
     },
     "execution_count": 24,
     "metadata": {},
     "output_type": "execute_result"
    }
   ],
   "source": [
    "df.shape"
   ]
  },
  {
   "cell_type": "code",
   "execution_count": 25,
   "metadata": {},
   "outputs": [
    {
     "data": {
      "text/html": [
       "<div>\n",
       "<style scoped>\n",
       "    .dataframe tbody tr th:only-of-type {\n",
       "        vertical-align: middle;\n",
       "    }\n",
       "\n",
       "    .dataframe tbody tr th {\n",
       "        vertical-align: top;\n",
       "    }\n",
       "\n",
       "    .dataframe thead th {\n",
       "        text-align: right;\n",
       "    }\n",
       "</style>\n",
       "<table border=\"1\" class=\"dataframe\">\n",
       "  <thead>\n",
       "    <tr style=\"text-align: right;\">\n",
       "      <th></th>\n",
       "      <th>SeriousDlqin2yrs</th>\n",
       "      <th>RevolvingUtilizationOfUnsecuredLines</th>\n",
       "      <th>age</th>\n",
       "      <th>NumberOfTime30-59DaysPastDueNotWorse</th>\n",
       "      <th>DebtRatio</th>\n",
       "      <th>MonthlyIncome</th>\n",
       "      <th>NumberOfOpenCreditLinesAndLoans</th>\n",
       "      <th>NumberOfTimes90DaysLate</th>\n",
       "      <th>NumberRealEstateLoansOrLines</th>\n",
       "      <th>NumberOfTime60-89DaysPastDueNotWorse</th>\n",
       "      <th>NumberOfDependents</th>\n",
       "    </tr>\n",
       "  </thead>\n",
       "  <tbody>\n",
       "    <tr>\n",
       "      <th>1732</th>\n",
       "      <td>1</td>\n",
       "      <td>1.0</td>\n",
       "      <td>27</td>\n",
       "      <td>98</td>\n",
       "      <td>0.0</td>\n",
       "      <td>2700.000000</td>\n",
       "      <td>0</td>\n",
       "      <td>98</td>\n",
       "      <td>0</td>\n",
       "      <td>98</td>\n",
       "      <td>0.0</td>\n",
       "    </tr>\n",
       "    <tr>\n",
       "      <th>2285</th>\n",
       "      <td>0</td>\n",
       "      <td>1.0</td>\n",
       "      <td>22</td>\n",
       "      <td>98</td>\n",
       "      <td>0.0</td>\n",
       "      <td>1355.370052</td>\n",
       "      <td>0</td>\n",
       "      <td>98</td>\n",
       "      <td>0</td>\n",
       "      <td>98</td>\n",
       "      <td>0.0</td>\n",
       "    </tr>\n",
       "    <tr>\n",
       "      <th>3883</th>\n",
       "      <td>0</td>\n",
       "      <td>1.0</td>\n",
       "      <td>38</td>\n",
       "      <td>98</td>\n",
       "      <td>12.0</td>\n",
       "      <td>2475.740000</td>\n",
       "      <td>0</td>\n",
       "      <td>98</td>\n",
       "      <td>0</td>\n",
       "      <td>98</td>\n",
       "      <td>0.0</td>\n",
       "    </tr>\n",
       "    <tr>\n",
       "      <th>4416</th>\n",
       "      <td>0</td>\n",
       "      <td>1.0</td>\n",
       "      <td>21</td>\n",
       "      <td>98</td>\n",
       "      <td>0.0</td>\n",
       "      <td>0.000000</td>\n",
       "      <td>0</td>\n",
       "      <td>98</td>\n",
       "      <td>0</td>\n",
       "      <td>98</td>\n",
       "      <td>0.0</td>\n",
       "    </tr>\n",
       "    <tr>\n",
       "      <th>4704</th>\n",
       "      <td>0</td>\n",
       "      <td>1.0</td>\n",
       "      <td>21</td>\n",
       "      <td>98</td>\n",
       "      <td>0.0</td>\n",
       "      <td>2000.000000</td>\n",
       "      <td>0</td>\n",
       "      <td>98</td>\n",
       "      <td>0</td>\n",
       "      <td>98</td>\n",
       "      <td>0.0</td>\n",
       "    </tr>\n",
       "  </tbody>\n",
       "</table>\n",
       "</div>"
      ],
      "text/plain": [
       "      SeriousDlqin2yrs  RevolvingUtilizationOfUnsecuredLines  age  \\\n",
       "1732                 1                                   1.0   27   \n",
       "2285                 0                                   1.0   22   \n",
       "3883                 0                                   1.0   38   \n",
       "4416                 0                                   1.0   21   \n",
       "4704                 0                                   1.0   21   \n",
       "\n",
       "      NumberOfTime30-59DaysPastDueNotWorse  DebtRatio  MonthlyIncome  \\\n",
       "1732                                    98        0.0    2700.000000   \n",
       "2285                                    98        0.0    1355.370052   \n",
       "3883                                    98       12.0    2475.740000   \n",
       "4416                                    98        0.0       0.000000   \n",
       "4704                                    98        0.0    2000.000000   \n",
       "\n",
       "      NumberOfOpenCreditLinesAndLoans  NumberOfTimes90DaysLate  \\\n",
       "1732                                0                       98   \n",
       "2285                                0                       98   \n",
       "3883                                0                       98   \n",
       "4416                                0                       98   \n",
       "4704                                0                       98   \n",
       "\n",
       "      NumberRealEstateLoansOrLines  NumberOfTime60-89DaysPastDueNotWorse  \\\n",
       "1732                             0                                    98   \n",
       "2285                             0                                    98   \n",
       "3883                             0                                    98   \n",
       "4416                             0                                    98   \n",
       "4704                             0                                    98   \n",
       "\n",
       "      NumberOfDependents  \n",
       "1732                 0.0  \n",
       "2285                 0.0  \n",
       "3883                 0.0  \n",
       "4416                 0.0  \n",
       "4704                 0.0  "
      ]
     },
     "execution_count": 25,
     "metadata": {},
     "output_type": "execute_result"
    }
   ],
   "source": [
    "df.head()"
   ]
  },
  {
   "cell_type": "code",
   "execution_count": 26,
   "metadata": {},
   "outputs": [
    {
     "data": {
      "text/html": [
       "<div>\n",
       "<style scoped>\n",
       "    .dataframe tbody tr th:only-of-type {\n",
       "        vertical-align: middle;\n",
       "    }\n",
       "\n",
       "    .dataframe tbody tr th {\n",
       "        vertical-align: top;\n",
       "    }\n",
       "\n",
       "    .dataframe thead th {\n",
       "        text-align: right;\n",
       "    }\n",
       "</style>\n",
       "<table border=\"1\" class=\"dataframe\">\n",
       "  <thead>\n",
       "    <tr style=\"text-align: right;\">\n",
       "      <th></th>\n",
       "      <th>count</th>\n",
       "      <th>mean</th>\n",
       "      <th>std</th>\n",
       "      <th>min</th>\n",
       "      <th>25%</th>\n",
       "      <th>50%</th>\n",
       "      <th>75%</th>\n",
       "      <th>max</th>\n",
       "    </tr>\n",
       "  </thead>\n",
       "  <tbody>\n",
       "    <tr>\n",
       "      <th>SeriousDlqin2yrs</th>\n",
       "      <td>225.0</td>\n",
       "      <td>0.604444</td>\n",
       "      <td>4.900599e-01</td>\n",
       "      <td>0.0</td>\n",
       "      <td>0.000000</td>\n",
       "      <td>1.000000</td>\n",
       "      <td>1.000000</td>\n",
       "      <td>1.0</td>\n",
       "    </tr>\n",
       "    <tr>\n",
       "      <th>RevolvingUtilizationOfUnsecuredLines</th>\n",
       "      <td>225.0</td>\n",
       "      <td>1.000000</td>\n",
       "      <td>4.005714e-15</td>\n",
       "      <td>1.0</td>\n",
       "      <td>1.000000</td>\n",
       "      <td>1.000000</td>\n",
       "      <td>1.000000</td>\n",
       "      <td>1.0</td>\n",
       "    </tr>\n",
       "    <tr>\n",
       "      <th>age</th>\n",
       "      <td>225.0</td>\n",
       "      <td>36.071111</td>\n",
       "      <td>1.317920e+01</td>\n",
       "      <td>21.0</td>\n",
       "      <td>25.000000</td>\n",
       "      <td>31.000000</td>\n",
       "      <td>46.000000</td>\n",
       "      <td>79.0</td>\n",
       "    </tr>\n",
       "    <tr>\n",
       "      <th>NumberOfTime30-59DaysPastDueNotWorse</th>\n",
       "      <td>225.0</td>\n",
       "      <td>97.955556</td>\n",
       "      <td>2.954684e-01</td>\n",
       "      <td>96.0</td>\n",
       "      <td>98.000000</td>\n",
       "      <td>98.000000</td>\n",
       "      <td>98.000000</td>\n",
       "      <td>98.0</td>\n",
       "    </tr>\n",
       "    <tr>\n",
       "      <th>DebtRatio</th>\n",
       "      <td>225.0</td>\n",
       "      <td>6.764313</td>\n",
       "      <td>2.830920e+01</td>\n",
       "      <td>0.0</td>\n",
       "      <td>0.000000</td>\n",
       "      <td>0.000000</td>\n",
       "      <td>0.005293</td>\n",
       "      <td>255.0</td>\n",
       "    </tr>\n",
       "    <tr>\n",
       "      <th>MonthlyIncome</th>\n",
       "      <td>225.0</td>\n",
       "      <td>2773.751420</td>\n",
       "      <td>3.302049e+03</td>\n",
       "      <td>0.0</td>\n",
       "      <td>1355.370052</td>\n",
       "      <td>2087.564359</td>\n",
       "      <td>3208.000000</td>\n",
       "      <td>28733.0</td>\n",
       "    </tr>\n",
       "    <tr>\n",
       "      <th>NumberOfOpenCreditLinesAndLoans</th>\n",
       "      <td>225.0</td>\n",
       "      <td>0.008889</td>\n",
       "      <td>9.407022e-02</td>\n",
       "      <td>0.0</td>\n",
       "      <td>0.000000</td>\n",
       "      <td>0.000000</td>\n",
       "      <td>0.000000</td>\n",
       "      <td>1.0</td>\n",
       "    </tr>\n",
       "    <tr>\n",
       "      <th>NumberOfTimes90DaysLate</th>\n",
       "      <td>225.0</td>\n",
       "      <td>97.955556</td>\n",
       "      <td>2.954684e-01</td>\n",
       "      <td>96.0</td>\n",
       "      <td>98.000000</td>\n",
       "      <td>98.000000</td>\n",
       "      <td>98.000000</td>\n",
       "      <td>98.0</td>\n",
       "    </tr>\n",
       "    <tr>\n",
       "      <th>NumberRealEstateLoansOrLines</th>\n",
       "      <td>225.0</td>\n",
       "      <td>0.000000</td>\n",
       "      <td>0.000000e+00</td>\n",
       "      <td>0.0</td>\n",
       "      <td>0.000000</td>\n",
       "      <td>0.000000</td>\n",
       "      <td>0.000000</td>\n",
       "      <td>0.0</td>\n",
       "    </tr>\n",
       "    <tr>\n",
       "      <th>NumberOfTime60-89DaysPastDueNotWorse</th>\n",
       "      <td>225.0</td>\n",
       "      <td>97.955556</td>\n",
       "      <td>2.954684e-01</td>\n",
       "      <td>96.0</td>\n",
       "      <td>98.000000</td>\n",
       "      <td>98.000000</td>\n",
       "      <td>98.000000</td>\n",
       "      <td>98.0</td>\n",
       "    </tr>\n",
       "    <tr>\n",
       "      <th>NumberOfDependents</th>\n",
       "      <td>225.0</td>\n",
       "      <td>0.391111</td>\n",
       "      <td>8.493228e-01</td>\n",
       "      <td>0.0</td>\n",
       "      <td>0.000000</td>\n",
       "      <td>0.000000</td>\n",
       "      <td>0.000000</td>\n",
       "      <td>5.0</td>\n",
       "    </tr>\n",
       "  </tbody>\n",
       "</table>\n",
       "</div>"
      ],
      "text/plain": [
       "                                      count         mean           std   min  \\\n",
       "SeriousDlqin2yrs                      225.0     0.604444  4.900599e-01   0.0   \n",
       "RevolvingUtilizationOfUnsecuredLines  225.0     1.000000  4.005714e-15   1.0   \n",
       "age                                   225.0    36.071111  1.317920e+01  21.0   \n",
       "NumberOfTime30-59DaysPastDueNotWorse  225.0    97.955556  2.954684e-01  96.0   \n",
       "DebtRatio                             225.0     6.764313  2.830920e+01   0.0   \n",
       "MonthlyIncome                         225.0  2773.751420  3.302049e+03   0.0   \n",
       "NumberOfOpenCreditLinesAndLoans       225.0     0.008889  9.407022e-02   0.0   \n",
       "NumberOfTimes90DaysLate               225.0    97.955556  2.954684e-01  96.0   \n",
       "NumberRealEstateLoansOrLines          225.0     0.000000  0.000000e+00   0.0   \n",
       "NumberOfTime60-89DaysPastDueNotWorse  225.0    97.955556  2.954684e-01  96.0   \n",
       "NumberOfDependents                    225.0     0.391111  8.493228e-01   0.0   \n",
       "\n",
       "                                              25%          50%          75%  \\\n",
       "SeriousDlqin2yrs                         0.000000     1.000000     1.000000   \n",
       "RevolvingUtilizationOfUnsecuredLines     1.000000     1.000000     1.000000   \n",
       "age                                     25.000000    31.000000    46.000000   \n",
       "NumberOfTime30-59DaysPastDueNotWorse    98.000000    98.000000    98.000000   \n",
       "DebtRatio                                0.000000     0.000000     0.005293   \n",
       "MonthlyIncome                         1355.370052  2087.564359  3208.000000   \n",
       "NumberOfOpenCreditLinesAndLoans          0.000000     0.000000     0.000000   \n",
       "NumberOfTimes90DaysLate                 98.000000    98.000000    98.000000   \n",
       "NumberRealEstateLoansOrLines             0.000000     0.000000     0.000000   \n",
       "NumberOfTime60-89DaysPastDueNotWorse    98.000000    98.000000    98.000000   \n",
       "NumberOfDependents                       0.000000     0.000000     0.000000   \n",
       "\n",
       "                                          max  \n",
       "SeriousDlqin2yrs                          1.0  \n",
       "RevolvingUtilizationOfUnsecuredLines      1.0  \n",
       "age                                      79.0  \n",
       "NumberOfTime30-59DaysPastDueNotWorse     98.0  \n",
       "DebtRatio                               255.0  \n",
       "MonthlyIncome                         28733.0  \n",
       "NumberOfOpenCreditLinesAndLoans           1.0  \n",
       "NumberOfTimes90DaysLate                  98.0  \n",
       "NumberRealEstateLoansOrLines              0.0  \n",
       "NumberOfTime60-89DaysPastDueNotWorse     98.0  \n",
       "NumberOfDependents                        5.0  "
      ]
     },
     "execution_count": 26,
     "metadata": {},
     "output_type": "execute_result"
    }
   ],
   "source": [
    "df.describe().T"
   ]
  },
  {
   "cell_type": "markdown",
   "metadata": {},
   "source": [
    "可以看出他们的收入并不高"
   ]
  },
  {
   "cell_type": "code",
   "execution_count": 27,
   "metadata": {},
   "outputs": [
    {
     "data": {
      "text/plain": [
       "0.6044444444444445"
      ]
     },
     "execution_count": 27,
     "metadata": {},
     "output_type": "execute_result"
    }
   ],
   "source": [
    "#发现并不是所有人都违约\n",
    "df['SeriousDlqin2yrs'].mean()"
   ]
  },
  {
   "cell_type": "markdown",
   "metadata": {},
   "source": [
    "所以这样的数据就很让人费解，所以暂时先把它们当做异常值去除，后面若是模型的训练不好了，再选择添加进去吧"
   ]
  },
  {
   "cell_type": "code",
   "execution_count": 28,
   "metadata": {},
   "outputs": [],
   "source": [
    "data = data[data['NumberOfTimes90DaysLate'] < 90]"
   ]
  },
  {
   "cell_type": "markdown",
   "metadata": {},
   "source": [
    "别忘了重置索引"
   ]
  },
  {
   "cell_type": "code",
   "execution_count": 29,
   "metadata": {},
   "outputs": [],
   "source": [
    "data.index = range(data.shape[0])"
   ]
  },
  {
   "cell_type": "code",
   "execution_count": 30,
   "metadata": {},
   "outputs": [
    {
     "name": "stdout",
     "output_type": "stream",
     "text": [
      "<class 'pandas.core.frame.DataFrame'>\n",
      "RangeIndex: 149165 entries, 0 to 149164\n",
      "Data columns (total 11 columns):\n",
      "SeriousDlqin2yrs                        149165 non-null int64\n",
      "RevolvingUtilizationOfUnsecuredLines    149165 non-null float64\n",
      "age                                     149165 non-null int64\n",
      "NumberOfTime30-59DaysPastDueNotWorse    149165 non-null int64\n",
      "DebtRatio                               149165 non-null float64\n",
      "MonthlyIncome                           149165 non-null float64\n",
      "NumberOfOpenCreditLinesAndLoans         149165 non-null int64\n",
      "NumberOfTimes90DaysLate                 149165 non-null int64\n",
      "NumberRealEstateLoansOrLines            149165 non-null int64\n",
      "NumberOfTime60-89DaysPastDueNotWorse    149165 non-null int64\n",
      "NumberOfDependents                      149165 non-null float64\n",
      "dtypes: float64(4), int64(7)\n",
      "memory usage: 12.5 MB\n"
     ]
    }
   ],
   "source": [
    "data.info()"
   ]
  },
  {
   "cell_type": "markdown",
   "metadata": {},
   "source": [
    "在描述性统计结果中，我们可以观察到数据量纲明显不统一，而且存在一部分极偏的分布，虽然逻辑回归对于数据没有分布要求，但是我们知道如果数据服从正态分布的话梯度下降可以收敛得更快。但在这里，我们不对数据进行标准化处理，也不进行量纲统一，为什么？\n",
    "\n",
    "无论算法有什么样的规定，无论统计学中有什么样的要求，我们的最终目的都是要为业务服务。现在我们要制作评分卡，评分卡是要给业务人员们使用的基于新客户填写的各种信息为客户打分的一张卡片，而为了制作这张卡片，我们需要对我们的数据进行一个“分档”，比如说，年龄20~30岁为一档，年龄30~50岁为一档，月收入1W以上为一档，5k~1W为一档，每档的分数不同。\n",
    "\n",
    "一旦我们将数据统一量纲，或者标准化了之后，数据大小和范围都会改变，统计结果是漂亮了，但是对于业务人员来说，他们完全无法理解，标准化后的年龄在0.00328~0.00467之间为一档是什么含义。并且，新客户填写的信息，天生就是量纲不统一的，我们的确可以将所有的信息录入之后，统一进行标准化，然后导入算法计算，但是最终落到业务人员手上去判断的时候，他们会完全不理解为什么录入的信息变成了一串统计上很美但实际上根本看不懂的数字。由于业务要求，在制作评分卡的时候，我们要尽量保持数据的原貌，年龄就是8~110的数字，收入就是大于0，最大值可以无限的数字，即便量纲不统一，我们也不对数据进行标准化处理。"
   ]
  },
  {
   "cell_type": "code",
   "execution_count": 31,
   "metadata": {},
   "outputs": [
    {
     "name": "stdout",
     "output_type": "stream",
     "text": [
      "样本个数:149165;违约的占比6.62%,不违约的占比93.38%\n"
     ]
    }
   ],
   "source": [
    "#探索标签的分布\n",
    "#特征矩阵\n",
    "X = data.iloc[:,1: ]\n",
    "#标签值\n",
    "y = data.iloc[:,0]\n",
    "#查看违约与不违约的数量\n",
    "y.value_counts()\n",
    "n_sample = X.shape[0]\n",
    "n_1_sample = y.value_counts()[1]\n",
    "n_0_sample = y.value_counts()[0]\n",
    "print('样本个数:{};违约的占比{:.2%},不违约的占比{:.2%}'.format(n_sample,\n",
    "                                                n_1_sample/n_sample,\n",
    "                                                n_0_sample/n_sample))\n",
    "#print('样本个数：{}; 1{:.2%}; 0占{:.2%}'.format(n_sample,n_1_sample/n_sample,n_0_sample/n_sample))"
   ]
  },
  {
   "cell_type": "markdown",
   "metadata": {},
   "source": [
    "可以看出，样本严重不均衡。虽然大家都在努力防范信用风险，但实际违约的人并不多。并且，银行并不会真的一棒子打死所有会违约的人，很多人是会还钱的，只是忘记了还款日，很多人是不愿意欠人钱的，但是当时真的很困难，资金周转不过来，所以发生逾期，但一旦他有了钱，他就会把钱换上。对于银行来说，只要你最后能够把钱还上，我都愿意借钱给你，因为我借给你就有收入（利息）。所以，对于银行来说，真正想要被判别出来的其实是”恶意违约“的人，而这部分人数非常非常少，样本就会不均衡。这一直是银行业建模的一个痛点：我们永远希望捕捉少数类。逻辑回归中使用最多的是上采样方法来平衡样本。"
   ]
  },
  {
   "cell_type": "code",
   "execution_count": 32,
   "metadata": {},
   "outputs": [
    {
     "name": "stdout",
     "output_type": "stream",
     "text": [
      "样本个数:278584;违约的占比50.00%,不违约的占比50.00%\n"
     ]
    }
   ],
   "source": [
    "#imblearn是专门用来处理不平衡数据集的库，采用SMOTE的方法上采样解决样本分布不平衡的问题\n",
    "from imblearn.over_sampling import SMOTE\n",
    "sm = SMOTE(random_state=42)#实例化\n",
    "X,y = sm.fit_sample(X,y)\n",
    "n_sample = X.shape[0]\n",
    "n_1_sample = y.value_counts()[1]\n",
    "n_0_sample = y.value_counts()[0]\n",
    "print('样本个数:{};违约的占比{:.2%},不违约的占比{:.2%}'.format(n_sample,\n",
    "                                                n_1_sample/n_sample,\n",
    "                                                n_0_sample/n_sample))"
   ]
  },
  {
   "cell_type": "markdown",
   "metadata": {},
   "source": [
    "分出训练集以及测试集"
   ]
  },
  {
   "cell_type": "code",
   "execution_count": 33,
   "metadata": {},
   "outputs": [],
   "source": [
    "\n",
    "from sklearn.model_selection import train_test_split\n",
    "X = pd.DataFrame(X)\n",
    "y = pd.DataFrame(y)\n",
    "X_train,X_vali,Y_train,Y_vali = train_test_split(X,y,test_size=0.3,random_state=420)\n",
    "#训练集\n",
    "model_data = pd.concat([Y_train,X_train],axis=1)#肩并肩拼接在一起\n",
    "model_data.index = range(model_data.shape[0])\n",
    "model_data.columns = data.columns\n",
    "#验证集\n",
    "vail_data = pd.concat([Y_vali,X_vali],axis=1)\n",
    "vail_data.index = range(vail_data.shape[0])\n",
    "vail_data.columns = data.columns\n",
    "#分别储存，便于后续操作\n",
    "model_data.to_csv(\"./model_data.csv\")\n",
    "vail_data.to_csv(\"./vali_data.csv\")"
   ]
  },
  {
   "cell_type": "markdown",
   "metadata": {},
   "source": [
    "# 3.特征工程\n",
    "## 3.1 等频分箱\n",
    "前面提到过，我们要制作评分卡，是要给各个特征进行分档，以便业务人员能够根据新客户填写的信息为客户打分。因此在评分卡制作过程中，一个重要的步骤就是分箱。可以说，分箱是评分卡最难，也是最核心的思路，分箱的本质，其实就是离散化连续变量，好让拥有不同属性的人被分成不同的类别（打上不同的分数），其实本质比较类似于聚类。那我们在分箱中要回答几个问题：\n",
    "\n",
    "首先，要分多少个箱子才合适？\n",
    "\n",
    "最开始我们并不知道，但是既然是将连续型变量离散化，想也知道箱子个数必然不能太多，最好控制在十个以下。而用来制作评分卡，最好能在4~5个为最佳。我们知道，离散化连续变量必然伴随着信息的损失，并且箱子越少，信息损失越大。为了衡量特征上的信息量以及特征对预测函数的贡献，银行业定义了概念Information value(IV)：\n",
    "![IV](https://pic4.zhimg.com/80/v2-afea53f959954c27ca9c02dbda6810d6_720w.png)\n",
    "其中N是这个特征上箱子的个数，i代表每个箱子，good%是这个箱内的优质客户（标签为0的客户）占整个特征中所有优质客户的比例，bad%是这个箱子里的坏客户（就是那些会违约，标签为1的那些客户）占整个特征中所有坏客户的比例，而WOEi则写作：\n",
    "![WOE](https://pic1.zhimg.com/80/v2-e983240e8e3aca5f992f5b44f21f39e4_720w.png)\n",
    "这是我们在银行业中用来衡量违约概率的指标，中文叫做证据权重(weight of Evidence)，本质其实就是优质客户比上坏客户的比例的对数。WOE是对一个箱子来说的，WOE越大，代表了这个箱子里的优质客户越多。而IV是对整个特征来说的，IV代表的意义是我们特征上的信息量以及这个特征对模型的贡献，由下表来控制：\n",
    "![IV表](https://picb.zhimg.com/80/v2-92d24cd3638e1d7f5e62014b7f9fe672_720w.jpg)\n",
    "可见，IV并非越大越好，我们想要找到IV的大小和箱子个数的平衡点。箱子越多，IV必然越小，因为信息损失会非常多。所以，我们会对特征进行分箱，然后计算每个特征在n个箱子数目下的WOE值，利用IV值的曲线，找出每个特征合适的分箱个数。\n",
    "\n",
    "**其次，分箱要达成什么样的效果？**\n",
    "\n",
    "我们希望不同属性的人有不同的分数，因此我们希望在同一个箱子内的人的属性是尽量相似的，而不同箱子的人的属性是尽量不同的，即业界常说的”组间差异大，组内差异小“。对于评分卡来说，就是说我们希望一个箱子内的人违约概率是类似的，而不同箱子的人的违约概率差距很大，即WOE差距要大，并且每个箱子中坏客户所占的比重（bad%）也要不同。那我们，可以使用卡方检验来对比两个箱子之间的相似性，如果两个箱子之间卡方检验的P值很大，则说明他们非常相似，那我们就可以将这两个箱子合并为一个箱子。\n",
    "\n",
    "基于这样的思想，我们总结出我们对一个特征进行分箱的步骤：\n",
    "\n",
    "- 1.我们首先把连续型变量分成一组数量较多的分类型变量，比如，将几万个样本分成100组，或50组\n",
    "- 2.确保每一组中都要包含两种类别的样本，否则IV值会无法计算\n",
    "- 3.我们对相邻的组进行卡方检验，卡方检验的P值很大的组进行合并，直到数据中的组数小于设定的N箱为止\n",
    "- 4.我们让一个特征分别分成[2,3,4.....20]箱，观察每个分箱个数下的IV值如何变，找出最适合的分箱个数\n",
    "- 5.分箱完毕后，我们计算每个箱的WOE值，观察分箱效果\n",
    "\n",
    "这些步骤都完成后，我们可以对各个特征都进行分箱，然后观察每个特征的IV值，以此来挑选特征。\n",
    "\n",
    "接下来，我们就以\"age\"为例子，来看看分箱如何完成。"
   ]
  },
  {
   "cell_type": "code",
   "execution_count": 34,
   "metadata": {},
   "outputs": [
    {
     "data": {
      "text/plain": [
       "(36.0, 39.0]      12615\n",
       "(20.999, 28.0]    11794\n",
       "(58.0, 61.0]      11361\n",
       "(48.0, 50.0]      11066\n",
       "(46.0, 48.0]      11037\n",
       "(31.0, 34.0]      10827\n",
       "(50.0, 52.0]      10539\n",
       "(43.0, 45.0]      10391\n",
       "(61.0, 64.0]      10172\n",
       "(39.0, 41.0]       9751\n",
       "(41.0, 43.0]       9727\n",
       "(52.0, 54.0]       9711\n",
       "(28.0, 31.0]       9509\n",
       "(74.0, 107.0]      9115\n",
       "(64.0, 68.0]       8907\n",
       "(54.0, 56.0]       8700\n",
       "(68.0, 74.0]       8657\n",
       "(56.0, 58.0]       7902\n",
       "(34.0, 36.0]       7544\n",
       "(45.0, 46.0]       5683\n",
       "Name: qcut, dtype: int64"
      ]
     },
     "execution_count": 34,
     "metadata": {},
     "output_type": "execute_result"
    }
   ],
   "source": [
    "#按照等频对需要分箱的列进行分箱，以“age”列为例\n",
    "\"\"\"\n",
    "pd.qcut，基于分位数的分箱函数，本质是将连续型变量离散化，只能够处理一维数据。返回箱子的上限和下限\n",
    "参数q：要分箱的个数\n",
    "参数retbins=True来要求同时返回结构为：索引为样本索引，元素为分到的箱子的Series\n",
    "现在返回两个值：每个样本属于哪个箱子，以及所有箱子的上限和下限\n",
    "\"\"\"\n",
    "#在这里时让model_data新添加一列叫做“分箱”，这一列其实就是每个样本所对应的箱子\n",
    "model_data['qcut'],updown = pd.qcut(model_data['age'],retbins=True,q=20)\n",
    "model_data.head()\n",
    "model_data['qcut'].value_counts()\n"
   ]
  },
  {
   "cell_type": "code",
   "execution_count": 35,
   "metadata": {},
   "outputs": [
    {
     "data": {
      "text/plain": [
       "array([ 21.,  28.,  31.,  34.,  36.,  39.,  41.,  43.,  45.,  46.,  48.,\n",
       "        50.,  52.,  54.,  56.,  58.,  61.,  64.,  68.,  74., 107.])"
      ]
     },
     "execution_count": 35,
     "metadata": {},
     "output_type": "execute_result"
    }
   ],
   "source": [
    "#所有箱子的上限和下限\n",
    "updown"
   ]
  },
  {
   "cell_type": "code",
   "execution_count": 36,
   "metadata": {},
   "outputs": [
    {
     "data": {
      "text/html": [
       "<div>\n",
       "<style scoped>\n",
       "    .dataframe tbody tr th:only-of-type {\n",
       "        vertical-align: middle;\n",
       "    }\n",
       "\n",
       "    .dataframe tbody tr th {\n",
       "        vertical-align: top;\n",
       "    }\n",
       "\n",
       "    .dataframe thead th {\n",
       "        text-align: right;\n",
       "    }\n",
       "</style>\n",
       "<table border=\"1\" class=\"dataframe\">\n",
       "  <thead>\n",
       "    <tr style=\"text-align: right;\">\n",
       "      <th></th>\n",
       "      <th>SeriousDlqin2yrs</th>\n",
       "      <th>RevolvingUtilizationOfUnsecuredLines</th>\n",
       "      <th>age</th>\n",
       "      <th>NumberOfTime30-59DaysPastDueNotWorse</th>\n",
       "      <th>DebtRatio</th>\n",
       "      <th>MonthlyIncome</th>\n",
       "      <th>NumberOfOpenCreditLinesAndLoans</th>\n",
       "      <th>NumberOfTimes90DaysLate</th>\n",
       "      <th>NumberRealEstateLoansOrLines</th>\n",
       "      <th>NumberOfTime60-89DaysPastDueNotWorse</th>\n",
       "      <th>NumberOfDependents</th>\n",
       "      <th>qcut</th>\n",
       "    </tr>\n",
       "  </thead>\n",
       "  <tbody>\n",
       "    <tr>\n",
       "      <th>0</th>\n",
       "      <td>0</td>\n",
       "      <td>0.015404</td>\n",
       "      <td>53</td>\n",
       "      <td>0</td>\n",
       "      <td>0.121802</td>\n",
       "      <td>4728.0</td>\n",
       "      <td>5</td>\n",
       "      <td>0</td>\n",
       "      <td>0</td>\n",
       "      <td>0</td>\n",
       "      <td>0.000000</td>\n",
       "      <td>(52.0, 54.0]</td>\n",
       "    </tr>\n",
       "    <tr>\n",
       "      <th>1</th>\n",
       "      <td>0</td>\n",
       "      <td>0.168311</td>\n",
       "      <td>63</td>\n",
       "      <td>0</td>\n",
       "      <td>0.141964</td>\n",
       "      <td>1119.0</td>\n",
       "      <td>5</td>\n",
       "      <td>0</td>\n",
       "      <td>0</td>\n",
       "      <td>0</td>\n",
       "      <td>0.000000</td>\n",
       "      <td>(61.0, 64.0]</td>\n",
       "    </tr>\n",
       "    <tr>\n",
       "      <th>2</th>\n",
       "      <td>1</td>\n",
       "      <td>1.063570</td>\n",
       "      <td>39</td>\n",
       "      <td>1</td>\n",
       "      <td>0.417663</td>\n",
       "      <td>3500.0</td>\n",
       "      <td>5</td>\n",
       "      <td>1</td>\n",
       "      <td>0</td>\n",
       "      <td>2</td>\n",
       "      <td>3.716057</td>\n",
       "      <td>(36.0, 39.0]</td>\n",
       "    </tr>\n",
       "    <tr>\n",
       "      <th>3</th>\n",
       "      <td>0</td>\n",
       "      <td>0.088684</td>\n",
       "      <td>73</td>\n",
       "      <td>0</td>\n",
       "      <td>0.522822</td>\n",
       "      <td>5301.0</td>\n",
       "      <td>11</td>\n",
       "      <td>0</td>\n",
       "      <td>2</td>\n",
       "      <td>0</td>\n",
       "      <td>0.000000</td>\n",
       "      <td>(68.0, 74.0]</td>\n",
       "    </tr>\n",
       "    <tr>\n",
       "      <th>4</th>\n",
       "      <td>1</td>\n",
       "      <td>0.622999</td>\n",
       "      <td>53</td>\n",
       "      <td>0</td>\n",
       "      <td>0.423650</td>\n",
       "      <td>13000.0</td>\n",
       "      <td>9</td>\n",
       "      <td>0</td>\n",
       "      <td>2</td>\n",
       "      <td>0</td>\n",
       "      <td>0.181999</td>\n",
       "      <td>(52.0, 54.0]</td>\n",
       "    </tr>\n",
       "  </tbody>\n",
       "</table>\n",
       "</div>"
      ],
      "text/plain": [
       "   SeriousDlqin2yrs  RevolvingUtilizationOfUnsecuredLines  age  \\\n",
       "0                 0                              0.015404   53   \n",
       "1                 0                              0.168311   63   \n",
       "2                 1                              1.063570   39   \n",
       "3                 0                              0.088684   73   \n",
       "4                 1                              0.622999   53   \n",
       "\n",
       "   NumberOfTime30-59DaysPastDueNotWorse  DebtRatio  MonthlyIncome  \\\n",
       "0                                     0   0.121802         4728.0   \n",
       "1                                     0   0.141964         1119.0   \n",
       "2                                     1   0.417663         3500.0   \n",
       "3                                     0   0.522822         5301.0   \n",
       "4                                     0   0.423650        13000.0   \n",
       "\n",
       "   NumberOfOpenCreditLinesAndLoans  NumberOfTimes90DaysLate  \\\n",
       "0                                5                        0   \n",
       "1                                5                        0   \n",
       "2                                5                        1   \n",
       "3                               11                        0   \n",
       "4                                9                        0   \n",
       "\n",
       "   NumberRealEstateLoansOrLines  NumberOfTime60-89DaysPastDueNotWorse  \\\n",
       "0                             0                                     0   \n",
       "1                             0                                     0   \n",
       "2                             0                                     2   \n",
       "3                             2                                     0   \n",
       "4                             2                                     0   \n",
       "\n",
       "   NumberOfDependents          qcut  \n",
       "0            0.000000  (52.0, 54.0]  \n",
       "1            0.000000  (61.0, 64.0]  \n",
       "2            3.716057  (36.0, 39.0]  \n",
       "3            0.000000  (68.0, 74.0]  \n",
       "4            0.181999  (52.0, 54.0]  "
      ]
     },
     "execution_count": 36,
     "metadata": {},
     "output_type": "execute_result"
    }
   ],
   "source": [
    "model_data.head()"
   ]
  },
  {
   "cell_type": "code",
   "execution_count": 37,
   "metadata": {},
   "outputs": [
    {
     "data": {
      "text/plain": [
       "[(21.0, 28.0, 4243, 7551),\n",
       " (28.0, 31.0, 3571, 5938),\n",
       " (31.0, 34.0, 4075, 6752),\n",
       " (34.0, 36.0, 2908, 4636),\n",
       " (36.0, 39.0, 5182, 7433),\n",
       " (39.0, 41.0, 3956, 5795),\n",
       " (41.0, 43.0, 4002, 5725),\n",
       " (43.0, 45.0, 4389, 6002),\n",
       " (45.0, 46.0, 2419, 3264),\n",
       " (46.0, 48.0, 4813, 6224),\n",
       " (48.0, 50.0, 4900, 6166),\n",
       " (50.0, 52.0, 4728, 5811),\n",
       " (52.0, 54.0, 4681, 5030),\n",
       " (54.0, 56.0, 4677, 4023),\n",
       " (56.0, 58.0, 4483, 3419),\n",
       " (58.0, 61.0, 6583, 4778),\n",
       " (61.0, 64.0, 6968, 3204),\n",
       " (64.0, 68.0, 6623, 2284),\n",
       " (68.0, 74.0, 6753, 1904),\n",
       " (74.0, 107.0, 7737, 1378)]"
      ]
     },
     "execution_count": 37,
     "metadata": {},
     "output_type": "execute_result"
    }
   ],
   "source": [
    "# 统计每个分箱中0和1的数量\n",
    "# 这里使用了数据透视表的功能groupby\n",
    "count_y0 = model_data[model_data['SeriousDlqin2yrs'] == 0].groupby(\"qcut\").count()['SeriousDlqin2yrs']\n",
    "count_y1 = model_data[model_data['SeriousDlqin2yrs'] == 1].groupby(\"qcut\").count()['SeriousDlqin2yrs']\n",
    "#num_bins（箱子的数量）值分别为每个区间的上界，下界，0出现的次数，1出现的次数\n",
    "num_bins = [*zip(updown,updown[1:],count_y0,count_y1)]\n",
    "num_bins"
   ]
  },
  {
   "cell_type": "markdown",
   "metadata": {},
   "source": [
    "# 原文的代码如下："
   ]
  },
  {
   "cell_type": "code",
   "execution_count": 38,
   "metadata": {},
   "outputs": [],
   "source": [
    "for i in range(20):\n",
    "    #如果第一个组没有包含正样本或负样本，向后合并\n",
    "    if 0 in num_bins[0][2:]:\n",
    "        num_bins[0:2] = [(\n",
    "            num_bins[0][0],\n",
    "            num_bins[1][1],\n",
    "            num_bins[0][2]+num_bins[1][2],\n",
    "            num_bins[0][3]+num_bins[1][3])]\n",
    "        continue\n",
    "\n",
    "    \"\"\"\n",
    "    合并了之后，第一行的组是否一定有两种样本了呢？不一定\n",
    "    如果原本的第一组和第二组都没有包含正样本，或者都没有包含负样本，那即便合并之后，\n",
    "    第一行的组也还是没有包含两种样本\n",
    "    所以我们在每次合并完毕之后，还需要再检查，第一组是否已经包含了两种样本\n",
    "    这里使用continue跳出了本次循环，开始下一次循环，所以回到了最开始的for i in range(20), 让i+1\n",
    "    这就跳过了下面的代码，又从头开始检查，第一组是否包含了两种样本\n",
    "    如果第一组中依然没有包含两种样本，则if通过，继续合并，每合并一次就会循环检查一次，最多合并20次\n",
    "    如果第一组中已经包含两种样本，则if不通过，就开始执行下面的代码\n",
    "    \"\"\"\n",
    "    #已经确认第一组中肯定包含两种样本了，如果其他组没有包含两种样本，就向前合并\n",
    "    #此时的num_bins已经被上面的代码处理过，可能被合并过，也可能没有被合并\n",
    "    #但无论如何，我们要在num_bins中遍历，所以写成in range(len(num_bins))\n",
    "    for i in range(len(num_bins)):\n",
    "        if 0 in num_bins[i][2:]:\n",
    "            num_bins[i-1:i+1] = [(\n",
    "                num_bins[i-1][0],\n",
    "                num_bins[i][1],\n",
    "                num_bins[i-1][2]+num_bins[i][2],\n",
    "                num_bins[i-1][3]+num_bins[i][3])]\n",
    "        break\n",
    "        #如果对第一组和对后面所有组的判断中，都没有进入if去合并，则提前结束所有的循环\n",
    "    else:\n",
    "        break\n",
    "\n",
    "    \"\"\"\n",
    "    这个break，只有在if被满足的条件下才会被触发\n",
    "    也就是说，只有发生了合并，才会打断for i in range(len(num_bins))这个循环\n",
    "    为什么要打断这个循环？因为我们是在range(len(num_bins))中遍历\n",
    "    但合并发生后，len(num_bins)发生了改变，但循环却不会重新开始\n",
    "    举个例子，本来num_bins是5组，for i in range(len(num_bins))在第一次运行的时候就等于for i in \n",
    "    range(5)\n",
    "    range中输入的变量会被转换为数字，不会跟着num_bins的变化而变化，所以i会永远在[0,1,2,3,4]中遍历\n",
    "    进行合并后，num_bins变成了4组，已经不存在=4的索引了，但i却依然会取到4，循环就会报错\n",
    "    因此在这里，一旦if被触发，即一旦合并发生，我们就让循环被破坏，使用break跳出当前循环\n",
    "    循环就会回到最开始的for i in range(20)中\n",
    "    此时判断第一组是否有两种标签的代码不会被触发，但for i in range(len(num_bins))却会被重新运行\n",
    "    这样就更新了i的取值，循环就不会报错了\n",
    "    \"\"\""
   ]
  },
  {
   "cell_type": "markdown",
   "metadata": {},
   "source": [
    "# 使用栈来构造代码会更简单一些"
   ]
  },
  {
   "cell_type": "code",
   "execution_count": 39,
   "metadata": {},
   "outputs": [],
   "source": [
    "test = [\n",
    "        (21.0, 28.0, 0, 7524),\n",
    "     (28.0, 31.0, 0, 5901),\n",
    "     (31.0, 34.0, 0, 6756),\n",
    "     (34.0, 36.0, 0, 4609),\n",
    "     (36.0, 39.0, 0, 7518),\n",
    "     (39.0, 41.0, 0, 5852),\n",
    "     (41.0, 43.0, 0, 5672),\n",
    "     (43.0, 45.0, 4389, 0),\n",
    "     (45.0, 46.0, 2419, 0),\n",
    "     (46.0, 48.0, 4813, 0),\n",
    "     (48.0, 50.0, 4900, 0),\n",
    "     (50.0, 52.0, 4728, 0),\n",
    "     (52.0, 54.0, 0, 5003),\n",
    "     (54.0, 56.0, 4677, 4014),\n",
    "     (56.0, 58.0, 0, 3443),\n",
    "     (58.0, 61.0, 0, 4770),\n",
    "     (61.0, 64.0, 6968, 3189),\n",
    "     (64.0, 68.0, 6623, 2284),\n",
    "     (68.0, 74.0, 0, 1919),\n",
    "     (74.0, 107.0, 7737, 1390)]\n",
    "#尝试用栈来实现分箱合并\n",
    "def get_newbins(bins):\n",
    "    class Stack():   #定义类\n",
    "        def __init__(self):  #产生一个空的容器\n",
    "            self.__list = []\n",
    "        def push(self, item):  #入栈\n",
    "            self.__list.append(item)\n",
    "        def pop(self):  #出栈\n",
    "            return self.__list.pop()\n",
    "        def speek(self):  #返回栈顶元素\n",
    "            return self.__list[-1]\n",
    "        def is_empty(self):  #判断是否已为空\n",
    "            return not self.__list\n",
    "        def size(self):  #返回栈中元素个数\n",
    "            return len(self.__list)\n",
    "    \n",
    "    s = Stack()\n",
    "    #首先将列表翻转，降序\n",
    "    bins = sorted(num_bins,reverse=True)\n",
    "    #全部入栈\n",
    "    for i in bins:\n",
    "        s.push(i)\n",
    "    lis =[]\n",
    "    while not s.is_empty():\n",
    "        s1 = s.pop()\n",
    "        if 0 in s1[2:]:\n",
    "            s2 = s.pop()\n",
    "            s3 = (s1[0],s2[1],s1[2]+s2[2],s1[3]+s2[3])\n",
    "            s.push(s3)\n",
    "        else:\n",
    "            lis.append(s1)\n",
    "    return lis"
   ]
  },
  {
   "cell_type": "code",
   "execution_count": 40,
   "metadata": {},
   "outputs": [
    {
     "data": {
      "text/plain": [
       "[(21.0, 28.0, 4243, 7551),\n",
       " (28.0, 31.0, 3571, 5938),\n",
       " (31.0, 34.0, 4075, 6752),\n",
       " (34.0, 36.0, 2908, 4636),\n",
       " (36.0, 39.0, 5182, 7433),\n",
       " (39.0, 41.0, 3956, 5795),\n",
       " (41.0, 43.0, 4002, 5725),\n",
       " (43.0, 45.0, 4389, 6002),\n",
       " (45.0, 46.0, 2419, 3264),\n",
       " (46.0, 48.0, 4813, 6224),\n",
       " (48.0, 50.0, 4900, 6166),\n",
       " (50.0, 52.0, 4728, 5811),\n",
       " (52.0, 54.0, 4681, 5030),\n",
       " (54.0, 56.0, 4677, 4023),\n",
       " (56.0, 58.0, 4483, 3419),\n",
       " (58.0, 61.0, 6583, 4778),\n",
       " (61.0, 64.0, 6968, 3204),\n",
       " (64.0, 68.0, 6623, 2284),\n",
       " (68.0, 74.0, 6753, 1904),\n",
       " (74.0, 107.0, 7737, 1378)]"
      ]
     },
     "execution_count": 40,
     "metadata": {},
     "output_type": "execute_result"
    }
   ],
   "source": [
    "get_newbins(test)"
   ]
  },
  {
   "cell_type": "markdown",
   "metadata": {},
   "source": [
    "# 3.3 定义WOE和IV函数"
   ]
  },
  {
   "cell_type": "code",
   "execution_count": 41,
   "metadata": {},
   "outputs": [],
   "source": [
    "#计算WOE和BADRATE\n",
    "#BAD RATE与bad%不是一个东西\n",
    "#BAD RATE是一个箱中，坏的样本所占箱子中总样本的比例 (bad/total)\n",
    "#而bad%是一个箱中的坏样本占整个特征中的坏样本的比例\n",
    "def get_woe(num_bins):\n",
    "    #通过numbins计算woe\n",
    "    columns = ['min','max','count_0','count_1']\n",
    "    df = pd.DataFrame(num_bins,columns=columns)\n",
    "    df['total'] = df.count_0 + df.count_1 #一个箱子中所有的样本数\n",
    "    df['percentage'] = df.total / df.total.sum()#一个箱子的样本数占所有样本的比例\n",
    "    df['good%'] = df.count_0 / df.count_0.sum()\n",
    "    df['bad%'] = df.count_1 / df.count_1.sum()\n",
    "    df['woe'] = np.log(df['good%']/df['bad%'])\n",
    "    return df\n",
    "\n",
    "#计算IV值\n",
    "def get_iv(df):\n",
    "    rate = df['good%'] - df['bad%']\n",
    "    iv = np.sum(rate * df.woe)\n",
    "    return iv\n"
   ]
  },
  {
   "cell_type": "markdown",
   "metadata": {},
   "source": [
    "# 3.4 利用卡方检验合并箱体，并画出IV曲线"
   ]
  },
  {
   "cell_type": "code",
   "execution_count": 42,
   "metadata": {},
   "outputs": [
    {
     "data": {
      "image/png": "[encoded data removed]",
      "text/plain": [
       "<Figure size 432x288 with 1 Axes>"
      ]
     },
     "metadata": {},
     "output_type": "display_data"
    }
   ],
   "source": [
    "num_bins_ = num_bins.copy()#不希望覆盖源数据\n",
    "import scipy\n",
    "IV = []\n",
    "axisx = []\n",
    "\n",
    "while len(num_bins_) > 2:#大于 设置的最低分箱个数\n",
    "    pvs = []\n",
    "    #获取 num_bins_两两之间的卡方检验的置信度（或者卡方值）\n",
    "    for i in range(len(num_bins_) - 1):\n",
    "        x1 = num_bins_[i][2:]\n",
    "        x2 = num_bins_[i+1][2:]\n",
    "        # 0 返回 chi2 值，1 返回 p 值。直接用p值进行判断就行\n",
    "        pv = scipy.stats.chi2_contingency([x1,x2])[1]#p值\n",
    "        pvs.append(pv)\n",
    "    #合并P值最大的两组\n",
    "    i = pvs.index(max(pvs))#P值最大的对象\n",
    "    num_bins_[i:i+2] = [(\n",
    "        num_bins_[i][0],\n",
    "        num_bins_[i+1][1],\n",
    "        num_bins_[i][2] + num_bins_[i+1][2],\n",
    "        num_bins_[i][3] + num_bins_[i+1][3]\n",
    "    )]\n",
    "    bins_df = get_woe(num_bins_)\n",
    "    axisx.append(len(num_bins_))\n",
    "    IV.append(get_iv(bins_df))\n",
    "plt.figure()\n",
    "plt.plot(axisx,IV,'r')\n",
    "plt.xticks(axisx)\n",
    "plt.title(\"Box number with IV\")\n",
    "plt.xlabel(\"number of box\")\n",
    "plt.ylabel(\"IV\")\n",
    "plt.grid()\n",
    "plt.show()\n",
    "#选择转折点处，也就是下坠最快的折线点，所以这里对于age来说选择箱数为6"
   ]
  },
  {
   "cell_type": "markdown",
   "metadata": {},
   "source": [
    "# 3.5 定义最佳分箱函数，并验证分箱结果"
   ]
  },
  {
   "cell_type": "code",
   "execution_count": 43,
   "metadata": {},
   "outputs": [],
   "source": [
    "def get_bin(num_bins_,n):\n",
    "    while len(num_bins_) > n:\n",
    "        pvs = []\n",
    "        for i in range(len(num_bins_)-1):\n",
    "            x1 = num_bins_[i][2:]\n",
    "            x2 = num_bins_[i+1][2:]\n",
    "            pv = scipy.stats.chi2_contingency([x1,x2])[1]\n",
    "            # chi2 = scipy.stats.chi2_contingency([x1,x2])[0]\n",
    "            pvs.append(pv)\n",
    "\n",
    "        i = pvs.index(max(pvs))\n",
    "        num_bins_[i:i+2] = [(\n",
    "                num_bins_[i][0],\n",
    "                num_bins_[i+1][1],\n",
    "                num_bins_[i][2]+num_bins_[i+1][2],\n",
    "                num_bins_[i][3]+num_bins_[i+1][3])]\n",
    "    return num_bins_"
   ]
  },
  {
   "cell_type": "code",
   "execution_count": 44,
   "metadata": {},
   "outputs": [
    {
     "data": {
      "text/plain": [
       "[(21.0, 36.0, 14797, 24877),\n",
       " (36.0, 54.0, 39070, 51450),\n",
       " (54.0, 61.0, 15743, 12220),\n",
       " (61.0, 64.0, 6968, 3204),\n",
       " (64.0, 74.0, 13376, 4188),\n",
       " (74.0, 107.0, 7737, 1378)]"
      ]
     },
     "execution_count": 44,
     "metadata": {},
     "output_type": "execute_result"
    }
   ],
   "source": [
    "afterbins = get_bin(num_bins,6)\n",
    "afterbins"
   ]
  },
  {
   "cell_type": "code",
   "execution_count": 45,
   "metadata": {},
   "outputs": [
    {
     "data": {
      "text/html": [
       "<div>\n",
       "<style scoped>\n",
       "    .dataframe tbody tr th:only-of-type {\n",
       "        vertical-align: middle;\n",
       "    }\n",
       "\n",
       "    .dataframe tbody tr th {\n",
       "        vertical-align: top;\n",
       "    }\n",
       "\n",
       "    .dataframe thead th {\n",
       "        text-align: right;\n",
       "    }\n",
       "</style>\n",
       "<table border=\"1\" class=\"dataframe\">\n",
       "  <thead>\n",
       "    <tr style=\"text-align: right;\">\n",
       "      <th></th>\n",
       "      <th>min</th>\n",
       "      <th>max</th>\n",
       "      <th>count_0</th>\n",
       "      <th>count_1</th>\n",
       "      <th>total</th>\n",
       "      <th>percentage</th>\n",
       "      <th>good%</th>\n",
       "      <th>bad%</th>\n",
       "      <th>woe</th>\n",
       "    </tr>\n",
       "  </thead>\n",
       "  <tbody>\n",
       "    <tr>\n",
       "      <th>0</th>\n",
       "      <td>21.0</td>\n",
       "      <td>36.0</td>\n",
       "      <td>14797</td>\n",
       "      <td>24877</td>\n",
       "      <td>39674</td>\n",
       "      <td>0.203448</td>\n",
       "      <td>0.151467</td>\n",
       "      <td>0.255629</td>\n",
       "      <td>-0.523355</td>\n",
       "    </tr>\n",
       "    <tr>\n",
       "      <th>1</th>\n",
       "      <td>36.0</td>\n",
       "      <td>54.0</td>\n",
       "      <td>39070</td>\n",
       "      <td>51450</td>\n",
       "      <td>90520</td>\n",
       "      <td>0.464186</td>\n",
       "      <td>0.399934</td>\n",
       "      <td>0.528685</td>\n",
       "      <td>-0.279091</td>\n",
       "    </tr>\n",
       "    <tr>\n",
       "      <th>2</th>\n",
       "      <td>54.0</td>\n",
       "      <td>61.0</td>\n",
       "      <td>15743</td>\n",
       "      <td>12220</td>\n",
       "      <td>27963</td>\n",
       "      <td>0.143394</td>\n",
       "      <td>0.161151</td>\n",
       "      <td>0.125569</td>\n",
       "      <td>0.249486</td>\n",
       "    </tr>\n",
       "    <tr>\n",
       "      <th>3</th>\n",
       "      <td>61.0</td>\n",
       "      <td>64.0</td>\n",
       "      <td>6968</td>\n",
       "      <td>3204</td>\n",
       "      <td>10172</td>\n",
       "      <td>0.052162</td>\n",
       "      <td>0.071327</td>\n",
       "      <td>0.032923</td>\n",
       "      <td>0.773092</td>\n",
       "    </tr>\n",
       "    <tr>\n",
       "      <th>4</th>\n",
       "      <td>64.0</td>\n",
       "      <td>74.0</td>\n",
       "      <td>13376</td>\n",
       "      <td>4188</td>\n",
       "      <td>17564</td>\n",
       "      <td>0.090068</td>\n",
       "      <td>0.136922</td>\n",
       "      <td>0.043035</td>\n",
       "      <td>1.157403</td>\n",
       "    </tr>\n",
       "    <tr>\n",
       "      <th>5</th>\n",
       "      <td>74.0</td>\n",
       "      <td>107.0</td>\n",
       "      <td>7737</td>\n",
       "      <td>1378</td>\n",
       "      <td>9115</td>\n",
       "      <td>0.046742</td>\n",
       "      <td>0.079199</td>\n",
       "      <td>0.014160</td>\n",
       "      <td>1.721545</td>\n",
       "    </tr>\n",
       "  </tbody>\n",
       "</table>\n",
       "</div>"
      ],
      "text/plain": [
       "    min    max  count_0  count_1  total  percentage     good%      bad%  \\\n",
       "0  21.0   36.0    14797    24877  39674    0.203448  0.151467  0.255629   \n",
       "1  36.0   54.0    39070    51450  90520    0.464186  0.399934  0.528685   \n",
       "2  54.0   61.0    15743    12220  27963    0.143394  0.161151  0.125569   \n",
       "3  61.0   64.0     6968     3204  10172    0.052162  0.071327  0.032923   \n",
       "4  64.0   74.0    13376     4188  17564    0.090068  0.136922  0.043035   \n",
       "5  74.0  107.0     7737     1378   9115    0.046742  0.079199  0.014160   \n",
       "\n",
       "        woe  \n",
       "0 -0.523355  \n",
       "1 -0.279091  \n",
       "2  0.249486  \n",
       "3  0.773092  \n",
       "4  1.157403  \n",
       "5  1.721545  "
      ]
     },
     "execution_count": 45,
     "metadata": {},
     "output_type": "execute_result"
    }
   ],
   "source": [
    "bins_df = get_woe(afterbins)\n",
    "bins_df"
   ]
  },
  {
   "cell_type": "markdown",
   "metadata": {},
   "source": [
    "希望每组的bad_rate相差越大越好。num_bins保留的信息越多越好\n",
    "\n",
    "woe差异越大越好，应该具有单调性，随着箱的增加，要么由正到负，要么由负到正，只能有一个转折过程。如果woe值大小变化是有两个转折，比如呈现w型，证明分箱过程有问题"
   ]
  },
  {
   "cell_type": "markdown",
   "metadata": {},
   "source": [
    "# 3.6 定义根据IV曲线选取每个特征的最佳分箱个数函数\n",
    "\n",
    "结合3.1至3.5，将前面的过程封装为一个函数。"
   ]
  },
  {
   "cell_type": "code",
   "execution_count": 46,
   "metadata": {},
   "outputs": [],
   "source": [
    "class Stack():   #定义类\n",
    "    def __init__(self):  #产生一个空的容器\n",
    "        self.__list = []\n",
    "    def push(self, item):  #入栈\n",
    "        self.__list.append(item)\n",
    "    def pop(self):  #出栈\n",
    "        return self.__list.pop()\n",
    "    def speek(self):  #返回栈顶元素\n",
    "        return self.__list[-1]\n",
    "    def is_empty(self):  #判断是否已为空\n",
    "        return not self.__list\n",
    "    def size(self):  #返回栈中元素个数\n",
    "        return len(self.__list)\n",
    "    \n",
    "def graphforbestbin(DF,X,Y,n=5,q=20,graph=True):\n",
    "    '''\n",
    "    自动最优分箱函数，基于卡方检验的分箱\n",
    "\n",
    "    参数：\n",
    "    DF: 需要输入的数据\n",
    "    X: 需要分箱的列名\n",
    "    Y: 分箱数据对应的标签 Y 列名\n",
    "    n: 保留分箱个数\n",
    "    q: 初始分箱的个数\n",
    "    graph: 是否要画出IV图像\n",
    "    区间为前开后闭 (]\n",
    "    '''\n",
    "    DF = DF[[X,Y]].copy()#[[X,Y]]是将这两列单独拼接成一个新的表\n",
    "    #开始分箱\n",
    "    DF['qcut'],bins = pd.qcut(DF[X],retbins=True,duplicates='drop',q=q)\n",
    "    coount_y0 = DF.loc[DF[Y] == 0].groupby('qcut').count()[Y]#取出为0的计数结果\n",
    "    coount_y1 = DF.loc[DF[Y] == 1].groupby('qcut').count()[Y]#取出为1的计数结果\n",
    "    #将序列解压\n",
    "    num_bins = [*zip(bins,bins[1:],coount_y0,coount_y1)]\n",
    "    \n",
    "    #将num_bins合并直到没有0样本情况存在\n",
    "    def get_newbins(bins):\n",
    "        class Stack():\n",
    "            #定义类\n",
    "            def __init__(self):  #产生一个空的容器\n",
    "                self.__list = []\n",
    "            def push(self, item):  #入栈\n",
    "                self.__list.append(item)\n",
    "            def pop(self):  #出栈\n",
    "                return self.__list.pop()\n",
    "            def speek(self):  #返回栈顶元素\n",
    "                return self.__list[-1]\n",
    "            def is_empty(self):  #判断是否已为空\n",
    "                return not self.__list\n",
    "            def size(self):  #返回栈中元素个数\n",
    "                return len(self.__list)\n",
    "\n",
    "        s = Stack()\n",
    "        #首先将列表翻转，降序\n",
    "        bins = sorted(num_bins,reverse=True)\n",
    "        #全部入栈\n",
    "        for i in bins:\n",
    "            s.push(i)\n",
    "        lis =[]\n",
    "        while not s.is_empty():\n",
    "            s1 = s.pop()\n",
    "            if 0 in s1[2:]:\n",
    "                s2 = s.pop()\n",
    "                s3 = (s1[0],s2[1],s1[2]+s2[2],s1[3]+s2[3])\n",
    "                s.push(s3)\n",
    "            else:\n",
    "                lis.append(s1)\n",
    "        return lis\n",
    "\n",
    "    num_bins = get_newbins(num_bins)\n",
    "    \n",
    "    def get_woe(num_bins):\n",
    "        columns = [\"min\",\"max\",\"count_0\",\"count_1\"]\n",
    "        df = pd.DataFrame(num_bins,columns=columns)\n",
    "        df[\"total\"] = df.count_0 + df.count_1\n",
    "        df[\"percentage\"] = df.total / df.total.sum()\n",
    "        df[\"bad_rate\"] = df.count_1 / df.total\n",
    "        df[\"good%\"] = df.count_0/df.count_0.sum()\n",
    "        df[\"bad%\"] = df.count_1/df.count_1.sum()\n",
    "        df[\"woe\"] = np.log(df[\"good%\"] / df[\"bad%\"])\n",
    "        return df\n",
    "\n",
    "    def get_iv(df):\n",
    "        rate = df[\"good%\"] - df[\"bad%\"]\n",
    "        iv = np.sum(rate * df.woe)\n",
    "        return iv\n",
    "\n",
    "    IV = []\n",
    "    axisx = []\n",
    "    while len(num_bins) > n:\n",
    "        pvs = []\n",
    "        for i in range(len(num_bins)-1):\n",
    "            x1 = num_bins[i][2:]\n",
    "            x2 = num_bins[i+1][2:]\n",
    "            pv = scipy.stats.chi2_contingency([x1,x2])[1]\n",
    "            pvs.append(pv)\n",
    "\n",
    "        i = pvs.index(max(pvs))\n",
    "        num_bins[i:i+2] = [(\n",
    "            num_bins[i][0],\n",
    "            num_bins[i+1][1],\n",
    "            num_bins[i][2]+num_bins[i+1][2],\n",
    "            num_bins[i][3]+num_bins[i+1][3])]\n",
    "\n",
    "        bins_df = pd.DataFrame(get_woe(num_bins))\n",
    "        axisx.append(len(num_bins))\n",
    "        IV.append(get_iv(bins_df))\n",
    "\n",
    "    if graph:\n",
    "        plt.figure()\n",
    "        plt.plot(axisx,IV)\n",
    "        plt.xticks(axisx)\n",
    "        plt.xlabel(\"number of box\")\n",
    "        plt.ylabel(\"IV\")\n",
    "        plt.show()\n",
    "    return 0\n",
    "\n",
    "\n",
    "\n"
   ]
  },
  {
   "cell_type": "code",
   "execution_count": 47,
   "metadata": {
    "scrolled": true
   },
   "outputs": [
    {
     "name": "stdout",
     "output_type": "stream",
     "text": [
      "RevolvingUtilizationOfUnsecuredLines\n"
     ]
    },
    {
     "data": {
      "image/png": "[encoded data removed]",
      "text/plain": [
       "<Figure size 432x288 with 1 Axes>"
      ]
     },
     "metadata": {},
     "output_type": "display_data"
    },
    {
     "name": "stdout",
     "output_type": "stream",
     "text": [
      "age\n"
     ]
    },
    {
     "data": {
      "image/png": "[encoded data removed]",
      "text/plain": [
       "<Figure size 432x288 with 1 Axes>"
      ]
     },
     "metadata": {},
     "output_type": "display_data"
    },
    {
     "name": "stdout",
     "output_type": "stream",
     "text": [
      "NumberOfTime30-59DaysPastDueNotWorse\n"
     ]
    },
    {
     "data": {
      "image/png": "[encoded data removed]",
      "text/plain": [
       "<Figure size 432x288 with 1 Axes>"
      ]
     },
     "metadata": {},
     "output_type": "display_data"
    },
    {
     "name": "stdout",
     "output_type": "stream",
     "text": [
      "DebtRatio\n"
     ]
    },
    {
     "data": {
      "image/png": "[encoded data removed]",
      "text/plain": [
       "<Figure size 432x288 with 1 Axes>"
      ]
     },
     "metadata": {},
     "output_type": "display_data"
    },
    {
     "name": "stdout",
     "output_type": "stream",
     "text": [
      "MonthlyIncome\n"
     ]
    },
    {
     "data": {
      "image/png": "[encoded data removed]",
      "text/plain": [
       "<Figure size 432x288 with 1 Axes>"
      ]
     },
     "metadata": {},
     "output_type": "display_data"
    },
    {
     "name": "stdout",
     "output_type": "stream",
     "text": [
      "NumberOfOpenCreditLinesAndLoans\n"
     ]
    },
    {
     "data": {
      "image/png": "[encoded data removed]",
      "text/plain": [
       "<Figure size 432x288 with 1 Axes>"
      ]
     },
     "metadata": {},
     "output_type": "display_data"
    },
    {
     "name": "stdout",
     "output_type": "stream",
     "text": [
      "NumberOfTimes90DaysLate\n"
     ]
    },
    {
     "data": {
      "image/png": "[encoded data removed]",
      "text/plain": [
       "<Figure size 432x288 with 1 Axes>"
      ]
     },
     "metadata": {},
     "output_type": "display_data"
    },
    {
     "name": "stdout",
     "output_type": "stream",
     "text": [
      "NumberRealEstateLoansOrLines\n"
     ]
    },
    {
     "data": {
      "image/png": "[encoded data removed]",
      "text/plain": [
       "<Figure size 432x288 with 1 Axes>"
      ]
     },
     "metadata": {},
     "output_type": "display_data"
    },
    {
     "name": "stdout",
     "output_type": "stream",
     "text": [
      "NumberOfTime60-89DaysPastDueNotWorse\n"
     ]
    },
    {
     "data": {
      "image/png": "[encoded data removed]",
      "text/plain": [
       "<Figure size 432x288 with 1 Axes>"
      ]
     },
     "metadata": {},
     "output_type": "display_data"
    },
    {
     "name": "stdout",
     "output_type": "stream",
     "text": [
      "NumberOfDependents\n"
     ]
    },
    {
     "data": {
      "image/png": "[encoded data removed]",
      "text/plain": [
       "<Figure size 432x288 with 1 Axes>"
      ]
     },
     "metadata": {},
     "output_type": "display_data"
    }
   ],
   "source": [
    "model_data.columns\n",
    "\n",
    "for i in model_data.columns[1:-1]:\n",
    "    print(i)\n",
    "    graphforbestbin(model_data,i,\"SeriousDlqin2yrs\",n=2,q=20)"
   ]
  },
  {
   "cell_type": "markdown",
   "metadata": {},
   "source": [
    "我们发现，不是所有的特征都可以使用这个分箱函数，比如说有的特征，像家人数量，就无法分出20组。于是我们将可以分箱的特征放出来单独分组，不能自动分箱的变量自己观察然后手写："
   ]
  },
  {
   "cell_type": "code",
   "execution_count": null,
   "metadata": {},
   "outputs": [],
   "source": [
    "auto_col_bins = {\"RevolvingUtilizationOfUnsecuredLines\":6,\n",
    "                \"age\":5,\n",
    "                \"DebtRatio\":4,\n",
    "                \"MonthlyIncome\":3,\n",
    "                \"NumberOfOpenCreditLinesAndLoans\":5}"
   ]
  }
 ],
 "metadata": {
  "kernelspec": {
   "display_name": "Python 3",
   "language": "python",
   "name": "python3"
  },
  "language_info": {
   "codemirror_mode": {
    "name": "ipython",
    "version": 3
   },
   "file_extension": ".py",
   "mimetype": "text/x-python",
   "name": "python",
   "nbconvert_exporter": "python",
   "pygments_lexer": "ipython3",
   "version": "3.6.5"
  }
 },
 "nbformat": 4,
 "nbformat_minor": 2
}
