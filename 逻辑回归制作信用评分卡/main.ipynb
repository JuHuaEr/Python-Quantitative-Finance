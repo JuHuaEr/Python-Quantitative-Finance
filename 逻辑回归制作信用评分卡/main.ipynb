{
 "cells": [
  {
   "cell_type": "markdown",
   "metadata": {},
   "source": [
    "# 1.前言\n",
    "在银行借贷场景中，评分卡是一种以分数形式来衡量一个客户的信用风险大小的手段，它衡量向受信人或需要融资的公司不能如期履行合同中的还本付息责任和让授信人或银行等金融机构造成经济损失的可能性的一种方式。一般来说，评分卡打出的分数越高，客户的信用越好，风险越小。\n",
    "\n",
    "这些”借钱的人“，可能是个人，有可能是有需求的公司和企业。对于企业来说，我们按照融资主体的融资用途，分别使用企业融资模型，现金流融资模型，项目融资模型等模型。而对于个人来说，我们有”四张卡“来评判个人的信用程度：A卡，B卡，C卡和F卡。而众人常说的“评分卡”其实是指A卡，又称为申请者评级模型，主要应用于相关融 资类业务中新用户的主体评级，即判断金融机构是否应该借钱给一个新用户，如果这个人的风险太高，我们可以拒绝贷款。\n",
    "\n",
    "本项目使用的数据集由[kaggle提供](https://link.zhihu.com/?target=https%3A//www.kaggle.com/c/GiveMeSomeCredit/data)\n",
    "[数据集下载地址](https://www.jianshu.com/p/b94036ec839f)"
   ]
  },
  {
   "cell_type": "markdown",
   "metadata": {},
   "source": [
    "SeriousDlqin2yrs：超过90天或更糟的逾期拖欠\n",
    "\n",
    "RevolvingUtilization Of UnsecuredLines：无担保放款的循环利用：除了不动产和像车 贷那样除以信用额度总和的无分期付款债务的信用卡和个人信用额度总额\n",
    "\n",
    "Age：借款人年龄\n",
    "\n",
    "NumberOfTime30-59DaysPastDueNotWorse：30-59天逾期次数\n",
    "\n",
    "DebtRatio：负债比例\n",
    "\n",
    "MonthlyIncome：月收入\n",
    "\n",
    "Number Of OpenCreditLinesAndLoans：贷款数量\n",
    "\n",
    "NumberOfTimes90DaysLate：90天逾期次数：借款者有90天或更高逾期的次数\n",
    "\n",
    "NumberReal Estate Loans Or Lines：不动产贷款或额度数量：抵押贷款和不动产放款包 括房屋净值信贷额度\n",
    "\n",
    "Number Of Time 60-89Days PastDue Not Worse：60-89天逾期次数\n",
    "\n",
    "NumberOfDependents：不包括本人在内的家属数量\n",
    "首先是基于个人借贷的场景，确定“违约”的定义： 根据新的Basel II Capital Accord（巴塞尔二资本协议），一般逾期90天算作违约。"
   ]
  },
  {
   "cell_type": "markdown",
   "metadata": {},
   "source": [
    "# 2.数据预处理"
   ]
  },
  {
   "cell_type": "markdown",
   "metadata": {},
   "source": [
    "## 2.1 读取数据以及导入包"
   ]
  },
  {
   "cell_type": "code",
   "execution_count": 4,
   "metadata": {
    "pycharm": {
     "is_executing": false
    }
   },
   "outputs": [],
   "source": [
    "import numpy as np\n",
    "import matplotlib.pyplot as plt\n",
    "from sklearn.linear_model import LogisticRegression as LR\n",
    "import pandas as pd\n",
    "#读取寻训练数据，为了使不同的端可以正常使用数据，故设置两段读取\n",
    "#从kaggle训练集库读取\n",
    "try:\n",
    "    path = \"E:\\kaggledatabase\\GiveMeSomeCredit\\\\\"\n",
    "    data = pd.read_csv(path+\"cs-training.csv\",index_col=0)#设置某列作为索引\n",
    "except FileNotFoundError:#除非找不到文件，再从该目录下查找文件\n",
    "    data = pd.read_csv(\"cs-training.csv\",index_col=0)#设置某列作为索引"
   ]
  },
  {
   "cell_type": "markdown",
   "metadata": {
    "pycharm": {
     "name": "#%% md\n"
    }
   },
   "source": [
    "## 2.2 数据预处理"
   ]
  },
  {
   "cell_type": "markdown",
   "metadata": {},
   "source": [
    "### 2.2.1 观察数据结构"
   ]
  },
  {
   "cell_type": "code",
   "execution_count": 5,
   "metadata": {
    "pycharm": {
     "is_executing": false,
     "name": "#%%\n"
    }
   },
   "outputs": [
    {
     "name": "stdout",
     "output_type": "stream",
     "text": [
      "<class 'pandas.core.frame.DataFrame'>\n",
      "Int64Index: 150000 entries, 1 to 150000\n",
      "Data columns (total 11 columns):\n",
      "SeriousDlqin2yrs                        150000 non-null int64\n",
      "RevolvingUtilizationOfUnsecuredLines    150000 non-null float64\n",
      "age                                     150000 non-null int64\n",
      "NumberOfTime30-59DaysPastDueNotWorse    150000 non-null int64\n",
      "DebtRatio                               150000 non-null float64\n",
      "MonthlyIncome                           120269 non-null float64\n",
      "NumberOfOpenCreditLinesAndLoans         150000 non-null int64\n",
      "NumberOfTimes90DaysLate                 150000 non-null int64\n",
      "NumberRealEstateLoansOrLines            150000 non-null int64\n",
      "NumberOfTime60-89DaysPastDueNotWorse    150000 non-null int64\n",
      "NumberOfDependents                      146076 non-null float64\n",
      "dtypes: float64(4), int64(7)\n",
      "memory usage: 13.7 MB\n"
     ]
    }
   ],
   "source": [
    "data.info()"
   ]
  },
  {
   "cell_type": "markdown",
   "metadata": {
    "pycharm": {
     "name": "#%% md\n"
    }
   },
   "source": [
    "十个特征，一个被解释变量"
   ]
  },
  {
   "cell_type": "markdown",
   "metadata": {},
   "source": [
    "### 2.2.2 去除重复值\n",
    "\n",
    "现实数据，尤其是银行业数据，可能会存在的一个问题就是样本重复，即有超过一行的样本所显示的所有特征都一样。有时候可能时人为输入重复，有时候可能是系统录入重复，总而言之我们必须对数据进行去重处理。可能有人会说，难道不可能出现说两个样本的特征就是一模一样，但他们是两个样本吗？比如，两个人，一模一样的名字，年龄，性别，学历，工资……当特征量很少的时候，这的确是有可能的，但一些指标，比如说家属人数，月收入，已借有的房地产贷款数量等等，几乎不可能都出现一样。尤其是银行业数据经常是几百个特征，所有特征都一样的可能性是微乎其微的。即便真的出现了如此极端的情况，我们也可以当作是少量信息损失，将这条记录当作重复值除去。"
   ]
  },
  {
   "cell_type": "code",
   "execution_count": 6,
   "metadata": {
    "pycharm": {
     "is_executing": false,
     "name": "#%%\n"
    }
   },
   "outputs": [],
   "source": [
    "#去除重复值\n",
    "#inplace=True表示替换原数据\n",
    "data.drop_duplicates(inplace=True)#当两行数据完全一样就删除\n",
    "#删除完记得恢复索引\n",
    "data.index = range(data.shape[0])"
   ]
  },
  {
   "cell_type": "code",
   "execution_count": 7,
   "metadata": {
    "pycharm": {
     "is_executing": false
    }
   },
   "outputs": [
    {
     "name": "stdout",
     "output_type": "stream",
     "text": [
      "<class 'pandas.core.frame.DataFrame'>\n",
      "RangeIndex: 149391 entries, 0 to 149390\n",
      "Data columns (total 11 columns):\n",
      "SeriousDlqin2yrs                        149391 non-null int64\n",
      "RevolvingUtilizationOfUnsecuredLines    149391 non-null float64\n",
      "age                                     149391 non-null int64\n",
      "NumberOfTime30-59DaysPastDueNotWorse    149391 non-null int64\n",
      "DebtRatio                               149391 non-null float64\n",
      "MonthlyIncome                           120170 non-null float64\n",
      "NumberOfOpenCreditLinesAndLoans         149391 non-null int64\n",
      "NumberOfTimes90DaysLate                 149391 non-null int64\n",
      "NumberRealEstateLoansOrLines            149391 non-null int64\n",
      "NumberOfTime60-89DaysPastDueNotWorse    149391 non-null int64\n",
      "NumberOfDependents                      145563 non-null float64\n",
      "dtypes: float64(4), int64(7)\n",
      "memory usage: 12.5 MB\n"
     ]
    }
   ],
   "source": [
    "data.info()"
   ]
  },
  {
   "cell_type": "markdown",
   "metadata": {
    "pycharm": {
     "name": "#%% md\n"
    }
   },
   "source": [
    "### 2.2.3 探索缺失值\n",
    "\n",
    "第二个要面临的问题，就是缺失值。在这里我们需要填补的特征是“月收入”和“家属人数”。“家属人数”缺失很少，仅缺失了大约2.5%，可以考虑直接删除，或者使用均值来填补。“收入”缺失了几乎20%，并且我们知道，“收入”必然是 一个对信用评分来说很重要的因素，因此这个特征必须要进行填补。在这里，我们使用均值填补“家属人数”。"
   ]
  },
  {
   "cell_type": "code",
   "execution_count": 8,
   "metadata": {
    "pycharm": {
     "is_executing": false,
     "name": "#%%\n"
    }
   },
   "outputs": [
    {
     "data": {
      "text/plain": [
       "SeriousDlqin2yrs                        0.000000\n",
       "RevolvingUtilizationOfUnsecuredLines    0.000000\n",
       "age                                     0.000000\n",
       "NumberOfTime30-59DaysPastDueNotWorse    0.000000\n",
       "DebtRatio                               0.000000\n",
       "MonthlyIncome                           0.195601\n",
       "NumberOfOpenCreditLinesAndLoans         0.000000\n",
       "NumberOfTimes90DaysLate                 0.000000\n",
       "NumberRealEstateLoansOrLines            0.000000\n",
       "NumberOfTime60-89DaysPastDueNotWorse    0.000000\n",
       "NumberOfDependents                      0.025624\n",
       "dtype: float64"
      ]
     },
     "execution_count": 8,
     "metadata": {},
     "output_type": "execute_result"
    }
   ],
   "source": [
    "#查看缺失值比例\n",
    "data.isnull().mean()"
   ]
  },
  {
   "cell_type": "code",
   "execution_count": 9,
   "metadata": {
    "pycharm": {
     "is_executing": false
    }
   },
   "outputs": [
    {
     "name": "stdout",
     "output_type": "stream",
     "text": [
      "<class 'pandas.core.frame.DataFrame'>\n",
      "RangeIndex: 149391 entries, 0 to 149390\n",
      "Data columns (total 11 columns):\n",
      "SeriousDlqin2yrs                        149391 non-null int64\n",
      "RevolvingUtilizationOfUnsecuredLines    149391 non-null float64\n",
      "age                                     149391 non-null int64\n",
      "NumberOfTime30-59DaysPastDueNotWorse    149391 non-null int64\n",
      "DebtRatio                               149391 non-null float64\n",
      "MonthlyIncome                           120170 non-null float64\n",
      "NumberOfOpenCreditLinesAndLoans         149391 non-null int64\n",
      "NumberOfTimes90DaysLate                 149391 non-null int64\n",
      "NumberRealEstateLoansOrLines            149391 non-null int64\n",
      "NumberOfTime60-89DaysPastDueNotWorse    149391 non-null int64\n",
      "NumberOfDependents                      149391 non-null float64\n",
      "dtypes: float64(4), int64(7)\n",
      "memory usage: 12.5 MB\n"
     ]
    }
   ],
   "source": [
    "#使用均值填补“家属”缺失值\n",
    "data['NumberOfDependents'].fillna(int(data['NumberOfDependents'].mean()),inplace=True)\n",
    "data.info()"
   ]
  },
  {
   "cell_type": "code",
   "execution_count": 10,
   "metadata": {
    "pycharm": {
     "is_executing": false
    }
   },
   "outputs": [
    {
     "data": {
      "text/plain": [
       "SeriousDlqin2yrs                        0.000000\n",
       "RevolvingUtilizationOfUnsecuredLines    0.000000\n",
       "age                                     0.000000\n",
       "NumberOfTime30-59DaysPastDueNotWorse    0.000000\n",
       "DebtRatio                               0.000000\n",
       "MonthlyIncome                           0.195601\n",
       "NumberOfOpenCreditLinesAndLoans         0.000000\n",
       "NumberOfTimes90DaysLate                 0.000000\n",
       "NumberRealEstateLoansOrLines            0.000000\n",
       "NumberOfTime60-89DaysPastDueNotWorse    0.000000\n",
       "NumberOfDependents                      0.000000\n",
       "dtype: float64"
      ]
     },
     "execution_count": 10,
     "metadata": {},
     "output_type": "execute_result"
    }
   ],
   "source": [
    "data.isnull().mean()"
   ]
  },
  {
   "cell_type": "markdown",
   "metadata": {
    "pycharm": {
     "name": "#%% md\n"
    }
   },
   "source": [
    "那字段\"月收入\"怎么办呢？对于银行数据来说，我们甚至可以有这样的推断：一个来借钱的人应该是会知道，“高收入”或者“稳定收入”于他/她自己而言会是申请贷款过程中的一个助力，因此如果收入稳定良好的人，肯定会倾向于写上自己的收入情况，那么这些“收入”栏缺失的人，更可能是收入状况不稳定或收入比较低的人。基于这种判断，我们可以用比如说，四分位数来填补缺失值，把所有收入为空的客户都当成是低收入人群。当然了，也有可能这些缺失是银行数据收集过程中的失误，我们并无法判断为什么收入栏会有缺失，所以我们的推断也有可能是不正确的。具体采用什么样的手段填补缺失值，要和业务人员去沟通，观察缺失值是如何产生的。\n",
    "\n",
    "在这里，我们使用随机森林填补“月收入”。 随机森林利用“既然我可以使用A，B，C去预测Z，那我也可以使用A，C，Z去预测B”的思想来填补缺失值。这种做法，对于某一个特征大量缺失，其他特征却很完整的情况，非常适用。\n",
    "\n",
    "对于一个有n个特征的数据来说，其中特征T有缺失值，我们就把特征T当作标签，其他的n-1个特征和原本的标签组成新的特征矩阵。在新的特征矩阵中，它没有缺失的部分，就是我们的训练集，这部分数据既有标签也有特征，而它缺失的部分，只有特征没有标签，就是我们需要预测的部分。\n",
    "\n",
    "特征T不缺失的值对应的其他n-1个特征 + 本来的标签：X_train\n",
    "\n",
    "特征T不缺失的值：Y_train\n",
    "\n",
    "特征T缺失的值对应的其他n-1个特征 + 本来的标签：X_test\n",
    "\n",
    "特征T缺失的值：未知，我们需要预测的Y_test\n",
    "![新的特征矩阵](https://img-blog.csdnimg.cn/20200918231243334.png?x-oss-process=image/watermark,type_ZmFuZ3poZW5naGVpdGk,shadow_10,text_aHR0cHM6Ly9ibG9nLmNzZG4ubmV0L3dlaXhpbl80Mzk2NjkwMA==,size_16,color_FFFFFF,t_70#pic_center)"
   ]
  },
  {
   "cell_type": "markdown",
   "metadata": {},
   "source": [
    "#### 使用随机森林填补一个特征的缺失值的函数"
   ]
  },
  {
   "cell_type": "code",
   "execution_count": 11,
   "metadata": {
    "pycharm": {
     "is_executing": false,
     "name": "#%%\n"
    }
   },
   "outputs": [],
   "source": [
    "def fill_missing_rf(X,y,to_fill):\n",
    "\n",
    "    \"\"\"\n",
    "    使用随机森林填补一个特征的缺失值的函数\n",
    "\n",
    "    参数：\n",
    "    X：要填补的特征矩阵\n",
    "    y：完整的，没有缺失值的标签\n",
    "    to_fill：字符串，要填补的那一列的名称\n",
    "    \"\"\"\n",
    "\n",
    "    #构建新特征矩阵和新标签\n",
    "    df = X.copy()\n",
    "    fill = df.loc[:,to_fill]\n",
    "    df = pd.concat([df.loc[:,df.columns != to_fill],pd.DataFrame(y)],axis=1)\n",
    "\n",
    "    # 找出我们的训练集和测试集\n",
    "    Ytrain = fill[fill.notnull()]\n",
    "    Ytest = fill[fill.isnull()]\n",
    "    Xtrain = df.loc[Ytrain.index,:]\n",
    "    Xtest = df.loc[Ytest.index,:]\n",
    "\n",
    "    #用随机森林回归来填补缺失值\n",
    "    from sklearn.ensemble import RandomForestRegressor as rfr\n",
    "    rfr = rfr(n_estimators=100)\n",
    "    rfr = rfr.fit(Xtrain, Ytrain)\n",
    "    Ypredict = rfr.predict(Xtest)\n",
    "\n",
    "    return Ypredict"
   ]
  },
  {
   "cell_type": "code",
   "execution_count": 12,
   "metadata": {
    "pycharm": {
     "is_executing": false
    }
   },
   "outputs": [],
   "source": [
    "X = data.iloc[:,1:]\n",
    "y = data[\"SeriousDlqin2yrs\"]\n",
    "\n",
    "#将参数输入函数\n",
    "y_pred = fill_missing_rf(X,y,\"MonthlyIncome\")"
   ]
  },
  {
   "cell_type": "code",
   "execution_count": 13,
   "metadata": {
    "pycharm": {
     "is_executing": false
    }
   },
   "outputs": [
    {
     "data": {
      "text/plain": [
       "(29221,)"
      ]
     },
     "execution_count": 13,
     "metadata": {},
     "output_type": "execute_result"
    }
   ],
   "source": [
    "y_pred.shape"
   ]
  },
  {
   "cell_type": "code",
   "execution_count": 14,
   "metadata": {
    "pycharm": {
     "is_executing": false
    }
   },
   "outputs": [
    {
     "data": {
      "text/plain": [
       "(29221,)"
      ]
     },
     "execution_count": 14,
     "metadata": {},
     "output_type": "execute_result"
    }
   ],
   "source": [
    "data.loc[data.loc[:,'MonthlyIncome'].isnull(),\"MonthlyIncome\"].shape"
   ]
  },
  {
   "cell_type": "code",
   "execution_count": 15,
   "metadata": {
    "pycharm": {
     "is_executing": false
    }
   },
   "outputs": [
    {
     "data": {
      "text/plain": [
       "True"
      ]
     },
     "execution_count": 15,
     "metadata": {},
     "output_type": "execute_result"
    }
   ],
   "source": [
    "#查看预测出来的与原来的缺失值数量是否对的上\n",
    "y_pred.shape == data.loc[data.loc[:,'MonthlyIncome'].isnull(),\"MonthlyIncome\"].shape"
   ]
  },
  {
   "cell_type": "code",
   "execution_count": null,
   "metadata": {
    "pycharm": {
     "is_executing": false
    }
   },
   "outputs": [],
   "source": []
  },
  {
   "cell_type": "code",
   "execution_count": 16,
   "metadata": {
    "pycharm": {
     "is_executing": false
    }
   },
   "outputs": [],
   "source": [
    "#进行覆盖\n",
    "data.loc[data.loc[:,\"MonthlyIncome\"].isnull(),\"MonthlyIncome\"] = y_pred"
   ]
  },
  {
   "cell_type": "code",
   "execution_count": 17,
   "metadata": {},
   "outputs": [],
   "source": [
    "data.to_csv(\"nonull.csv\")"
   ]
  },
  {
   "cell_type": "code",
   "execution_count": 18,
   "metadata": {
    "pycharm": {
     "is_executing": false
    }
   },
   "outputs": [
    {
     "name": "stdout",
     "output_type": "stream",
     "text": [
      "<class 'pandas.core.frame.DataFrame'>\n",
      "RangeIndex: 149391 entries, 0 to 149390\n",
      "Data columns (total 11 columns):\n",
      "SeriousDlqin2yrs                        149391 non-null int64\n",
      "RevolvingUtilizationOfUnsecuredLines    149391 non-null float64\n",
      "age                                     149391 non-null int64\n",
      "NumberOfTime30-59DaysPastDueNotWorse    149391 non-null int64\n",
      "DebtRatio                               149391 non-null float64\n",
      "MonthlyIncome                           149391 non-null float64\n",
      "NumberOfOpenCreditLinesAndLoans         149391 non-null int64\n",
      "NumberOfTimes90DaysLate                 149391 non-null int64\n",
      "NumberRealEstateLoansOrLines            149391 non-null int64\n",
      "NumberOfTime60-89DaysPastDueNotWorse    149391 non-null int64\n",
      "NumberOfDependents                      149391 non-null float64\n",
      "dtypes: float64(4), int64(7)\n",
      "memory usage: 12.5 MB\n"
     ]
    }
   ],
   "source": [
    "data.info()\n",
    "#留一个拷贝\n",
    "data_cp = data.copy()"
   ]
  },
  {
   "cell_type": "markdown",
   "metadata": {
    "pycharm": {
     "name": "#%% md\n"
    }
   },
   "source": [
    "# 2.2.4 异常值的处理\n",
    "现实数据永远都会有一些异常值，首先我们要去把他们捕捉出来，然后观察他们的性质。注意，我们并不是要排除掉所有异常值，相反很多时候，异常值是我们的重点研究对象，比如说，双十一中购买量超高的品牌，或课堂上让很多学生都兴奋的课题，这些是我们要重点研究观察的。\n",
    "\n",
    "日常处理异常值，我们使用箱线图或者3σ法则来找到异常值。但在银行数据中，我们希望排除的“异常值”不是一些超高或超低的数字，而是一些不符合常理的数据：比如，收入不能为负数，但是一个超高水平的收入却是合理的，可以存在的。所以在银行业中，我们往往就使用普通的描述性统计来观察数据的异常与否与数据的分布情况。注意，这种方法只能在特征量有限的情况下进行，如果有几百个特征又无法成功降维或特征选择不管用，那还是用3σ比较好。"
   ]
  },
  {
   "cell_type": "code",
   "execution_count": 19,
   "metadata": {
    "pycharm": {
     "is_executing": false,
     "name": "#%%\n"
    }
   },
   "outputs": [
    {
     "data": {
      "text/html": [
       "<div>\n",
       "<style scoped>\n",
       "    .dataframe tbody tr th:only-of-type {\n",
       "        vertical-align: middle;\n",
       "    }\n",
       "\n",
       "    .dataframe tbody tr th {\n",
       "        vertical-align: top;\n",
       "    }\n",
       "\n",
       "    .dataframe thead th {\n",
       "        text-align: right;\n",
       "    }\n",
       "</style>\n",
       "<table border=\"1\" class=\"dataframe\">\n",
       "  <thead>\n",
       "    <tr style=\"text-align: right;\">\n",
       "      <th></th>\n",
       "      <th>count</th>\n",
       "      <th>mean</th>\n",
       "      <th>std</th>\n",
       "      <th>min</th>\n",
       "      <th>1%</th>\n",
       "      <th>10%</th>\n",
       "      <th>25%</th>\n",
       "      <th>50%</th>\n",
       "      <th>75%</th>\n",
       "      <th>90%</th>\n",
       "      <th>99%</th>\n",
       "      <th>max</th>\n",
       "    </tr>\n",
       "  </thead>\n",
       "  <tbody>\n",
       "    <tr>\n",
       "      <th>SeriousDlqin2yrs</th>\n",
       "      <td>149391.0</td>\n",
       "      <td>0.066999</td>\n",
       "      <td>0.250021</td>\n",
       "      <td>0.0</td>\n",
       "      <td>0.0</td>\n",
       "      <td>0.000000</td>\n",
       "      <td>0.000000</td>\n",
       "      <td>0.000000</td>\n",
       "      <td>0.000000</td>\n",
       "      <td>0.000000</td>\n",
       "      <td>1.000000</td>\n",
       "      <td>1.0</td>\n",
       "    </tr>\n",
       "    <tr>\n",
       "      <th>RevolvingUtilizationOfUnsecuredLines</th>\n",
       "      <td>149391.0</td>\n",
       "      <td>6.071087</td>\n",
       "      <td>250.263672</td>\n",
       "      <td>0.0</td>\n",
       "      <td>0.0</td>\n",
       "      <td>0.003199</td>\n",
       "      <td>0.030132</td>\n",
       "      <td>0.154235</td>\n",
       "      <td>0.556494</td>\n",
       "      <td>0.978007</td>\n",
       "      <td>1.093922</td>\n",
       "      <td>50708.0</td>\n",
       "    </tr>\n",
       "    <tr>\n",
       "      <th>age</th>\n",
       "      <td>149391.0</td>\n",
       "      <td>52.306237</td>\n",
       "      <td>14.725962</td>\n",
       "      <td>0.0</td>\n",
       "      <td>24.0</td>\n",
       "      <td>33.000000</td>\n",
       "      <td>41.000000</td>\n",
       "      <td>52.000000</td>\n",
       "      <td>63.000000</td>\n",
       "      <td>72.000000</td>\n",
       "      <td>87.000000</td>\n",
       "      <td>109.0</td>\n",
       "    </tr>\n",
       "    <tr>\n",
       "      <th>NumberOfTime30-59DaysPastDueNotWorse</th>\n",
       "      <td>149391.0</td>\n",
       "      <td>0.393886</td>\n",
       "      <td>3.852953</td>\n",
       "      <td>0.0</td>\n",
       "      <td>0.0</td>\n",
       "      <td>0.000000</td>\n",
       "      <td>0.000000</td>\n",
       "      <td>0.000000</td>\n",
       "      <td>0.000000</td>\n",
       "      <td>1.000000</td>\n",
       "      <td>4.000000</td>\n",
       "      <td>98.0</td>\n",
       "    </tr>\n",
       "    <tr>\n",
       "      <th>DebtRatio</th>\n",
       "      <td>149391.0</td>\n",
       "      <td>354.436740</td>\n",
       "      <td>2041.843455</td>\n",
       "      <td>0.0</td>\n",
       "      <td>0.0</td>\n",
       "      <td>0.034991</td>\n",
       "      <td>0.177441</td>\n",
       "      <td>0.368234</td>\n",
       "      <td>0.875279</td>\n",
       "      <td>1275.000000</td>\n",
       "      <td>4985.100000</td>\n",
       "      <td>329664.0</td>\n",
       "    </tr>\n",
       "    <tr>\n",
       "      <th>MonthlyIncome</th>\n",
       "      <td>149391.0</td>\n",
       "      <td>5424.587298</td>\n",
       "      <td>13243.101407</td>\n",
       "      <td>0.0</td>\n",
       "      <td>0.0</td>\n",
       "      <td>0.180000</td>\n",
       "      <td>1800.000000</td>\n",
       "      <td>4420.000000</td>\n",
       "      <td>7416.000000</td>\n",
       "      <td>10800.000000</td>\n",
       "      <td>23250.000000</td>\n",
       "      <td>3008750.0</td>\n",
       "    </tr>\n",
       "    <tr>\n",
       "      <th>NumberOfOpenCreditLinesAndLoans</th>\n",
       "      <td>149391.0</td>\n",
       "      <td>8.480892</td>\n",
       "      <td>5.136515</td>\n",
       "      <td>0.0</td>\n",
       "      <td>0.0</td>\n",
       "      <td>3.000000</td>\n",
       "      <td>5.000000</td>\n",
       "      <td>8.000000</td>\n",
       "      <td>11.000000</td>\n",
       "      <td>15.000000</td>\n",
       "      <td>24.000000</td>\n",
       "      <td>58.0</td>\n",
       "    </tr>\n",
       "    <tr>\n",
       "      <th>NumberOfTimes90DaysLate</th>\n",
       "      <td>149391.0</td>\n",
       "      <td>0.238120</td>\n",
       "      <td>3.826165</td>\n",
       "      <td>0.0</td>\n",
       "      <td>0.0</td>\n",
       "      <td>0.000000</td>\n",
       "      <td>0.000000</td>\n",
       "      <td>0.000000</td>\n",
       "      <td>0.000000</td>\n",
       "      <td>0.000000</td>\n",
       "      <td>3.000000</td>\n",
       "      <td>98.0</td>\n",
       "    </tr>\n",
       "    <tr>\n",
       "      <th>NumberRealEstateLoansOrLines</th>\n",
       "      <td>149391.0</td>\n",
       "      <td>1.022391</td>\n",
       "      <td>1.130196</td>\n",
       "      <td>0.0</td>\n",
       "      <td>0.0</td>\n",
       "      <td>0.000000</td>\n",
       "      <td>0.000000</td>\n",
       "      <td>1.000000</td>\n",
       "      <td>2.000000</td>\n",
       "      <td>2.000000</td>\n",
       "      <td>4.000000</td>\n",
       "      <td>54.0</td>\n",
       "    </tr>\n",
       "    <tr>\n",
       "      <th>NumberOfTime60-89DaysPastDueNotWorse</th>\n",
       "      <td>149391.0</td>\n",
       "      <td>0.212503</td>\n",
       "      <td>3.810523</td>\n",
       "      <td>0.0</td>\n",
       "      <td>0.0</td>\n",
       "      <td>0.000000</td>\n",
       "      <td>0.000000</td>\n",
       "      <td>0.000000</td>\n",
       "      <td>0.000000</td>\n",
       "      <td>0.000000</td>\n",
       "      <td>2.000000</td>\n",
       "      <td>98.0</td>\n",
       "    </tr>\n",
       "    <tr>\n",
       "      <th>NumberOfDependents</th>\n",
       "      <td>149391.0</td>\n",
       "      <td>0.740393</td>\n",
       "      <td>1.108272</td>\n",
       "      <td>0.0</td>\n",
       "      <td>0.0</td>\n",
       "      <td>0.000000</td>\n",
       "      <td>0.000000</td>\n",
       "      <td>0.000000</td>\n",
       "      <td>1.000000</td>\n",
       "      <td>2.000000</td>\n",
       "      <td>4.000000</td>\n",
       "      <td>20.0</td>\n",
       "    </tr>\n",
       "  </tbody>\n",
       "</table>\n",
       "</div>"
      ],
      "text/plain": [
       "                                         count         mean           std  \\\n",
       "SeriousDlqin2yrs                      149391.0     0.066999      0.250021   \n",
       "RevolvingUtilizationOfUnsecuredLines  149391.0     6.071087    250.263672   \n",
       "age                                   149391.0    52.306237     14.725962   \n",
       "NumberOfTime30-59DaysPastDueNotWorse  149391.0     0.393886      3.852953   \n",
       "DebtRatio                             149391.0   354.436740   2041.843455   \n",
       "MonthlyIncome                         149391.0  5424.587298  13243.101407   \n",
       "NumberOfOpenCreditLinesAndLoans       149391.0     8.480892      5.136515   \n",
       "NumberOfTimes90DaysLate               149391.0     0.238120      3.826165   \n",
       "NumberRealEstateLoansOrLines          149391.0     1.022391      1.130196   \n",
       "NumberOfTime60-89DaysPastDueNotWorse  149391.0     0.212503      3.810523   \n",
       "NumberOfDependents                    149391.0     0.740393      1.108272   \n",
       "\n",
       "                                      min    1%        10%          25%  \\\n",
       "SeriousDlqin2yrs                      0.0   0.0   0.000000     0.000000   \n",
       "RevolvingUtilizationOfUnsecuredLines  0.0   0.0   0.003199     0.030132   \n",
       "age                                   0.0  24.0  33.000000    41.000000   \n",
       "NumberOfTime30-59DaysPastDueNotWorse  0.0   0.0   0.000000     0.000000   \n",
       "DebtRatio                             0.0   0.0   0.034991     0.177441   \n",
       "MonthlyIncome                         0.0   0.0   0.180000  1800.000000   \n",
       "NumberOfOpenCreditLinesAndLoans       0.0   0.0   3.000000     5.000000   \n",
       "NumberOfTimes90DaysLate               0.0   0.0   0.000000     0.000000   \n",
       "NumberRealEstateLoansOrLines          0.0   0.0   0.000000     0.000000   \n",
       "NumberOfTime60-89DaysPastDueNotWorse  0.0   0.0   0.000000     0.000000   \n",
       "NumberOfDependents                    0.0   0.0   0.000000     0.000000   \n",
       "\n",
       "                                              50%          75%           90%  \\\n",
       "SeriousDlqin2yrs                         0.000000     0.000000      0.000000   \n",
       "RevolvingUtilizationOfUnsecuredLines     0.154235     0.556494      0.978007   \n",
       "age                                     52.000000    63.000000     72.000000   \n",
       "NumberOfTime30-59DaysPastDueNotWorse     0.000000     0.000000      1.000000   \n",
       "DebtRatio                                0.368234     0.875279   1275.000000   \n",
       "MonthlyIncome                         4420.000000  7416.000000  10800.000000   \n",
       "NumberOfOpenCreditLinesAndLoans          8.000000    11.000000     15.000000   \n",
       "NumberOfTimes90DaysLate                  0.000000     0.000000      0.000000   \n",
       "NumberRealEstateLoansOrLines             1.000000     2.000000      2.000000   \n",
       "NumberOfTime60-89DaysPastDueNotWorse     0.000000     0.000000      0.000000   \n",
       "NumberOfDependents                       0.000000     1.000000      2.000000   \n",
       "\n",
       "                                               99%        max  \n",
       "SeriousDlqin2yrs                          1.000000        1.0  \n",
       "RevolvingUtilizationOfUnsecuredLines      1.093922    50708.0  \n",
       "age                                      87.000000      109.0  \n",
       "NumberOfTime30-59DaysPastDueNotWorse      4.000000       98.0  \n",
       "DebtRatio                              4985.100000   329664.0  \n",
       "MonthlyIncome                         23250.000000  3008750.0  \n",
       "NumberOfOpenCreditLinesAndLoans          24.000000       58.0  \n",
       "NumberOfTimes90DaysLate                   3.000000       98.0  \n",
       "NumberRealEstateLoansOrLines              4.000000       54.0  \n",
       "NumberOfTime60-89DaysPastDueNotWorse      2.000000       98.0  \n",
       "NumberOfDependents                        4.000000       20.0  "
      ]
     },
     "execution_count": 19,
     "metadata": {},
     "output_type": "execute_result"
    }
   ],
   "source": [
    "#描述性统计\n",
    "data.describe([0.01,0.1,0.25,.5,.75,.9,.99]).T"
   ]
  },
  {
   "cell_type": "markdown",
   "metadata": {
    "pycharm": {
     "name": "#%% md\n"
    }
   },
   "source": [
    "异常值也被我们观察到，年龄的最小值居然有0，这不符合银行的业务需求，即便是儿童账户也要至少8岁，我们可以查看一下年龄为0的人有多少，发现只有1个人年龄为0，可以判断这肯定是录入失误造成的，可以当成是缺失值来处理，直接删除掉这个样本。"
   ]
  },
  {
   "cell_type": "code",
   "execution_count": 20,
   "metadata": {
    "pycharm": {
     "is_executing": false,
     "name": "#%%\n"
    }
   },
   "outputs": [],
   "source": [
    "(data['age'] == 0).sum()\n",
    "data  = data[data['age'] != 0]"
   ]
  },
  {
   "cell_type": "markdown",
   "metadata": {
    "pycharm": {
     "name": "#%% md\n"
    }
   },
   "source": [
    "另外，有三个指标看起来很奇怪： \"NumberOfTime30-59DaysPastDueNotWorse\" 、\"NumberOfTime60-89DaysPastDueNotWorse\"、 \"NumberOfTimes90DaysLate\" 这三个指标分别是“过去两年内出现35-59天逾期但是没有发展的更坏的次数”，“过去两年内出现60-89天逾期但是没 有发展的更坏的次数”，“过去两年内出现90天逾期的次数”。这三个指标，在99%的分布的时候依然是2，最大值却是 98，看起来非常奇怪。一个人在过去两年内逾期35~59天98次，一年6个60天，两年内逾期98次这是怎么算出来的？ 我们可以去咨询业务人员，请教他们这个逾期次数是如何计算的。如果这个指标是正常的，那这些两年内逾期了98次的客户，应该都是坏客户。"
   ]
  },
  {
   "cell_type": "code",
   "execution_count": 21,
   "metadata": {
    "pycharm": {
     "is_executing": false,
     "name": "#%%\n"
    }
   },
   "outputs": [
    {
     "data": {
      "text/plain": [
       "225"
      ]
     },
     "execution_count": 21,
     "metadata": {},
     "output_type": "execute_result"
    }
   ],
   "source": [
    "#在我们无法询问他们情况下，我们查看一下有多少个样本存在这种异常：  \n",
    "(data['NumberOfTime30-59DaysPastDueNotWorse'] > 15).sum()"
   ]
  },
  {
   "cell_type": "code",
   "execution_count": 22,
   "metadata": {
    "pycharm": {
     "is_executing": false
    }
   },
   "outputs": [
    {
     "data": {
      "text/plain": [
       "225"
      ]
     },
     "execution_count": 22,
     "metadata": {},
     "output_type": "execute_result"
    }
   ],
   "source": [
    "(data['NumberOfTimes90DaysLate'] > 90).sum()"
   ]
  },
  {
   "cell_type": "code",
   "execution_count": 23,
   "metadata": {
    "pycharm": {
     "is_executing": false
    }
   },
   "outputs": [
    {
     "data": {
      "text/plain": [
       "225"
      ]
     },
     "execution_count": 23,
     "metadata": {},
     "output_type": "execute_result"
    }
   ],
   "source": [
    "(data['NumberOfTime60-89DaysPastDueNotWorse'] > 90).sum()"
   ]
  },
  {
   "cell_type": "markdown",
   "metadata": {
    "pycharm": {
     "name": "#%% md\n"
    }
   },
   "source": [
    "3类异常样本数量全都一样，会不会全是同一组样本？"
   ]
  },
  {
   "cell_type": "code",
   "execution_count": 24,
   "metadata": {
    "pycharm": {
     "is_executing": false,
     "name": "#%%\n"
    }
   },
   "outputs": [],
   "source": [
    "df = data[data['NumberOfTime30-59DaysPastDueNotWorse'] > 90]"
   ]
  },
  {
   "cell_type": "code",
   "execution_count": 25,
   "metadata": {
    "pycharm": {
     "is_executing": false
    }
   },
   "outputs": [],
   "source": [
    "df = df[df['NumberOfTimes90DaysLate'] > 90]"
   ]
  },
  {
   "cell_type": "code",
   "execution_count": 26,
   "metadata": {
    "pycharm": {
     "is_executing": false
    }
   },
   "outputs": [],
   "source": [
    "df = df[df['NumberOfTime60-89DaysPastDueNotWorse'] > 90]"
   ]
  },
  {
   "cell_type": "code",
   "execution_count": 27,
   "metadata": {
    "pycharm": {
     "is_executing": false
    }
   },
   "outputs": [
    {
     "data": {
      "text/plain": [
       "(225, 11)"
      ]
     },
     "execution_count": 27,
     "metadata": {},
     "output_type": "execute_result"
    }
   ],
   "source": [
    "df.shape"
   ]
  },
  {
   "cell_type": "code",
   "execution_count": 28,
   "metadata": {
    "pycharm": {
     "is_executing": false
    }
   },
   "outputs": [
    {
     "data": {
      "text/html": [
       "<div>\n",
       "<style scoped>\n",
       "    .dataframe tbody tr th:only-of-type {\n",
       "        vertical-align: middle;\n",
       "    }\n",
       "\n",
       "    .dataframe tbody tr th {\n",
       "        vertical-align: top;\n",
       "    }\n",
       "\n",
       "    .dataframe thead th {\n",
       "        text-align: right;\n",
       "    }\n",
       "</style>\n",
       "<table border=\"1\" class=\"dataframe\">\n",
       "  <thead>\n",
       "    <tr style=\"text-align: right;\">\n",
       "      <th></th>\n",
       "      <th>SeriousDlqin2yrs</th>\n",
       "      <th>RevolvingUtilizationOfUnsecuredLines</th>\n",
       "      <th>age</th>\n",
       "      <th>NumberOfTime30-59DaysPastDueNotWorse</th>\n",
       "      <th>DebtRatio</th>\n",
       "      <th>MonthlyIncome</th>\n",
       "      <th>NumberOfOpenCreditLinesAndLoans</th>\n",
       "      <th>NumberOfTimes90DaysLate</th>\n",
       "      <th>NumberRealEstateLoansOrLines</th>\n",
       "      <th>NumberOfTime60-89DaysPastDueNotWorse</th>\n",
       "      <th>NumberOfDependents</th>\n",
       "    </tr>\n",
       "  </thead>\n",
       "  <tbody>\n",
       "    <tr>\n",
       "      <th>1732</th>\n",
       "      <td>1</td>\n",
       "      <td>1.0</td>\n",
       "      <td>27</td>\n",
       "      <td>98</td>\n",
       "      <td>0.0</td>\n",
       "      <td>2700.00000</td>\n",
       "      <td>0</td>\n",
       "      <td>98</td>\n",
       "      <td>0</td>\n",
       "      <td>98</td>\n",
       "      <td>0.0</td>\n",
       "    </tr>\n",
       "    <tr>\n",
       "      <th>2285</th>\n",
       "      <td>0</td>\n",
       "      <td>1.0</td>\n",
       "      <td>22</td>\n",
       "      <td>98</td>\n",
       "      <td>0.0</td>\n",
       "      <td>1511.80402</td>\n",
       "      <td>0</td>\n",
       "      <td>98</td>\n",
       "      <td>0</td>\n",
       "      <td>98</td>\n",
       "      <td>0.0</td>\n",
       "    </tr>\n",
       "    <tr>\n",
       "      <th>3883</th>\n",
       "      <td>0</td>\n",
       "      <td>1.0</td>\n",
       "      <td>38</td>\n",
       "      <td>98</td>\n",
       "      <td>12.0</td>\n",
       "      <td>2813.79000</td>\n",
       "      <td>0</td>\n",
       "      <td>98</td>\n",
       "      <td>0</td>\n",
       "      <td>98</td>\n",
       "      <td>0.0</td>\n",
       "    </tr>\n",
       "    <tr>\n",
       "      <th>4416</th>\n",
       "      <td>0</td>\n",
       "      <td>1.0</td>\n",
       "      <td>21</td>\n",
       "      <td>98</td>\n",
       "      <td>0.0</td>\n",
       "      <td>0.00000</td>\n",
       "      <td>0</td>\n",
       "      <td>98</td>\n",
       "      <td>0</td>\n",
       "      <td>98</td>\n",
       "      <td>0.0</td>\n",
       "    </tr>\n",
       "    <tr>\n",
       "      <th>4704</th>\n",
       "      <td>0</td>\n",
       "      <td>1.0</td>\n",
       "      <td>21</td>\n",
       "      <td>98</td>\n",
       "      <td>0.0</td>\n",
       "      <td>2000.00000</td>\n",
       "      <td>0</td>\n",
       "      <td>98</td>\n",
       "      <td>0</td>\n",
       "      <td>98</td>\n",
       "      <td>0.0</td>\n",
       "    </tr>\n",
       "  </tbody>\n",
       "</table>\n",
       "</div>"
      ],
      "text/plain": [
       "      SeriousDlqin2yrs  RevolvingUtilizationOfUnsecuredLines  age  \\\n",
       "1732                 1                                   1.0   27   \n",
       "2285                 0                                   1.0   22   \n",
       "3883                 0                                   1.0   38   \n",
       "4416                 0                                   1.0   21   \n",
       "4704                 0                                   1.0   21   \n",
       "\n",
       "      NumberOfTime30-59DaysPastDueNotWorse  DebtRatio  MonthlyIncome  \\\n",
       "1732                                    98        0.0     2700.00000   \n",
       "2285                                    98        0.0     1511.80402   \n",
       "3883                                    98       12.0     2813.79000   \n",
       "4416                                    98        0.0        0.00000   \n",
       "4704                                    98        0.0     2000.00000   \n",
       "\n",
       "      NumberOfOpenCreditLinesAndLoans  NumberOfTimes90DaysLate  \\\n",
       "1732                                0                       98   \n",
       "2285                                0                       98   \n",
       "3883                                0                       98   \n",
       "4416                                0                       98   \n",
       "4704                                0                       98   \n",
       "\n",
       "      NumberRealEstateLoansOrLines  NumberOfTime60-89DaysPastDueNotWorse  \\\n",
       "1732                             0                                    98   \n",
       "2285                             0                                    98   \n",
       "3883                             0                                    98   \n",
       "4416                             0                                    98   \n",
       "4704                             0                                    98   \n",
       "\n",
       "      NumberOfDependents  \n",
       "1732                 0.0  \n",
       "2285                 0.0  \n",
       "3883                 0.0  \n",
       "4416                 0.0  \n",
       "4704                 0.0  "
      ]
     },
     "execution_count": 28,
     "metadata": {},
     "output_type": "execute_result"
    }
   ],
   "source": [
    "df.head()"
   ]
  },
  {
   "cell_type": "code",
   "execution_count": 29,
   "metadata": {
    "pycharm": {
     "is_executing": false
    }
   },
   "outputs": [
    {
     "data": {
      "text/html": [
       "<div>\n",
       "<style scoped>\n",
       "    .dataframe tbody tr th:only-of-type {\n",
       "        vertical-align: middle;\n",
       "    }\n",
       "\n",
       "    .dataframe tbody tr th {\n",
       "        vertical-align: top;\n",
       "    }\n",
       "\n",
       "    .dataframe thead th {\n",
       "        text-align: right;\n",
       "    }\n",
       "</style>\n",
       "<table border=\"1\" class=\"dataframe\">\n",
       "  <thead>\n",
       "    <tr style=\"text-align: right;\">\n",
       "      <th></th>\n",
       "      <th>count</th>\n",
       "      <th>mean</th>\n",
       "      <th>std</th>\n",
       "      <th>min</th>\n",
       "      <th>1%</th>\n",
       "      <th>10%</th>\n",
       "      <th>25%</th>\n",
       "      <th>50%</th>\n",
       "      <th>75%</th>\n",
       "      <th>90%</th>\n",
       "      <th>99%</th>\n",
       "      <th>max</th>\n",
       "    </tr>\n",
       "  </thead>\n",
       "  <tbody>\n",
       "    <tr>\n",
       "      <th>SeriousDlqin2yrs</th>\n",
       "      <td>225.0</td>\n",
       "      <td>0.604444</td>\n",
       "      <td>4.900599e-01</td>\n",
       "      <td>0.0</td>\n",
       "      <td>0.0</td>\n",
       "      <td>0.000</td>\n",
       "      <td>0.0</td>\n",
       "      <td>1.000000</td>\n",
       "      <td>1.000000</td>\n",
       "      <td>1.00</td>\n",
       "      <td>1.0000</td>\n",
       "      <td>1.0</td>\n",
       "    </tr>\n",
       "    <tr>\n",
       "      <th>RevolvingUtilizationOfUnsecuredLines</th>\n",
       "      <td>225.0</td>\n",
       "      <td>1.000000</td>\n",
       "      <td>4.005714e-15</td>\n",
       "      <td>1.0</td>\n",
       "      <td>1.0</td>\n",
       "      <td>1.000</td>\n",
       "      <td>1.0</td>\n",
       "      <td>1.000000</td>\n",
       "      <td>1.000000</td>\n",
       "      <td>1.00</td>\n",
       "      <td>1.0000</td>\n",
       "      <td>1.0</td>\n",
       "    </tr>\n",
       "    <tr>\n",
       "      <th>age</th>\n",
       "      <td>225.0</td>\n",
       "      <td>36.071111</td>\n",
       "      <td>1.317920e+01</td>\n",
       "      <td>21.0</td>\n",
       "      <td>21.0</td>\n",
       "      <td>22.000</td>\n",
       "      <td>25.0</td>\n",
       "      <td>31.000000</td>\n",
       "      <td>46.000000</td>\n",
       "      <td>56.00</td>\n",
       "      <td>67.5200</td>\n",
       "      <td>79.0</td>\n",
       "    </tr>\n",
       "    <tr>\n",
       "      <th>NumberOfTime30-59DaysPastDueNotWorse</th>\n",
       "      <td>225.0</td>\n",
       "      <td>97.955556</td>\n",
       "      <td>2.954684e-01</td>\n",
       "      <td>96.0</td>\n",
       "      <td>96.0</td>\n",
       "      <td>98.000</td>\n",
       "      <td>98.0</td>\n",
       "      <td>98.000000</td>\n",
       "      <td>98.000000</td>\n",
       "      <td>98.00</td>\n",
       "      <td>98.0000</td>\n",
       "      <td>98.0</td>\n",
       "    </tr>\n",
       "    <tr>\n",
       "      <th>DebtRatio</th>\n",
       "      <td>225.0</td>\n",
       "      <td>6.764313</td>\n",
       "      <td>2.830920e+01</td>\n",
       "      <td>0.0</td>\n",
       "      <td>0.0</td>\n",
       "      <td>0.000</td>\n",
       "      <td>0.0</td>\n",
       "      <td>0.000000</td>\n",
       "      <td>0.005293</td>\n",
       "      <td>13.80</td>\n",
       "      <td>114.2400</td>\n",
       "      <td>255.0</td>\n",
       "    </tr>\n",
       "    <tr>\n",
       "      <th>MonthlyIncome</th>\n",
       "      <td>225.0</td>\n",
       "      <td>2625.047668</td>\n",
       "      <td>2.597846e+03</td>\n",
       "      <td>0.0</td>\n",
       "      <td>0.0</td>\n",
       "      <td>683.984</td>\n",
       "      <td>1375.0</td>\n",
       "      <td>2149.973333</td>\n",
       "      <td>3200.000000</td>\n",
       "      <td>4869.56</td>\n",
       "      <td>11817.9794</td>\n",
       "      <td>28733.0</td>\n",
       "    </tr>\n",
       "    <tr>\n",
       "      <th>NumberOfOpenCreditLinesAndLoans</th>\n",
       "      <td>225.0</td>\n",
       "      <td>0.008889</td>\n",
       "      <td>9.407022e-02</td>\n",
       "      <td>0.0</td>\n",
       "      <td>0.0</td>\n",
       "      <td>0.000</td>\n",
       "      <td>0.0</td>\n",
       "      <td>0.000000</td>\n",
       "      <td>0.000000</td>\n",
       "      <td>0.00</td>\n",
       "      <td>0.0000</td>\n",
       "      <td>1.0</td>\n",
       "    </tr>\n",
       "    <tr>\n",
       "      <th>NumberOfTimes90DaysLate</th>\n",
       "      <td>225.0</td>\n",
       "      <td>97.955556</td>\n",
       "      <td>2.954684e-01</td>\n",
       "      <td>96.0</td>\n",
       "      <td>96.0</td>\n",
       "      <td>98.000</td>\n",
       "      <td>98.0</td>\n",
       "      <td>98.000000</td>\n",
       "      <td>98.000000</td>\n",
       "      <td>98.00</td>\n",
       "      <td>98.0000</td>\n",
       "      <td>98.0</td>\n",
       "    </tr>\n",
       "    <tr>\n",
       "      <th>NumberRealEstateLoansOrLines</th>\n",
       "      <td>225.0</td>\n",
       "      <td>0.000000</td>\n",
       "      <td>0.000000e+00</td>\n",
       "      <td>0.0</td>\n",
       "      <td>0.0</td>\n",
       "      <td>0.000</td>\n",
       "      <td>0.0</td>\n",
       "      <td>0.000000</td>\n",
       "      <td>0.000000</td>\n",
       "      <td>0.00</td>\n",
       "      <td>0.0000</td>\n",
       "      <td>0.0</td>\n",
       "    </tr>\n",
       "    <tr>\n",
       "      <th>NumberOfTime60-89DaysPastDueNotWorse</th>\n",
       "      <td>225.0</td>\n",
       "      <td>97.955556</td>\n",
       "      <td>2.954684e-01</td>\n",
       "      <td>96.0</td>\n",
       "      <td>96.0</td>\n",
       "      <td>98.000</td>\n",
       "      <td>98.0</td>\n",
       "      <td>98.000000</td>\n",
       "      <td>98.000000</td>\n",
       "      <td>98.00</td>\n",
       "      <td>98.0000</td>\n",
       "      <td>98.0</td>\n",
       "    </tr>\n",
       "    <tr>\n",
       "      <th>NumberOfDependents</th>\n",
       "      <td>225.0</td>\n",
       "      <td>0.391111</td>\n",
       "      <td>8.493228e-01</td>\n",
       "      <td>0.0</td>\n",
       "      <td>0.0</td>\n",
       "      <td>0.000</td>\n",
       "      <td>0.0</td>\n",
       "      <td>0.000000</td>\n",
       "      <td>0.000000</td>\n",
       "      <td>2.00</td>\n",
       "      <td>3.7600</td>\n",
       "      <td>5.0</td>\n",
       "    </tr>\n",
       "  </tbody>\n",
       "</table>\n",
       "</div>"
      ],
      "text/plain": [
       "                                      count         mean           std   min  \\\n",
       "SeriousDlqin2yrs                      225.0     0.604444  4.900599e-01   0.0   \n",
       "RevolvingUtilizationOfUnsecuredLines  225.0     1.000000  4.005714e-15   1.0   \n",
       "age                                   225.0    36.071111  1.317920e+01  21.0   \n",
       "NumberOfTime30-59DaysPastDueNotWorse  225.0    97.955556  2.954684e-01  96.0   \n",
       "DebtRatio                             225.0     6.764313  2.830920e+01   0.0   \n",
       "MonthlyIncome                         225.0  2625.047668  2.597846e+03   0.0   \n",
       "NumberOfOpenCreditLinesAndLoans       225.0     0.008889  9.407022e-02   0.0   \n",
       "NumberOfTimes90DaysLate               225.0    97.955556  2.954684e-01  96.0   \n",
       "NumberRealEstateLoansOrLines          225.0     0.000000  0.000000e+00   0.0   \n",
       "NumberOfTime60-89DaysPastDueNotWorse  225.0    97.955556  2.954684e-01  96.0   \n",
       "NumberOfDependents                    225.0     0.391111  8.493228e-01   0.0   \n",
       "\n",
       "                                        1%      10%     25%          50%  \\\n",
       "SeriousDlqin2yrs                       0.0    0.000     0.0     1.000000   \n",
       "RevolvingUtilizationOfUnsecuredLines   1.0    1.000     1.0     1.000000   \n",
       "age                                   21.0   22.000    25.0    31.000000   \n",
       "NumberOfTime30-59DaysPastDueNotWorse  96.0   98.000    98.0    98.000000   \n",
       "DebtRatio                              0.0    0.000     0.0     0.000000   \n",
       "MonthlyIncome                          0.0  683.984  1375.0  2149.973333   \n",
       "NumberOfOpenCreditLinesAndLoans        0.0    0.000     0.0     0.000000   \n",
       "NumberOfTimes90DaysLate               96.0   98.000    98.0    98.000000   \n",
       "NumberRealEstateLoansOrLines           0.0    0.000     0.0     0.000000   \n",
       "NumberOfTime60-89DaysPastDueNotWorse  96.0   98.000    98.0    98.000000   \n",
       "NumberOfDependents                     0.0    0.000     0.0     0.000000   \n",
       "\n",
       "                                              75%      90%         99%  \\\n",
       "SeriousDlqin2yrs                         1.000000     1.00      1.0000   \n",
       "RevolvingUtilizationOfUnsecuredLines     1.000000     1.00      1.0000   \n",
       "age                                     46.000000    56.00     67.5200   \n",
       "NumberOfTime30-59DaysPastDueNotWorse    98.000000    98.00     98.0000   \n",
       "DebtRatio                                0.005293    13.80    114.2400   \n",
       "MonthlyIncome                         3200.000000  4869.56  11817.9794   \n",
       "NumberOfOpenCreditLinesAndLoans          0.000000     0.00      0.0000   \n",
       "NumberOfTimes90DaysLate                 98.000000    98.00     98.0000   \n",
       "NumberRealEstateLoansOrLines             0.000000     0.00      0.0000   \n",
       "NumberOfTime60-89DaysPastDueNotWorse    98.000000    98.00     98.0000   \n",
       "NumberOfDependents                       0.000000     2.00      3.7600   \n",
       "\n",
       "                                          max  \n",
       "SeriousDlqin2yrs                          1.0  \n",
       "RevolvingUtilizationOfUnsecuredLines      1.0  \n",
       "age                                      79.0  \n",
       "NumberOfTime30-59DaysPastDueNotWorse     98.0  \n",
       "DebtRatio                               255.0  \n",
       "MonthlyIncome                         28733.0  \n",
       "NumberOfOpenCreditLinesAndLoans           1.0  \n",
       "NumberOfTimes90DaysLate                  98.0  \n",
       "NumberRealEstateLoansOrLines              0.0  \n",
       "NumberOfTime60-89DaysPastDueNotWorse     98.0  \n",
       "NumberOfDependents                        5.0  "
      ]
     },
     "execution_count": 29,
     "metadata": {},
     "output_type": "execute_result"
    }
   ],
   "source": [
    "df.describe([0.01,0.1,0.25,.5,.75,.9,.99]).T"
   ]
  },
  {
   "cell_type": "markdown",
   "metadata": {
    "pycharm": {
     "name": "#%% md\n"
    }
   },
   "source": [
    "可以看出他们的收入并不高"
   ]
  },
  {
   "cell_type": "code",
   "execution_count": 30,
   "metadata": {
    "pycharm": {
     "is_executing": false,
     "name": "#%%\n"
    }
   },
   "outputs": [
    {
     "data": {
      "text/plain": [
       "0.6044444444444445"
      ]
     },
     "execution_count": 30,
     "metadata": {},
     "output_type": "execute_result"
    }
   ],
   "source": [
    "#发现并不是所有人都违约\n",
    "df['SeriousDlqin2yrs'].mean()"
   ]
  },
  {
   "cell_type": "markdown",
   "metadata": {
    "pycharm": {
     "name": "#%% md\n"
    }
   },
   "source": [
    "所以这样的数据就很让人费解，所以暂时先把它们当做异常值去除，后面若是模型的训练不好了，再选择添加进去吧"
   ]
  },
  {
   "cell_type": "code",
   "execution_count": 31,
   "metadata": {
    "pycharm": {
     "is_executing": false,
     "name": "#%%\n"
    },
    "scrolled": true
   },
   "outputs": [],
   "source": [
    "data = data[data.loc[:,'NumberOfTimes90DaysLate'] < 90]"
   ]
  },
  {
   "cell_type": "markdown",
   "metadata": {
    "pycharm": {
     "name": "#%% md\n"
    }
   },
   "source": [
    "别忘了重置索引"
   ]
  },
  {
   "cell_type": "code",
   "execution_count": 32,
   "metadata": {
    "pycharm": {
     "is_executing": false,
     "name": "#%%\n"
    }
   },
   "outputs": [],
   "source": [
    "data.index = range(data.shape[0])"
   ]
  },
  {
   "cell_type": "code",
   "execution_count": 33,
   "metadata": {
    "pycharm": {
     "is_executing": false
    }
   },
   "outputs": [
    {
     "name": "stdout",
     "output_type": "stream",
     "text": [
      "<class 'pandas.core.frame.DataFrame'>\n",
      "RangeIndex: 149165 entries, 0 to 149164\n",
      "Data columns (total 11 columns):\n",
      "SeriousDlqin2yrs                        149165 non-null int64\n",
      "RevolvingUtilizationOfUnsecuredLines    149165 non-null float64\n",
      "age                                     149165 non-null int64\n",
      "NumberOfTime30-59DaysPastDueNotWorse    149165 non-null int64\n",
      "DebtRatio                               149165 non-null float64\n",
      "MonthlyIncome                           149165 non-null float64\n",
      "NumberOfOpenCreditLinesAndLoans         149165 non-null int64\n",
      "NumberOfTimes90DaysLate                 149165 non-null int64\n",
      "NumberRealEstateLoansOrLines            149165 non-null int64\n",
      "NumberOfTime60-89DaysPastDueNotWorse    149165 non-null int64\n",
      "NumberOfDependents                      149165 non-null float64\n",
      "dtypes: float64(4), int64(7)\n",
      "memory usage: 12.5 MB\n"
     ]
    }
   ],
   "source": [
    "data.info()"
   ]
  },
  {
   "cell_type": "markdown",
   "metadata": {
    "pycharm": {
     "name": "#%% md\n"
    }
   },
   "source": [
    "在描述性统计结果中，我们可以观察到数据量纲明显不统一，而且存在一部分极偏的分布，虽然逻辑回归对于数据没有分布要求，但是我们知道如果数据服从正态分布的话梯度下降可以收敛得更快。但在这里，我们不对数据进行标准化处理，也不进行量纲统一，为什么？\n",
    "\n",
    "无论算法有什么样的规定，无论统计学中有什么样的要求，我们的最终目的都是要为业务服务。现在我们要制作评分卡，评分卡是要给业务人员们使用的基于新客户填写的各种信息为客户打分的一张卡片，而为了制作这张卡片，我们需要对我们的数据进行一个“分档”，比如说，年龄20~30岁为一档，年龄30~50岁为一档，月收入1W以上为一档，5k~1W为一档，每档的分数不同。\n",
    "\n",
    "一旦我们将数据统一量纲，或者标准化了之后，数据大小和范围都会改变，统计结果是漂亮了，但是对于业务人员来说，他们完全无法理解，标准化后的年龄在0.00328~0.00467之间为一档是什么含义。并且，新客户填写的信息，天生就是量纲不统一的，我们的确可以将所有的信息录入之后，统一进行标准化，然后导入算法计算，但是最终落到业务人员手上去判断的时候，他们会完全不理解为什么录入的信息变成了一串统计上很美但实际上根本看不懂的数字。由于业务要求，在制作评分卡的时候，我们要尽量保持数据的原貌，年龄就是8~110的数字，收入就是大于0，最大值可以无限的数字，即便量纲不统一，我们也不对数据进行标准化处理。"
   ]
  },
  {
   "cell_type": "code",
   "execution_count": 34,
   "metadata": {
    "pycharm": {
     "is_executing": false,
     "name": "#%%\n"
    }
   },
   "outputs": [
    {
     "name": "stdout",
     "output_type": "stream",
     "text": [
      "样本个数:149165;违约的占比6.62%,不违约的占比93.38%\n"
     ]
    }
   ],
   "source": [
    "#探索标签的分布\n",
    "#特征矩阵\n",
    "X = data.iloc[:,1: ]\n",
    "#标签值\n",
    "y = data.iloc[:,0]\n",
    "#查看违约与不违约的数量\n",
    "y.value_counts()\n",
    "n_sample = X.shape[0]\n",
    "n_1_sample = y.value_counts()[1]\n",
    "n_0_sample = y.value_counts()[0]\n",
    "print('样本个数:{};违约的占比{:.2%},不违约的占比{:.2%}'.format(n_sample,\n",
    "                                                n_1_sample/n_sample,\n",
    "                                                n_0_sample/n_sample))\n",
    "#print('样本个数：{}; 1{:.2%}; 0占{:.2%}'.format(n_sample,n_1_sample/n_sample,n_0_sample/n_sample))"
   ]
  },
  {
   "cell_type": "markdown",
   "metadata": {
    "pycharm": {
     "name": "#%% md\n"
    }
   },
   "source": [
    "可以看出，样本严重不均衡。虽然大家都在努力防范信用风险，但实际违约的人并不多。并且，银行并不会真的一棒子打死所有会违约的人，很多人是会还钱的，只是忘记了还款日，很多人是不愿意欠人钱的，但是当时真的很困难，资金周转不过来，所以发生逾期，但一旦他有了钱，他就会把钱换上。对于银行来说，只要你最后能够把钱还上，我都愿意借钱给你，因为我借给你就有收入（利息）。所以，对于银行来说，真正想要被判别出来的其实是”恶意违约“的人，而这部分人数非常非常少，样本就会不均衡。这一直是银行业建模的一个痛点：我们永远希望捕捉少数类。逻辑回归中使用最多的是上采样方法来平衡样本。"
   ]
  },
  {
   "cell_type": "code",
   "execution_count": 35,
   "metadata": {
    "pycharm": {
     "is_executing": false,
     "name": "#%%\n"
    }
   },
   "outputs": [
    {
     "name": "stdout",
     "output_type": "stream",
     "text": [
      "样本个数:278584;违约的占比50.00%,不违约的占比50.00%\n"
     ]
    }
   ],
   "source": [
    "#imblearn是专门用来处理不平衡数据集的库，采用SMOTE的方法上采样解决样本分布不平衡的问题\n",
    "from imblearn.over_sampling import SMOTE\n",
    "sm = SMOTE(random_state=42)#实例化\n",
    "X,y = sm.fit_sample(X,y)\n",
    "n_sample = X.shape[0]\n",
    "n_1_sample = y.value_counts()[1]\n",
    "n_0_sample = y.value_counts()[0]\n",
    "print('样本个数:{};违约的占比{:.2%},不违约的占比{:.2%}'.format(n_sample,\n",
    "                                                n_1_sample/n_sample,\n",
    "                                                n_0_sample/n_sample))"
   ]
  },
  {
   "cell_type": "code",
   "execution_count": 36,
   "metadata": {
    "scrolled": true
   },
   "outputs": [
    {
     "name": "stdout",
     "output_type": "stream",
     "text": [
      "<class 'pandas.core.frame.DataFrame'>\n",
      "RangeIndex: 278584 entries, 0 to 278583\n",
      "Data columns (total 10 columns):\n",
      "RevolvingUtilizationOfUnsecuredLines    278584 non-null float64\n",
      "age                                     278584 non-null int64\n",
      "NumberOfTime30-59DaysPastDueNotWorse    278584 non-null int64\n",
      "DebtRatio                               278584 non-null float64\n",
      "MonthlyIncome                           278584 non-null float64\n",
      "NumberOfOpenCreditLinesAndLoans         278584 non-null int64\n",
      "NumberOfTimes90DaysLate                 278584 non-null int64\n",
      "NumberRealEstateLoansOrLines            278584 non-null int64\n",
      "NumberOfTime60-89DaysPastDueNotWorse    278584 non-null int64\n",
      "NumberOfDependents                      278584 non-null float64\n",
      "dtypes: float64(4), int64(6)\n",
      "memory usage: 21.3 MB\n"
     ]
    }
   ],
   "source": [
    "X.info()"
   ]
  },
  {
   "cell_type": "code",
   "execution_count": 37,
   "metadata": {
    "pycharm": {
     "name": "#%%\n"
    }
   },
   "outputs": [
    {
     "data": {
      "text/plain": [
       "278584"
      ]
     },
     "execution_count": 37,
     "metadata": {},
     "output_type": "execute_result"
    }
   ],
   "source": [
    "len(y)"
   ]
  },
  {
   "cell_type": "markdown",
   "metadata": {
    "pycharm": {
     "name": "#%% md\n"
    }
   },
   "source": [
    "分出训练集以及测试集"
   ]
  },
  {
   "cell_type": "code",
   "execution_count": 39,
   "metadata": {
    "pycharm": {
     "is_executing": false,
     "name": "#%%\n"
    }
   },
   "outputs": [],
   "source": [
    "\n",
    "from sklearn.model_selection import train_test_split\n",
    "X = pd.DataFrame(X)\n",
    "y = pd.DataFrame(y)\n",
    "X_train,X_vali,Y_train,Y_vali = train_test_split(X,y,test_size=0.3,random_state=420)\n",
    "#训练集\n",
    "model_data = pd.concat([Y_train,X_train],axis=1)#肩并肩拼接在一起\n",
    "model_data.index = range(model_data.shape[0])\n",
    "model_data.columns = data.columns\n",
    "#验证集\n",
    "vali_data = pd.concat([Y_vali,X_vali],axis=1)\n",
    "vali_data.index = range(vali_data.shape[0])\n",
    "vali_data.columns = data.columns\n",
    "#分别储存，便于后续操作\n",
    "model_data.to_csv(\"./model_data.csv\")\n",
    "vali_data.to_csv(\"./vali_data.csv\")"
   ]
  },
  {
   "cell_type": "markdown",
   "metadata": {
    "pycharm": {
     "name": "#%% md\n"
    }
   },
   "source": [
    "# 3.特征工程\n",
    "## 3.1 等频分箱\n",
    "前面提到过，我们要制作评分卡，是要给各个特征进行分档，以便业务人员能够根据新客户填写的信息为客户打分。因此在评分卡制作过程中，一个重要的步骤就是分箱。可以说，分箱是评分卡最难，也是最核心的思路，分箱的本质，其实就是离散化连续变量，好让拥有不同属性的人被分成不同的类别（打上不同的分数），其实本质比较类似于聚类。那我们在分箱中要回答几个问题：\n",
    "\n",
    "首先，要分多少个箱子才合适？\n",
    "\n",
    "最开始我们并不知道，但是既然是将连续型变量离散化，想也知道箱子个数必然不能太多，最好控制在十个以下。而用来制作评分卡，最好能在4~5个为最佳。我们知道，离散化连续变量必然伴随着信息的损失，并且箱子越少，信息损失越大。为了衡量特征上的信息量以及特征对预测函数的贡献，银行业定义了概念Information value(IV)：\n",
    "![IV](https://pic4.zhimg.com/80/v2-afea53f959954c27ca9c02dbda6810d6_720w.png)\n",
    "其中N是这个特征上箱子的个数，i代表每个箱子，good%是这个箱内的优质客户（标签为0的客户）占整个特征中所有优质客户的比例，bad%是这个箱子里的坏客户（就是那些会违约，标签为1的那些客户）占整个特征中所有坏客户的比例，而WOEi则写作：\n",
    "![WOE](https://pic1.zhimg.com/80/v2-e983240e8e3aca5f992f5b44f21f39e4_720w.png)\n",
    "这是我们在银行业中用来衡量违约概率的指标，中文叫做证据权重(weight of Evidence)，本质其实就是优质客户比上坏客户的比例的对数。WOE是对一个箱子来说的，WOE越大，代表了这个箱子里的优质客户越多。而IV是对整个特征来说的，IV代表的意义是我们特征上的信息量以及这个特征对模型的贡献，由下表来控制：\n",
    "![IV表](https://picb.zhimg.com/80/v2-92d24cd3638e1d7f5e62014b7f9fe672_720w.jpg)\n",
    "可见，IV并非越大越好，我们想要找到IV的大小和箱子个数的平衡点。箱子越多，IV必然越小，因为信息损失会非常多。所以，我们会对特征进行分箱，然后计算每个特征在n个箱子数目下的WOE值，利用IV值的曲线，找出每个特征合适的分箱个数。\n",
    "\n",
    "**其次，分箱要达成什么样的效果？**\n",
    "\n",
    "我们希望不同属性的人有不同的分数，因此我们希望在同一个箱子内的人的属性是尽量相似的，而不同箱子的人的属性是尽量不同的，即业界常说的”组间差异大，组内差异小“。对于评分卡来说，就是说我们希望一个箱子内的人违约概率是类似的，而不同箱子的人的违约概率差距很大，即WOE差距要大，并且每个箱子中坏客户所占的比重（bad%）也要不同。那我们，可以使用卡方检验来对比两个箱子之间的相似性，如果两个箱子之间卡方检验的P值很大，则说明他们非常相似，那我们就可以将这两个箱子合并为一个箱子。\n",
    "\n",
    "基于这样的思想，我们总结出我们对一个特征进行分箱的步骤：\n",
    "\n",
    "- 1.我们首先把连续型变量分成一组数量较多的分类型变量，比如，将几万个样本分成100组，或50组\n",
    "- 2.确保每一组中都要包含两种类别的样本，否则IV值会无法计算\n",
    "- 3.我们对相邻的组进行卡方检验，卡方检验的P值很大的组进行合并，直到数据中的组数小于设定的N箱为止\n",
    "- 4.我们让一个特征分别分成[2,3,4.....20]箱，观察每个分箱个数下的IV值如何变，找出最适合的分箱个数\n",
    "- 5.分箱完毕后，我们计算每个箱的WOE值，观察分箱效果\n",
    "\n",
    "这些步骤都完成后，我们可以对各个特征都进行分箱，然后观察每个特征的IV值，以此来挑选特征。\n",
    "\n",
    "接下来，我们就以\"age\"为例子，来看看分箱如何完成。"
   ]
  },
  {
   "cell_type": "code",
   "execution_count": 40,
   "metadata": {
    "pycharm": {
     "is_executing": false
    }
   },
   "outputs": [
    {
     "data": {
      "text/plain": [
       "(36.0, 39.0]      12646\n",
       "(20.999, 28.0]    11749\n",
       "(58.0, 61.0]      11409\n",
       "(48.0, 50.0]      11123\n",
       "(46.0, 48.0]      10979\n",
       "(31.0, 34.0]      10831\n",
       "(50.0, 52.0]      10525\n",
       "(43.0, 45.0]      10360\n",
       "(61.0, 64.0]      10172\n",
       "(39.0, 41.0]       9784\n",
       "(52.0, 54.0]       9720\n",
       "(41.0, 43.0]       9686\n",
       "(28.0, 31.0]       9528\n",
       "(74.0, 107.0]      9126\n",
       "(64.0, 68.0]       8886\n",
       "(54.0, 56.0]       8699\n",
       "(68.0, 74.0]       8659\n",
       "(56.0, 58.0]       7910\n",
       "(34.0, 36.0]       7519\n",
       "(45.0, 46.0]       5697\n",
       "Name: qcut, dtype: int64"
      ]
     },
     "execution_count": 40,
     "metadata": {},
     "output_type": "execute_result"
    }
   ],
   "source": [
    "#按照等频对需要分箱的列进行分箱，以“age”列为例\n",
    "\"\"\"\n",
    "pd.qcut，基于分位数的分箱函数，本质是将连续型变量离散化，只能够处理一维数据。返回箱子的上限和下限\n",
    "参数q：要分箱的个数\n",
    "参数retbins=True来要求同时返回结构为：索引为样本索引，元素为分到的箱子的Series\n",
    "现在返回两个值：每个样本属于哪个箱子，以及所有箱子的上限和下限\n",
    "\"\"\"\n",
    "#在这里时让model_data新添加一列叫做“分箱”，这一列其实就是每个样本所对应的箱子\n",
    "model_data['qcut'],updown = pd.qcut(model_data['age'],retbins=True,q=20)\n",
    "model_data.head()\n",
    "model_data['qcut'].value_counts()\n"
   ]
  },
  {
   "cell_type": "code",
   "execution_count": 41,
   "metadata": {
    "pycharm": {
     "is_executing": false
    }
   },
   "outputs": [
    {
     "data": {
      "text/plain": [
       "array([ 21.,  28.,  31.,  34.,  36.,  39.,  41.,  43.,  45.,  46.,  48.,\n",
       "        50.,  52.,  54.,  56.,  58.,  61.,  64.,  68.,  74., 107.])"
      ]
     },
     "execution_count": 41,
     "metadata": {},
     "output_type": "execute_result"
    }
   ],
   "source": [
    "#所有箱子的上限和下限\n",
    "updown"
   ]
  },
  {
   "cell_type": "code",
   "execution_count": 42,
   "metadata": {
    "pycharm": {
     "is_executing": false
    }
   },
   "outputs": [
    {
     "data": {
      "text/html": [
       "<div>\n",
       "<style scoped>\n",
       "    .dataframe tbody tr th:only-of-type {\n",
       "        vertical-align: middle;\n",
       "    }\n",
       "\n",
       "    .dataframe tbody tr th {\n",
       "        vertical-align: top;\n",
       "    }\n",
       "\n",
       "    .dataframe thead th {\n",
       "        text-align: right;\n",
       "    }\n",
       "</style>\n",
       "<table border=\"1\" class=\"dataframe\">\n",
       "  <thead>\n",
       "    <tr style=\"text-align: right;\">\n",
       "      <th></th>\n",
       "      <th>SeriousDlqin2yrs</th>\n",
       "      <th>RevolvingUtilizationOfUnsecuredLines</th>\n",
       "      <th>age</th>\n",
       "      <th>NumberOfTime30-59DaysPastDueNotWorse</th>\n",
       "      <th>DebtRatio</th>\n",
       "      <th>MonthlyIncome</th>\n",
       "      <th>NumberOfOpenCreditLinesAndLoans</th>\n",
       "      <th>NumberOfTimes90DaysLate</th>\n",
       "      <th>NumberRealEstateLoansOrLines</th>\n",
       "      <th>NumberOfTime60-89DaysPastDueNotWorse</th>\n",
       "      <th>NumberOfDependents</th>\n",
       "      <th>qcut</th>\n",
       "    </tr>\n",
       "  </thead>\n",
       "  <tbody>\n",
       "    <tr>\n",
       "      <th>0</th>\n",
       "      <td>0</td>\n",
       "      <td>0.015404</td>\n",
       "      <td>53</td>\n",
       "      <td>0</td>\n",
       "      <td>0.121802</td>\n",
       "      <td>4728.0</td>\n",
       "      <td>5</td>\n",
       "      <td>0</td>\n",
       "      <td>0</td>\n",
       "      <td>0</td>\n",
       "      <td>0.000000</td>\n",
       "      <td>(52.0, 54.0]</td>\n",
       "    </tr>\n",
       "    <tr>\n",
       "      <th>1</th>\n",
       "      <td>0</td>\n",
       "      <td>0.168311</td>\n",
       "      <td>63</td>\n",
       "      <td>0</td>\n",
       "      <td>0.141964</td>\n",
       "      <td>1119.0</td>\n",
       "      <td>5</td>\n",
       "      <td>0</td>\n",
       "      <td>0</td>\n",
       "      <td>0</td>\n",
       "      <td>0.000000</td>\n",
       "      <td>(61.0, 64.0]</td>\n",
       "    </tr>\n",
       "    <tr>\n",
       "      <th>2</th>\n",
       "      <td>1</td>\n",
       "      <td>1.063570</td>\n",
       "      <td>39</td>\n",
       "      <td>1</td>\n",
       "      <td>0.417663</td>\n",
       "      <td>3500.0</td>\n",
       "      <td>5</td>\n",
       "      <td>1</td>\n",
       "      <td>0</td>\n",
       "      <td>2</td>\n",
       "      <td>3.716057</td>\n",
       "      <td>(36.0, 39.0]</td>\n",
       "    </tr>\n",
       "    <tr>\n",
       "      <th>3</th>\n",
       "      <td>0</td>\n",
       "      <td>0.088684</td>\n",
       "      <td>73</td>\n",
       "      <td>0</td>\n",
       "      <td>0.522822</td>\n",
       "      <td>5301.0</td>\n",
       "      <td>11</td>\n",
       "      <td>0</td>\n",
       "      <td>2</td>\n",
       "      <td>0</td>\n",
       "      <td>0.000000</td>\n",
       "      <td>(68.0, 74.0]</td>\n",
       "    </tr>\n",
       "    <tr>\n",
       "      <th>4</th>\n",
       "      <td>1</td>\n",
       "      <td>0.622999</td>\n",
       "      <td>53</td>\n",
       "      <td>0</td>\n",
       "      <td>0.423650</td>\n",
       "      <td>13000.0</td>\n",
       "      <td>9</td>\n",
       "      <td>0</td>\n",
       "      <td>2</td>\n",
       "      <td>0</td>\n",
       "      <td>0.181999</td>\n",
       "      <td>(52.0, 54.0]</td>\n",
       "    </tr>\n",
       "  </tbody>\n",
       "</table>\n",
       "</div>"
      ],
      "text/plain": [
       "   SeriousDlqin2yrs  RevolvingUtilizationOfUnsecuredLines  age  \\\n",
       "0                 0                              0.015404   53   \n",
       "1                 0                              0.168311   63   \n",
       "2                 1                              1.063570   39   \n",
       "3                 0                              0.088684   73   \n",
       "4                 1                              0.622999   53   \n",
       "\n",
       "   NumberOfTime30-59DaysPastDueNotWorse  DebtRatio  MonthlyIncome  \\\n",
       "0                                     0   0.121802         4728.0   \n",
       "1                                     0   0.141964         1119.0   \n",
       "2                                     1   0.417663         3500.0   \n",
       "3                                     0   0.522822         5301.0   \n",
       "4                                     0   0.423650        13000.0   \n",
       "\n",
       "   NumberOfOpenCreditLinesAndLoans  NumberOfTimes90DaysLate  \\\n",
       "0                                5                        0   \n",
       "1                                5                        0   \n",
       "2                                5                        1   \n",
       "3                               11                        0   \n",
       "4                                9                        0   \n",
       "\n",
       "   NumberRealEstateLoansOrLines  NumberOfTime60-89DaysPastDueNotWorse  \\\n",
       "0                             0                                     0   \n",
       "1                             0                                     0   \n",
       "2                             0                                     2   \n",
       "3                             2                                     0   \n",
       "4                             2                                     0   \n",
       "\n",
       "   NumberOfDependents          qcut  \n",
       "0            0.000000  (52.0, 54.0]  \n",
       "1            0.000000  (61.0, 64.0]  \n",
       "2            3.716057  (36.0, 39.0]  \n",
       "3            0.000000  (68.0, 74.0]  \n",
       "4            0.181999  (52.0, 54.0]  "
      ]
     },
     "execution_count": 42,
     "metadata": {},
     "output_type": "execute_result"
    }
   ],
   "source": [
    "model_data.head()"
   ]
  },
  {
   "cell_type": "code",
   "execution_count": 43,
   "metadata": {
    "pycharm": {
     "is_executing": false,
     "name": "#%%\n"
    }
   },
   "outputs": [
    {
     "data": {
      "text/plain": [
       "[(21.0, 28.0, 4243, 7506),\n",
       " (28.0, 31.0, 3571, 5957),\n",
       " (31.0, 34.0, 4075, 6756),\n",
       " (34.0, 36.0, 2908, 4611),\n",
       " (36.0, 39.0, 5182, 7464),\n",
       " (39.0, 41.0, 3956, 5828),\n",
       " (41.0, 43.0, 4002, 5684),\n",
       " (43.0, 45.0, 4389, 5971),\n",
       " (45.0, 46.0, 2419, 3278),\n",
       " (46.0, 48.0, 4813, 6166),\n",
       " (48.0, 50.0, 4900, 6223),\n",
       " (50.0, 52.0, 4728, 5797),\n",
       " (52.0, 54.0, 4681, 5039),\n",
       " (54.0, 56.0, 4677, 4022),\n",
       " (56.0, 58.0, 4483, 3427),\n",
       " (58.0, 61.0, 6583, 4826),\n",
       " (61.0, 64.0, 6968, 3204),\n",
       " (64.0, 68.0, 6623, 2263),\n",
       " (68.0, 74.0, 6753, 1906),\n",
       " (74.0, 107.0, 7737, 1389)]"
      ]
     },
     "execution_count": 43,
     "metadata": {},
     "output_type": "execute_result"
    }
   ],
   "source": [
    "# 统计每个分箱中0和1的数量\n",
    "# 这里使用了数据透视表的功能groupby\n",
    "count_y0 = model_data[model_data['SeriousDlqin2yrs'] == 0].groupby(\"qcut\").count()['SeriousDlqin2yrs']\n",
    "count_y1 = model_data[model_data['SeriousDlqin2yrs'] == 1].groupby(\"qcut\").count()['SeriousDlqin2yrs']\n",
    "#num_bins（箱子的数量）值分别为每个区间的上界，下界，0出现的次数，1出现的次数\n",
    "num_bins = [*zip(updown,updown[1:],count_y0,count_y1)]\n",
    "num_bins"
   ]
  },
  {
   "cell_type": "markdown",
   "metadata": {
    "pycharm": {
     "name": "#%% md\n"
    }
   },
   "source": [
    "# 使用栈来构造代码会更简单一些"
   ]
  },
  {
   "cell_type": "code",
   "execution_count": 46,
   "metadata": {
    "pycharm": {
     "is_executing": false
    }
   },
   "outputs": [],
   "source": [
    "test = [\n",
    "        (21.0, 28.0, 0, 7524),\n",
    "     (28.0, 31.0, 0, 5901),\n",
    "     (31.0, 34.0, 0, 6756),\n",
    "     (34.0, 36.0, 0, 4609),\n",
    "     (36.0, 39.0, 0, 7518),\n",
    "     (39.0, 41.0, 0, 5852),\n",
    "     (41.0, 43.0, 0, 5672),\n",
    "     (43.0, 45.0, 4389, 0),\n",
    "     (45.0, 46.0, 2419, 0),\n",
    "     (46.0, 48.0, 4813, 0),\n",
    "     (48.0, 50.0, 4900, 0),\n",
    "     (50.0, 52.0, 4728, 0),\n",
    "     (52.0, 54.0, 0, 5003),\n",
    "     (54.0, 56.0, 4677, 4014),\n",
    "     (56.0, 58.0, 0, 3443),\n",
    "     (58.0, 61.0, 0, 4770),\n",
    "     (61.0, 64.0, 6968, 3189),\n",
    "     (64.0, 68.0, 6623, 2284),\n",
    "     (68.0, 74.0, 0, 1919),\n",
    "     (74.0, 107.0, 7737, 1390)]\n",
    "#尝试用栈来实现分箱合并\n",
    "def get_newbins(bins):\n",
    "    class Stack():   #定义类\n",
    "        def __init__(self):  #产生一个空的容器\n",
    "            self.__list = []\n",
    "        def push(self, item):  #入栈\n",
    "            self.__list.append(item)\n",
    "        def pop(self):  #出栈\n",
    "            return self.__list.pop()\n",
    "        def speek(self):  #返回栈顶元素\n",
    "            return self.__list[-1]\n",
    "        def is_empty(self):  #判断是否已为空\n",
    "            return not self.__list\n",
    "        def size(self):  #返回栈中元素个数\n",
    "            return len(self.__list)\n",
    "    \n",
    "    s = Stack()\n",
    "    #首先将列表翻转，降序\n",
    "    bins = sorted(num_bins,reverse=True)\n",
    "    #全部入栈\n",
    "    for i in bins:\n",
    "        s.push(i)\n",
    "    lis =[]\n",
    "    while not s.is_empty():\n",
    "        s1 = s.pop()\n",
    "        if 0 in s1[2:]:\n",
    "            s2 = s.pop()\n",
    "            s3 = (s1[0],s2[1],s1[2]+s2[2],s1[3]+s2[3])\n",
    "            s.push(s3)\n",
    "        else:\n",
    "            lis.append(s1)\n",
    "    return lis"
   ]
  },
  {
   "cell_type": "code",
   "execution_count": 47,
   "metadata": {
    "pycharm": {
     "is_executing": false,
     "name": "#%%\n"
    }
   },
   "outputs": [
    {
     "data": {
      "text/plain": [
       "[(21.0, 28.0, 4243, 7506),\n",
       " (28.0, 31.0, 3571, 5957),\n",
       " (31.0, 34.0, 4075, 6756),\n",
       " (34.0, 36.0, 2908, 4611),\n",
       " (36.0, 39.0, 5182, 7464),\n",
       " (39.0, 41.0, 3956, 5828),\n",
       " (41.0, 43.0, 4002, 5684),\n",
       " (43.0, 45.0, 4389, 5971),\n",
       " (45.0, 46.0, 2419, 3278),\n",
       " (46.0, 48.0, 4813, 6166),\n",
       " (48.0, 50.0, 4900, 6223),\n",
       " (50.0, 52.0, 4728, 5797),\n",
       " (52.0, 54.0, 4681, 5039),\n",
       " (54.0, 56.0, 4677, 4022),\n",
       " (56.0, 58.0, 4483, 3427),\n",
       " (58.0, 61.0, 6583, 4826),\n",
       " (61.0, 64.0, 6968, 3204),\n",
       " (64.0, 68.0, 6623, 2263),\n",
       " (68.0, 74.0, 6753, 1906),\n",
       " (74.0, 107.0, 7737, 1389)]"
      ]
     },
     "execution_count": 47,
     "metadata": {},
     "output_type": "execute_result"
    }
   ],
   "source": [
    "get_newbins(test)"
   ]
  },
  {
   "cell_type": "markdown",
   "metadata": {
    "pycharm": {
     "name": "#%% md\n"
    }
   },
   "source": [
    "# 3.3 定义WOE和IV函数"
   ]
  },
  {
   "cell_type": "code",
   "execution_count": 48,
   "metadata": {
    "pycharm": {
     "is_executing": false,
     "name": "#%%\n"
    }
   },
   "outputs": [],
   "source": [
    "#计算WOE和BADRATE\n",
    "#BAD RATE与bad%不是一个东西\n",
    "#BAD RATE是一个箱中，坏的样本所占箱子中总样本的比例 (bad/total)\n",
    "#而bad%是一个箱中的坏样本占整个特征中的坏样本的比例\n",
    "def get_woe(num_bins):\n",
    "    #通过numbins计算woe\n",
    "    columns = ['min','max','count_0','count_1']\n",
    "    df = pd.DataFrame(num_bins,columns=columns)\n",
    "    df['total'] = df.count_0 + df.count_1 #一个箱子中所有的样本数\n",
    "    df['percentage'] = df.total / df.total.sum()#一个箱子的样本数占所有样本的比例\n",
    "    df['good%'] = df.count_0 / df.count_0.sum()\n",
    "    df['bad%'] = df.count_1 / df.count_1.sum()\n",
    "    df['woe'] = np.log(df['good%']/df['bad%'])\n",
    "    return df\n",
    "\n",
    "#计算IV值\n",
    "def get_iv(df):\n",
    "    rate = df['good%'] - df['bad%']\n",
    "    iv = np.sum(rate * df.woe)\n",
    "    return iv\n"
   ]
  },
  {
   "cell_type": "markdown",
   "metadata": {
    "pycharm": {
     "name": "#%% md\n"
    }
   },
   "source": [
    "# 3.4 利用卡方检验合并箱体，并画出IV曲线"
   ]
  },
  {
   "cell_type": "code",
   "execution_count": 49,
   "metadata": {
    "pycharm": {
     "is_executing": false,
     "name": "#%%\n"
    }
   },
   "outputs": [
    {
     "data": {
      "image/png": "[encoded data removed]",
      "text/plain": [
       "<Figure size 432x288 with 1 Axes>"
      ]
     },
     "metadata": {},
     "output_type": "display_data"
    }
   ],
   "source": [
    "num_bins_ = num_bins.copy()#不希望覆盖源数据\n",
    "import scipy.stats\n",
    "IV = []\n",
    "axisx = []\n",
    "\n",
    "while len(num_bins_) > 2:#大于 设置的最低分箱个数\n",
    "    pvs = []\n",
    "    #获取 num_bins_两两之间的卡方检验的置信度（或者卡方值）\n",
    "    for i in range(len(num_bins_) - 1):\n",
    "        x1 = num_bins_[i][2:]\n",
    "        x2 = num_bins_[i+1][2:]\n",
    "        # 0 返回 chi2 值，1 返回 p 值。直接用p值进行判断就行\n",
    "        pv = scipy.stats.chi2_contingency([x1,x2])[1]#p值\n",
    "        pvs.append(pv)\n",
    "    #合并P值最大的两组\n",
    "    i = pvs.index(max(pvs))#P值最大的对象\n",
    "    num_bins_[i:i+2] = [(\n",
    "        num_bins_[i][0],\n",
    "        num_bins_[i+1][1],\n",
    "        num_bins_[i][2] + num_bins_[i+1][2],\n",
    "        num_bins_[i][3] + num_bins_[i+1][3]\n",
    "    )]\n",
    "    bins_df = get_woe(num_bins_)\n",
    "    axisx.append(len(num_bins_))\n",
    "    IV.append(get_iv(bins_df))\n",
    "plt.figure()\n",
    "plt.plot(axisx,IV,'r')\n",
    "plt.xticks(axisx)\n",
    "plt.title(\"Box number with IV\")\n",
    "plt.xlabel(\"number of box\")\n",
    "plt.ylabel(\"IV\")\n",
    "plt.grid()\n",
    "plt.show()\n",
    "#选择转折点处，也就是下坠最快的折线点，所以这里对于age来说选择箱数为6"
   ]
  },
  {
   "cell_type": "markdown",
   "metadata": {
    "pycharm": {
     "name": "#%% md\n"
    }
   },
   "source": [
    "# 3.5 定义最佳分箱函数，并验证分箱结果"
   ]
  },
  {
   "cell_type": "code",
   "execution_count": 50,
   "metadata": {
    "pycharm": {
     "is_executing": false
    }
   },
   "outputs": [],
   "source": [
    "def get_bin(num_bins_,n):\n",
    "    while len(num_bins_) > n:\n",
    "        pvs = []\n",
    "        for i in range(len(num_bins_)-1):\n",
    "            x1 = num_bins_[i][2:]\n",
    "            x2 = num_bins_[i+1][2:]\n",
    "            pv = scipy.stats.chi2_contingency([x1,x2])[1]#卡方检验\n",
    "            # chi2 = scipy.stats.chi2_contingency([x1,x2])[0]\n",
    "            pvs.append(pv)\n",
    "\n",
    "        i = pvs.index(max(pvs))\n",
    "        num_bins_[i:i+2] = [(\n",
    "                num_bins_[i][0],\n",
    "                num_bins_[i+1][1],\n",
    "                num_bins_[i][2]+num_bins_[i+1][2],\n",
    "                num_bins_[i][3]+num_bins_[i+1][3])]\n",
    "    return num_bins_"
   ]
  },
  {
   "cell_type": "code",
   "execution_count": 51,
   "metadata": {
    "pycharm": {
     "is_executing": false
    }
   },
   "outputs": [
    {
     "data": {
      "text/plain": [
       "[(21.0, 36.0, 14797, 24830),\n",
       " (36.0, 54.0, 39070, 51450),\n",
       " (54.0, 61.0, 15743, 12275),\n",
       " (61.0, 64.0, 6968, 3204),\n",
       " (64.0, 74.0, 13376, 4169),\n",
       " (74.0, 107.0, 7737, 1389)]"
      ]
     },
     "execution_count": 51,
     "metadata": {},
     "output_type": "execute_result"
    }
   ],
   "source": [
    "afterbins = get_bin(num_bins,6)\n",
    "afterbins"
   ]
  },
  {
   "cell_type": "code",
   "execution_count": 52,
   "metadata": {
    "pycharm": {
     "is_executing": false,
     "name": "#%%\n"
    }
   },
   "outputs": [
    {
     "data": {
      "text/html": [
       "<div>\n",
       "<style scoped>\n",
       "    .dataframe tbody tr th:only-of-type {\n",
       "        vertical-align: middle;\n",
       "    }\n",
       "\n",
       "    .dataframe tbody tr th {\n",
       "        vertical-align: top;\n",
       "    }\n",
       "\n",
       "    .dataframe thead th {\n",
       "        text-align: right;\n",
       "    }\n",
       "</style>\n",
       "<table border=\"1\" class=\"dataframe\">\n",
       "  <thead>\n",
       "    <tr style=\"text-align: right;\">\n",
       "      <th></th>\n",
       "      <th>min</th>\n",
       "      <th>max</th>\n",
       "      <th>count_0</th>\n",
       "      <th>count_1</th>\n",
       "      <th>total</th>\n",
       "      <th>percentage</th>\n",
       "      <th>good%</th>\n",
       "      <th>bad%</th>\n",
       "      <th>woe</th>\n",
       "    </tr>\n",
       "  </thead>\n",
       "  <tbody>\n",
       "    <tr>\n",
       "      <th>0</th>\n",
       "      <td>21.0</td>\n",
       "      <td>36.0</td>\n",
       "      <td>14797</td>\n",
       "      <td>24830</td>\n",
       "      <td>39627</td>\n",
       "      <td>0.203207</td>\n",
       "      <td>0.151467</td>\n",
       "      <td>0.255146</td>\n",
       "      <td>-0.521464</td>\n",
       "    </tr>\n",
       "    <tr>\n",
       "      <th>1</th>\n",
       "      <td>36.0</td>\n",
       "      <td>54.0</td>\n",
       "      <td>39070</td>\n",
       "      <td>51450</td>\n",
       "      <td>90520</td>\n",
       "      <td>0.464186</td>\n",
       "      <td>0.399934</td>\n",
       "      <td>0.528685</td>\n",
       "      <td>-0.279091</td>\n",
       "    </tr>\n",
       "    <tr>\n",
       "      <th>2</th>\n",
       "      <td>54.0</td>\n",
       "      <td>61.0</td>\n",
       "      <td>15743</td>\n",
       "      <td>12275</td>\n",
       "      <td>28018</td>\n",
       "      <td>0.143676</td>\n",
       "      <td>0.161151</td>\n",
       "      <td>0.126134</td>\n",
       "      <td>0.244995</td>\n",
       "    </tr>\n",
       "    <tr>\n",
       "      <th>3</th>\n",
       "      <td>61.0</td>\n",
       "      <td>64.0</td>\n",
       "      <td>6968</td>\n",
       "      <td>3204</td>\n",
       "      <td>10172</td>\n",
       "      <td>0.052162</td>\n",
       "      <td>0.071327</td>\n",
       "      <td>0.032923</td>\n",
       "      <td>0.773092</td>\n",
       "    </tr>\n",
       "    <tr>\n",
       "      <th>4</th>\n",
       "      <td>64.0</td>\n",
       "      <td>74.0</td>\n",
       "      <td>13376</td>\n",
       "      <td>4169</td>\n",
       "      <td>17545</td>\n",
       "      <td>0.089971</td>\n",
       "      <td>0.136922</td>\n",
       "      <td>0.042839</td>\n",
       "      <td>1.161950</td>\n",
       "    </tr>\n",
       "    <tr>\n",
       "      <th>5</th>\n",
       "      <td>74.0</td>\n",
       "      <td>107.0</td>\n",
       "      <td>7737</td>\n",
       "      <td>1389</td>\n",
       "      <td>9126</td>\n",
       "      <td>0.046798</td>\n",
       "      <td>0.079199</td>\n",
       "      <td>0.014273</td>\n",
       "      <td>1.713594</td>\n",
       "    </tr>\n",
       "  </tbody>\n",
       "</table>\n",
       "</div>"
      ],
      "text/plain": [
       "    min    max  count_0  count_1  total  percentage     good%      bad%  \\\n",
       "0  21.0   36.0    14797    24830  39627    0.203207  0.151467  0.255146   \n",
       "1  36.0   54.0    39070    51450  90520    0.464186  0.399934  0.528685   \n",
       "2  54.0   61.0    15743    12275  28018    0.143676  0.161151  0.126134   \n",
       "3  61.0   64.0     6968     3204  10172    0.052162  0.071327  0.032923   \n",
       "4  64.0   74.0    13376     4169  17545    0.089971  0.136922  0.042839   \n",
       "5  74.0  107.0     7737     1389   9126    0.046798  0.079199  0.014273   \n",
       "\n",
       "        woe  \n",
       "0 -0.521464  \n",
       "1 -0.279091  \n",
       "2  0.244995  \n",
       "3  0.773092  \n",
       "4  1.161950  \n",
       "5  1.713594  "
      ]
     },
     "execution_count": 52,
     "metadata": {},
     "output_type": "execute_result"
    }
   ],
   "source": [
    "bins_dfk = get_woe(afterbins)\n",
    "bins_dfk"
   ]
  },
  {
   "cell_type": "markdown",
   "metadata": {},
   "source": [
    "希望每组的bad_rate相差越大越好。num_bins保留的信息越多越好\n",
    "\n",
    "woe差异越大越好，应该具有单调性，随着箱的增加，要么由正到负，要么由负到正，只能有一个转折过程。如果woe值大小变化是有两个转折，比如呈现w型，证明分箱过程有问题"
   ]
  },
  {
   "cell_type": "markdown",
   "metadata": {
    "pycharm": {
     "name": "#%% md\n"
    }
   },
   "source": [
    "# 3.6 定义根据IV曲线选取每个特征的最佳分箱个数函数\n",
    "\n",
    "结合3.1至3.5，将前面的过程封装为一个函数。"
   ]
  },
  {
   "cell_type": "code",
   "execution_count": 53,
   "metadata": {
    "pycharm": {
     "is_executing": false
    }
   },
   "outputs": [],
   "source": [
    "class Stack():   #定义类\n",
    "    def __init__(self):  #产生一个空的容器\n",
    "        self.__list = []\n",
    "    def push(self, item):  #入栈\n",
    "        self.__list.append(item)\n",
    "    def pop(self):  #出栈\n",
    "        return self.__list.pop()\n",
    "    def speek(self):  #返回栈顶元素\n",
    "        return self.__list[-1]\n",
    "    def is_empty(self):  #判断是否已为空\n",
    "        return not self.__list\n",
    "    def size(self):  #返回栈中元素个数\n",
    "        return len(self.__list)\n",
    "    \n",
    "def graphforbestbin(DF,X,Y,n=5,q=20,graph=True):\n",
    "    '''\n",
    "    自动最优分箱函数，基于卡方检验的分箱\n",
    "\n",
    "    参数：\n",
    "    DF: 需要输入的数据\n",
    "    X: 需要分箱的列名\n",
    "    Y: 分箱数据对应的标签 Y 列名\n",
    "    n: 保留分箱个数\n",
    "    q: 初始分箱的个数\n",
    "    graph: 是否要画出IV图像\n",
    "    区间为前开后闭 (]\n",
    "    '''\n",
    "    DF = DF[[X,Y]].copy()#[[X,Y]]是将这两列单独拼接成一个新的表\n",
    "    #开始分箱\n",
    "    DF['qcut'],bins = pd.qcut(DF[X],retbins=True,duplicates='drop',q=q)\n",
    "    coount_y0 = DF.loc[DF[Y] == 0].groupby('qcut').count()[Y]#取出为0的计数结果\n",
    "    coount_y1 = DF.loc[DF[Y] == 1].groupby('qcut').count()[Y]#取出为1的计数结果\n",
    "    #将序列解压\n",
    "    num_bins = [*zip(bins,bins[1:],coount_y0,coount_y1)]\n",
    "    \n",
    "    #将num_bins合并直到没有0样本情况存在\n",
    "    def get_newbins(bins):\n",
    "        class Stack():\n",
    "            #定义类\n",
    "            def __init__(self):  #产生一个空的容器\n",
    "                self.__list = []\n",
    "            def push(self, item):  #入栈\n",
    "                self.__list.append(item)\n",
    "            def pop(self):  #出栈\n",
    "                return self.__list.pop()\n",
    "            def speek(self):  #返回栈顶元素\n",
    "                return self.__list[-1]\n",
    "            def is_empty(self):  #判断是否已为空\n",
    "                return not self.__list\n",
    "            def size(self):  #返回栈中元素个数\n",
    "                return len(self.__list)\n",
    "\n",
    "        s = Stack()\n",
    "        #首先将列表翻转，降序\n",
    "        bins = sorted(num_bins,reverse=True)\n",
    "        #全部入栈\n",
    "        for i in bins:\n",
    "            s.push(i)\n",
    "        lis =[]\n",
    "        while not s.is_empty():\n",
    "            s1 = s.pop()\n",
    "            if 0 in s1[2:]:\n",
    "                s2 = s.pop()\n",
    "                s3 = (s1[0],s2[1],s1[2]+s2[2],s1[3]+s2[3])\n",
    "                s.push(s3)\n",
    "            else:\n",
    "                lis.append(s1)\n",
    "        return lis\n",
    "\n",
    "    num_bins = get_newbins(num_bins)\n",
    "    \n",
    "    def get_woe(num_bins):\n",
    "        columns = [\"min\",\"max\",\"count_0\",\"count_1\"]\n",
    "        df = pd.DataFrame(num_bins,columns=columns)\n",
    "        df[\"total\"] = df.count_0 + df.count_1\n",
    "        df[\"percentage\"] = df.total / df.total.sum()\n",
    "        df[\"bad_rate\"] = df.count_1 / df.total\n",
    "        df[\"good%\"] = df.count_0/df.count_0.sum()\n",
    "        df[\"bad%\"] = df.count_1/df.count_1.sum()\n",
    "        df[\"woe\"] = np.log(df[\"good%\"] / df[\"bad%\"])\n",
    "        return df\n",
    "\n",
    "    def get_iv(df):\n",
    "        rate = df[\"good%\"] - df[\"bad%\"]\n",
    "        iv = np.sum(rate * df.woe)\n",
    "        return iv\n",
    "\n",
    "    IV = []\n",
    "    axisx = []\n",
    "    while len(num_bins) > n:\n",
    "        pvs = []\n",
    "        for i in range(len(num_bins)-1):\n",
    "            x1 = num_bins[i][2:]\n",
    "            x2 = num_bins[i+1][2:]\n",
    "            pv = scipy.stats.chi2_contingency([x1,x2])[1]\n",
    "            pvs.append(pv)\n",
    "\n",
    "        i = pvs.index(max(pvs))\n",
    "        num_bins[i:i+2] = [(\n",
    "            num_bins[i][0],\n",
    "            num_bins[i+1][1],\n",
    "            num_bins[i][2]+num_bins[i+1][2],\n",
    "            num_bins[i][3]+num_bins[i+1][3])]\n",
    "        global bins_dfs\n",
    "        bins_dfs = pd.DataFrame(get_woe(num_bins))\n",
    "        axisx.append(len(num_bins))\n",
    "        IV.append(get_iv(bins_dfs))\n",
    "\n",
    "    if graph:\n",
    "        plt.figure()\n",
    "        plt.plot(axisx,IV)\n",
    "        plt.xticks(axisx)\n",
    "        plt.xlabel(\"number of box\")\n",
    "        plt.ylabel(\"IV\")\n",
    "        plt.grid(True)\n",
    "        plt.show()\n",
    "    return bins_dfs\n",
    "\n",
    "\n",
    "\n"
   ]
  },
  {
   "cell_type": "code",
   "execution_count": 54,
   "metadata": {},
   "outputs": [],
   "source": [
    "def graphforbestbin(DF, X, Y, n=5,q=20,graph=True):\n",
    "    '''\n",
    "    自动最优分箱函数，基于卡方检验的分箱\n",
    "\n",
    "    参数：\n",
    "    DF: 需要输入的数据\n",
    "    X: 需要分箱的列名\n",
    "    Y: 分箱数据对应的标签 Y 列名\n",
    "    n: 保留分箱个数\n",
    "    q: 初始分箱的个数\n",
    "    graph: 是否要画出IV图像\n",
    "\n",
    "    区间为前开后闭 (]\n",
    "\n",
    "    '''\n",
    "\n",
    "    DF = DF[[X,Y]].copy()\n",
    "\n",
    "    DF[\"qcut\"],bins = pd.qcut(DF[X], retbins=True, q=q,duplicates=\"drop\")\n",
    "    coount_y0 = DF.loc[DF[Y]==0].groupby(by=\"qcut\").count()[Y]\n",
    "    coount_y1 = DF.loc[DF[Y]==1].groupby(by=\"qcut\").count()[Y]\n",
    "    num_bins = [*zip(bins,bins[1:],coount_y0,coount_y1)]\n",
    "\n",
    "    for i in range(q):\n",
    "        if 0 in num_bins[0][2:]:\n",
    "            num_bins[0:2] = [(\n",
    "                num_bins[0][0],\n",
    "                num_bins[1][1],\n",
    "                num_bins[0][2]+num_bins[1][2],\n",
    "                num_bins[0][3]+num_bins[1][3])]\n",
    "            continue\n",
    "\n",
    "        for i in range(len(num_bins)):\n",
    "            if 0 in num_bins[i][2:]:\n",
    "                num_bins[i-1:i+1] = [(\n",
    "                    num_bins[i-1][0],\n",
    "                    num_bins[i][1],\n",
    "                    num_bins[i-1][2]+num_bins[i][2],\n",
    "                    num_bins[i-1][3]+num_bins[i][3])]\n",
    "                break\n",
    "        else:\n",
    "            break\n",
    "\n",
    "    def get_woe(num_bins):\n",
    "        columns = [\"min\",\"max\",\"count_0\",\"count_1\"]\n",
    "        df = pd.DataFrame(num_bins,columns=columns)\n",
    "        df[\"total\"] = df.count_0 + df.count_1\n",
    "        df[\"percentage\"] = df.total / df.total.sum()\n",
    "        df[\"bad_rate\"] = df.count_1 / df.total\n",
    "        df[\"good%\"] = df.count_0/df.count_0.sum()\n",
    "        df[\"bad%\"] = df.count_1/df.count_1.sum()\n",
    "        df[\"woe\"] = np.log(df[\"good%\"] / df[\"bad%\"])\n",
    "        return df\n",
    "\n",
    "    def get_iv(df):\n",
    "        rate = df[\"good%\"] - df[\"bad%\"]\n",
    "        iv = np.sum(rate * df.woe)\n",
    "        return iv\n",
    "\n",
    "    IV = []\n",
    "    axisx = []\n",
    "    while len(num_bins) > n:\n",
    "        pvs = []\n",
    "        for i in range(len(num_bins)-1):\n",
    "            x1 = num_bins[i][2:]\n",
    "            x2 = num_bins[i+1][2:]\n",
    "            pv = scipy.stats.chi2_contingency([x1,x2])[1]\n",
    "            pvs.append(pv)\n",
    "\n",
    "        i = pvs.index(max(pvs))\n",
    "        num_bins[i:i+2] = [(\n",
    "            num_bins[i][0],\n",
    "            num_bins[i+1][1],\n",
    "            num_bins[i][2]+num_bins[i+1][2],\n",
    "            num_bins[i][3]+num_bins[i+1][3])]\n",
    "        global bins_df\n",
    "        bins_df = pd.DataFrame(get_woe(num_bins))\n",
    "        axisx.append(len(num_bins))\n",
    "        IV.append(get_iv(bins_df))\n",
    "\n",
    "    if graph:\n",
    "        plt.figure()\n",
    "        plt.plot(axisx,IV)\n",
    "        plt.xticks(axisx)\n",
    "        plt.xlabel(\"number of box\")\n",
    "        plt.ylabel(\"IV\")\n",
    "        plt.grid()\n",
    "        plt.show()\n",
    "    return bins_df"
   ]
  },
  {
   "cell_type": "code",
   "execution_count": 55,
   "metadata": {
    "pycharm": {
     "is_executing": false,
     "name": "#%%\n"
    },
    "scrolled": true
   },
   "outputs": [
    {
     "name": "stdout",
     "output_type": "stream",
     "text": [
      "RevolvingUtilizationOfUnsecuredLines\n"
     ]
    },
    {
     "data": {
      "image/png": "[encoded data removed]",
      "text/plain": [
       "<Figure size 432x288 with 1 Axes>"
      ]
     },
     "metadata": {},
     "output_type": "display_data"
    },
    {
     "name": "stdout",
     "output_type": "stream",
     "text": [
      "age\n"
     ]
    },
    {
     "data": {
      "image/png": "[encoded data removed]",
      "text/plain": [
       "<Figure size 432x288 with 1 Axes>"
      ]
     },
     "metadata": {},
     "output_type": "display_data"
    },
    {
     "name": "stdout",
     "output_type": "stream",
     "text": [
      "NumberOfTime30-59DaysPastDueNotWorse\n"
     ]
    },
    {
     "data": {
      "image/png": "[encoded data removed]",
      "text/plain": [
       "<Figure size 432x288 with 1 Axes>"
      ]
     },
     "metadata": {},
     "output_type": "display_data"
    },
    {
     "name": "stdout",
     "output_type": "stream",
     "text": [
      "DebtRatio\n"
     ]
    },
    {
     "data": {
      "image/png": "[encoded data removed]",
      "text/plain": [
       "<Figure size 432x288 with 1 Axes>"
      ]
     },
     "metadata": {},
     "output_type": "display_data"
    },
    {
     "name": "stdout",
     "output_type": "stream",
     "text": [
      "MonthlyIncome\n"
     ]
    },
    {
     "data": {
      "image/png": "[encoded data removed]",
      "text/plain": [
       "<Figure size 432x288 with 1 Axes>"
      ]
     },
     "metadata": {},
     "output_type": "display_data"
    },
    {
     "name": "stdout",
     "output_type": "stream",
     "text": [
      "NumberOfOpenCreditLinesAndLoans\n"
     ]
    },
    {
     "data": {
      "image/png": "[encoded data removed]",
      "text/plain": [
       "<Figure size 432x288 with 1 Axes>"
      ]
     },
     "metadata": {},
     "output_type": "display_data"
    },
    {
     "name": "stdout",
     "output_type": "stream",
     "text": [
      "NumberOfTimes90DaysLate\n"
     ]
    },
    {
     "data": {
      "image/png": "[encoded data removed]",
      "text/plain": [
       "<Figure size 432x288 with 1 Axes>"
      ]
     },
     "metadata": {},
     "output_type": "display_data"
    },
    {
     "name": "stdout",
     "output_type": "stream",
     "text": [
      "NumberRealEstateLoansOrLines\n"
     ]
    },
    {
     "data": {
      "image/png": "[encoded data removed]",
      "text/plain": [
       "<Figure size 432x288 with 1 Axes>"
      ]
     },
     "metadata": {},
     "output_type": "display_data"
    },
    {
     "name": "stdout",
     "output_type": "stream",
     "text": [
      "NumberOfTime60-89DaysPastDueNotWorse\n"
     ]
    },
    {
     "data": {
      "image/png": "[encoded data removed]",
      "text/plain": [
       "<Figure size 432x288 with 1 Axes>"
      ]
     },
     "metadata": {},
     "output_type": "display_data"
    },
    {
     "name": "stdout",
     "output_type": "stream",
     "text": [
      "NumberOfDependents\n"
     ]
    },
    {
     "data": {
      "image/png": "[encoded data removed]",
      "text/plain": [
       "<Figure size 432x288 with 1 Axes>"
      ]
     },
     "metadata": {},
     "output_type": "display_data"
    }
   ],
   "source": [
    "#model_data.columns\n",
    "\n",
    "for i in model_data.columns[1:-1]:\n",
    "    print(i)\n",
    "    graphforbestbin(model_data,i,\"SeriousDlqin2yrs\",n=2,q=20)"
   ]
  },
  {
   "cell_type": "markdown",
   "metadata": {
    "pycharm": {
     "name": "#%% md\n"
    }
   },
   "source": [
    "我们发现，不是所有的特征都可以使用这个分箱函数，比如说有的特征，像家人数量，就无法分出20组。于是我们将可以分箱的特征放出来单独分组，不能自动分箱的变量自己观察然后手写："
   ]
  },
  {
   "cell_type": "code",
   "execution_count": 56,
   "metadata": {
    "pycharm": {
     "is_executing": false,
     "name": "#%%\n"
    }
   },
   "outputs": [],
   "source": [
    "auto_col_bins = {\"RevolvingUtilizationOfUnsecuredLines\":5,\n",
    "                \"age\":4,\n",
    "                \"DebtRatio\":4,\n",
    "                \"MonthlyIncome\":3,\n",
    "                \"NumberOfOpenCreditLinesAndLoans\":5}\n",
    "#不能使用自动分箱的变量\n",
    "hand_bins = {\"NumberOfTime30-59DaysPastDueNotWorse\":[0,1,2,13]\n",
    "            ,\"NumberOfTimes90DaysLate\":[0,2,17]\n",
    "            ,\"NumberRealEstateLoansOrLines\":[0,1,2,3,32]\n",
    "            ,\"NumberOfTime60-89DaysPastDueNotWorse\":[0,1,9]\n",
    "            ,\"NumberOfDependents\":[0,1,2,3,20]}\n",
    "\n",
    "#保证区间覆盖使用np.inf替换最大值，用-np.inf替换最小值 \n",
    "#原因：比如一些新的值出现，例如家庭人数为30，以前没出现过\n",
    "#改成范围为极大值之后，这些新值就都能分到箱里边了\n",
    "hand_bins = {k:[-np.inf,*v[:-1],np.inf] for k,v in hand_bins.items()}"
   ]
  },
  {
   "cell_type": "code",
   "execution_count": 57,
   "metadata": {
    "pycharm": {
     "name": "#%%\n"
    }
   },
   "outputs": [
    {
     "data": {
      "text/plain": [
       "count    195008.000000\n",
       "mean          0.838497\n",
       "std           1.081894\n",
       "min           0.000000\n",
       "0%            0.000000\n",
       "15%           0.000000\n",
       "25%           0.000000\n",
       "35%           0.000000\n",
       "45%           0.000000\n",
       "50%           0.260244\n",
       "55.0%         0.640301\n",
       "65%           1.000000\n",
       "75%           1.437826\n",
       "85%           2.000000\n",
       "95%           3.000000\n",
       "100%         20.000000\n",
       "max          20.000000\n",
       "Name: NumberOfDependents, dtype: float64"
      ]
     },
     "execution_count": 57,
     "metadata": {},
     "output_type": "execute_result"
    }
   ],
   "source": [
    "#s手动检测数据分布，发现可以手动分成0,1,2,3，inf组也就是四组的样子,其他的变量类似。\n",
    "model_data['NumberOfDependents'].describe([0,.15,.25,.35,.45,.55,.65,.75,.85,.95,1])\n"
   ]
  },
  {
   "cell_type": "code",
   "execution_count": 58,
   "metadata": {
    "pycharm": {
     "name": "#%%\n"
    }
   },
   "outputs": [
    {
     "data": {
      "text/plain": [
       "{'NumberOfTime30-59DaysPastDueNotWorse': [-inf, 0, 1, 2, inf],\n",
       " 'NumberOfTimes90DaysLate': [-inf, 0, 2, inf],\n",
       " 'NumberRealEstateLoansOrLines': [-inf, 0, 1, 2, 3, inf],\n",
       " 'NumberOfTime60-89DaysPastDueNotWorse': [-inf, 0, 1, inf],\n",
       " 'NumberOfDependents': [-inf, 0, 1, 2, 3, inf]}"
      ]
     },
     "execution_count": 58,
     "metadata": {},
     "output_type": "execute_result"
    }
   ],
   "source": [
    "hand_bins"
   ]
  },
  {
   "cell_type": "markdown",
   "metadata": {},
   "source": [
    "接下来对所有特征按照选择的箱体个数和手写的分箱范围进行分箱：\n",
    "[union函数](https://www.runoob.com/python3/ref-set-union.html)"
   ]
  },
  {
   "cell_type": "code",
   "execution_count": 59,
   "metadata": {
    "pycharm": {
     "name": "#%%\n"
    }
   },
   "outputs": [
    {
     "data": {
      "text/plain": [
       "{'RevolvingUtilizationOfUnsecuredLines': [-inf,\n",
       "  0.09914575075,\n",
       "  0.29802852217865367,\n",
       "  0.46566401539234115,\n",
       "  0.9999998999999999,\n",
       "  inf],\n",
       " 'age': [-inf, 54.0, 61.0, 74.0, inf],\n",
       " 'DebtRatio': [-inf,\n",
       "  0.017344649310610315,\n",
       "  0.4015737659955885,\n",
       "  1.4683166764000017,\n",
       "  inf],\n",
       " 'MonthlyIncome': [-inf, 0.09650378345835446, 5595.0, inf],\n",
       " 'NumberOfOpenCreditLinesAndLoans': [-inf, 1.0, 3.0, 5.0, 17.0, inf],\n",
       " 'NumberOfTime30-59DaysPastDueNotWorse': [-inf, 0, 1, 2, inf],\n",
       " 'NumberOfTimes90DaysLate': [-inf, 0, 2, inf],\n",
       " 'NumberRealEstateLoansOrLines': [-inf, 0, 1, 2, 3, inf],\n",
       " 'NumberOfTime60-89DaysPastDueNotWorse': [-inf, 0, 1, inf],\n",
       " 'NumberOfDependents': [-inf, 0, 1, 2, 3, inf]}"
      ]
     },
     "execution_count": 59,
     "metadata": {},
     "output_type": "execute_result"
    }
   ],
   "source": [
    "bins_of_col = {}\n",
    "#生成自动分箱的分享区间以及分箱后的IV值\n",
    "for col in auto_col_bins:\n",
    "    bins_df = graphforbestbin(model_data,col,\n",
    "                             \"SeriousDlqin2yrs\",\n",
    "                             n=auto_col_bins[col],\n",
    "                             q=20,\n",
    "                             graph=False)\n",
    "    bins_list = sorted(set(bins_df['min']).union(bins_df['max']))\n",
    "    #保证区间覆盖使用 np.inf 替换最大值 -np.inf 替换最小值\n",
    "    bins_list[0],bins_list[-1] = -np.inf,np.inf\n",
    "    bins_of_col[col] = bins_list\n",
    "\n",
    "#合并手动分箱数据    \n",
    "bins_of_col.update(hand_bins)\n",
    "bins_of_col"
   ]
  },
  {
   "cell_type": "markdown",
   "metadata": {},
   "source": [
    "# 3.7 计算各箱的WOE并映射到数据中\n",
    "我们现在已经有了我们的箱子，接下来我们要做的是计算各箱的WOE，并且把WOE替换到我们的原始数据model_data中，因为我们将使用WOE覆盖后的数据来建模，我们希望获取的是”各个箱”的分类结果，即评分卡上各个评分项目的分类结果。"
   ]
  },
  {
   "cell_type": "code",
   "execution_count": 60,
   "metadata": {
    "pycharm": {
     "name": "#%%\n"
    }
   },
   "outputs": [
    {
     "data": {
      "text/html": [
       "<div>\n",
       "<style scoped>\n",
       "    .dataframe tbody tr th:only-of-type {\n",
       "        vertical-align: middle;\n",
       "    }\n",
       "\n",
       "    .dataframe tbody tr th {\n",
       "        vertical-align: top;\n",
       "    }\n",
       "\n",
       "    .dataframe thead th {\n",
       "        text-align: right;\n",
       "    }\n",
       "</style>\n",
       "<table border=\"1\" class=\"dataframe\">\n",
       "  <thead>\n",
       "    <tr style=\"text-align: right;\">\n",
       "      <th></th>\n",
       "      <th>age</th>\n",
       "      <th>SeriousDlqin2yrs</th>\n",
       "      <th>cut</th>\n",
       "    </tr>\n",
       "  </thead>\n",
       "  <tbody>\n",
       "    <tr>\n",
       "      <th>0</th>\n",
       "      <td>53</td>\n",
       "      <td>0</td>\n",
       "      <td>(36.0, 54.0]</td>\n",
       "    </tr>\n",
       "    <tr>\n",
       "      <th>1</th>\n",
       "      <td>63</td>\n",
       "      <td>0</td>\n",
       "      <td>(61.0, 74.0]</td>\n",
       "    </tr>\n",
       "    <tr>\n",
       "      <th>2</th>\n",
       "      <td>39</td>\n",
       "      <td>1</td>\n",
       "      <td>(36.0, 54.0]</td>\n",
       "    </tr>\n",
       "    <tr>\n",
       "      <th>3</th>\n",
       "      <td>73</td>\n",
       "      <td>0</td>\n",
       "      <td>(61.0, 74.0]</td>\n",
       "    </tr>\n",
       "    <tr>\n",
       "      <th>4</th>\n",
       "      <td>53</td>\n",
       "      <td>1</td>\n",
       "      <td>(36.0, 54.0]</td>\n",
       "    </tr>\n",
       "  </tbody>\n",
       "</table>\n",
       "</div>"
      ],
      "text/plain": [
       "   age  SeriousDlqin2yrs           cut\n",
       "0   53                 0  (36.0, 54.0]\n",
       "1   63                 0  (61.0, 74.0]\n",
       "2   39                 1  (36.0, 54.0]\n",
       "3   73                 0  (61.0, 74.0]\n",
       "4   53                 1  (36.0, 54.0]"
      ]
     },
     "execution_count": 60,
     "metadata": {},
     "output_type": "execute_result"
    }
   ],
   "source": [
    "#函数pd.cut，可以根据已知的分箱间隔把数据分箱\n",
    "#参数为 pd.cut(数据，以列表表示的分箱间隔)\n",
    "data = model_data.copy()\n",
    "#函数pd.cut，可以根据已知的分箱间隔把数据分箱\n",
    "#参数为 pd.cut(数据，以列表表示的分箱间隔)\n",
    "data = data[['age','SeriousDlqin2yrs']].copy()\n",
    "data['cut'] = pd.cut(data['age'],[-np.inf, 36.0, 54.0, 61.0, 74.0, np.inf])\n",
    "data.head()"
   ]
  },
  {
   "cell_type": "code",
   "execution_count": 61,
   "metadata": {
    "pycharm": {
     "name": "#%%\n"
    }
   },
   "outputs": [
    {
     "data": {
      "text/plain": [
       "cut           SeriousDlqin2yrs\n",
       "(-inf, 36.0]  1                   24830\n",
       "              0                   14797\n",
       "(36.0, 54.0]  1                   51450\n",
       "              0                   39070\n",
       "(54.0, 61.0]  0                   15743\n",
       "              1                   12275\n",
       "(61.0, 74.0]  0                   20344\n",
       "              1                    7373\n",
       "(74.0, inf]   0                    7737\n",
       "              1                    1389\n",
       "Name: SeriousDlqin2yrs, dtype: int64"
      ]
     },
     "execution_count": 61,
     "metadata": {},
     "output_type": "execute_result"
    }
   ],
   "source": [
    "#将数据按照分箱结果过聚合，并取出其中的标签值\n",
    "data.groupby(\"cut\")['SeriousDlqin2yrs'].value_counts()"
   ]
  },
  {
   "cell_type": "code",
   "execution_count": 62,
   "metadata": {
    "pycharm": {
     "name": "#%%\n"
    }
   },
   "outputs": [
    {
     "data": {
      "text/html": [
       "<div>\n",
       "<style scoped>\n",
       "    .dataframe tbody tr th:only-of-type {\n",
       "        vertical-align: middle;\n",
       "    }\n",
       "\n",
       "    .dataframe tbody tr th {\n",
       "        vertical-align: top;\n",
       "    }\n",
       "\n",
       "    .dataframe thead th {\n",
       "        text-align: right;\n",
       "    }\n",
       "</style>\n",
       "<table border=\"1\" class=\"dataframe\">\n",
       "  <thead>\n",
       "    <tr style=\"text-align: right;\">\n",
       "      <th>SeriousDlqin2yrs</th>\n",
       "      <th>0</th>\n",
       "      <th>1</th>\n",
       "      <th>woe</th>\n",
       "    </tr>\n",
       "    <tr>\n",
       "      <th>cut</th>\n",
       "      <th></th>\n",
       "      <th></th>\n",
       "      <th></th>\n",
       "    </tr>\n",
       "  </thead>\n",
       "  <tbody>\n",
       "    <tr>\n",
       "      <th>(-inf, 36.0]</th>\n",
       "      <td>14797</td>\n",
       "      <td>24830</td>\n",
       "      <td>-0.521464</td>\n",
       "    </tr>\n",
       "    <tr>\n",
       "      <th>(36.0, 54.0]</th>\n",
       "      <td>39070</td>\n",
       "      <td>51450</td>\n",
       "      <td>-0.279091</td>\n",
       "    </tr>\n",
       "    <tr>\n",
       "      <th>(54.0, 61.0]</th>\n",
       "      <td>15743</td>\n",
       "      <td>12275</td>\n",
       "      <td>0.244995</td>\n",
       "    </tr>\n",
       "    <tr>\n",
       "      <th>(61.0, 74.0]</th>\n",
       "      <td>20344</td>\n",
       "      <td>7373</td>\n",
       "      <td>1.011126</td>\n",
       "    </tr>\n",
       "    <tr>\n",
       "      <th>(74.0, inf]</th>\n",
       "      <td>7737</td>\n",
       "      <td>1389</td>\n",
       "      <td>1.713594</td>\n",
       "    </tr>\n",
       "  </tbody>\n",
       "</table>\n",
       "</div>"
      ],
      "text/plain": [
       "SeriousDlqin2yrs      0      1       woe\n",
       "cut                                     \n",
       "(-inf, 36.0]      14797  24830 -0.521464\n",
       "(36.0, 54.0]      39070  51450 -0.279091\n",
       "(54.0, 61.0]      15743  12275  0.244995\n",
       "(61.0, 74.0]      20344   7373  1.011126\n",
       "(74.0, inf]        7737   1389  1.713594"
      ]
     },
     "execution_count": 62,
     "metadata": {},
     "output_type": "execute_result"
    }
   ],
   "source": [
    "#使用unstack()来将树状结构变为表结构\n",
    "data.groupby(\"cut\")['SeriousDlqin2yrs'].value_counts().unstack()\n",
    "bins_df = data.groupby(\"cut\")['SeriousDlqin2yrs'].value_counts().unstack()\n",
    "bins_df['woe'] = np.log((bins_df[0]/bins_df[0].sum())/(bins_df[1]/bins_df[1].sum()))\n",
    "bins_df"
   ]
  },
  {
   "cell_type": "markdown",
   "metadata": {},
   "source": [
    "把以上计算一个特征中所有woe值的过程包装成函数："
   ]
  },
  {
   "cell_type": "code",
   "execution_count": 63,
   "metadata": {
    "pycharm": {
     "name": "#%%\n"
    }
   },
   "outputs": [
    {
     "data": {
      "text/plain": [
       "{'RevolvingUtilizationOfUnsecuredLines': cut\n",
       " (-inf, 0.0991]     2.205803\n",
       " (0.0991, 0.298]    0.667595\n",
       " (0.298, 0.466]    -0.124694\n",
       " (0.466, 1.0]      -0.946812\n",
       " (1.0, inf]        -2.037194\n",
       " dtype: float64, 'age': cut\n",
       " (-inf, 54.0]   -0.351728\n",
       " (54.0, 61.0]    0.244995\n",
       " (61.0, 74.0]    1.011126\n",
       " (74.0, inf]     1.713594\n",
       " dtype: float64, 'DebtRatio': cut\n",
       " (-inf, 0.0173]     1.504321\n",
       " (0.0173, 0.402]    0.036442\n",
       " (0.402, 1.468]    -0.388248\n",
       " (1.468, inf]       0.176023\n",
       " dtype: float64, 'MonthlyIncome': cut\n",
       " (-inf, 0.0965]      1.194502\n",
       " (0.0965, 5595.0]   -0.223941\n",
       " (5595.0, inf]       0.230721\n",
       " dtype: float64, 'NumberOfOpenCreditLinesAndLoans': cut\n",
       " (-inf, 1.0]   -0.841488\n",
       " (1.0, 3.0]    -0.333352\n",
       " (3.0, 5.0]    -0.055266\n",
       " (5.0, 17.0]    0.123982\n",
       " (17.0, inf]    0.465180\n",
       " dtype: float64, 'NumberOfTime30-59DaysPastDueNotWorse': cut\n",
       " (-inf, 0.0]    0.352288\n",
       " (0.0, 1.0]    -0.874043\n",
       " (1.0, 2.0]    -1.374281\n",
       " (2.0, inf]    -1.538523\n",
       " dtype: float64, 'NumberOfTimes90DaysLate': cut\n",
       " (-inf, 0.0]    0.235094\n",
       " (0.0, 2.0]    -1.870583\n",
       " (2.0, inf]    -2.403095\n",
       " dtype: float64, 'NumberRealEstateLoansOrLines': cut\n",
       " (-inf, 0.0]   -0.394295\n",
       " (0.0, 1.0]     0.195672\n",
       " (1.0, 2.0]     0.618576\n",
       " (2.0, 3.0]     0.429446\n",
       " (3.0, inf]     0.013016\n",
       " dtype: float64, 'NumberOfTime60-89DaysPastDueNotWorse': cut\n",
       " (-inf, 0.0]    0.124270\n",
       " (0.0, 1.0]    -1.384130\n",
       " (1.0, inf]    -1.779355\n",
       " dtype: float64, 'NumberOfDependents': cut\n",
       " (-inf, 0.0]    0.628652\n",
       " (0.0, 1.0]    -0.579904\n",
       " (1.0, 2.0]    -0.531313\n",
       " (2.0, 3.0]    -0.505863\n",
       " (3.0, inf]    -0.410926\n",
       " dtype: float64}"
      ]
     },
     "execution_count": 63,
     "metadata": {},
     "output_type": "execute_result"
    }
   ],
   "source": [
    "def get_woe(df,col,y,bins):\n",
    "    df = df[[col,y]].copy()\n",
    "    df['cut'] = pd.cut(df[col],bins)\n",
    "    bins_df = df.groupby('cut')[y].value_counts().unstack()\n",
    "    woe = bins_df['woe'] = np.log((bins_df[0]/bins_df[0].sum())/(bins_df[1]/bins_df[1].sum()))\n",
    "    return woe\n",
    "#将所有的特征的woe储存在字典当中。\n",
    "woeall = {}\n",
    "for col in bins_of_col:\n",
    "    woeall[col] = get_woe(model_data,col,\"SeriousDlqin2yrs\",bins_of_col[col])\n",
    "woeall"
   ]
  },
  {
   "cell_type": "code",
   "execution_count": 64,
   "metadata": {
    "pycharm": {
     "name": "#%%\n"
    }
   },
   "outputs": [
    {
     "data": {
      "text/plain": [
       "{'RevolvingUtilizationOfUnsecuredLines': [-inf,\n",
       "  0.09914575075,\n",
       "  0.29802852217865367,\n",
       "  0.46566401539234115,\n",
       "  0.9999998999999999,\n",
       "  inf],\n",
       " 'age': [-inf, 54.0, 61.0, 74.0, inf],\n",
       " 'DebtRatio': [-inf,\n",
       "  0.017344649310610315,\n",
       "  0.4015737659955885,\n",
       "  1.4683166764000017,\n",
       "  inf],\n",
       " 'MonthlyIncome': [-inf, 0.09650378345835446, 5595.0, inf],\n",
       " 'NumberOfOpenCreditLinesAndLoans': [-inf, 1.0, 3.0, 5.0, 17.0, inf],\n",
       " 'NumberOfTime30-59DaysPastDueNotWorse': [-inf, 0, 1, 2, inf],\n",
       " 'NumberOfTimes90DaysLate': [-inf, 0, 2, inf],\n",
       " 'NumberRealEstateLoansOrLines': [-inf, 0, 1, 2, 3, inf],\n",
       " 'NumberOfTime60-89DaysPastDueNotWorse': [-inf, 0, 1, inf],\n",
       " 'NumberOfDependents': [-inf, 0, 1, 2, 3, inf]}"
      ]
     },
     "execution_count": 64,
     "metadata": {},
     "output_type": "execute_result"
    }
   ],
   "source": [
    "bins_of_col"
   ]
  },
  {
   "cell_type": "code",
   "execution_count": 65,
   "metadata": {
    "pycharm": {
     "name": "#%%\n"
    }
   },
   "outputs": [
    {
     "data": {
      "text/plain": [
       "'RevolvingUtilizationOfUnsecuredLines'"
      ]
     },
     "execution_count": 65,
     "metadata": {},
     "output_type": "execute_result"
    }
   ],
   "source": [
    "a=iter(woeall)\n",
    "next(a)\n"
   ]
  },
  {
   "cell_type": "code",
   "execution_count": 66,
   "metadata": {
    "pycharm": {
     "name": "#%%\n"
    }
   },
   "outputs": [
    {
     "data": {
      "text/plain": [
       "cut\n",
       "(-inf, 0.0991]     2.205803\n",
       "(0.0991, 0.298]    0.667595\n",
       "(0.298, 0.466]    -0.124694\n",
       "(0.466, 1.0]      -0.946812\n",
       "(1.0, inf]        -2.037194\n",
       "dtype: float64"
      ]
     },
     "execution_count": 66,
     "metadata": {},
     "output_type": "execute_result"
    }
   ],
   "source": [
    "woeall['RevolvingUtilizationOfUnsecuredLines']"
   ]
  },
  {
   "cell_type": "code",
   "execution_count": 67,
   "metadata": {
    "pycharm": {
     "name": "#%%\n"
    }
   },
   "outputs": [
    {
     "data": {
      "text/plain": [
       "pandas.core.series.Series"
      ]
     },
     "execution_count": 67,
     "metadata": {},
     "output_type": "execute_result"
    }
   ],
   "source": [
    "type(woeall['RevolvingUtilizationOfUnsecuredLines'])"
   ]
  },
  {
   "cell_type": "code",
   "execution_count": 68,
   "metadata": {},
   "outputs": [
    {
     "data": {
      "text/plain": [
       "{'NumberOfTime30-59DaysPastDueNotWorse': [-inf, 0, 1, 2, inf],\n",
       " 'NumberOfTimes90DaysLate': [-inf, 0, 2, inf],\n",
       " 'NumberRealEstateLoansOrLines': [-inf, 0, 1, 2, 3, inf],\n",
       " 'NumberOfTime60-89DaysPastDueNotWorse': [-inf, 0, 1, inf],\n",
       " 'NumberOfDependents': [-inf, 0, 1, 2, 3, inf]}"
      ]
     },
     "execution_count": 68,
     "metadata": {},
     "output_type": "execute_result"
    }
   ],
   "source": [
    "hand_bins"
   ]
  },
  {
   "cell_type": "markdown",
   "metadata": {},
   "source": [
    "# 3.7 计算各箱的WOE并映射到数据中\n",
    "我们现在已经有了我们的箱子，接下来我们要做的是计算各箱的WOE，并且把WOE替换到我们的原始数据model_data中，因为我们将使用WOE覆盖后的数据来建模，我们希望获取的是”各个箱”的分类结果，即评分卡上各个评分项目的分类结果。"
   ]
  },
  {
   "cell_type": "code",
   "execution_count": 69,
   "metadata": {},
   "outputs": [
    {
     "data": {
      "text/html": [
       "<div>\n",
       "<style scoped>\n",
       "    .dataframe tbody tr th:only-of-type {\n",
       "        vertical-align: middle;\n",
       "    }\n",
       "\n",
       "    .dataframe tbody tr th {\n",
       "        vertical-align: top;\n",
       "    }\n",
       "\n",
       "    .dataframe thead th {\n",
       "        text-align: right;\n",
       "    }\n",
       "</style>\n",
       "<table border=\"1\" class=\"dataframe\">\n",
       "  <thead>\n",
       "    <tr style=\"text-align: right;\">\n",
       "      <th></th>\n",
       "      <th>age</th>\n",
       "      <th>SeriousDlqin2yrs</th>\n",
       "      <th>cut</th>\n",
       "    </tr>\n",
       "  </thead>\n",
       "  <tbody>\n",
       "    <tr>\n",
       "      <th>0</th>\n",
       "      <td>53</td>\n",
       "      <td>0</td>\n",
       "      <td>(36.0, 54.0]</td>\n",
       "    </tr>\n",
       "    <tr>\n",
       "      <th>1</th>\n",
       "      <td>63</td>\n",
       "      <td>0</td>\n",
       "      <td>(61.0, 74.0]</td>\n",
       "    </tr>\n",
       "    <tr>\n",
       "      <th>2</th>\n",
       "      <td>39</td>\n",
       "      <td>1</td>\n",
       "      <td>(36.0, 54.0]</td>\n",
       "    </tr>\n",
       "    <tr>\n",
       "      <th>3</th>\n",
       "      <td>73</td>\n",
       "      <td>0</td>\n",
       "      <td>(61.0, 74.0]</td>\n",
       "    </tr>\n",
       "    <tr>\n",
       "      <th>4</th>\n",
       "      <td>53</td>\n",
       "      <td>1</td>\n",
       "      <td>(36.0, 54.0]</td>\n",
       "    </tr>\n",
       "  </tbody>\n",
       "</table>\n",
       "</div>"
      ],
      "text/plain": [
       "   age  SeriousDlqin2yrs           cut\n",
       "0   53                 0  (36.0, 54.0]\n",
       "1   63                 0  (61.0, 74.0]\n",
       "2   39                 1  (36.0, 54.0]\n",
       "3   73                 0  (61.0, 74.0]\n",
       "4   53                 1  (36.0, 54.0]"
      ]
     },
     "execution_count": 69,
     "metadata": {},
     "output_type": "execute_result"
    }
   ],
   "source": [
    "#函数pd.cut，可以根据已知的分箱间隔把数据分箱\n",
    "#参数为 pd.cut(数据，以列表表示的分箱间隔)\n",
    "data = model_data.copy()\n",
    "#函数pd.cut，可以根据已知的分箱间隔把数据分箱\n",
    "#参数为 pd.cut(数据，以列表表示的分箱间隔)\n",
    "data = data[['age','SeriousDlqin2yrs']].copy()\n",
    "data['cut'] = pd.cut(data['age'],[-np.inf, 36.0, 54.0, 61.0, 74.0, np.inf])\n",
    "data.head()"
   ]
  },
  {
   "cell_type": "code",
   "execution_count": 70,
   "metadata": {},
   "outputs": [
    {
     "data": {
      "text/plain": [
       "cut           SeriousDlqin2yrs\n",
       "(-inf, 36.0]  1                   24830\n",
       "              0                   14797\n",
       "(36.0, 54.0]  1                   51450\n",
       "              0                   39070\n",
       "(54.0, 61.0]  0                   15743\n",
       "              1                   12275\n",
       "(61.0, 74.0]  0                   20344\n",
       "              1                    7373\n",
       "(74.0, inf]   0                    7737\n",
       "              1                    1389\n",
       "Name: SeriousDlqin2yrs, dtype: int64"
      ]
     },
     "execution_count": 70,
     "metadata": {},
     "output_type": "execute_result"
    }
   ],
   "source": [
    "#将数据按照分箱结果过聚合，并取出其中的标签值\n",
    "data.groupby(\"cut\")['SeriousDlqin2yrs'].value_counts()"
   ]
  },
  {
   "cell_type": "code",
   "execution_count": 71,
   "metadata": {},
   "outputs": [
    {
     "data": {
      "text/html": [
       "<div>\n",
       "<style scoped>\n",
       "    .dataframe tbody tr th:only-of-type {\n",
       "        vertical-align: middle;\n",
       "    }\n",
       "\n",
       "    .dataframe tbody tr th {\n",
       "        vertical-align: top;\n",
       "    }\n",
       "\n",
       "    .dataframe thead th {\n",
       "        text-align: right;\n",
       "    }\n",
       "</style>\n",
       "<table border=\"1\" class=\"dataframe\">\n",
       "  <thead>\n",
       "    <tr style=\"text-align: right;\">\n",
       "      <th>SeriousDlqin2yrs</th>\n",
       "      <th>0</th>\n",
       "      <th>1</th>\n",
       "      <th>woe</th>\n",
       "    </tr>\n",
       "    <tr>\n",
       "      <th>cut</th>\n",
       "      <th></th>\n",
       "      <th></th>\n",
       "      <th></th>\n",
       "    </tr>\n",
       "  </thead>\n",
       "  <tbody>\n",
       "    <tr>\n",
       "      <th>(-inf, 36.0]</th>\n",
       "      <td>14797</td>\n",
       "      <td>24830</td>\n",
       "      <td>-0.521464</td>\n",
       "    </tr>\n",
       "    <tr>\n",
       "      <th>(36.0, 54.0]</th>\n",
       "      <td>39070</td>\n",
       "      <td>51450</td>\n",
       "      <td>-0.279091</td>\n",
       "    </tr>\n",
       "    <tr>\n",
       "      <th>(54.0, 61.0]</th>\n",
       "      <td>15743</td>\n",
       "      <td>12275</td>\n",
       "      <td>0.244995</td>\n",
       "    </tr>\n",
       "    <tr>\n",
       "      <th>(61.0, 74.0]</th>\n",
       "      <td>20344</td>\n",
       "      <td>7373</td>\n",
       "      <td>1.011126</td>\n",
       "    </tr>\n",
       "    <tr>\n",
       "      <th>(74.0, inf]</th>\n",
       "      <td>7737</td>\n",
       "      <td>1389</td>\n",
       "      <td>1.713594</td>\n",
       "    </tr>\n",
       "  </tbody>\n",
       "</table>\n",
       "</div>"
      ],
      "text/plain": [
       "SeriousDlqin2yrs      0      1       woe\n",
       "cut                                     \n",
       "(-inf, 36.0]      14797  24830 -0.521464\n",
       "(36.0, 54.0]      39070  51450 -0.279091\n",
       "(54.0, 61.0]      15743  12275  0.244995\n",
       "(61.0, 74.0]      20344   7373  1.011126\n",
       "(74.0, inf]        7737   1389  1.713594"
      ]
     },
     "execution_count": 71,
     "metadata": {},
     "output_type": "execute_result"
    }
   ],
   "source": [
    "#使用unstack()来将树状结构变为表结构\n",
    "data.groupby(\"cut\")['SeriousDlqin2yrs'].value_counts().unstack()\n",
    "bins_df = data.groupby(\"cut\")['SeriousDlqin2yrs'].value_counts().unstack()\n",
    "bins_df['woe'] = np.log((bins_df[0]/bins_df[0].sum())/(bins_df[1]/bins_df[1].sum()))\n",
    "bins_df"
   ]
  },
  {
   "cell_type": "markdown",
   "metadata": {},
   "source": [
    "把以上计算一个特征中所有woe值的过程包装成函数："
   ]
  },
  {
   "cell_type": "code",
   "execution_count": 72,
   "metadata": {},
   "outputs": [
    {
     "data": {
      "text/plain": [
       "{'RevolvingUtilizationOfUnsecuredLines': cut\n",
       " (-inf, 0.0991]     2.205803\n",
       " (0.0991, 0.298]    0.667595\n",
       " (0.298, 0.466]    -0.124694\n",
       " (0.466, 1.0]      -0.946812\n",
       " (1.0, inf]        -2.037194\n",
       " dtype: float64, 'age': cut\n",
       " (-inf, 54.0]   -0.351728\n",
       " (54.0, 61.0]    0.244995\n",
       " (61.0, 74.0]    1.011126\n",
       " (74.0, inf]     1.713594\n",
       " dtype: float64, 'DebtRatio': cut\n",
       " (-inf, 0.0173]     1.504321\n",
       " (0.0173, 0.402]    0.036442\n",
       " (0.402, 1.468]    -0.388248\n",
       " (1.468, inf]       0.176023\n",
       " dtype: float64, 'MonthlyIncome': cut\n",
       " (-inf, 0.0965]      1.194502\n",
       " (0.0965, 5595.0]   -0.223941\n",
       " (5595.0, inf]       0.230721\n",
       " dtype: float64, 'NumberOfOpenCreditLinesAndLoans': cut\n",
       " (-inf, 1.0]   -0.841488\n",
       " (1.0, 3.0]    -0.333352\n",
       " (3.0, 5.0]    -0.055266\n",
       " (5.0, 17.0]    0.123982\n",
       " (17.0, inf]    0.465180\n",
       " dtype: float64, 'NumberOfTime30-59DaysPastDueNotWorse': cut\n",
       " (-inf, 0.0]    0.352288\n",
       " (0.0, 1.0]    -0.874043\n",
       " (1.0, 2.0]    -1.374281\n",
       " (2.0, inf]    -1.538523\n",
       " dtype: float64, 'NumberOfTimes90DaysLate': cut\n",
       " (-inf, 0.0]    0.235094\n",
       " (0.0, 2.0]    -1.870583\n",
       " (2.0, inf]    -2.403095\n",
       " dtype: float64, 'NumberRealEstateLoansOrLines': cut\n",
       " (-inf, 0.0]   -0.394295\n",
       " (0.0, 1.0]     0.195672\n",
       " (1.0, 2.0]     0.618576\n",
       " (2.0, 3.0]     0.429446\n",
       " (3.0, inf]     0.013016\n",
       " dtype: float64, 'NumberOfTime60-89DaysPastDueNotWorse': cut\n",
       " (-inf, 0.0]    0.124270\n",
       " (0.0, 1.0]    -1.384130\n",
       " (1.0, inf]    -1.779355\n",
       " dtype: float64, 'NumberOfDependents': cut\n",
       " (-inf, 0.0]    0.628652\n",
       " (0.0, 1.0]    -0.579904\n",
       " (1.0, 2.0]    -0.531313\n",
       " (2.0, 3.0]    -0.505863\n",
       " (3.0, inf]    -0.410926\n",
       " dtype: float64}"
      ]
     },
     "execution_count": 72,
     "metadata": {},
     "output_type": "execute_result"
    }
   ],
   "source": [
    "def get_woe(df,col,y,bins):\n",
    "    df = df[[col,y]].copy()\n",
    "    df['cut'] = pd.cut(df[col],bins)\n",
    "    bins_df = df.groupby('cut')[y].value_counts().unstack()\n",
    "    woe = bins_df['woe'] = np.log((bins_df[0]/bins_df[0].sum())/(bins_df[1]/bins_df[1].sum()))\n",
    "    return woe\n",
    "#将所有的特征的woe储存在字典当中。\n",
    "woeall = {}\n",
    "for col in bins_of_col:\n",
    "    woeall[col] = get_woe(model_data,col,\"SeriousDlqin2yrs\",bins_of_col[col])\n",
    "woeall\n"
   ]
  },
  {
   "cell_type": "code",
   "execution_count": 73,
   "metadata": {},
   "outputs": [
    {
     "data": {
      "text/html": [
       "<div>\n",
       "<style scoped>\n",
       "    .dataframe tbody tr th:only-of-type {\n",
       "        vertical-align: middle;\n",
       "    }\n",
       "\n",
       "    .dataframe tbody tr th {\n",
       "        vertical-align: top;\n",
       "    }\n",
       "\n",
       "    .dataframe thead th {\n",
       "        text-align: right;\n",
       "    }\n",
       "</style>\n",
       "<table border=\"1\" class=\"dataframe\">\n",
       "  <thead>\n",
       "    <tr style=\"text-align: right;\">\n",
       "      <th></th>\n",
       "      <th>age</th>\n",
       "    </tr>\n",
       "  </thead>\n",
       "  <tbody>\n",
       "    <tr>\n",
       "      <th>0</th>\n",
       "      <td>-0.351728</td>\n",
       "    </tr>\n",
       "    <tr>\n",
       "      <th>1</th>\n",
       "      <td>1.011126</td>\n",
       "    </tr>\n",
       "    <tr>\n",
       "      <th>2</th>\n",
       "      <td>-0.351728</td>\n",
       "    </tr>\n",
       "    <tr>\n",
       "      <th>3</th>\n",
       "      <td>1.011126</td>\n",
       "    </tr>\n",
       "    <tr>\n",
       "      <th>4</th>\n",
       "      <td>-0.351728</td>\n",
       "    </tr>\n",
       "  </tbody>\n",
       "</table>\n",
       "</div>"
      ],
      "text/plain": [
       "        age\n",
       "0 -0.351728\n",
       "1  1.011126\n",
       "2 -0.351728\n",
       "3  1.011126\n",
       "4 -0.351728"
      ]
     },
     "execution_count": 73,
     "metadata": {},
     "output_type": "execute_result"
    }
   ],
   "source": [
    "#不希望覆盖掉原本的数据，创建一个新的DataFrame，索引和原始数据model_data一模一样\n",
    "model_woe = pd.DataFrame(index=model_data.index)\n",
    "#将元数据分箱后，按照箱子的结果吧woe结构用针对SEries的apply函数映射到数据中\n",
    "model_woe['age'] = pd.cut(model_data['age'],bins_of_col['age']).apply(woeall['age'])\n",
    "model_woe.head()"
   ]
  },
  {
   "cell_type": "code",
   "execution_count": 74,
   "metadata": {
    "scrolled": true
   },
   "outputs": [
    {
     "data": {
      "text/html": [
       "<div>\n",
       "<style scoped>\n",
       "    .dataframe tbody tr th:only-of-type {\n",
       "        vertical-align: middle;\n",
       "    }\n",
       "\n",
       "    .dataframe tbody tr th {\n",
       "        vertical-align: top;\n",
       "    }\n",
       "\n",
       "    .dataframe thead th {\n",
       "        text-align: right;\n",
       "    }\n",
       "</style>\n",
       "<table border=\"1\" class=\"dataframe\">\n",
       "  <thead>\n",
       "    <tr style=\"text-align: right;\">\n",
       "      <th></th>\n",
       "      <th>age</th>\n",
       "      <th>RevolvingUtilizationOfUnsecuredLines</th>\n",
       "      <th>DebtRatio</th>\n",
       "      <th>MonthlyIncome</th>\n",
       "      <th>NumberOfOpenCreditLinesAndLoans</th>\n",
       "      <th>NumberOfTime30-59DaysPastDueNotWorse</th>\n",
       "      <th>NumberOfTimes90DaysLate</th>\n",
       "      <th>NumberRealEstateLoansOrLines</th>\n",
       "      <th>NumberOfTime60-89DaysPastDueNotWorse</th>\n",
       "      <th>NumberOfDependents</th>\n",
       "      <th>SeriousDlqin2yrs</th>\n",
       "    </tr>\n",
       "  </thead>\n",
       "  <tbody>\n",
       "    <tr>\n",
       "      <th>0</th>\n",
       "      <td>-0.351728</td>\n",
       "      <td>2.205803</td>\n",
       "      <td>0.036442</td>\n",
       "      <td>-0.223941</td>\n",
       "      <td>-0.055266</td>\n",
       "      <td>0.352288</td>\n",
       "      <td>0.235094</td>\n",
       "      <td>-0.394295</td>\n",
       "      <td>0.124270</td>\n",
       "      <td>0.628652</td>\n",
       "      <td>0</td>\n",
       "    </tr>\n",
       "    <tr>\n",
       "      <th>1</th>\n",
       "      <td>1.011126</td>\n",
       "      <td>0.667595</td>\n",
       "      <td>0.036442</td>\n",
       "      <td>-0.223941</td>\n",
       "      <td>-0.055266</td>\n",
       "      <td>0.352288</td>\n",
       "      <td>0.235094</td>\n",
       "      <td>-0.394295</td>\n",
       "      <td>0.124270</td>\n",
       "      <td>0.628652</td>\n",
       "      <td>0</td>\n",
       "    </tr>\n",
       "    <tr>\n",
       "      <th>2</th>\n",
       "      <td>-0.351728</td>\n",
       "      <td>-2.037194</td>\n",
       "      <td>-0.388248</td>\n",
       "      <td>-0.223941</td>\n",
       "      <td>-0.055266</td>\n",
       "      <td>-0.874043</td>\n",
       "      <td>-1.870583</td>\n",
       "      <td>-0.394295</td>\n",
       "      <td>-1.779355</td>\n",
       "      <td>-0.410926</td>\n",
       "      <td>1</td>\n",
       "    </tr>\n",
       "    <tr>\n",
       "      <th>3</th>\n",
       "      <td>1.011126</td>\n",
       "      <td>2.205803</td>\n",
       "      <td>-0.388248</td>\n",
       "      <td>-0.223941</td>\n",
       "      <td>0.123982</td>\n",
       "      <td>0.352288</td>\n",
       "      <td>0.235094</td>\n",
       "      <td>0.618576</td>\n",
       "      <td>0.124270</td>\n",
       "      <td>0.628652</td>\n",
       "      <td>0</td>\n",
       "    </tr>\n",
       "    <tr>\n",
       "      <th>4</th>\n",
       "      <td>-0.351728</td>\n",
       "      <td>-0.946812</td>\n",
       "      <td>-0.388248</td>\n",
       "      <td>0.230721</td>\n",
       "      <td>0.123982</td>\n",
       "      <td>0.352288</td>\n",
       "      <td>0.235094</td>\n",
       "      <td>0.618576</td>\n",
       "      <td>0.124270</td>\n",
       "      <td>-0.579904</td>\n",
       "      <td>1</td>\n",
       "    </tr>\n",
       "  </tbody>\n",
       "</table>\n",
       "</div>"
      ],
      "text/plain": [
       "        age RevolvingUtilizationOfUnsecuredLines DebtRatio MonthlyIncome  \\\n",
       "0 -0.351728                             2.205803  0.036442     -0.223941   \n",
       "1  1.011126                             0.667595  0.036442     -0.223941   \n",
       "2 -0.351728                            -2.037194 -0.388248     -0.223941   \n",
       "3  1.011126                             2.205803 -0.388248     -0.223941   \n",
       "4 -0.351728                            -0.946812 -0.388248      0.230721   \n",
       "\n",
       "  NumberOfOpenCreditLinesAndLoans NumberOfTime30-59DaysPastDueNotWorse  \\\n",
       "0                       -0.055266                             0.352288   \n",
       "1                       -0.055266                             0.352288   \n",
       "2                       -0.055266                            -0.874043   \n",
       "3                        0.123982                             0.352288   \n",
       "4                        0.123982                             0.352288   \n",
       "\n",
       "  NumberOfTimes90DaysLate NumberRealEstateLoansOrLines  \\\n",
       "0                0.235094                    -0.394295   \n",
       "1                0.235094                    -0.394295   \n",
       "2               -1.870583                    -0.394295   \n",
       "3                0.235094                     0.618576   \n",
       "4                0.235094                     0.618576   \n",
       "\n",
       "  NumberOfTime60-89DaysPastDueNotWorse NumberOfDependents  SeriousDlqin2yrs  \n",
       "0                             0.124270           0.628652                 0  \n",
       "1                             0.124270           0.628652                 0  \n",
       "2                            -1.779355          -0.410926                 1  \n",
       "3                             0.124270           0.628652                 0  \n",
       "4                             0.124270          -0.579904                 1  "
      ]
     },
     "execution_count": 74,
     "metadata": {},
     "output_type": "execute_result"
    }
   ],
   "source": [
    "#对所有的特征操作可以写成\n",
    "for col in bins_of_col:\n",
    "    model_woe[col] = pd.cut(model_data[col],bins_of_col[col]).apply(woeall[col])\n",
    "#添加标签\n",
    "model_woe[\"SeriousDlqin2yrs\"] = model_data[\"SeriousDlqin2yrs\"]\n",
    "model_woe.head()"
   ]
  },
  {
   "cell_type": "markdown",
   "metadata": {},
   "source": [
    "此即为我们的建模数据"
   ]
  },
  {
   "cell_type": "markdown",
   "metadata": {},
   "source": [
    "终于弄完了我们的训练集，接下来我们要处理测试集，在已经有分箱的情况下，测试集的处理就非常简单了，我们只需要将已经计算好的WOE映射到测试集中去就可以了\n",
    "\n"
   ]
  },
  {
   "cell_type": "code",
   "execution_count": 75,
   "metadata": {},
   "outputs": [],
   "source": [
    "vali_data = pd.read_csv(\"vali_data.csv\")\n",
    "vali_woe = pd.DataFrame(index=vali_data.index)\n",
    "\n",
    "for col in bins_of_col:\n",
    "    vali_woe[col] = pd.cut(vali_data[col],bins_of_col[col]).map(woeall[col])\n",
    "\n",
    "vali_woe[\"SeriousDlqin2yrs\"] = vali_data[\"SeriousDlqin2yrs\"]"
   ]
  },
  {
   "cell_type": "code",
   "execution_count": 76,
   "metadata": {},
   "outputs": [
    {
     "data": {
      "text/html": [
       "<div>\n",
       "<style scoped>\n",
       "    .dataframe tbody tr th:only-of-type {\n",
       "        vertical-align: middle;\n",
       "    }\n",
       "\n",
       "    .dataframe tbody tr th {\n",
       "        vertical-align: top;\n",
       "    }\n",
       "\n",
       "    .dataframe thead th {\n",
       "        text-align: right;\n",
       "    }\n",
       "</style>\n",
       "<table border=\"1\" class=\"dataframe\">\n",
       "  <thead>\n",
       "    <tr style=\"text-align: right;\">\n",
       "      <th></th>\n",
       "      <th>RevolvingUtilizationOfUnsecuredLines</th>\n",
       "      <th>age</th>\n",
       "      <th>DebtRatio</th>\n",
       "      <th>MonthlyIncome</th>\n",
       "      <th>NumberOfOpenCreditLinesAndLoans</th>\n",
       "      <th>NumberOfTime30-59DaysPastDueNotWorse</th>\n",
       "      <th>NumberOfTimes90DaysLate</th>\n",
       "      <th>NumberRealEstateLoansOrLines</th>\n",
       "      <th>NumberOfTime60-89DaysPastDueNotWorse</th>\n",
       "      <th>NumberOfDependents</th>\n",
       "      <th>SeriousDlqin2yrs</th>\n",
       "    </tr>\n",
       "  </thead>\n",
       "  <tbody>\n",
       "    <tr>\n",
       "      <th>0</th>\n",
       "      <td>2.205803</td>\n",
       "      <td>0.244995</td>\n",
       "      <td>1.504321</td>\n",
       "      <td>-0.223941</td>\n",
       "      <td>-0.055266</td>\n",
       "      <td>0.352288</td>\n",
       "      <td>0.235094</td>\n",
       "      <td>-0.394295</td>\n",
       "      <td>0.12427</td>\n",
       "      <td>0.628652</td>\n",
       "      <td>0</td>\n",
       "    </tr>\n",
       "    <tr>\n",
       "      <th>1</th>\n",
       "      <td>-0.946812</td>\n",
       "      <td>-0.351728</td>\n",
       "      <td>0.036442</td>\n",
       "      <td>0.230721</td>\n",
       "      <td>0.123982</td>\n",
       "      <td>0.352288</td>\n",
       "      <td>0.235094</td>\n",
       "      <td>0.618576</td>\n",
       "      <td>0.12427</td>\n",
       "      <td>-0.505863</td>\n",
       "      <td>1</td>\n",
       "    </tr>\n",
       "    <tr>\n",
       "      <th>2</th>\n",
       "      <td>2.205803</td>\n",
       "      <td>1.011126</td>\n",
       "      <td>0.036442</td>\n",
       "      <td>0.230721</td>\n",
       "      <td>-0.055266</td>\n",
       "      <td>0.352288</td>\n",
       "      <td>0.235094</td>\n",
       "      <td>-0.394295</td>\n",
       "      <td>0.12427</td>\n",
       "      <td>0.628652</td>\n",
       "      <td>0</td>\n",
       "    </tr>\n",
       "    <tr>\n",
       "      <th>3</th>\n",
       "      <td>2.205803</td>\n",
       "      <td>-0.351728</td>\n",
       "      <td>0.036442</td>\n",
       "      <td>-0.223941</td>\n",
       "      <td>0.123982</td>\n",
       "      <td>0.352288</td>\n",
       "      <td>0.235094</td>\n",
       "      <td>0.195672</td>\n",
       "      <td>0.12427</td>\n",
       "      <td>0.628652</td>\n",
       "      <td>0</td>\n",
       "    </tr>\n",
       "    <tr>\n",
       "      <th>4</th>\n",
       "      <td>-0.946812</td>\n",
       "      <td>-0.351728</td>\n",
       "      <td>0.036442</td>\n",
       "      <td>-0.223941</td>\n",
       "      <td>0.123982</td>\n",
       "      <td>0.352288</td>\n",
       "      <td>0.235094</td>\n",
       "      <td>-0.394295</td>\n",
       "      <td>0.12427</td>\n",
       "      <td>-0.579904</td>\n",
       "      <td>1</td>\n",
       "    </tr>\n",
       "  </tbody>\n",
       "</table>\n",
       "</div>"
      ],
      "text/plain": [
       "   RevolvingUtilizationOfUnsecuredLines       age  DebtRatio  MonthlyIncome  \\\n",
       "0                              2.205803  0.244995   1.504321      -0.223941   \n",
       "1                             -0.946812 -0.351728   0.036442       0.230721   \n",
       "2                              2.205803  1.011126   0.036442       0.230721   \n",
       "3                              2.205803 -0.351728   0.036442      -0.223941   \n",
       "4                             -0.946812 -0.351728   0.036442      -0.223941   \n",
       "\n",
       "   NumberOfOpenCreditLinesAndLoans  NumberOfTime30-59DaysPastDueNotWorse  \\\n",
       "0                        -0.055266                              0.352288   \n",
       "1                         0.123982                              0.352288   \n",
       "2                        -0.055266                              0.352288   \n",
       "3                         0.123982                              0.352288   \n",
       "4                         0.123982                              0.352288   \n",
       "\n",
       "   NumberOfTimes90DaysLate  NumberRealEstateLoansOrLines  \\\n",
       "0                 0.235094                     -0.394295   \n",
       "1                 0.235094                      0.618576   \n",
       "2                 0.235094                     -0.394295   \n",
       "3                 0.235094                      0.195672   \n",
       "4                 0.235094                     -0.394295   \n",
       "\n",
       "   NumberOfTime60-89DaysPastDueNotWorse  NumberOfDependents  SeriousDlqin2yrs  \n",
       "0                               0.12427            0.628652                 0  \n",
       "1                               0.12427           -0.505863                 1  \n",
       "2                               0.12427            0.628652                 0  \n",
       "3                               0.12427            0.628652                 0  \n",
       "4                               0.12427           -0.579904                 1  "
      ]
     },
     "execution_count": 76,
     "metadata": {},
     "output_type": "execute_result"
    }
   ],
   "source": [
    "vali_woe.head()"
   ]
  },
  {
   "cell_type": "markdown",
   "metadata": {},
   "source": [
    "# 4. 建立模型与模型验证"
   ]
  },
  {
   "cell_type": "code",
   "execution_count": 77,
   "metadata": {},
   "outputs": [
    {
     "data": {
      "text/plain": [
       "0.7813008519192113"
      ]
     },
     "execution_count": 77,
     "metadata": {},
     "output_type": "execute_result"
    }
   ],
   "source": [
    "#尝试使用命名切片\n",
    "WithOutLastOne = slice(-1)\n",
    "OnlyLastOne = slice(-1,None)\n",
    "\n",
    "\n",
    "\n",
    "vali_X = vali_woe.iloc[:,:-1]\n",
    "vali_y = vali_woe.iloc[:,-1]\n",
    "X = model_woe.iloc[:,:-1]\n",
    "y = model_woe.iloc[:,-1]\n",
    "#交换age列，是训练数据与测试数据一一对应\n",
    "mid = vali_X['age']\n",
    "vali_X.drop(labels = \"age\",axis=1,inplace=True)\n",
    "vali_X.insert(0,\"age\",mid)\n",
    "\n",
    "from sklearn.linear_model import LogisticRegression as LR\n",
    "\n",
    "lr = LR(penalty=\"l2\").fit(X,y)\n",
    "lr.score(vali_X,vali_y)"
   ]
  },
  {
   "cell_type": "code",
   "execution_count": 78,
   "metadata": {},
   "outputs": [
    {
     "data": {
      "text/html": [
       "<div>\n",
       "<style scoped>\n",
       "    .dataframe tbody tr th:only-of-type {\n",
       "        vertical-align: middle;\n",
       "    }\n",
       "\n",
       "    .dataframe tbody tr th {\n",
       "        vertical-align: top;\n",
       "    }\n",
       "\n",
       "    .dataframe thead th {\n",
       "        text-align: right;\n",
       "    }\n",
       "</style>\n",
       "<table border=\"1\" class=\"dataframe\">\n",
       "  <thead>\n",
       "    <tr style=\"text-align: right;\">\n",
       "      <th></th>\n",
       "      <th>age</th>\n",
       "      <th>RevolvingUtilizationOfUnsecuredLines</th>\n",
       "      <th>DebtRatio</th>\n",
       "      <th>MonthlyIncome</th>\n",
       "      <th>NumberOfOpenCreditLinesAndLoans</th>\n",
       "      <th>NumberOfTime30-59DaysPastDueNotWorse</th>\n",
       "      <th>NumberOfTimes90DaysLate</th>\n",
       "      <th>NumberRealEstateLoansOrLines</th>\n",
       "      <th>NumberOfTime60-89DaysPastDueNotWorse</th>\n",
       "      <th>NumberOfDependents</th>\n",
       "    </tr>\n",
       "  </thead>\n",
       "  <tbody>\n",
       "    <tr>\n",
       "      <th>0</th>\n",
       "      <td>-0.351728</td>\n",
       "      <td>2.205803</td>\n",
       "      <td>0.036442</td>\n",
       "      <td>-0.223941</td>\n",
       "      <td>-0.055266</td>\n",
       "      <td>0.352288</td>\n",
       "      <td>0.235094</td>\n",
       "      <td>-0.394295</td>\n",
       "      <td>0.124270</td>\n",
       "      <td>0.628652</td>\n",
       "    </tr>\n",
       "    <tr>\n",
       "      <th>1</th>\n",
       "      <td>1.011126</td>\n",
       "      <td>0.667595</td>\n",
       "      <td>0.036442</td>\n",
       "      <td>-0.223941</td>\n",
       "      <td>-0.055266</td>\n",
       "      <td>0.352288</td>\n",
       "      <td>0.235094</td>\n",
       "      <td>-0.394295</td>\n",
       "      <td>0.124270</td>\n",
       "      <td>0.628652</td>\n",
       "    </tr>\n",
       "    <tr>\n",
       "      <th>2</th>\n",
       "      <td>-0.351728</td>\n",
       "      <td>-2.037194</td>\n",
       "      <td>-0.388248</td>\n",
       "      <td>-0.223941</td>\n",
       "      <td>-0.055266</td>\n",
       "      <td>-0.874043</td>\n",
       "      <td>-1.870583</td>\n",
       "      <td>-0.394295</td>\n",
       "      <td>-1.779355</td>\n",
       "      <td>-0.410926</td>\n",
       "    </tr>\n",
       "    <tr>\n",
       "      <th>3</th>\n",
       "      <td>1.011126</td>\n",
       "      <td>2.205803</td>\n",
       "      <td>-0.388248</td>\n",
       "      <td>-0.223941</td>\n",
       "      <td>0.123982</td>\n",
       "      <td>0.352288</td>\n",
       "      <td>0.235094</td>\n",
       "      <td>0.618576</td>\n",
       "      <td>0.124270</td>\n",
       "      <td>0.628652</td>\n",
       "    </tr>\n",
       "    <tr>\n",
       "      <th>4</th>\n",
       "      <td>-0.351728</td>\n",
       "      <td>-0.946812</td>\n",
       "      <td>-0.388248</td>\n",
       "      <td>0.230721</td>\n",
       "      <td>0.123982</td>\n",
       "      <td>0.352288</td>\n",
       "      <td>0.235094</td>\n",
       "      <td>0.618576</td>\n",
       "      <td>0.124270</td>\n",
       "      <td>-0.579904</td>\n",
       "    </tr>\n",
       "  </tbody>\n",
       "</table>\n",
       "</div>"
      ],
      "text/plain": [
       "        age RevolvingUtilizationOfUnsecuredLines DebtRatio MonthlyIncome  \\\n",
       "0 -0.351728                             2.205803  0.036442     -0.223941   \n",
       "1  1.011126                             0.667595  0.036442     -0.223941   \n",
       "2 -0.351728                            -2.037194 -0.388248     -0.223941   \n",
       "3  1.011126                             2.205803 -0.388248     -0.223941   \n",
       "4 -0.351728                            -0.946812 -0.388248      0.230721   \n",
       "\n",
       "  NumberOfOpenCreditLinesAndLoans NumberOfTime30-59DaysPastDueNotWorse  \\\n",
       "0                       -0.055266                             0.352288   \n",
       "1                       -0.055266                             0.352288   \n",
       "2                       -0.055266                            -0.874043   \n",
       "3                        0.123982                             0.352288   \n",
       "4                        0.123982                             0.352288   \n",
       "\n",
       "  NumberOfTimes90DaysLate NumberRealEstateLoansOrLines  \\\n",
       "0                0.235094                    -0.394295   \n",
       "1                0.235094                    -0.394295   \n",
       "2               -1.870583                    -0.394295   \n",
       "3                0.235094                     0.618576   \n",
       "4                0.235094                     0.618576   \n",
       "\n",
       "  NumberOfTime60-89DaysPastDueNotWorse NumberOfDependents  \n",
       "0                             0.124270           0.628652  \n",
       "1                             0.124270           0.628652  \n",
       "2                            -1.779355          -0.410926  \n",
       "3                             0.124270           0.628652  \n",
       "4                             0.124270          -0.579904  "
      ]
     },
     "execution_count": 78,
     "metadata": {},
     "output_type": "execute_result"
    }
   ],
   "source": [
    "X.head()"
   ]
  },
  {
   "cell_type": "code",
   "execution_count": 79,
   "metadata": {},
   "outputs": [
    {
     "name": "stdout",
     "output_type": "stream",
     "text": [
      "Help on class LogisticRegression in module sklearn.linear_model._logistic:\n",
      "\n",
      "class LogisticRegression(sklearn.base.BaseEstimator, sklearn.linear_model._base.LinearClassifierMixin, sklearn.linear_model._base.SparseCoefMixin)\n",
      " |  Logistic Regression (aka logit, MaxEnt) classifier.\n",
      " |  \n",
      " |  In the multiclass case, the training algorithm uses the one-vs-rest (OvR)\n",
      " |  scheme if the 'multi_class' option is set to 'ovr', and uses the\n",
      " |  cross-entropy loss if the 'multi_class' option is set to 'multinomial'.\n",
      " |  (Currently the 'multinomial' option is supported only by the 'lbfgs',\n",
      " |  'sag', 'saga' and 'newton-cg' solvers.)\n",
      " |  \n",
      " |  This class implements regularized logistic regression using the\n",
      " |  'liblinear' library, 'newton-cg', 'sag', 'saga' and 'lbfgs' solvers. **Note\n",
      " |  that regularization is applied by default**. It can handle both dense\n",
      " |  and sparse input. Use C-ordered arrays or CSR matrices containing 64-bit\n",
      " |  floats for optimal performance; any other input format will be converted\n",
      " |  (and copied).\n",
      " |  \n",
      " |  The 'newton-cg', 'sag', and 'lbfgs' solvers support only L2 regularization\n",
      " |  with primal formulation, or no regularization. The 'liblinear' solver\n",
      " |  supports both L1 and L2 regularization, with a dual formulation only for\n",
      " |  the L2 penalty. The Elastic-Net regularization is only supported by the\n",
      " |  'saga' solver.\n",
      " |  \n",
      " |  Read more in the :ref:`User Guide <logistic_regression>`.\n",
      " |  \n",
      " |  Parameters\n",
      " |  ----------\n",
      " |  penalty : {'l1', 'l2', 'elasticnet', 'none'}, default='l2'\n",
      " |      Used to specify the norm used in the penalization. The 'newton-cg',\n",
      " |      'sag' and 'lbfgs' solvers support only l2 penalties. 'elasticnet' is\n",
      " |      only supported by the 'saga' solver. If 'none' (not supported by the\n",
      " |      liblinear solver), no regularization is applied.\n",
      " |  \n",
      " |      .. versionadded:: 0.19\n",
      " |         l1 penalty with SAGA solver (allowing 'multinomial' + L1)\n",
      " |  \n",
      " |  dual : bool, default=False\n",
      " |      Dual or primal formulation. Dual formulation is only implemented for\n",
      " |      l2 penalty with liblinear solver. Prefer dual=False when\n",
      " |      n_samples > n_features.\n",
      " |  \n",
      " |  tol : float, default=1e-4\n",
      " |      Tolerance for stopping criteria.\n",
      " |  \n",
      " |  C : float, default=1.0\n",
      " |      Inverse of regularization strength; must be a positive float.\n",
      " |      Like in support vector machines, smaller values specify stronger\n",
      " |      regularization.\n",
      " |  \n",
      " |  fit_intercept : bool, default=True\n",
      " |      Specifies if a constant (a.k.a. bias or intercept) should be\n",
      " |      added to the decision function.\n",
      " |  \n",
      " |  intercept_scaling : float, default=1\n",
      " |      Useful only when the solver 'liblinear' is used\n",
      " |      and self.fit_intercept is set to True. In this case, x becomes\n",
      " |      [x, self.intercept_scaling],\n",
      " |      i.e. a \"synthetic\" feature with constant value equal to\n",
      " |      intercept_scaling is appended to the instance vector.\n",
      " |      The intercept becomes ``intercept_scaling * synthetic_feature_weight``.\n",
      " |  \n",
      " |      Note! the synthetic feature weight is subject to l1/l2 regularization\n",
      " |      as all other features.\n",
      " |      To lessen the effect of regularization on synthetic feature weight\n",
      " |      (and therefore on the intercept) intercept_scaling has to be increased.\n",
      " |  \n",
      " |  class_weight : dict or 'balanced', default=None\n",
      " |      Weights associated with classes in the form ``{class_label: weight}``.\n",
      " |      If not given, all classes are supposed to have weight one.\n",
      " |  \n",
      " |      The \"balanced\" mode uses the values of y to automatically adjust\n",
      " |      weights inversely proportional to class frequencies in the input data\n",
      " |      as ``n_samples / (n_classes * np.bincount(y))``.\n",
      " |  \n",
      " |      Note that these weights will be multiplied with sample_weight (passed\n",
      " |      through the fit method) if sample_weight is specified.\n",
      " |  \n",
      " |      .. versionadded:: 0.17\n",
      " |         *class_weight='balanced'*\n",
      " |  \n",
      " |  random_state : int, RandomState instance, default=None\n",
      " |      Used when ``solver`` == 'sag', 'saga' or 'liblinear' to shuffle the\n",
      " |      data. See :term:`Glossary <random_state>` for details.\n",
      " |  \n",
      " |  solver : {'newton-cg', 'lbfgs', 'liblinear', 'sag', 'saga'},             default='lbfgs'\n",
      " |  \n",
      " |      Algorithm to use in the optimization problem.\n",
      " |  \n",
      " |      - For small datasets, 'liblinear' is a good choice, whereas 'sag' and\n",
      " |        'saga' are faster for large ones.\n",
      " |      - For multiclass problems, only 'newton-cg', 'sag', 'saga' and 'lbfgs'\n",
      " |        handle multinomial loss; 'liblinear' is limited to one-versus-rest\n",
      " |        schemes.\n",
      " |      - 'newton-cg', 'lbfgs', 'sag' and 'saga' handle L2 or no penalty\n",
      " |      - 'liblinear' and 'saga' also handle L1 penalty\n",
      " |      - 'saga' also supports 'elasticnet' penalty\n",
      " |      - 'liblinear' does not support setting ``penalty='none'``\n",
      " |  \n",
      " |      Note that 'sag' and 'saga' fast convergence is only guaranteed on\n",
      " |      features with approximately the same scale. You can\n",
      " |      preprocess the data with a scaler from sklearn.preprocessing.\n",
      " |  \n",
      " |      .. versionadded:: 0.17\n",
      " |         Stochastic Average Gradient descent solver.\n",
      " |      .. versionadded:: 0.19\n",
      " |         SAGA solver.\n",
      " |      .. versionchanged:: 0.22\n",
      " |          The default solver changed from 'liblinear' to 'lbfgs' in 0.22.\n",
      " |  \n",
      " |  max_iter : int, default=100\n",
      " |      Maximum number of iterations taken for the solvers to converge.\n",
      " |  \n",
      " |  multi_class : {'auto', 'ovr', 'multinomial'}, default='auto'\n",
      " |      If the option chosen is 'ovr', then a binary problem is fit for each\n",
      " |      label. For 'multinomial' the loss minimised is the multinomial loss fit\n",
      " |      across the entire probability distribution, *even when the data is\n",
      " |      binary*. 'multinomial' is unavailable when solver='liblinear'.\n",
      " |      'auto' selects 'ovr' if the data is binary, or if solver='liblinear',\n",
      " |      and otherwise selects 'multinomial'.\n",
      " |  \n",
      " |      .. versionadded:: 0.18\n",
      " |         Stochastic Average Gradient descent solver for 'multinomial' case.\n",
      " |      .. versionchanged:: 0.22\n",
      " |          Default changed from 'ovr' to 'auto' in 0.22.\n",
      " |  \n",
      " |  verbose : int, default=0\n",
      " |      For the liblinear and lbfgs solvers set verbose to any positive\n",
      " |      number for verbosity.\n",
      " |  \n",
      " |  warm_start : bool, default=False\n",
      " |      When set to True, reuse the solution of the previous call to fit as\n",
      " |      initialization, otherwise, just erase the previous solution.\n",
      " |      Useless for liblinear solver. See :term:`the Glossary <warm_start>`.\n",
      " |  \n",
      " |      .. versionadded:: 0.17\n",
      " |         *warm_start* to support *lbfgs*, *newton-cg*, *sag*, *saga* solvers.\n",
      " |  \n",
      " |  n_jobs : int, default=None\n",
      " |      Number of CPU cores used when parallelizing over classes if\n",
      " |      multi_class='ovr'\". This parameter is ignored when the ``solver`` is\n",
      " |      set to 'liblinear' regardless of whether 'multi_class' is specified or\n",
      " |      not. ``None`` means 1 unless in a :obj:`joblib.parallel_backend`\n",
      " |      context. ``-1`` means using all processors.\n",
      " |      See :term:`Glossary <n_jobs>` for more details.\n",
      " |  \n",
      " |  l1_ratio : float, default=None\n",
      " |      The Elastic-Net mixing parameter, with ``0 <= l1_ratio <= 1``. Only\n",
      " |      used if ``penalty='elasticnet'``. Setting ``l1_ratio=0`` is equivalent\n",
      " |      to using ``penalty='l2'``, while setting ``l1_ratio=1`` is equivalent\n",
      " |      to using ``penalty='l1'``. For ``0 < l1_ratio <1``, the penalty is a\n",
      " |      combination of L1 and L2.\n",
      " |  \n",
      " |  Attributes\n",
      " |  ----------\n",
      " |  \n",
      " |  classes_ : ndarray of shape (n_classes, )\n",
      " |      A list of class labels known to the classifier.\n",
      " |  \n",
      " |  coef_ : ndarray of shape (1, n_features) or (n_classes, n_features)\n",
      " |      Coefficient of the features in the decision function.\n",
      " |  \n",
      " |      `coef_` is of shape (1, n_features) when the given problem is binary.\n",
      " |      In particular, when `multi_class='multinomial'`, `coef_` corresponds\n",
      " |      to outcome 1 (True) and `-coef_` corresponds to outcome 0 (False).\n",
      " |  \n",
      " |  intercept_ : ndarray of shape (1,) or (n_classes,)\n",
      " |      Intercept (a.k.a. bias) added to the decision function.\n",
      " |  \n",
      " |      If `fit_intercept` is set to False, the intercept is set to zero.\n",
      " |      `intercept_` is of shape (1,) when the given problem is binary.\n",
      " |      In particular, when `multi_class='multinomial'`, `intercept_`\n",
      " |      corresponds to outcome 1 (True) and `-intercept_` corresponds to\n",
      " |      outcome 0 (False).\n",
      " |  \n",
      " |  n_iter_ : ndarray of shape (n_classes,) or (1, )\n",
      " |      Actual number of iterations for all classes. If binary or multinomial,\n",
      " |      it returns only 1 element. For liblinear solver, only the maximum\n",
      " |      number of iteration across all classes is given.\n",
      " |  \n",
      " |      .. versionchanged:: 0.20\n",
      " |  \n",
      " |          In SciPy <= 1.0.0 the number of lbfgs iterations may exceed\n",
      " |          ``max_iter``. ``n_iter_`` will now report at most ``max_iter``.\n",
      " |  \n",
      " |  See Also\n",
      " |  --------\n",
      " |  SGDClassifier : Incrementally trained logistic regression (when given\n",
      " |      the parameter ``loss=\"log\"``).\n",
      " |  LogisticRegressionCV : Logistic regression with built-in cross validation.\n",
      " |  \n",
      " |  Notes\n",
      " |  -----\n",
      " |  The underlying C implementation uses a random number generator to\n",
      " |  select features when fitting the model. It is thus not uncommon,\n",
      " |  to have slightly different results for the same input data. If\n",
      " |  that happens, try with a smaller tol parameter.\n",
      " |  \n",
      " |  Predict output may not match that of standalone liblinear in certain\n",
      " |  cases. See :ref:`differences from liblinear <liblinear_differences>`\n",
      " |  in the narrative documentation.\n",
      " |  \n",
      " |  References\n",
      " |  ----------\n",
      " |  \n",
      " |  L-BFGS-B -- Software for Large-scale Bound-constrained Optimization\n",
      " |      Ciyou Zhu, Richard Byrd, Jorge Nocedal and Jose Luis Morales.\n",
      " |      http://users.iems.northwestern.edu/~nocedal/lbfgsb.html\n",
      " |  \n",
      " |  LIBLINEAR -- A Library for Large Linear Classification\n",
      " |      https://www.csie.ntu.edu.tw/~cjlin/liblinear/\n",
      " |  \n",
      " |  SAG -- Mark Schmidt, Nicolas Le Roux, and Francis Bach\n",
      " |      Minimizing Finite Sums with the Stochastic Average Gradient\n",
      " |      https://hal.inria.fr/hal-00860051/document\n",
      " |  \n",
      " |  SAGA -- Defazio, A., Bach F. & Lacoste-Julien S. (2014).\n",
      " |      SAGA: A Fast Incremental Gradient Method With Support\n",
      " |      for Non-Strongly Convex Composite Objectives\n",
      " |      https://arxiv.org/abs/1407.0202\n",
      " |  \n",
      " |  Hsiang-Fu Yu, Fang-Lan Huang, Chih-Jen Lin (2011). Dual coordinate descent\n",
      " |      methods for logistic regression and maximum entropy models.\n",
      " |      Machine Learning 85(1-2):41-75.\n",
      " |      https://www.csie.ntu.edu.tw/~cjlin/papers/maxent_dual.pdf\n",
      " |  \n",
      " |  Examples\n",
      " |  --------\n",
      " |  >>> from sklearn.datasets import load_iris\n",
      " |  >>> from sklearn.linear_model import LogisticRegression\n",
      " |  >>> X, y = load_iris(return_X_y=True)\n",
      " |  >>> clf = LogisticRegression(random_state=0).fit(X, y)\n",
      " |  >>> clf.predict(X[:2, :])\n",
      " |  array([0, 0])\n",
      " |  >>> clf.predict_proba(X[:2, :])\n",
      " |  array([[9.8...e-01, 1.8...e-02, 1.4...e-08],\n",
      " |         [9.7...e-01, 2.8...e-02, ...e-08]])\n",
      " |  >>> clf.score(X, y)\n",
      " |  0.97...\n",
      " |  \n",
      " |  Method resolution order:\n",
      " |      LogisticRegression\n",
      " |      sklearn.base.BaseEstimator\n",
      " |      sklearn.linear_model._base.LinearClassifierMixin\n",
      " |      sklearn.base.ClassifierMixin\n",
      " |      sklearn.linear_model._base.SparseCoefMixin\n",
      " |      builtins.object\n",
      " |  \n",
      " |  Methods defined here:\n",
      " |  \n",
      " |  __init__(self, penalty='l2', *, dual=False, tol=0.0001, C=1.0, fit_intercept=True, intercept_scaling=1, class_weight=None, random_state=None, solver='lbfgs', max_iter=100, multi_class='auto', verbose=0, warm_start=False, n_jobs=None, l1_ratio=None)\n",
      " |      Initialize self.  See help(type(self)) for accurate signature.\n",
      " |  \n",
      " |  fit(self, X, y, sample_weight=None)\n",
      " |      Fit the model according to the given training data.\n",
      " |      \n",
      " |      Parameters\n",
      " |      ----------\n",
      " |      X : {array-like, sparse matrix} of shape (n_samples, n_features)\n",
      " |          Training vector, where n_samples is the number of samples and\n",
      " |          n_features is the number of features.\n",
      " |      \n",
      " |      y : array-like of shape (n_samples,)\n",
      " |          Target vector relative to X.\n",
      " |      \n",
      " |      sample_weight : array-like of shape (n_samples,) default=None\n",
      " |          Array of weights that are assigned to individual samples.\n",
      " |          If not provided, then each sample is given unit weight.\n",
      " |      \n",
      " |          .. versionadded:: 0.17\n",
      " |             *sample_weight* support to LogisticRegression.\n",
      " |      \n",
      " |      Returns\n",
      " |      -------\n",
      " |      self\n",
      " |          Fitted estimator.\n",
      " |      \n",
      " |      Notes\n",
      " |      -----\n",
      " |      The SAGA solver supports both float64 and float32 bit arrays.\n",
      " |  \n",
      " |  predict_log_proba(self, X)\n",
      " |      Predict logarithm of probability estimates.\n",
      " |      \n",
      " |      The returned estimates for all classes are ordered by the\n",
      " |      label of classes.\n",
      " |      \n",
      " |      Parameters\n",
      " |      ----------\n",
      " |      X : array-like of shape (n_samples, n_features)\n",
      " |          Vector to be scored, where `n_samples` is the number of samples and\n",
      " |          `n_features` is the number of features.\n",
      " |      \n",
      " |      Returns\n",
      " |      -------\n",
      " |      T : array-like of shape (n_samples, n_classes)\n",
      " |          Returns the log-probability of the sample for each class in the\n",
      " |          model, where classes are ordered as they are in ``self.classes_``.\n",
      " |  \n",
      " |  predict_proba(self, X)\n",
      " |      Probability estimates.\n",
      " |      \n",
      " |      The returned estimates for all classes are ordered by the\n",
      " |      label of classes.\n",
      " |      \n",
      " |      For a multi_class problem, if multi_class is set to be \"multinomial\"\n",
      " |      the softmax function is used to find the predicted probability of\n",
      " |      each class.\n",
      " |      Else use a one-vs-rest approach, i.e calculate the probability\n",
      " |      of each class assuming it to be positive using the logistic function.\n",
      " |      and normalize these values across all the classes.\n",
      " |      \n",
      " |      Parameters\n",
      " |      ----------\n",
      " |      X : array-like of shape (n_samples, n_features)\n",
      " |          Vector to be scored, where `n_samples` is the number of samples and\n",
      " |          `n_features` is the number of features.\n",
      " |      \n",
      " |      Returns\n",
      " |      -------\n",
      " |      T : array-like of shape (n_samples, n_classes)\n",
      " |          Returns the probability of the sample for each class in the model,\n",
      " |          where classes are ordered as they are in ``self.classes_``.\n",
      " |  \n",
      " |  ----------------------------------------------------------------------\n",
      " |  Methods inherited from sklearn.base.BaseEstimator:\n",
      " |  \n",
      " |  __getstate__(self)\n",
      " |  \n",
      " |  __repr__(self, N_CHAR_MAX=700)\n",
      " |      Return repr(self).\n",
      " |  \n",
      " |  __setstate__(self, state)\n",
      " |  \n",
      " |  get_params(self, deep=True)\n",
      " |      Get parameters for this estimator.\n",
      " |      \n",
      " |      Parameters\n",
      " |      ----------\n",
      " |      deep : bool, default=True\n",
      " |          If True, will return the parameters for this estimator and\n",
      " |          contained subobjects that are estimators.\n",
      " |      \n",
      " |      Returns\n",
      " |      -------\n",
      " |      params : mapping of string to any\n",
      " |          Parameter names mapped to their values.\n",
      " |  \n",
      " |  set_params(self, **params)\n",
      " |      Set the parameters of this estimator.\n",
      " |      \n",
      " |      The method works on simple estimators as well as on nested objects\n",
      " |      (such as pipelines). The latter have parameters of the form\n",
      " |      ``<component>__<parameter>`` so that it's possible to update each\n",
      " |      component of a nested object.\n",
      " |      \n",
      " |      Parameters\n",
      " |      ----------\n",
      " |      **params : dict\n",
      " |          Estimator parameters.\n",
      " |      \n",
      " |      Returns\n",
      " |      -------\n",
      " |      self : object\n",
      " |          Estimator instance.\n",
      " |  \n",
      " |  ----------------------------------------------------------------------\n",
      " |  Data descriptors inherited from sklearn.base.BaseEstimator:\n",
      " |  \n",
      " |  __dict__\n",
      " |      dictionary for instance variables (if defined)\n",
      " |  \n",
      " |  __weakref__\n",
      " |      list of weak references to the object (if defined)\n",
      " |  \n",
      " |  ----------------------------------------------------------------------\n",
      " |  Methods inherited from sklearn.linear_model._base.LinearClassifierMixin:\n",
      " |  \n",
      " |  decision_function(self, X)\n",
      " |      Predict confidence scores for samples.\n",
      " |      \n",
      " |      The confidence score for a sample is the signed distance of that\n",
      " |      sample to the hyperplane.\n",
      " |      \n",
      " |      Parameters\n",
      " |      ----------\n",
      " |      X : array_like or sparse matrix, shape (n_samples, n_features)\n",
      " |          Samples.\n",
      " |      \n",
      " |      Returns\n",
      " |      -------\n",
      " |      array, shape=(n_samples,) if n_classes == 2 else (n_samples, n_classes)\n",
      " |          Confidence scores per (sample, class) combination. In the binary\n",
      " |          case, confidence score for self.classes_[1] where >0 means this\n",
      " |          class would be predicted.\n",
      " |  \n",
      " |  predict(self, X)\n",
      " |      Predict class labels for samples in X.\n",
      " |      \n",
      " |      Parameters\n",
      " |      ----------\n",
      " |      X : array_like or sparse matrix, shape (n_samples, n_features)\n",
      " |          Samples.\n",
      " |      \n",
      " |      Returns\n",
      " |      -------\n",
      " |      C : array, shape [n_samples]\n",
      " |          Predicted class label per sample.\n",
      " |  \n",
      " |  ----------------------------------------------------------------------\n",
      " |  Methods inherited from sklearn.base.ClassifierMixin:\n",
      " |  \n",
      " |  score(self, X, y, sample_weight=None)\n",
      " |      Return the mean accuracy on the given test data and labels.\n",
      " |      \n",
      " |      In multi-label classification, this is the subset accuracy\n",
      " |      which is a harsh metric since you require for each sample that\n",
      " |      each label set be correctly predicted.\n",
      " |      \n",
      " |      Parameters\n",
      " |      ----------\n",
      " |      X : array-like of shape (n_samples, n_features)\n",
      " |          Test samples.\n",
      " |      \n",
      " |      y : array-like of shape (n_samples,) or (n_samples, n_outputs)\n",
      " |          True labels for X.\n",
      " |      \n",
      " |      sample_weight : array-like of shape (n_samples,), default=None\n",
      " |          Sample weights.\n",
      " |      \n",
      " |      Returns\n",
      " |      -------\n",
      " |      score : float\n",
      " |          Mean accuracy of self.predict(X) wrt. y.\n",
      " |  \n",
      " |  ----------------------------------------------------------------------\n",
      " |  Methods inherited from sklearn.linear_model._base.SparseCoefMixin:\n",
      " |  \n",
      " |  densify(self)\n",
      " |      Convert coefficient matrix to dense array format.\n",
      " |      \n",
      " |      Converts the ``coef_`` member (back) to a numpy.ndarray. This is the\n",
      " |      default format of ``coef_`` and is required for fitting, so calling\n",
      " |      this method is only required on models that have previously been\n",
      " |      sparsified; otherwise, it is a no-op.\n",
      " |      \n",
      " |      Returns\n",
      " |      -------\n",
      " |      self\n",
      " |          Fitted estimator.\n",
      " |  \n",
      " |  sparsify(self)\n",
      " |      Convert coefficient matrix to sparse format.\n",
      " |      \n",
      " |      Converts the ``coef_`` member to a scipy.sparse matrix, which for\n",
      " |      L1-regularized models can be much more memory- and storage-efficient\n",
      " |      than the usual numpy.ndarray representation.\n",
      " |      \n",
      " |      The ``intercept_`` member is not converted.\n",
      " |      \n",
      " |      Returns\n",
      " |      -------\n",
      " |      self\n",
      " |          Fitted estimator.\n",
      " |      \n",
      " |      Notes\n",
      " |      -----\n",
      " |      For non-sparse models, i.e. when there are not many zeros in ``coef_``,\n",
      " |      this may actually *increase* memory usage, so use this method with\n",
      " |      care. A rule of thumb is that the number of zero elements, which can\n",
      " |      be computed with ``(coef_ == 0).sum()``, must be more than 50% for this\n",
      " |      to provide significant benefits.\n",
      " |      \n",
      " |      After calling this method, further fitting with the partial_fit\n",
      " |      method (if any) will not work until you call densify.\n",
      "\n"
     ]
    }
   ],
   "source": [
    "help(LR)"
   ]
  },
  {
   "cell_type": "code",
   "execution_count": 80,
   "metadata": {},
   "outputs": [
    {
     "data": {
      "text/html": [
       "<div>\n",
       "<style scoped>\n",
       "    .dataframe tbody tr th:only-of-type {\n",
       "        vertical-align: middle;\n",
       "    }\n",
       "\n",
       "    .dataframe tbody tr th {\n",
       "        vertical-align: top;\n",
       "    }\n",
       "\n",
       "    .dataframe thead th {\n",
       "        text-align: right;\n",
       "    }\n",
       "</style>\n",
       "<table border=\"1\" class=\"dataframe\">\n",
       "  <thead>\n",
       "    <tr style=\"text-align: right;\">\n",
       "      <th></th>\n",
       "      <th>age</th>\n",
       "      <th>RevolvingUtilizationOfUnsecuredLines</th>\n",
       "      <th>DebtRatio</th>\n",
       "      <th>MonthlyIncome</th>\n",
       "      <th>NumberOfOpenCreditLinesAndLoans</th>\n",
       "      <th>NumberOfTime30-59DaysPastDueNotWorse</th>\n",
       "      <th>NumberOfTimes90DaysLate</th>\n",
       "      <th>NumberRealEstateLoansOrLines</th>\n",
       "      <th>NumberOfTime60-89DaysPastDueNotWorse</th>\n",
       "      <th>NumberOfDependents</th>\n",
       "    </tr>\n",
       "  </thead>\n",
       "  <tbody>\n",
       "    <tr>\n",
       "      <th>0</th>\n",
       "      <td>0.244995</td>\n",
       "      <td>2.205803</td>\n",
       "      <td>1.504321</td>\n",
       "      <td>-0.223941</td>\n",
       "      <td>-0.055266</td>\n",
       "      <td>0.352288</td>\n",
       "      <td>0.235094</td>\n",
       "      <td>-0.394295</td>\n",
       "      <td>0.12427</td>\n",
       "      <td>0.628652</td>\n",
       "    </tr>\n",
       "    <tr>\n",
       "      <th>1</th>\n",
       "      <td>-0.351728</td>\n",
       "      <td>-0.946812</td>\n",
       "      <td>0.036442</td>\n",
       "      <td>0.230721</td>\n",
       "      <td>0.123982</td>\n",
       "      <td>0.352288</td>\n",
       "      <td>0.235094</td>\n",
       "      <td>0.618576</td>\n",
       "      <td>0.12427</td>\n",
       "      <td>-0.505863</td>\n",
       "    </tr>\n",
       "    <tr>\n",
       "      <th>2</th>\n",
       "      <td>1.011126</td>\n",
       "      <td>2.205803</td>\n",
       "      <td>0.036442</td>\n",
       "      <td>0.230721</td>\n",
       "      <td>-0.055266</td>\n",
       "      <td>0.352288</td>\n",
       "      <td>0.235094</td>\n",
       "      <td>-0.394295</td>\n",
       "      <td>0.12427</td>\n",
       "      <td>0.628652</td>\n",
       "    </tr>\n",
       "    <tr>\n",
       "      <th>3</th>\n",
       "      <td>-0.351728</td>\n",
       "      <td>2.205803</td>\n",
       "      <td>0.036442</td>\n",
       "      <td>-0.223941</td>\n",
       "      <td>0.123982</td>\n",
       "      <td>0.352288</td>\n",
       "      <td>0.235094</td>\n",
       "      <td>0.195672</td>\n",
       "      <td>0.12427</td>\n",
       "      <td>0.628652</td>\n",
       "    </tr>\n",
       "    <tr>\n",
       "      <th>4</th>\n",
       "      <td>-0.351728</td>\n",
       "      <td>-0.946812</td>\n",
       "      <td>0.036442</td>\n",
       "      <td>-0.223941</td>\n",
       "      <td>0.123982</td>\n",
       "      <td>0.352288</td>\n",
       "      <td>0.235094</td>\n",
       "      <td>-0.394295</td>\n",
       "      <td>0.12427</td>\n",
       "      <td>-0.579904</td>\n",
       "    </tr>\n",
       "  </tbody>\n",
       "</table>\n",
       "</div>"
      ],
      "text/plain": [
       "        age  RevolvingUtilizationOfUnsecuredLines  DebtRatio  MonthlyIncome  \\\n",
       "0  0.244995                              2.205803   1.504321      -0.223941   \n",
       "1 -0.351728                             -0.946812   0.036442       0.230721   \n",
       "2  1.011126                              2.205803   0.036442       0.230721   \n",
       "3 -0.351728                              2.205803   0.036442      -0.223941   \n",
       "4 -0.351728                             -0.946812   0.036442      -0.223941   \n",
       "\n",
       "   NumberOfOpenCreditLinesAndLoans  NumberOfTime30-59DaysPastDueNotWorse  \\\n",
       "0                        -0.055266                              0.352288   \n",
       "1                         0.123982                              0.352288   \n",
       "2                        -0.055266                              0.352288   \n",
       "3                         0.123982                              0.352288   \n",
       "4                         0.123982                              0.352288   \n",
       "\n",
       "   NumberOfTimes90DaysLate  NumberRealEstateLoansOrLines  \\\n",
       "0                 0.235094                     -0.394295   \n",
       "1                 0.235094                      0.618576   \n",
       "2                 0.235094                     -0.394295   \n",
       "3                 0.235094                      0.195672   \n",
       "4                 0.235094                     -0.394295   \n",
       "\n",
       "   NumberOfTime60-89DaysPastDueNotWorse  NumberOfDependents  \n",
       "0                               0.12427            0.628652  \n",
       "1                               0.12427           -0.505863  \n",
       "2                               0.12427            0.628652  \n",
       "3                               0.12427            0.628652  \n",
       "4                               0.12427           -0.579904  "
      ]
     },
     "execution_count": 80,
     "metadata": {},
     "output_type": "execute_result"
    }
   ],
   "source": [
    "vali_X.head()"
   ]
  },
  {
   "cell_type": "code",
   "execution_count": 81,
   "metadata": {},
   "outputs": [
    {
     "data": {
      "text/html": [
       "<div>\n",
       "<style scoped>\n",
       "    .dataframe tbody tr th:only-of-type {\n",
       "        vertical-align: middle;\n",
       "    }\n",
       "\n",
       "    .dataframe tbody tr th {\n",
       "        vertical-align: top;\n",
       "    }\n",
       "\n",
       "    .dataframe thead th {\n",
       "        text-align: right;\n",
       "    }\n",
       "</style>\n",
       "<table border=\"1\" class=\"dataframe\">\n",
       "  <thead>\n",
       "    <tr style=\"text-align: right;\">\n",
       "      <th></th>\n",
       "      <th>age</th>\n",
       "      <th>RevolvingUtilizationOfUnsecuredLines</th>\n",
       "      <th>DebtRatio</th>\n",
       "      <th>MonthlyIncome</th>\n",
       "      <th>NumberOfOpenCreditLinesAndLoans</th>\n",
       "      <th>NumberOfTime30-59DaysPastDueNotWorse</th>\n",
       "      <th>NumberOfTimes90DaysLate</th>\n",
       "      <th>NumberRealEstateLoansOrLines</th>\n",
       "      <th>NumberOfTime60-89DaysPastDueNotWorse</th>\n",
       "      <th>NumberOfDependents</th>\n",
       "    </tr>\n",
       "  </thead>\n",
       "  <tbody>\n",
       "    <tr>\n",
       "      <th>0</th>\n",
       "      <td>0.244995</td>\n",
       "      <td>2.205803</td>\n",
       "      <td>1.504321</td>\n",
       "      <td>-0.223941</td>\n",
       "      <td>-0.055266</td>\n",
       "      <td>0.352288</td>\n",
       "      <td>0.235094</td>\n",
       "      <td>-0.394295</td>\n",
       "      <td>0.12427</td>\n",
       "      <td>0.628652</td>\n",
       "    </tr>\n",
       "    <tr>\n",
       "      <th>1</th>\n",
       "      <td>-0.351728</td>\n",
       "      <td>-0.946812</td>\n",
       "      <td>0.036442</td>\n",
       "      <td>0.230721</td>\n",
       "      <td>0.123982</td>\n",
       "      <td>0.352288</td>\n",
       "      <td>0.235094</td>\n",
       "      <td>0.618576</td>\n",
       "      <td>0.12427</td>\n",
       "      <td>-0.505863</td>\n",
       "    </tr>\n",
       "    <tr>\n",
       "      <th>2</th>\n",
       "      <td>1.011126</td>\n",
       "      <td>2.205803</td>\n",
       "      <td>0.036442</td>\n",
       "      <td>0.230721</td>\n",
       "      <td>-0.055266</td>\n",
       "      <td>0.352288</td>\n",
       "      <td>0.235094</td>\n",
       "      <td>-0.394295</td>\n",
       "      <td>0.12427</td>\n",
       "      <td>0.628652</td>\n",
       "    </tr>\n",
       "    <tr>\n",
       "      <th>3</th>\n",
       "      <td>-0.351728</td>\n",
       "      <td>2.205803</td>\n",
       "      <td>0.036442</td>\n",
       "      <td>-0.223941</td>\n",
       "      <td>0.123982</td>\n",
       "      <td>0.352288</td>\n",
       "      <td>0.235094</td>\n",
       "      <td>0.195672</td>\n",
       "      <td>0.12427</td>\n",
       "      <td>0.628652</td>\n",
       "    </tr>\n",
       "    <tr>\n",
       "      <th>4</th>\n",
       "      <td>-0.351728</td>\n",
       "      <td>-0.946812</td>\n",
       "      <td>0.036442</td>\n",
       "      <td>-0.223941</td>\n",
       "      <td>0.123982</td>\n",
       "      <td>0.352288</td>\n",
       "      <td>0.235094</td>\n",
       "      <td>-0.394295</td>\n",
       "      <td>0.12427</td>\n",
       "      <td>-0.579904</td>\n",
       "    </tr>\n",
       "  </tbody>\n",
       "</table>\n",
       "</div>"
      ],
      "text/plain": [
       "        age  RevolvingUtilizationOfUnsecuredLines  DebtRatio  MonthlyIncome  \\\n",
       "0  0.244995                              2.205803   1.504321      -0.223941   \n",
       "1 -0.351728                             -0.946812   0.036442       0.230721   \n",
       "2  1.011126                              2.205803   0.036442       0.230721   \n",
       "3 -0.351728                              2.205803   0.036442      -0.223941   \n",
       "4 -0.351728                             -0.946812   0.036442      -0.223941   \n",
       "\n",
       "   NumberOfOpenCreditLinesAndLoans  NumberOfTime30-59DaysPastDueNotWorse  \\\n",
       "0                        -0.055266                              0.352288   \n",
       "1                         0.123982                              0.352288   \n",
       "2                        -0.055266                              0.352288   \n",
       "3                         0.123982                              0.352288   \n",
       "4                         0.123982                              0.352288   \n",
       "\n",
       "   NumberOfTimes90DaysLate  NumberRealEstateLoansOrLines  \\\n",
       "0                 0.235094                     -0.394295   \n",
       "1                 0.235094                      0.618576   \n",
       "2                 0.235094                     -0.394295   \n",
       "3                 0.235094                      0.195672   \n",
       "4                 0.235094                     -0.394295   \n",
       "\n",
       "   NumberOfTime60-89DaysPastDueNotWorse  NumberOfDependents  \n",
       "0                               0.12427            0.628652  \n",
       "1                               0.12427           -0.505863  \n",
       "2                               0.12427            0.628652  \n",
       "3                               0.12427            0.628652  \n",
       "4                               0.12427           -0.579904  "
      ]
     },
     "execution_count": 81,
     "metadata": {},
     "output_type": "execute_result"
    }
   ],
   "source": [
    "#尝试交换列\n",
    "es = vali_X.copy()\n",
    "mid = es['age']\n",
    "es.drop(labels=\"age\",axis=1,inplace=True)\n",
    "es.insert(0,\"age\",mid)\n",
    "es.head()"
   ]
  },
  {
   "cell_type": "code",
   "execution_count": 82,
   "metadata": {},
   "outputs": [
    {
     "data": {
      "text/html": [
       "<div>\n",
       "<style scoped>\n",
       "    .dataframe tbody tr th:only-of-type {\n",
       "        vertical-align: middle;\n",
       "    }\n",
       "\n",
       "    .dataframe tbody tr th {\n",
       "        vertical-align: top;\n",
       "    }\n",
       "\n",
       "    .dataframe thead th {\n",
       "        text-align: right;\n",
       "    }\n",
       "</style>\n",
       "<table border=\"1\" class=\"dataframe\">\n",
       "  <thead>\n",
       "    <tr style=\"text-align: right;\">\n",
       "      <th></th>\n",
       "      <th>age</th>\n",
       "      <th>RevolvingUtilizationOfUnsecuredLines</th>\n",
       "      <th>DebtRatio</th>\n",
       "      <th>MonthlyIncome</th>\n",
       "      <th>NumberOfOpenCreditLinesAndLoans</th>\n",
       "      <th>NumberOfTime30-59DaysPastDueNotWorse</th>\n",
       "      <th>NumberOfTimes90DaysLate</th>\n",
       "      <th>NumberRealEstateLoansOrLines</th>\n",
       "      <th>NumberOfTime60-89DaysPastDueNotWorse</th>\n",
       "      <th>NumberOfDependents</th>\n",
       "    </tr>\n",
       "  </thead>\n",
       "  <tbody>\n",
       "    <tr>\n",
       "      <th>0</th>\n",
       "      <td>-0.351728</td>\n",
       "      <td>2.205803</td>\n",
       "      <td>0.036442</td>\n",
       "      <td>-0.223941</td>\n",
       "      <td>-0.055266</td>\n",
       "      <td>0.352288</td>\n",
       "      <td>0.235094</td>\n",
       "      <td>-0.394295</td>\n",
       "      <td>0.124270</td>\n",
       "      <td>0.628652</td>\n",
       "    </tr>\n",
       "    <tr>\n",
       "      <th>1</th>\n",
       "      <td>1.011126</td>\n",
       "      <td>0.667595</td>\n",
       "      <td>0.036442</td>\n",
       "      <td>-0.223941</td>\n",
       "      <td>-0.055266</td>\n",
       "      <td>0.352288</td>\n",
       "      <td>0.235094</td>\n",
       "      <td>-0.394295</td>\n",
       "      <td>0.124270</td>\n",
       "      <td>0.628652</td>\n",
       "    </tr>\n",
       "    <tr>\n",
       "      <th>2</th>\n",
       "      <td>-0.351728</td>\n",
       "      <td>-2.037194</td>\n",
       "      <td>-0.388248</td>\n",
       "      <td>-0.223941</td>\n",
       "      <td>-0.055266</td>\n",
       "      <td>-0.874043</td>\n",
       "      <td>-1.870583</td>\n",
       "      <td>-0.394295</td>\n",
       "      <td>-1.779355</td>\n",
       "      <td>-0.410926</td>\n",
       "    </tr>\n",
       "    <tr>\n",
       "      <th>3</th>\n",
       "      <td>1.011126</td>\n",
       "      <td>2.205803</td>\n",
       "      <td>-0.388248</td>\n",
       "      <td>-0.223941</td>\n",
       "      <td>0.123982</td>\n",
       "      <td>0.352288</td>\n",
       "      <td>0.235094</td>\n",
       "      <td>0.618576</td>\n",
       "      <td>0.124270</td>\n",
       "      <td>0.628652</td>\n",
       "    </tr>\n",
       "    <tr>\n",
       "      <th>4</th>\n",
       "      <td>-0.351728</td>\n",
       "      <td>-0.946812</td>\n",
       "      <td>-0.388248</td>\n",
       "      <td>0.230721</td>\n",
       "      <td>0.123982</td>\n",
       "      <td>0.352288</td>\n",
       "      <td>0.235094</td>\n",
       "      <td>0.618576</td>\n",
       "      <td>0.124270</td>\n",
       "      <td>-0.579904</td>\n",
       "    </tr>\n",
       "  </tbody>\n",
       "</table>\n",
       "</div>"
      ],
      "text/plain": [
       "        age RevolvingUtilizationOfUnsecuredLines DebtRatio MonthlyIncome  \\\n",
       "0 -0.351728                             2.205803  0.036442     -0.223941   \n",
       "1  1.011126                             0.667595  0.036442     -0.223941   \n",
       "2 -0.351728                            -2.037194 -0.388248     -0.223941   \n",
       "3  1.011126                             2.205803 -0.388248     -0.223941   \n",
       "4 -0.351728                            -0.946812 -0.388248      0.230721   \n",
       "\n",
       "  NumberOfOpenCreditLinesAndLoans NumberOfTime30-59DaysPastDueNotWorse  \\\n",
       "0                       -0.055266                             0.352288   \n",
       "1                       -0.055266                             0.352288   \n",
       "2                       -0.055266                            -0.874043   \n",
       "3                        0.123982                             0.352288   \n",
       "4                        0.123982                             0.352288   \n",
       "\n",
       "  NumberOfTimes90DaysLate NumberRealEstateLoansOrLines  \\\n",
       "0                0.235094                    -0.394295   \n",
       "1                0.235094                    -0.394295   \n",
       "2               -1.870583                    -0.394295   \n",
       "3                0.235094                     0.618576   \n",
       "4                0.235094                     0.618576   \n",
       "\n",
       "  NumberOfTime60-89DaysPastDueNotWorse NumberOfDependents  \n",
       "0                             0.124270           0.628652  \n",
       "1                             0.124270           0.628652  \n",
       "2                            -1.779355          -0.410926  \n",
       "3                             0.124270           0.628652  \n",
       "4                             0.124270          -0.579904  "
      ]
     },
     "execution_count": 82,
     "metadata": {},
     "output_type": "execute_result"
    }
   ],
   "source": [
    "X.head()"
   ]
  },
  {
   "cell_type": "code",
   "execution_count": 83,
   "metadata": {},
   "outputs": [
    {
     "data": {
      "image/png": "[encoded data removed]",
      "text/plain": [
       "<Figure size 432x288 with 1 Axes>"
      ]
     },
     "metadata": {},
     "output_type": "display_data"
    },
    {
     "name": "stderr",
     "output_type": "stream",
     "text": [
      "C:\\ProgramData\\Anaconda3\\lib\\site-packages\\sklearn\\svm\\_base.py:977: ConvergenceWarning: Liblinear failed to converge, increase the number of iterations.\n",
      "  \"the number of iterations.\", ConvergenceWarning)\n",
      "C:\\ProgramData\\Anaconda3\\lib\\site-packages\\sklearn\\svm\\_base.py:977: ConvergenceWarning: Liblinear failed to converge, increase the number of iterations.\n",
      "  \"the number of iterations.\", ConvergenceWarning)\n",
      "C:\\ProgramData\\Anaconda3\\lib\\site-packages\\sklearn\\svm\\_base.py:977: ConvergenceWarning: Liblinear failed to converge, increase the number of iterations.\n",
      "  \"the number of iterations.\", ConvergenceWarning)\n",
      "C:\\ProgramData\\Anaconda3\\lib\\site-packages\\sklearn\\svm\\_base.py:977: ConvergenceWarning: Liblinear failed to converge, increase the number of iterations.\n",
      "  \"the number of iterations.\", ConvergenceWarning)\n",
      "C:\\ProgramData\\Anaconda3\\lib\\site-packages\\sklearn\\svm\\_base.py:977: ConvergenceWarning: Liblinear failed to converge, increase the number of iterations.\n",
      "  \"the number of iterations.\", ConvergenceWarning)\n"
     ]
    },
    {
     "data": {
      "image/png": "[encoded data removed]",
      "text/plain": [
       "<Figure size 432x288 with 1 Axes>"
      ]
     },
     "metadata": {},
     "output_type": "display_data"
    }
   ],
   "source": [
    "c_1 = np.linspace(0.01,1,20)\n",
    "c_2 = np.linspace(0.01,0.2,20)\n",
    "\n",
    "score = []\n",
    "for i in c_2: \n",
    "    lr = LR(solver='liblinear',C=i).fit(X,y)\n",
    "    score.append(lr.score(vali_X,vali_y))\n",
    "plt.figure()\n",
    "plt.plot(c_1,score)\n",
    "plt.show()\n",
    "\n",
    "lr.n_iter_\n",
    "\n",
    "score = []\n",
    "for i in [1,2,3,4,5,6]: \n",
    "    lr = LR(solver='liblinear',C=0.025,max_iter=i).fit(X,y)\n",
    "    score.append(lr.score(vali_X,vali_y))\n",
    "plt.figure()\n",
    "plt.plot([1,2,3,4,5,6],score)\n",
    "plt.show()"
   ]
  },
  {
   "cell_type": "code",
   "execution_count": 84,
   "metadata": {},
   "outputs": [
    {
     "data": {
      "text/plain": [
       "<matplotlib.axes._subplots.AxesSubplot at 0x1ec0e5dd240>"
      ]
     },
     "execution_count": 84,
     "metadata": {},
     "output_type": "execute_result"
    },
    {
     "data": {
      "image/png": "[encoded data removed]",
      "text/plain": [
       "<Figure size 432x432 with 1 Axes>"
      ]
     },
     "metadata": {},
     "output_type": "display_data"
    }
   ],
   "source": [
    "import scikitplot as skplt\n",
    "\n",
    "vali_proba_df = pd.DataFrame(lr.predict_proba(vali_X))\n",
    "\n",
    "skplt.metrics.plot_roc(vali_y, vali_proba_df,\n",
    "                        plot_micro=False,figsize=(6,6),\n",
    "                        plot_macro=False)"
   ]
  },
  {
   "cell_type": "markdown",
   "metadata": {},
   "source": [
    "现在的问题是这样子的,我电脑上有2个python，然后还有2个虚拟环境，我现在pip是在往annoconda的里面装，但是我在用房的环境并没有装，还得手动去复制过来，佛了\n"
   ]
  },
  {
   "cell_type": "markdown",
   "metadata": {},
   "source": [
    "# 5. 评分卡制作"
   ]
  },
  {
   "cell_type": "code",
   "execution_count": 85,
   "metadata": {},
   "outputs": [],
   "source": [
    "\"\"\"600 =x1 - x2*np.log(1/60)\n",
    "620 = x1 - x2*np.log(1/30)\n",
    "x1,x2\"\"\"\n",
    "#求解\n",
    "x = np.array([[1,-np.log(1/60)],[1,-np.log(1/30)]])\n",
    "b = np.array([600,620])\n",
    "A,B = np.linalg.solve(x,b)"
   ]
  },
  {
   "cell_type": "markdown",
   "metadata": {},
   "source": [
    "有了x1和x2，分数就很容易得到了。其中不受评分卡中各特征影响的基础分，就是将截距作为 log(odds)带入公式进行计算，而其他各个特征各个分档的分数，也是将系数带入进行计算："
   ]
  },
  {
   "cell_type": "code",
   "execution_count": 86,
   "metadata": {},
   "outputs": [
    {
     "data": {
      "text/plain": [
       "array([718.04159525])"
      ]
     },
     "execution_count": 86,
     "metadata": {},
     "output_type": "execute_result"
    }
   ],
   "source": [
    "base_score = A - B*lr.intercept_\n",
    "base_score"
   ]
  },
  {
   "cell_type": "code",
   "execution_count": 87,
   "metadata": {},
   "outputs": [
    {
     "data": {
      "text/plain": [
       "cut\n",
       "(-inf, 54.0]     7.613415\n",
       "(54.0, 61.0]    -5.303101\n",
       "(61.0, 74.0]   -21.886537\n",
       "(74.0, inf]    -37.091973\n",
       "dtype: float64"
      ]
     },
     "execution_count": 87,
     "metadata": {},
     "output_type": "execute_result"
    }
   ],
   "source": [
    "score_age = woeall['age'] * (-B * lr.coef_[0][1])\n",
    "score_age"
   ]
  },
  {
   "cell_type": "markdown",
   "metadata": {},
   "source": [
    "我们可以通过循环，将所有特征的评分卡内容全部一次性写往一个本地文件ScoreData.csv："
   ]
  },
  {
   "cell_type": "code",
   "execution_count": 88,
   "metadata": {},
   "outputs": [],
   "source": [
    "file = \"./ScoreData.csv \"\n",
    "\n",
    "with open(file,\"w\") as fdata:\n",
    "    fdata.write(\"base_score,{}\\n\".format(base_score))\n",
    "for i,col in enumerate(X.columns):\n",
    "    score = woeall[col] * (-B*lr.coef_[0][i])\n",
    "    score.name = \"Score\"\n",
    "    score.index.name = col\n",
    "    score.to_csv(file,header=True,mode=\"w\")"
   ]
  },
  {
   "cell_type": "markdown",
   "metadata": {},
   "source": [
    "# 6.模型的再分析"
   ]
  },
  {
   "cell_type": "code",
   "execution_count": 102,
   "metadata": {},
   "outputs": [
    {
     "data": {
      "text/html": [
       "<div>\n",
       "<style scoped>\n",
       "    .dataframe tbody tr th:only-of-type {\n",
       "        vertical-align: middle;\n",
       "    }\n",
       "\n",
       "    .dataframe tbody tr th {\n",
       "        vertical-align: top;\n",
       "    }\n",
       "\n",
       "    .dataframe thead th {\n",
       "        text-align: right;\n",
       "    }\n",
       "</style>\n",
       "<table border=\"1\" class=\"dataframe\">\n",
       "  <thead>\n",
       "    <tr style=\"text-align: right;\">\n",
       "      <th></th>\n",
       "      <th>age</th>\n",
       "      <th>RevolvingUtilizationOfUnsecuredLines</th>\n",
       "      <th>DebtRatio</th>\n",
       "      <th>MonthlyIncome</th>\n",
       "      <th>NumberOfOpenCreditLinesAndLoans</th>\n",
       "      <th>NumberOfTime30-59DaysPastDueNotWorse</th>\n",
       "      <th>NumberOfTimes90DaysLate</th>\n",
       "      <th>NumberRealEstateLoansOrLines</th>\n",
       "      <th>NumberOfTime60-89DaysPastDueNotWorse</th>\n",
       "      <th>NumberOfDependents</th>\n",
       "    </tr>\n",
       "  </thead>\n",
       "  <tbody>\n",
       "    <tr>\n",
       "      <th>0</th>\n",
       "      <td>-0.351728</td>\n",
       "      <td>2.205803</td>\n",
       "      <td>0.036442</td>\n",
       "      <td>-0.223941</td>\n",
       "      <td>-0.055266</td>\n",
       "      <td>0.352288</td>\n",
       "      <td>0.235094</td>\n",
       "      <td>-0.394295</td>\n",
       "      <td>0.124270</td>\n",
       "      <td>0.628652</td>\n",
       "    </tr>\n",
       "    <tr>\n",
       "      <th>1</th>\n",
       "      <td>1.011126</td>\n",
       "      <td>0.667595</td>\n",
       "      <td>0.036442</td>\n",
       "      <td>-0.223941</td>\n",
       "      <td>-0.055266</td>\n",
       "      <td>0.352288</td>\n",
       "      <td>0.235094</td>\n",
       "      <td>-0.394295</td>\n",
       "      <td>0.124270</td>\n",
       "      <td>0.628652</td>\n",
       "    </tr>\n",
       "    <tr>\n",
       "      <th>2</th>\n",
       "      <td>-0.351728</td>\n",
       "      <td>-2.037194</td>\n",
       "      <td>-0.388248</td>\n",
       "      <td>-0.223941</td>\n",
       "      <td>-0.055266</td>\n",
       "      <td>-0.874043</td>\n",
       "      <td>-1.870583</td>\n",
       "      <td>-0.394295</td>\n",
       "      <td>-1.779355</td>\n",
       "      <td>-0.410926</td>\n",
       "    </tr>\n",
       "    <tr>\n",
       "      <th>3</th>\n",
       "      <td>1.011126</td>\n",
       "      <td>2.205803</td>\n",
       "      <td>-0.388248</td>\n",
       "      <td>-0.223941</td>\n",
       "      <td>0.123982</td>\n",
       "      <td>0.352288</td>\n",
       "      <td>0.235094</td>\n",
       "      <td>0.618576</td>\n",
       "      <td>0.124270</td>\n",
       "      <td>0.628652</td>\n",
       "    </tr>\n",
       "    <tr>\n",
       "      <th>4</th>\n",
       "      <td>-0.351728</td>\n",
       "      <td>-0.946812</td>\n",
       "      <td>-0.388248</td>\n",
       "      <td>0.230721</td>\n",
       "      <td>0.123982</td>\n",
       "      <td>0.352288</td>\n",
       "      <td>0.235094</td>\n",
       "      <td>0.618576</td>\n",
       "      <td>0.124270</td>\n",
       "      <td>-0.579904</td>\n",
       "    </tr>\n",
       "    <tr>\n",
       "      <th>5</th>\n",
       "      <td>-0.351728</td>\n",
       "      <td>-0.124694</td>\n",
       "      <td>0.036442</td>\n",
       "      <td>0.230721</td>\n",
       "      <td>0.123982</td>\n",
       "      <td>0.352288</td>\n",
       "      <td>0.235094</td>\n",
       "      <td>0.195672</td>\n",
       "      <td>0.124270</td>\n",
       "      <td>-0.531313</td>\n",
       "    </tr>\n",
       "    <tr>\n",
       "      <th>6</th>\n",
       "      <td>-0.351728</td>\n",
       "      <td>-0.946812</td>\n",
       "      <td>-0.388248</td>\n",
       "      <td>0.230721</td>\n",
       "      <td>-0.055266</td>\n",
       "      <td>-0.874043</td>\n",
       "      <td>-2.403095</td>\n",
       "      <td>0.195672</td>\n",
       "      <td>0.124270</td>\n",
       "      <td>-0.410926</td>\n",
       "    </tr>\n",
       "    <tr>\n",
       "      <th>7</th>\n",
       "      <td>-0.351728</td>\n",
       "      <td>-0.946812</td>\n",
       "      <td>0.176023</td>\n",
       "      <td>-0.223941</td>\n",
       "      <td>-0.841488</td>\n",
       "      <td>0.352288</td>\n",
       "      <td>0.235094</td>\n",
       "      <td>-0.394295</td>\n",
       "      <td>0.124270</td>\n",
       "      <td>0.628652</td>\n",
       "    </tr>\n",
       "    <tr>\n",
       "      <th>8</th>\n",
       "      <td>-0.351728</td>\n",
       "      <td>-0.946812</td>\n",
       "      <td>0.036442</td>\n",
       "      <td>-0.223941</td>\n",
       "      <td>-0.333352</td>\n",
       "      <td>0.352288</td>\n",
       "      <td>0.235094</td>\n",
       "      <td>-0.394295</td>\n",
       "      <td>0.124270</td>\n",
       "      <td>-0.531313</td>\n",
       "    </tr>\n",
       "    <tr>\n",
       "      <th>9</th>\n",
       "      <td>-0.351728</td>\n",
       "      <td>0.667595</td>\n",
       "      <td>0.036442</td>\n",
       "      <td>-0.223941</td>\n",
       "      <td>0.123982</td>\n",
       "      <td>0.352288</td>\n",
       "      <td>0.235094</td>\n",
       "      <td>-0.394295</td>\n",
       "      <td>0.124270</td>\n",
       "      <td>0.628652</td>\n",
       "    </tr>\n",
       "    <tr>\n",
       "      <th>10</th>\n",
       "      <td>1.011126</td>\n",
       "      <td>0.667595</td>\n",
       "      <td>-0.388248</td>\n",
       "      <td>-0.223941</td>\n",
       "      <td>0.123982</td>\n",
       "      <td>0.352288</td>\n",
       "      <td>0.235094</td>\n",
       "      <td>0.195672</td>\n",
       "      <td>0.124270</td>\n",
       "      <td>0.628652</td>\n",
       "    </tr>\n",
       "    <tr>\n",
       "      <th>11</th>\n",
       "      <td>-0.351728</td>\n",
       "      <td>0.667595</td>\n",
       "      <td>0.036442</td>\n",
       "      <td>-0.223941</td>\n",
       "      <td>-0.055266</td>\n",
       "      <td>0.352288</td>\n",
       "      <td>0.235094</td>\n",
       "      <td>-0.394295</td>\n",
       "      <td>0.124270</td>\n",
       "      <td>0.628652</td>\n",
       "    </tr>\n",
       "    <tr>\n",
       "      <th>12</th>\n",
       "      <td>-0.351728</td>\n",
       "      <td>0.667595</td>\n",
       "      <td>0.036442</td>\n",
       "      <td>-0.223941</td>\n",
       "      <td>0.123982</td>\n",
       "      <td>0.352288</td>\n",
       "      <td>0.235094</td>\n",
       "      <td>-0.394295</td>\n",
       "      <td>0.124270</td>\n",
       "      <td>0.628652</td>\n",
       "    </tr>\n",
       "    <tr>\n",
       "      <th>13</th>\n",
       "      <td>1.713594</td>\n",
       "      <td>-2.037194</td>\n",
       "      <td>0.176023</td>\n",
       "      <td>-0.223941</td>\n",
       "      <td>-0.333352</td>\n",
       "      <td>0.352288</td>\n",
       "      <td>0.235094</td>\n",
       "      <td>0.195672</td>\n",
       "      <td>0.124270</td>\n",
       "      <td>0.628652</td>\n",
       "    </tr>\n",
       "    <tr>\n",
       "      <th>14</th>\n",
       "      <td>-0.351728</td>\n",
       "      <td>-2.037194</td>\n",
       "      <td>0.036442</td>\n",
       "      <td>-0.223941</td>\n",
       "      <td>-0.333352</td>\n",
       "      <td>0.352288</td>\n",
       "      <td>-1.870583</td>\n",
       "      <td>-0.394295</td>\n",
       "      <td>0.124270</td>\n",
       "      <td>-0.579904</td>\n",
       "    </tr>\n",
       "  </tbody>\n",
       "</table>\n",
       "</div>"
      ],
      "text/plain": [
       "         age RevolvingUtilizationOfUnsecuredLines DebtRatio MonthlyIncome  \\\n",
       "0  -0.351728                             2.205803  0.036442     -0.223941   \n",
       "1   1.011126                             0.667595  0.036442     -0.223941   \n",
       "2  -0.351728                            -2.037194 -0.388248     -0.223941   \n",
       "3   1.011126                             2.205803 -0.388248     -0.223941   \n",
       "4  -0.351728                            -0.946812 -0.388248      0.230721   \n",
       "5  -0.351728                            -0.124694  0.036442      0.230721   \n",
       "6  -0.351728                            -0.946812 -0.388248      0.230721   \n",
       "7  -0.351728                            -0.946812  0.176023     -0.223941   \n",
       "8  -0.351728                            -0.946812  0.036442     -0.223941   \n",
       "9  -0.351728                             0.667595  0.036442     -0.223941   \n",
       "10  1.011126                             0.667595 -0.388248     -0.223941   \n",
       "11 -0.351728                             0.667595  0.036442     -0.223941   \n",
       "12 -0.351728                             0.667595  0.036442     -0.223941   \n",
       "13  1.713594                            -2.037194  0.176023     -0.223941   \n",
       "14 -0.351728                            -2.037194  0.036442     -0.223941   \n",
       "\n",
       "   NumberOfOpenCreditLinesAndLoans NumberOfTime30-59DaysPastDueNotWorse  \\\n",
       "0                        -0.055266                             0.352288   \n",
       "1                        -0.055266                             0.352288   \n",
       "2                        -0.055266                            -0.874043   \n",
       "3                         0.123982                             0.352288   \n",
       "4                         0.123982                             0.352288   \n",
       "5                         0.123982                             0.352288   \n",
       "6                        -0.055266                            -0.874043   \n",
       "7                        -0.841488                             0.352288   \n",
       "8                        -0.333352                             0.352288   \n",
       "9                         0.123982                             0.352288   \n",
       "10                        0.123982                             0.352288   \n",
       "11                       -0.055266                             0.352288   \n",
       "12                        0.123982                             0.352288   \n",
       "13                       -0.333352                             0.352288   \n",
       "14                       -0.333352                             0.352288   \n",
       "\n",
       "   NumberOfTimes90DaysLate NumberRealEstateLoansOrLines  \\\n",
       "0                 0.235094                    -0.394295   \n",
       "1                 0.235094                    -0.394295   \n",
       "2                -1.870583                    -0.394295   \n",
       "3                 0.235094                     0.618576   \n",
       "4                 0.235094                     0.618576   \n",
       "5                 0.235094                     0.195672   \n",
       "6                -2.403095                     0.195672   \n",
       "7                 0.235094                    -0.394295   \n",
       "8                 0.235094                    -0.394295   \n",
       "9                 0.235094                    -0.394295   \n",
       "10                0.235094                     0.195672   \n",
       "11                0.235094                    -0.394295   \n",
       "12                0.235094                    -0.394295   \n",
       "13                0.235094                     0.195672   \n",
       "14               -1.870583                    -0.394295   \n",
       "\n",
       "   NumberOfTime60-89DaysPastDueNotWorse NumberOfDependents  \n",
       "0                              0.124270           0.628652  \n",
       "1                              0.124270           0.628652  \n",
       "2                             -1.779355          -0.410926  \n",
       "3                              0.124270           0.628652  \n",
       "4                              0.124270          -0.579904  \n",
       "5                              0.124270          -0.531313  \n",
       "6                              0.124270          -0.410926  \n",
       "7                              0.124270           0.628652  \n",
       "8                              0.124270          -0.531313  \n",
       "9                              0.124270           0.628652  \n",
       "10                             0.124270           0.628652  \n",
       "11                             0.124270           0.628652  \n",
       "12                             0.124270           0.628652  \n",
       "13                             0.124270           0.628652  \n",
       "14                             0.124270          -0.579904  "
      ]
     },
     "execution_count": 102,
     "metadata": {},
     "output_type": "execute_result"
    }
   ],
   "source": [
    "X.head(15)"
   ]
  },
  {
   "cell_type": "code",
   "execution_count": 90,
   "metadata": {},
   "outputs": [
    {
     "data": {
      "text/html": [
       "<div>\n",
       "<style scoped>\n",
       "    .dataframe tbody tr th:only-of-type {\n",
       "        vertical-align: middle;\n",
       "    }\n",
       "\n",
       "    .dataframe tbody tr th {\n",
       "        vertical-align: top;\n",
       "    }\n",
       "\n",
       "    .dataframe thead th {\n",
       "        text-align: right;\n",
       "    }\n",
       "</style>\n",
       "<table border=\"1\" class=\"dataframe\">\n",
       "  <thead>\n",
       "    <tr style=\"text-align: right;\">\n",
       "      <th></th>\n",
       "      <th>age</th>\n",
       "      <th>RevolvingUtilizationOfUnsecuredLines</th>\n",
       "      <th>DebtRatio</th>\n",
       "      <th>MonthlyIncome</th>\n",
       "      <th>NumberOfOpenCreditLinesAndLoans</th>\n",
       "      <th>NumberOfTime30-59DaysPastDueNotWorse</th>\n",
       "      <th>NumberOfTimes90DaysLate</th>\n",
       "      <th>NumberRealEstateLoansOrLines</th>\n",
       "      <th>NumberOfTime60-89DaysPastDueNotWorse</th>\n",
       "      <th>NumberOfDependents</th>\n",
       "    </tr>\n",
       "  </thead>\n",
       "  <tbody>\n",
       "    <tr>\n",
       "      <th>0</th>\n",
       "      <td>0.244995</td>\n",
       "      <td>2.205803</td>\n",
       "      <td>1.504321</td>\n",
       "      <td>-0.223941</td>\n",
       "      <td>-0.055266</td>\n",
       "      <td>0.352288</td>\n",
       "      <td>0.235094</td>\n",
       "      <td>-0.394295</td>\n",
       "      <td>0.12427</td>\n",
       "      <td>0.628652</td>\n",
       "    </tr>\n",
       "    <tr>\n",
       "      <th>1</th>\n",
       "      <td>-0.351728</td>\n",
       "      <td>-0.946812</td>\n",
       "      <td>0.036442</td>\n",
       "      <td>0.230721</td>\n",
       "      <td>0.123982</td>\n",
       "      <td>0.352288</td>\n",
       "      <td>0.235094</td>\n",
       "      <td>0.618576</td>\n",
       "      <td>0.12427</td>\n",
       "      <td>-0.505863</td>\n",
       "    </tr>\n",
       "    <tr>\n",
       "      <th>2</th>\n",
       "      <td>1.011126</td>\n",
       "      <td>2.205803</td>\n",
       "      <td>0.036442</td>\n",
       "      <td>0.230721</td>\n",
       "      <td>-0.055266</td>\n",
       "      <td>0.352288</td>\n",
       "      <td>0.235094</td>\n",
       "      <td>-0.394295</td>\n",
       "      <td>0.12427</td>\n",
       "      <td>0.628652</td>\n",
       "    </tr>\n",
       "    <tr>\n",
       "      <th>3</th>\n",
       "      <td>-0.351728</td>\n",
       "      <td>2.205803</td>\n",
       "      <td>0.036442</td>\n",
       "      <td>-0.223941</td>\n",
       "      <td>0.123982</td>\n",
       "      <td>0.352288</td>\n",
       "      <td>0.235094</td>\n",
       "      <td>0.195672</td>\n",
       "      <td>0.12427</td>\n",
       "      <td>0.628652</td>\n",
       "    </tr>\n",
       "    <tr>\n",
       "      <th>4</th>\n",
       "      <td>-0.351728</td>\n",
       "      <td>-0.946812</td>\n",
       "      <td>0.036442</td>\n",
       "      <td>-0.223941</td>\n",
       "      <td>0.123982</td>\n",
       "      <td>0.352288</td>\n",
       "      <td>0.235094</td>\n",
       "      <td>-0.394295</td>\n",
       "      <td>0.12427</td>\n",
       "      <td>-0.579904</td>\n",
       "    </tr>\n",
       "    <tr>\n",
       "      <th>5</th>\n",
       "      <td>-0.351728</td>\n",
       "      <td>-0.946812</td>\n",
       "      <td>0.036442</td>\n",
       "      <td>-0.223941</td>\n",
       "      <td>0.123982</td>\n",
       "      <td>0.352288</td>\n",
       "      <td>0.235094</td>\n",
       "      <td>-0.394295</td>\n",
       "      <td>0.12427</td>\n",
       "      <td>-0.579904</td>\n",
       "    </tr>\n",
       "    <tr>\n",
       "      <th>6</th>\n",
       "      <td>-0.351728</td>\n",
       "      <td>2.205803</td>\n",
       "      <td>0.176023</td>\n",
       "      <td>-0.223941</td>\n",
       "      <td>0.123982</td>\n",
       "      <td>0.352288</td>\n",
       "      <td>0.235094</td>\n",
       "      <td>0.195672</td>\n",
       "      <td>0.12427</td>\n",
       "      <td>0.628652</td>\n",
       "    </tr>\n",
       "    <tr>\n",
       "      <th>7</th>\n",
       "      <td>-0.351728</td>\n",
       "      <td>-0.946812</td>\n",
       "      <td>-0.388248</td>\n",
       "      <td>-0.223941</td>\n",
       "      <td>-0.055266</td>\n",
       "      <td>-0.874043</td>\n",
       "      <td>-1.870583</td>\n",
       "      <td>0.195672</td>\n",
       "      <td>0.12427</td>\n",
       "      <td>-0.505863</td>\n",
       "    </tr>\n",
       "    <tr>\n",
       "      <th>8</th>\n",
       "      <td>-0.351728</td>\n",
       "      <td>-0.946812</td>\n",
       "      <td>0.036442</td>\n",
       "      <td>-0.223941</td>\n",
       "      <td>-0.055266</td>\n",
       "      <td>0.352288</td>\n",
       "      <td>0.235094</td>\n",
       "      <td>-0.394295</td>\n",
       "      <td>0.12427</td>\n",
       "      <td>-0.579904</td>\n",
       "    </tr>\n",
       "    <tr>\n",
       "      <th>9</th>\n",
       "      <td>0.244995</td>\n",
       "      <td>2.205803</td>\n",
       "      <td>0.036442</td>\n",
       "      <td>-0.223941</td>\n",
       "      <td>0.123982</td>\n",
       "      <td>0.352288</td>\n",
       "      <td>0.235094</td>\n",
       "      <td>0.195672</td>\n",
       "      <td>0.12427</td>\n",
       "      <td>-0.579904</td>\n",
       "    </tr>\n",
       "    <tr>\n",
       "      <th>10</th>\n",
       "      <td>-0.351728</td>\n",
       "      <td>0.667595</td>\n",
       "      <td>0.036442</td>\n",
       "      <td>0.230721</td>\n",
       "      <td>0.123982</td>\n",
       "      <td>-0.874043</td>\n",
       "      <td>0.235094</td>\n",
       "      <td>0.618576</td>\n",
       "      <td>0.12427</td>\n",
       "      <td>-0.531313</td>\n",
       "    </tr>\n",
       "    <tr>\n",
       "      <th>11</th>\n",
       "      <td>1.011126</td>\n",
       "      <td>-0.124694</td>\n",
       "      <td>0.036442</td>\n",
       "      <td>-0.223941</td>\n",
       "      <td>0.123982</td>\n",
       "      <td>0.352288</td>\n",
       "      <td>0.235094</td>\n",
       "      <td>0.195672</td>\n",
       "      <td>0.12427</td>\n",
       "      <td>0.628652</td>\n",
       "    </tr>\n",
       "    <tr>\n",
       "      <th>12</th>\n",
       "      <td>-0.351728</td>\n",
       "      <td>0.667595</td>\n",
       "      <td>-0.388248</td>\n",
       "      <td>0.230721</td>\n",
       "      <td>0.123982</td>\n",
       "      <td>0.352288</td>\n",
       "      <td>0.235094</td>\n",
       "      <td>0.195672</td>\n",
       "      <td>0.12427</td>\n",
       "      <td>-0.531313</td>\n",
       "    </tr>\n",
       "    <tr>\n",
       "      <th>13</th>\n",
       "      <td>1.011126</td>\n",
       "      <td>-0.124694</td>\n",
       "      <td>0.036442</td>\n",
       "      <td>-0.223941</td>\n",
       "      <td>0.123982</td>\n",
       "      <td>0.352288</td>\n",
       "      <td>0.235094</td>\n",
       "      <td>0.195672</td>\n",
       "      <td>0.12427</td>\n",
       "      <td>-0.579904</td>\n",
       "    </tr>\n",
       "    <tr>\n",
       "      <th>14</th>\n",
       "      <td>-0.351728</td>\n",
       "      <td>-0.946812</td>\n",
       "      <td>-0.388248</td>\n",
       "      <td>0.230721</td>\n",
       "      <td>0.123982</td>\n",
       "      <td>-1.538523</td>\n",
       "      <td>0.235094</td>\n",
       "      <td>0.195672</td>\n",
       "      <td>0.12427</td>\n",
       "      <td>-0.579904</td>\n",
       "    </tr>\n",
       "  </tbody>\n",
       "</table>\n",
       "</div>"
      ],
      "text/plain": [
       "         age  RevolvingUtilizationOfUnsecuredLines  DebtRatio  MonthlyIncome  \\\n",
       "0   0.244995                              2.205803   1.504321      -0.223941   \n",
       "1  -0.351728                             -0.946812   0.036442       0.230721   \n",
       "2   1.011126                              2.205803   0.036442       0.230721   \n",
       "3  -0.351728                              2.205803   0.036442      -0.223941   \n",
       "4  -0.351728                             -0.946812   0.036442      -0.223941   \n",
       "5  -0.351728                             -0.946812   0.036442      -0.223941   \n",
       "6  -0.351728                              2.205803   0.176023      -0.223941   \n",
       "7  -0.351728                             -0.946812  -0.388248      -0.223941   \n",
       "8  -0.351728                             -0.946812   0.036442      -0.223941   \n",
       "9   0.244995                              2.205803   0.036442      -0.223941   \n",
       "10 -0.351728                              0.667595   0.036442       0.230721   \n",
       "11  1.011126                             -0.124694   0.036442      -0.223941   \n",
       "12 -0.351728                              0.667595  -0.388248       0.230721   \n",
       "13  1.011126                             -0.124694   0.036442      -0.223941   \n",
       "14 -0.351728                             -0.946812  -0.388248       0.230721   \n",
       "\n",
       "    NumberOfOpenCreditLinesAndLoans  NumberOfTime30-59DaysPastDueNotWorse  \\\n",
       "0                         -0.055266                              0.352288   \n",
       "1                          0.123982                              0.352288   \n",
       "2                         -0.055266                              0.352288   \n",
       "3                          0.123982                              0.352288   \n",
       "4                          0.123982                              0.352288   \n",
       "5                          0.123982                              0.352288   \n",
       "6                          0.123982                              0.352288   \n",
       "7                         -0.055266                             -0.874043   \n",
       "8                         -0.055266                              0.352288   \n",
       "9                          0.123982                              0.352288   \n",
       "10                         0.123982                             -0.874043   \n",
       "11                         0.123982                              0.352288   \n",
       "12                         0.123982                              0.352288   \n",
       "13                         0.123982                              0.352288   \n",
       "14                         0.123982                             -1.538523   \n",
       "\n",
       "    NumberOfTimes90DaysLate  NumberRealEstateLoansOrLines  \\\n",
       "0                  0.235094                     -0.394295   \n",
       "1                  0.235094                      0.618576   \n",
       "2                  0.235094                     -0.394295   \n",
       "3                  0.235094                      0.195672   \n",
       "4                  0.235094                     -0.394295   \n",
       "5                  0.235094                     -0.394295   \n",
       "6                  0.235094                      0.195672   \n",
       "7                 -1.870583                      0.195672   \n",
       "8                  0.235094                     -0.394295   \n",
       "9                  0.235094                      0.195672   \n",
       "10                 0.235094                      0.618576   \n",
       "11                 0.235094                      0.195672   \n",
       "12                 0.235094                      0.195672   \n",
       "13                 0.235094                      0.195672   \n",
       "14                 0.235094                      0.195672   \n",
       "\n",
       "    NumberOfTime60-89DaysPastDueNotWorse  NumberOfDependents  \n",
       "0                                0.12427            0.628652  \n",
       "1                                0.12427           -0.505863  \n",
       "2                                0.12427            0.628652  \n",
       "3                                0.12427            0.628652  \n",
       "4                                0.12427           -0.579904  \n",
       "5                                0.12427           -0.579904  \n",
       "6                                0.12427            0.628652  \n",
       "7                                0.12427           -0.505863  \n",
       "8                                0.12427           -0.579904  \n",
       "9                                0.12427           -0.579904  \n",
       "10                               0.12427           -0.531313  \n",
       "11                               0.12427            0.628652  \n",
       "12                               0.12427           -0.531313  \n",
       "13                               0.12427           -0.579904  \n",
       "14                               0.12427           -0.579904  "
      ]
     },
     "execution_count": 90,
     "metadata": {},
     "output_type": "execute_result"
    }
   ],
   "source": [
    "vali_X.head(15)"
   ]
  },
  {
   "cell_type": "code",
   "execution_count": 91,
   "metadata": {},
   "outputs": [
    {
     "data": {
      "text/html": [
       "<div>\n",
       "<style scoped>\n",
       "    .dataframe tbody tr th:only-of-type {\n",
       "        vertical-align: middle;\n",
       "    }\n",
       "\n",
       "    .dataframe tbody tr th {\n",
       "        vertical-align: top;\n",
       "    }\n",
       "\n",
       "    .dataframe thead th {\n",
       "        text-align: right;\n",
       "    }\n",
       "</style>\n",
       "<table border=\"1\" class=\"dataframe\">\n",
       "  <thead>\n",
       "    <tr style=\"text-align: right;\">\n",
       "      <th></th>\n",
       "      <th>x1</th>\n",
       "      <th>x2</th>\n",
       "      <th>x3</th>\n",
       "      <th>x4</th>\n",
       "      <th>x5</th>\n",
       "      <th>x6</th>\n",
       "      <th>x7</th>\n",
       "      <th>x8</th>\n",
       "      <th>x9</th>\n",
       "      <th>x10</th>\n",
       "    </tr>\n",
       "  </thead>\n",
       "  <tbody>\n",
       "    <tr>\n",
       "      <th>0</th>\n",
       "      <td>-0.351728</td>\n",
       "      <td>2.205803</td>\n",
       "      <td>0.036442</td>\n",
       "      <td>-0.223941</td>\n",
       "      <td>-0.055266</td>\n",
       "      <td>0.352288</td>\n",
       "      <td>0.235094</td>\n",
       "      <td>-0.394295</td>\n",
       "      <td>0.124270</td>\n",
       "      <td>0.628652</td>\n",
       "    </tr>\n",
       "    <tr>\n",
       "      <th>1</th>\n",
       "      <td>1.011126</td>\n",
       "      <td>0.667595</td>\n",
       "      <td>0.036442</td>\n",
       "      <td>-0.223941</td>\n",
       "      <td>-0.055266</td>\n",
       "      <td>0.352288</td>\n",
       "      <td>0.235094</td>\n",
       "      <td>-0.394295</td>\n",
       "      <td>0.124270</td>\n",
       "      <td>0.628652</td>\n",
       "    </tr>\n",
       "    <tr>\n",
       "      <th>2</th>\n",
       "      <td>-0.351728</td>\n",
       "      <td>-2.037194</td>\n",
       "      <td>-0.388248</td>\n",
       "      <td>-0.223941</td>\n",
       "      <td>-0.055266</td>\n",
       "      <td>-0.874043</td>\n",
       "      <td>-1.870583</td>\n",
       "      <td>-0.394295</td>\n",
       "      <td>-1.779355</td>\n",
       "      <td>-0.410926</td>\n",
       "    </tr>\n",
       "    <tr>\n",
       "      <th>3</th>\n",
       "      <td>1.011126</td>\n",
       "      <td>2.205803</td>\n",
       "      <td>-0.388248</td>\n",
       "      <td>-0.223941</td>\n",
       "      <td>0.123982</td>\n",
       "      <td>0.352288</td>\n",
       "      <td>0.235094</td>\n",
       "      <td>0.618576</td>\n",
       "      <td>0.124270</td>\n",
       "      <td>0.628652</td>\n",
       "    </tr>\n",
       "    <tr>\n",
       "      <th>4</th>\n",
       "      <td>-0.351728</td>\n",
       "      <td>-0.946812</td>\n",
       "      <td>-0.388248</td>\n",
       "      <td>0.230721</td>\n",
       "      <td>0.123982</td>\n",
       "      <td>0.352288</td>\n",
       "      <td>0.235094</td>\n",
       "      <td>0.618576</td>\n",
       "      <td>0.124270</td>\n",
       "      <td>-0.579904</td>\n",
       "    </tr>\n",
       "  </tbody>\n",
       "</table>\n",
       "</div>"
      ],
      "text/plain": [
       "         x1        x2        x3        x4        x5        x6        x7  \\\n",
       "0 -0.351728  2.205803  0.036442 -0.223941 -0.055266  0.352288  0.235094   \n",
       "1  1.011126  0.667595  0.036442 -0.223941 -0.055266  0.352288  0.235094   \n",
       "2 -0.351728 -2.037194 -0.388248 -0.223941 -0.055266 -0.874043 -1.870583   \n",
       "3  1.011126  2.205803 -0.388248 -0.223941  0.123982  0.352288  0.235094   \n",
       "4 -0.351728 -0.946812 -0.388248  0.230721  0.123982  0.352288  0.235094   \n",
       "\n",
       "         x8        x9       x10  \n",
       "0 -0.394295  0.124270  0.628652  \n",
       "1 -0.394295  0.124270  0.628652  \n",
       "2 -0.394295 -1.779355 -0.410926  \n",
       "3  0.618576  0.124270  0.628652  \n",
       "4  0.618576  0.124270 -0.579904  "
      ]
     },
     "execution_count": 91,
     "metadata": {},
     "output_type": "execute_result"
    }
   ],
   "source": [
    "#相关系数矩阵\n",
    "#重命名列名\n",
    "col = ['x1','x2','x3','x4','x5','x6','x7','x8','x9','x10']\n",
    "len(col)\n",
    "xcp = X.copy()\n",
    "xcp.columns=col\n",
    "xcp.head()\n",
    "\n",
    "\n"
   ]
  },
  {
   "cell_type": "code",
   "execution_count": 103,
   "metadata": {
    "scrolled": true
   },
   "outputs": [
    {
     "data": {
      "text/html": [
       "<div>\n",
       "<style scoped>\n",
       "    .dataframe tbody tr th:only-of-type {\n",
       "        vertical-align: middle;\n",
       "    }\n",
       "\n",
       "    .dataframe tbody tr th {\n",
       "        vertical-align: top;\n",
       "    }\n",
       "\n",
       "    .dataframe thead th {\n",
       "        text-align: right;\n",
       "    }\n",
       "</style>\n",
       "<table border=\"1\" class=\"dataframe\">\n",
       "  <thead>\n",
       "    <tr style=\"text-align: right;\">\n",
       "      <th></th>\n",
       "      <th>age</th>\n",
       "      <th>RevolvingUtilizationOfUnsecuredLines</th>\n",
       "      <th>DebtRatio</th>\n",
       "      <th>MonthlyIncome</th>\n",
       "      <th>NumberOfOpenCreditLinesAndLoans</th>\n",
       "      <th>NumberOfTime30-59DaysPastDueNotWorse</th>\n",
       "      <th>NumberOfTimes90DaysLate</th>\n",
       "      <th>NumberRealEstateLoansOrLines</th>\n",
       "      <th>NumberOfTime60-89DaysPastDueNotWorse</th>\n",
       "      <th>NumberOfDependents</th>\n",
       "    </tr>\n",
       "  </thead>\n",
       "  <tbody>\n",
       "    <tr>\n",
       "      <th>age</th>\n",
       "      <td>1.000000</td>\n",
       "      <td>0.339796</td>\n",
       "      <td>0.174165</td>\n",
       "      <td>0.028938</td>\n",
       "      <td>0.105387</td>\n",
       "      <td>0.117950</td>\n",
       "      <td>0.118636</td>\n",
       "      <td>0.017068</td>\n",
       "      <td>0.082203</td>\n",
       "      <td>0.303774</td>\n",
       "    </tr>\n",
       "    <tr>\n",
       "      <th>RevolvingUtilizationOfUnsecuredLines</th>\n",
       "      <td>0.339796</td>\n",
       "      <td>1.000000</td>\n",
       "      <td>0.212612</td>\n",
       "      <td>0.133005</td>\n",
       "      <td>0.204156</td>\n",
       "      <td>0.282038</td>\n",
       "      <td>0.277569</td>\n",
       "      <td>0.166038</td>\n",
       "      <td>0.198520</td>\n",
       "      <td>0.215089</td>\n",
       "    </tr>\n",
       "    <tr>\n",
       "      <th>DebtRatio</th>\n",
       "      <td>0.174165</td>\n",
       "      <td>0.212612</td>\n",
       "      <td>1.000000</td>\n",
       "      <td>0.037992</td>\n",
       "      <td>-0.330917</td>\n",
       "      <td>0.139137</td>\n",
       "      <td>0.012554</td>\n",
       "      <td>-0.338561</td>\n",
       "      <td>0.056485</td>\n",
       "      <td>0.198446</td>\n",
       "    </tr>\n",
       "    <tr>\n",
       "      <th>MonthlyIncome</th>\n",
       "      <td>0.028938</td>\n",
       "      <td>0.133005</td>\n",
       "      <td>0.037992</td>\n",
       "      <td>1.000000</td>\n",
       "      <td>0.182580</td>\n",
       "      <td>0.031918</td>\n",
       "      <td>0.097043</td>\n",
       "      <td>0.263959</td>\n",
       "      <td>0.055272</td>\n",
       "      <td>0.010919</td>\n",
       "    </tr>\n",
       "    <tr>\n",
       "      <th>NumberOfOpenCreditLinesAndLoans</th>\n",
       "      <td>0.105387</td>\n",
       "      <td>0.204156</td>\n",
       "      <td>-0.330917</td>\n",
       "      <td>0.182580</td>\n",
       "      <td>1.000000</td>\n",
       "      <td>-0.101930</td>\n",
       "      <td>0.208321</td>\n",
       "      <td>0.419554</td>\n",
       "      <td>0.018637</td>\n",
       "      <td>-0.065163</td>\n",
       "    </tr>\n",
       "    <tr>\n",
       "      <th>NumberOfTime30-59DaysPastDueNotWorse</th>\n",
       "      <td>0.117950</td>\n",
       "      <td>0.282038</td>\n",
       "      <td>0.139137</td>\n",
       "      <td>0.031918</td>\n",
       "      <td>-0.101930</td>\n",
       "      <td>1.000000</td>\n",
       "      <td>0.214879</td>\n",
       "      <td>0.001623</td>\n",
       "      <td>0.256041</td>\n",
       "      <td>0.127226</td>\n",
       "    </tr>\n",
       "    <tr>\n",
       "      <th>NumberOfTimes90DaysLate</th>\n",
       "      <td>0.118636</td>\n",
       "      <td>0.277569</td>\n",
       "      <td>0.012554</td>\n",
       "      <td>0.097043</td>\n",
       "      <td>0.208321</td>\n",
       "      <td>0.214879</td>\n",
       "      <td>1.000000</td>\n",
       "      <td>0.159044</td>\n",
       "      <td>0.264102</td>\n",
       "      <td>0.077040</td>\n",
       "    </tr>\n",
       "    <tr>\n",
       "      <th>NumberRealEstateLoansOrLines</th>\n",
       "      <td>0.017068</td>\n",
       "      <td>0.166038</td>\n",
       "      <td>-0.338561</td>\n",
       "      <td>0.263959</td>\n",
       "      <td>0.419554</td>\n",
       "      <td>0.001623</td>\n",
       "      <td>0.159044</td>\n",
       "      <td>1.000000</td>\n",
       "      <td>0.054691</td>\n",
       "      <td>-0.072864</td>\n",
       "    </tr>\n",
       "    <tr>\n",
       "      <th>NumberOfTime60-89DaysPastDueNotWorse</th>\n",
       "      <td>0.082203</td>\n",
       "      <td>0.198520</td>\n",
       "      <td>0.056485</td>\n",
       "      <td>0.055272</td>\n",
       "      <td>0.018637</td>\n",
       "      <td>0.256041</td>\n",
       "      <td>0.264102</td>\n",
       "      <td>0.054691</td>\n",
       "      <td>1.000000</td>\n",
       "      <td>0.065283</td>\n",
       "    </tr>\n",
       "    <tr>\n",
       "      <th>NumberOfDependents</th>\n",
       "      <td>0.303774</td>\n",
       "      <td>0.215089</td>\n",
       "      <td>0.198446</td>\n",
       "      <td>0.010919</td>\n",
       "      <td>-0.065163</td>\n",
       "      <td>0.127226</td>\n",
       "      <td>0.077040</td>\n",
       "      <td>-0.072864</td>\n",
       "      <td>0.065283</td>\n",
       "      <td>1.000000</td>\n",
       "    </tr>\n",
       "  </tbody>\n",
       "</table>\n",
       "</div>"
      ],
      "text/plain": [
       "                                           age  \\\n",
       "age                                   1.000000   \n",
       "RevolvingUtilizationOfUnsecuredLines  0.339796   \n",
       "DebtRatio                             0.174165   \n",
       "MonthlyIncome                         0.028938   \n",
       "NumberOfOpenCreditLinesAndLoans       0.105387   \n",
       "NumberOfTime30-59DaysPastDueNotWorse  0.117950   \n",
       "NumberOfTimes90DaysLate               0.118636   \n",
       "NumberRealEstateLoansOrLines          0.017068   \n",
       "NumberOfTime60-89DaysPastDueNotWorse  0.082203   \n",
       "NumberOfDependents                    0.303774   \n",
       "\n",
       "                                      RevolvingUtilizationOfUnsecuredLines  \\\n",
       "age                                                               0.339796   \n",
       "RevolvingUtilizationOfUnsecuredLines                              1.000000   \n",
       "DebtRatio                                                         0.212612   \n",
       "MonthlyIncome                                                     0.133005   \n",
       "NumberOfOpenCreditLinesAndLoans                                   0.204156   \n",
       "NumberOfTime30-59DaysPastDueNotWorse                              0.282038   \n",
       "NumberOfTimes90DaysLate                                           0.277569   \n",
       "NumberRealEstateLoansOrLines                                      0.166038   \n",
       "NumberOfTime60-89DaysPastDueNotWorse                              0.198520   \n",
       "NumberOfDependents                                                0.215089   \n",
       "\n",
       "                                      DebtRatio  MonthlyIncome  \\\n",
       "age                                    0.174165       0.028938   \n",
       "RevolvingUtilizationOfUnsecuredLines   0.212612       0.133005   \n",
       "DebtRatio                              1.000000       0.037992   \n",
       "MonthlyIncome                          0.037992       1.000000   \n",
       "NumberOfOpenCreditLinesAndLoans       -0.330917       0.182580   \n",
       "NumberOfTime30-59DaysPastDueNotWorse   0.139137       0.031918   \n",
       "NumberOfTimes90DaysLate                0.012554       0.097043   \n",
       "NumberRealEstateLoansOrLines          -0.338561       0.263959   \n",
       "NumberOfTime60-89DaysPastDueNotWorse   0.056485       0.055272   \n",
       "NumberOfDependents                     0.198446       0.010919   \n",
       "\n",
       "                                      NumberOfOpenCreditLinesAndLoans  \\\n",
       "age                                                          0.105387   \n",
       "RevolvingUtilizationOfUnsecuredLines                         0.204156   \n",
       "DebtRatio                                                   -0.330917   \n",
       "MonthlyIncome                                                0.182580   \n",
       "NumberOfOpenCreditLinesAndLoans                              1.000000   \n",
       "NumberOfTime30-59DaysPastDueNotWorse                        -0.101930   \n",
       "NumberOfTimes90DaysLate                                      0.208321   \n",
       "NumberRealEstateLoansOrLines                                 0.419554   \n",
       "NumberOfTime60-89DaysPastDueNotWorse                         0.018637   \n",
       "NumberOfDependents                                          -0.065163   \n",
       "\n",
       "                                      NumberOfTime30-59DaysPastDueNotWorse  \\\n",
       "age                                                               0.117950   \n",
       "RevolvingUtilizationOfUnsecuredLines                              0.282038   \n",
       "DebtRatio                                                         0.139137   \n",
       "MonthlyIncome                                                     0.031918   \n",
       "NumberOfOpenCreditLinesAndLoans                                  -0.101930   \n",
       "NumberOfTime30-59DaysPastDueNotWorse                              1.000000   \n",
       "NumberOfTimes90DaysLate                                           0.214879   \n",
       "NumberRealEstateLoansOrLines                                      0.001623   \n",
       "NumberOfTime60-89DaysPastDueNotWorse                              0.256041   \n",
       "NumberOfDependents                                                0.127226   \n",
       "\n",
       "                                      NumberOfTimes90DaysLate  \\\n",
       "age                                                  0.118636   \n",
       "RevolvingUtilizationOfUnsecuredLines                 0.277569   \n",
       "DebtRatio                                            0.012554   \n",
       "MonthlyIncome                                        0.097043   \n",
       "NumberOfOpenCreditLinesAndLoans                      0.208321   \n",
       "NumberOfTime30-59DaysPastDueNotWorse                 0.214879   \n",
       "NumberOfTimes90DaysLate                              1.000000   \n",
       "NumberRealEstateLoansOrLines                         0.159044   \n",
       "NumberOfTime60-89DaysPastDueNotWorse                 0.264102   \n",
       "NumberOfDependents                                   0.077040   \n",
       "\n",
       "                                      NumberRealEstateLoansOrLines  \\\n",
       "age                                                       0.017068   \n",
       "RevolvingUtilizationOfUnsecuredLines                      0.166038   \n",
       "DebtRatio                                                -0.338561   \n",
       "MonthlyIncome                                             0.263959   \n",
       "NumberOfOpenCreditLinesAndLoans                           0.419554   \n",
       "NumberOfTime30-59DaysPastDueNotWorse                      0.001623   \n",
       "NumberOfTimes90DaysLate                                   0.159044   \n",
       "NumberRealEstateLoansOrLines                              1.000000   \n",
       "NumberOfTime60-89DaysPastDueNotWorse                      0.054691   \n",
       "NumberOfDependents                                       -0.072864   \n",
       "\n",
       "                                      NumberOfTime60-89DaysPastDueNotWorse  \\\n",
       "age                                                               0.082203   \n",
       "RevolvingUtilizationOfUnsecuredLines                              0.198520   \n",
       "DebtRatio                                                         0.056485   \n",
       "MonthlyIncome                                                     0.055272   \n",
       "NumberOfOpenCreditLinesAndLoans                                   0.018637   \n",
       "NumberOfTime30-59DaysPastDueNotWorse                              0.256041   \n",
       "NumberOfTimes90DaysLate                                           0.264102   \n",
       "NumberRealEstateLoansOrLines                                      0.054691   \n",
       "NumberOfTime60-89DaysPastDueNotWorse                              1.000000   \n",
       "NumberOfDependents                                                0.065283   \n",
       "\n",
       "                                      NumberOfDependents  \n",
       "age                                             0.303774  \n",
       "RevolvingUtilizationOfUnsecuredLines            0.215089  \n",
       "DebtRatio                                       0.198446  \n",
       "MonthlyIncome                                   0.010919  \n",
       "NumberOfOpenCreditLinesAndLoans                -0.065163  \n",
       "NumberOfTime30-59DaysPastDueNotWorse            0.127226  \n",
       "NumberOfTimes90DaysLate                         0.077040  \n",
       "NumberRealEstateLoansOrLines                   -0.072864  \n",
       "NumberOfTime60-89DaysPastDueNotWorse            0.065283  \n",
       "NumberOfDependents                              1.000000  "
      ]
     },
     "execution_count": 103,
     "metadata": {},
     "output_type": "execute_result"
    }
   ],
   "source": [
    "Xcp = X.copy()\n",
    "Xcp = Xcp.apply(lambda x:x.astype(float))\n",
    "\n",
    "Xcp.corr()"
   ]
  },
  {
   "cell_type": "code",
   "execution_count": 104,
   "metadata": {},
   "outputs": [
    {
     "data": {
      "text/plain": [
       "<matplotlib.axes._subplots.AxesSubplot at 0x1ec013df9b0>"
      ]
     },
     "execution_count": 104,
     "metadata": {},
     "output_type": "execute_result"
    },
    {
     "data": {
      "image/png": "[encoded data removed]",
      "text/plain": [
       "<Figure size 432x288 with 2 Axes>"
      ]
     },
     "metadata": {},
     "output_type": "display_data"
    }
   ],
   "source": [
    "import seaborn as sns\n",
    "sns.heatmap(Xcp.corr())"
   ]
  },
  {
   "cell_type": "code",
   "execution_count": 99,
   "metadata": {},
   "outputs": [
    {
     "data": {
      "text/plain": [
       "<matplotlib.axes._subplots.AxesSubplot at 0x1ec0106b3c8>"
      ]
     },
     "execution_count": 99,
     "metadata": {},
     "output_type": "execute_result"
    },
    {
     "data": {
      "image/png": "[encoded data removed]",
      "text/plain": [
       "<Figure size 432x288 with 2 Axes>"
      ]
     },
     "metadata": {},
     "output_type": "display_data"
    }
   ],
   "source": [
    "import seaborn as sns\n",
    "sns.heatmap(vali_X.corr())"
   ]
  },
  {
   "cell_type": "code",
   "execution_count": 95,
   "metadata": {},
   "outputs": [
    {
     "name": "stdout",
     "output_type": "stream",
     "text": [
      "Help on method corr in module pandas.core.frame:\n",
      "\n",
      "corr(method='pearson', min_periods=1) method of pandas.core.frame.DataFrame instance\n",
      "    Compute pairwise correlation of columns, excluding NA/null values\n",
      "    \n",
      "    Parameters\n",
      "    ----------\n",
      "    method : {'pearson', 'kendall', 'spearman'}\n",
      "        * pearson : standard correlation coefficient\n",
      "        * kendall : Kendall Tau correlation coefficient\n",
      "        * spearman : Spearman rank correlation\n",
      "    min_periods : int, optional\n",
      "        Minimum number of observations required per pair of columns\n",
      "        to have a valid result. Currently only available for pearson\n",
      "        and spearman correlation\n",
      "    \n",
      "    Returns\n",
      "    -------\n",
      "    y : DataFrame\n",
      "\n"
     ]
    }
   ],
   "source": [
    "help(xcp.corr)"
   ]
  },
  {
   "cell_type": "code",
   "execution_count": null,
   "metadata": {},
   "outputs": [],
   "source": []
  }
 ],
 "metadata": {
  "kernelspec": {
   "display_name": "Python 3",
   "language": "python",
   "name": "python3"
  },
  "language_info": {
   "codemirror_mode": {
    "name": "ipython",
    "version": 3
   },
   "file_extension": ".py",
   "mimetype": "text/x-python",
   "name": "python",
   "nbconvert_exporter": "python",
   "pygments_lexer": "ipython3",
   "version": "3.6.5"
  },
  "pycharm": {
   "stem_cell": {
    "cell_type": "raw",
    "metadata": {
     "collapsed": false
    },
    "source": []
   }
  }
 },
 "nbformat": 4,
 "nbformat_minor": 2
}
