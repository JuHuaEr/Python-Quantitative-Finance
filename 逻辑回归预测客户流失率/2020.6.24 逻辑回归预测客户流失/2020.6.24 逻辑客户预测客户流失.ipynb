{
 "cells": [
  {
   "cell_type": "code",
   "execution_count": 1,
   "metadata": {},
   "outputs": [],
   "source": [
    "import pandas as pd\n",
    "import numpy as np\n",
    "import seaborn as sns\n",
    "import matplotlib.pyplot as plt\n",
    "\n",
    "from scipy import stats\n",
    "import statsmodels.api as sm\n",
    "import statsmodels.formula.api as smf"
   ]
  },
  {
   "cell_type": "markdown",
   "metadata": {},
   "source": [
    "# 数据读入"
   ]
  },
  {
   "cell_type": "code",
   "execution_count": 2,
   "metadata": {},
   "outputs": [
    {
     "data": {
      "text/html": [
       "<div>\n",
       "<style scoped>\n",
       "    .dataframe tbody tr th:only-of-type {\n",
       "        vertical-align: middle;\n",
       "    }\n",
       "\n",
       "    .dataframe tbody tr th {\n",
       "        vertical-align: top;\n",
       "    }\n",
       "\n",
       "    .dataframe thead th {\n",
       "        text-align: right;\n",
       "    }\n",
       "</style>\n",
       "<table border=\"1\" class=\"dataframe\">\n",
       "  <thead>\n",
       "    <tr style=\"text-align: right;\">\n",
       "      <th></th>\n",
       "      <th>subscriberID</th>\n",
       "      <th>churn</th>\n",
       "      <th>gender</th>\n",
       "      <th>AGE</th>\n",
       "      <th>edu_class</th>\n",
       "      <th>incomeCode</th>\n",
       "      <th>duration</th>\n",
       "      <th>feton</th>\n",
       "      <th>peakMinAv</th>\n",
       "      <th>peakMinDiff</th>\n",
       "      <th>posTrend</th>\n",
       "      <th>negTrend</th>\n",
       "      <th>nrProm</th>\n",
       "      <th>prom</th>\n",
       "      <th>curPlan</th>\n",
       "      <th>avgplan</th>\n",
       "      <th>planChange</th>\n",
       "      <th>posPlanChange</th>\n",
       "      <th>negPlanChange</th>\n",
       "      <th>call_10086</th>\n",
       "    </tr>\n",
       "  </thead>\n",
       "  <tbody>\n",
       "    <tr>\n",
       "      <th>0</th>\n",
       "      <td>19164958.0</td>\n",
       "      <td>1.0</td>\n",
       "      <td>0.0</td>\n",
       "      <td>20.0</td>\n",
       "      <td>2.0</td>\n",
       "      <td>12.0</td>\n",
       "      <td>16.0</td>\n",
       "      <td>0.0</td>\n",
       "      <td>113.666667</td>\n",
       "      <td>-8.0</td>\n",
       "      <td>0.0</td>\n",
       "      <td>1.0</td>\n",
       "      <td>0.0</td>\n",
       "      <td>0.0</td>\n",
       "      <td>1.0</td>\n",
       "      <td>1.0</td>\n",
       "      <td>0.0</td>\n",
       "      <td>0.0</td>\n",
       "      <td>0.0</td>\n",
       "      <td>0.0</td>\n",
       "    </tr>\n",
       "    <tr>\n",
       "      <th>1</th>\n",
       "      <td>39244924.0</td>\n",
       "      <td>1.0</td>\n",
       "      <td>1.0</td>\n",
       "      <td>20.0</td>\n",
       "      <td>0.0</td>\n",
       "      <td>21.0</td>\n",
       "      <td>5.0</td>\n",
       "      <td>0.0</td>\n",
       "      <td>274.000000</td>\n",
       "      <td>-371.0</td>\n",
       "      <td>0.0</td>\n",
       "      <td>1.0</td>\n",
       "      <td>2.0</td>\n",
       "      <td>1.0</td>\n",
       "      <td>3.0</td>\n",
       "      <td>2.0</td>\n",
       "      <td>2.0</td>\n",
       "      <td>1.0</td>\n",
       "      <td>0.0</td>\n",
       "      <td>1.0</td>\n",
       "    </tr>\n",
       "    <tr>\n",
       "      <th>2</th>\n",
       "      <td>39578413.0</td>\n",
       "      <td>1.0</td>\n",
       "      <td>0.0</td>\n",
       "      <td>11.0</td>\n",
       "      <td>1.0</td>\n",
       "      <td>47.0</td>\n",
       "      <td>3.0</td>\n",
       "      <td>0.0</td>\n",
       "      <td>392.000000</td>\n",
       "      <td>-784.0</td>\n",
       "      <td>0.0</td>\n",
       "      <td>1.0</td>\n",
       "      <td>0.0</td>\n",
       "      <td>0.0</td>\n",
       "      <td>3.0</td>\n",
       "      <td>3.0</td>\n",
       "      <td>0.0</td>\n",
       "      <td>0.0</td>\n",
       "      <td>0.0</td>\n",
       "      <td>1.0</td>\n",
       "    </tr>\n",
       "    <tr>\n",
       "      <th>3</th>\n",
       "      <td>40992265.0</td>\n",
       "      <td>1.0</td>\n",
       "      <td>0.0</td>\n",
       "      <td>43.0</td>\n",
       "      <td>0.0</td>\n",
       "      <td>4.0</td>\n",
       "      <td>12.0</td>\n",
       "      <td>0.0</td>\n",
       "      <td>31.000000</td>\n",
       "      <td>-76.0</td>\n",
       "      <td>0.0</td>\n",
       "      <td>1.0</td>\n",
       "      <td>2.0</td>\n",
       "      <td>1.0</td>\n",
       "      <td>3.0</td>\n",
       "      <td>3.0</td>\n",
       "      <td>0.0</td>\n",
       "      <td>0.0</td>\n",
       "      <td>0.0</td>\n",
       "      <td>1.0</td>\n",
       "    </tr>\n",
       "    <tr>\n",
       "      <th>4</th>\n",
       "      <td>43061957.0</td>\n",
       "      <td>1.0</td>\n",
       "      <td>1.0</td>\n",
       "      <td>60.0</td>\n",
       "      <td>0.0</td>\n",
       "      <td>9.0</td>\n",
       "      <td>14.0</td>\n",
       "      <td>0.0</td>\n",
       "      <td>129.333333</td>\n",
       "      <td>-334.0</td>\n",
       "      <td>0.0</td>\n",
       "      <td>1.0</td>\n",
       "      <td>0.0</td>\n",
       "      <td>0.0</td>\n",
       "      <td>3.0</td>\n",
       "      <td>3.0</td>\n",
       "      <td>0.0</td>\n",
       "      <td>0.0</td>\n",
       "      <td>0.0</td>\n",
       "      <td>0.0</td>\n",
       "    </tr>\n",
       "  </tbody>\n",
       "</table>\n",
       "</div>"
      ],
      "text/plain": [
       "   subscriberID  churn  gender   AGE  edu_class  incomeCode  duration  feton  \\\n",
       "0    19164958.0    1.0     0.0  20.0        2.0        12.0      16.0    0.0   \n",
       "1    39244924.0    1.0     1.0  20.0        0.0        21.0       5.0    0.0   \n",
       "2    39578413.0    1.0     0.0  11.0        1.0        47.0       3.0    0.0   \n",
       "3    40992265.0    1.0     0.0  43.0        0.0         4.0      12.0    0.0   \n",
       "4    43061957.0    1.0     1.0  60.0        0.0         9.0      14.0    0.0   \n",
       "\n",
       "    peakMinAv  peakMinDiff  posTrend  negTrend  nrProm  prom  curPlan  \\\n",
       "0  113.666667         -8.0       0.0       1.0     0.0   0.0      1.0   \n",
       "1  274.000000       -371.0       0.0       1.0     2.0   1.0      3.0   \n",
       "2  392.000000       -784.0       0.0       1.0     0.0   0.0      3.0   \n",
       "3   31.000000        -76.0       0.0       1.0     2.0   1.0      3.0   \n",
       "4  129.333333       -334.0       0.0       1.0     0.0   0.0      3.0   \n",
       "\n",
       "   avgplan  planChange  posPlanChange  negPlanChange  call_10086  \n",
       "0      1.0         0.0            0.0            0.0         0.0  \n",
       "1      2.0         2.0            1.0            0.0         1.0  \n",
       "2      3.0         0.0            0.0            0.0         1.0  \n",
       "3      3.0         0.0            0.0            0.0         1.0  \n",
       "4      3.0         0.0            0.0            0.0         0.0  "
      ]
     },
     "execution_count": 2,
     "metadata": {},
     "output_type": "execute_result"
    }
   ],
   "source": [
    "churn = pd.read_csv('telecom_churn.csv', skipinitialspace=True)\n",
    "churn.head()"
   ]
  },
  {
   "cell_type": "code",
   "execution_count": 3,
   "metadata": {},
   "outputs": [
    {
     "name": "stdout",
     "output_type": "stream",
     "text": [
      "<class 'pandas.core.frame.DataFrame'>\n",
      "RangeIndex: 3463 entries, 0 to 3462\n",
      "Data columns (total 20 columns):\n",
      "subscriberID     3463 non-null float64\n",
      "churn            3463 non-null float64\n",
      "gender           3463 non-null float64\n",
      "AGE              3463 non-null float64\n",
      "edu_class        3463 non-null float64\n",
      "incomeCode       3463 non-null float64\n",
      "duration         3463 non-null float64\n",
      "feton            3463 non-null float64\n",
      "peakMinAv        3463 non-null float64\n",
      "peakMinDiff      3463 non-null float64\n",
      "posTrend         3463 non-null float64\n",
      "negTrend         3463 non-null float64\n",
      "nrProm           3463 non-null float64\n",
      "prom             3463 non-null float64\n",
      "curPlan          3463 non-null float64\n",
      "avgplan          3463 non-null float64\n",
      "planChange       3463 non-null float64\n",
      "posPlanChange    3463 non-null float64\n",
      "negPlanChange    3463 non-null float64\n",
      "call_10086       3463 non-null float64\n",
      "dtypes: float64(20)\n",
      "memory usage: 541.2 KB\n"
     ]
    }
   ],
   "source": [
    "churn.info()"
   ]
  },
  {
   "cell_type": "markdown",
   "metadata": {},
   "source": [
    "# 数据探索\n",
    "简洁版本，只是为了一元逻辑回归做的探索"
   ]
  },
  {
   "cell_type": "markdown",
   "metadata": {},
   "source": [
    "### churn 流失与否 是否与 posTrend 流量使用上升趋势有关\n",
    "猜想：posTrend 为 1，即流量使用有上升趋势时，更不容易流失（用得越多越不容易流失）"
   ]
  },
  {
   "cell_type": "markdown",
   "metadata": {},
   "source": [
    "###### 交叉表分析"
   ]
  },
  {
   "cell_type": "code",
   "execution_count": 4,
   "metadata": {},
   "outputs": [
    {
     "data": {
      "text/html": [
       "<div>\n",
       "<style scoped>\n",
       "    .dataframe tbody tr th:only-of-type {\n",
       "        vertical-align: middle;\n",
       "    }\n",
       "\n",
       "    .dataframe tbody tr th {\n",
       "        vertical-align: top;\n",
       "    }\n",
       "\n",
       "    .dataframe thead th {\n",
       "        text-align: right;\n",
       "    }\n",
       "</style>\n",
       "<table border=\"1\" class=\"dataframe\">\n",
       "  <thead>\n",
       "    <tr style=\"text-align: right;\">\n",
       "      <th>churn</th>\n",
       "      <th>0.0</th>\n",
       "      <th>1.0</th>\n",
       "      <th>All</th>\n",
       "    </tr>\n",
       "    <tr>\n",
       "      <th>posTrend</th>\n",
       "      <th></th>\n",
       "      <th></th>\n",
       "      <th></th>\n",
       "    </tr>\n",
       "  </thead>\n",
       "  <tbody>\n",
       "    <tr>\n",
       "      <th>0.0</th>\n",
       "      <td>829</td>\n",
       "      <td>990</td>\n",
       "      <td>1819</td>\n",
       "    </tr>\n",
       "    <tr>\n",
       "      <th>1.0</th>\n",
       "      <td>1100</td>\n",
       "      <td>544</td>\n",
       "      <td>1644</td>\n",
       "    </tr>\n",
       "    <tr>\n",
       "      <th>All</th>\n",
       "      <td>1929</td>\n",
       "      <td>1534</td>\n",
       "      <td>3463</td>\n",
       "    </tr>\n",
       "  </tbody>\n",
       "</table>\n",
       "</div>"
      ],
      "text/plain": [
       "churn      0.0   1.0   All\n",
       "posTrend                  \n",
       "0.0        829   990  1819\n",
       "1.0       1100   544  1644\n",
       "All       1929  1534  3463"
      ]
     },
     "execution_count": 4,
     "metadata": {},
     "output_type": "execute_result"
    }
   ],
   "source": [
    "cross_table = pd.crosstab(index=churn.posTrend, columns=churn.churn, \n",
    "                          margins=True)\n",
    "cross_table"
   ]
  },
  {
   "cell_type": "code",
   "execution_count": 5,
   "metadata": {},
   "outputs": [
    {
     "data": {
      "text/html": [
       "<div>\n",
       "<style scoped>\n",
       "    .dataframe tbody tr th:only-of-type {\n",
       "        vertical-align: middle;\n",
       "    }\n",
       "\n",
       "    .dataframe tbody tr th {\n",
       "        vertical-align: top;\n",
       "    }\n",
       "\n",
       "    .dataframe thead th {\n",
       "        text-align: right;\n",
       "    }\n",
       "</style>\n",
       "<table border=\"1\" class=\"dataframe\">\n",
       "  <thead>\n",
       "    <tr style=\"text-align: right;\">\n",
       "      <th>churn</th>\n",
       "      <th>0.0</th>\n",
       "      <th>1.0</th>\n",
       "      <th>All</th>\n",
       "    </tr>\n",
       "    <tr>\n",
       "      <th>posTrend</th>\n",
       "      <th></th>\n",
       "      <th></th>\n",
       "      <th></th>\n",
       "    </tr>\n",
       "  </thead>\n",
       "  <tbody>\n",
       "    <tr>\n",
       "      <th>0.0</th>\n",
       "      <td>0.455745</td>\n",
       "      <td>0.544255</td>\n",
       "      <td>1.0</td>\n",
       "    </tr>\n",
       "    <tr>\n",
       "      <th>1.0</th>\n",
       "      <td>0.669100</td>\n",
       "      <td>0.330900</td>\n",
       "      <td>1.0</td>\n",
       "    </tr>\n",
       "    <tr>\n",
       "      <th>All</th>\n",
       "      <td>0.557031</td>\n",
       "      <td>0.442969</td>\n",
       "      <td>1.0</td>\n",
       "    </tr>\n",
       "  </tbody>\n",
       "</table>\n",
       "</div>"
      ],
      "text/plain": [
       "churn          0.0       1.0  All\n",
       "posTrend                         \n",
       "0.0       0.455745  0.544255  1.0\n",
       "1.0       0.669100  0.330900  1.0\n",
       "All       0.557031  0.442969  1.0"
      ]
     },
     "execution_count": 5,
     "metadata": {},
     "output_type": "execute_result"
    }
   ],
   "source": [
    "# 转化成百分比的形式\n",
    "def perConvert(ser):\n",
    "    return ser/float(ser[-1])\n",
    "\n",
    "cross_table.apply(perConvert, axis='columns') \n",
    "    # axis=1 也可以写成 axis='columns', 表示对列使用这个函数\n",
    "    \n",
    "# 发现的确如我们所想，流量使用有上升趋势的时候，流失的概率会下降"
   ]
  },
  {
   "cell_type": "markdown",
   "metadata": {},
   "source": [
    "###### 卡方检验"
   ]
  },
  {
   "cell_type": "code",
   "execution_count": 6,
   "metadata": {},
   "outputs": [
    {
     "name": "stdout",
     "output_type": "stream",
     "text": [
      "chisq = 158.4433\n",
      "p-value = 0.0000\n",
      "dof = 1\n",
      "expected_freq = [[1013.24025411  805.75974589]\n",
      " [ 915.75974589  728.24025411]]\n"
     ]
    }
   ],
   "source": [
    "print(\"\"\"chisq = %6.4f\n",
    "p-value = %6.4f\n",
    "dof = %i\n",
    "expected_freq = %s\"\"\" % stats.chi2_contingency(observed=cross_table.iloc[:2, :2]))\n",
    "# iloc 是因为 cross_table 添加了 margin 参数，也就是在最后一行和最后一列都显示 all，\n",
    " ## 卡方检验的时候我们只需要传入类别列即可，无需总列\n",
    "    \n",
    "# 发现检验结果还是比较显著的，说明 posTrend 这个变量有价值"
   ]
  },
  {
   "cell_type": "code",
   "execution_count": null,
   "metadata": {},
   "outputs": [],
   "source": []
  },
  {
   "cell_type": "markdown",
   "metadata": {},
   "source": [
    "# 统计学库建模"
   ]
  },
  {
   "cell_type": "markdown",
   "metadata": {},
   "source": [
    "## 一元逻辑回归"
   ]
  },
  {
   "cell_type": "markdown",
   "metadata": {},
   "source": [
    "### 拆分测试集与训练集"
   ]
  },
  {
   "cell_type": "code",
   "execution_count": 7,
   "metadata": {},
   "outputs": [
    {
     "name": "stdout",
     "output_type": "stream",
     "text": [
      "训练集样本量：2424, 测试集样本量：1039\n"
     ]
    }
   ],
   "source": [
    "train = churn.sample(frac=0.7, random_state=1234).copy()\n",
    "test = churn[~ churn.index.isin(train.index)].copy() \n",
    "# ~ 表示取反，isin 表示在不在，这个知识点 pandas 非常常用\n",
    "print(f'训练集样本量：{len(train)}, 测试集样本量：{len(test)}')"
   ]
  },
  {
   "cell_type": "markdown",
   "metadata": {},
   "source": [
    "### statsmodels 库进行逻辑回归"
   ]
  },
  {
   "cell_type": "code",
   "execution_count": 8,
   "metadata": {},
   "outputs": [
    {
     "data": {
      "text/html": [
       "<table class=\"simpletable\">\n",
       "<caption>Generalized Linear Model Regression Results</caption>\n",
       "<tr>\n",
       "  <th>Dep. Variable:</th>        <td>churn</td>      <th>  No. Observations:  </th>  <td>  3463</td>  \n",
       "</tr>\n",
       "<tr>\n",
       "  <th>Model:</th>                 <td>GLM</td>       <th>  Df Residuals:      </th>  <td>  3461</td>  \n",
       "</tr>\n",
       "<tr>\n",
       "  <th>Model Family:</th>       <td>Binomial</td>     <th>  Df Model:          </th>  <td>     1</td>  \n",
       "</tr>\n",
       "<tr>\n",
       "  <th>Link Function:</th>        <td>logit</td>      <th>  Scale:             </th> <td>  1.0000</td> \n",
       "</tr>\n",
       "<tr>\n",
       "  <th>Method:</th>               <td>IRLS</td>       <th>  Log-Likelihood:    </th> <td> -1516.2</td> \n",
       "</tr>\n",
       "<tr>\n",
       "  <th>Date:</th>           <td>Thu, 17 Sep 2020</td> <th>  Deviance:          </th> <td>  3032.3</td> \n",
       "</tr>\n",
       "<tr>\n",
       "  <th>Time:</th>               <td>20:14:00</td>     <th>  Pearson chi2:      </th> <td>2.78e+03</td> \n",
       "</tr>\n",
       "<tr>\n",
       "  <th>No. Iterations:</th>         <td>7</td>        <th>  Covariance Type:   </th> <td>nonrobust</td>\n",
       "</tr>\n",
       "</table>\n",
       "<table class=\"simpletable\">\n",
       "<tr>\n",
       "      <td></td>         <th>coef</th>     <th>std err</th>      <th>z</th>      <th>P>|z|</th>  <th>[0.025</th>    <th>0.975]</th>  \n",
       "</tr>\n",
       "<tr>\n",
       "  <th>Intercept</th> <td>    2.5883</td> <td>    0.100</td> <td>   25.767</td> <td> 0.000</td> <td>    2.391</td> <td>    2.785</td>\n",
       "</tr>\n",
       "<tr>\n",
       "  <th>duration</th>  <td>   -0.2482</td> <td>    0.009</td> <td>  -26.424</td> <td> 0.000</td> <td>   -0.267</td> <td>   -0.230</td>\n",
       "</tr>\n",
       "</table>"
      ],
      "text/plain": [
       "<class 'statsmodels.iolib.summary.Summary'>\n",
       "\"\"\"\n",
       "                 Generalized Linear Model Regression Results                  \n",
       "==============================================================================\n",
       "Dep. Variable:                  churn   No. Observations:                 3463\n",
       "Model:                            GLM   Df Residuals:                     3461\n",
       "Model Family:                Binomial   Df Model:                            1\n",
       "Link Function:                  logit   Scale:                          1.0000\n",
       "Method:                          IRLS   Log-Likelihood:                -1516.2\n",
       "Date:                Thu, 17 Sep 2020   Deviance:                       3032.3\n",
       "Time:                        20:14:00   Pearson chi2:                 2.78e+03\n",
       "No. Iterations:                     7   Covariance Type:             nonrobust\n",
       "==============================================================================\n",
       "                 coef    std err          z      P>|z|      [0.025      0.975]\n",
       "------------------------------------------------------------------------------\n",
       "Intercept      2.5883      0.100     25.767      0.000       2.391       2.785\n",
       "duration      -0.2482      0.009    -26.424      0.000      -0.267      -0.230\n",
       "==============================================================================\n",
       "\"\"\""
      ]
     },
     "execution_count": 8,
     "metadata": {},
     "output_type": "execute_result"
    }
   ],
   "source": [
    "# glm: general linear model - 也就是逻辑回归的别称：广义线性回归\n",
    "lg = smf.glm(formula='churn ~ duration', data=churn,\n",
    "            family=sm.families.Binomial(sm.families.links.logit)).fit()\n",
    "            ## family=sm .... logit 这一大行看似难，其实只要是统计学库进行逻辑回归建模，\n",
    "             ## 都是这样建，families 族群为 Binomial，即伯努利分布(0-1 分布)\n",
    "lg.summary()\n",
    "#  下面的一大个表中，只有这些还稍微有点价值，发现两个变量都挺显著，\n",
    "#     呈现一定的负相关关系，可以先简单理解为，每增加一个单位，流失的概率就下降一点\n",
    "# \t         coef\tstderr\t  z\t    P>|z|\t[0.025\t0.975]\n",
    "# Intercept\t3.0207\t0.116\t26.078\t0.000\t2.794\t3.248\n",
    "# duration\t-0.2488\t0.010\t-25.955\t0.000\t-0.268\t-0.230"
   ]
  },
  {
   "cell_type": "markdown",
   "metadata": {},
   "source": [
    "### 使用建模结果进行预测\n",
    "预测流失的可能性"
   ]
  },
  {
   "cell_type": "code",
   "execution_count": 9,
   "metadata": {},
   "outputs": [
    {
     "data": {
      "text/html": [
       "<div>\n",
       "<style scoped>\n",
       "    .dataframe tbody tr th:only-of-type {\n",
       "        vertical-align: middle;\n",
       "    }\n",
       "\n",
       "    .dataframe tbody tr th {\n",
       "        vertical-align: top;\n",
       "    }\n",
       "\n",
       "    .dataframe thead th {\n",
       "        text-align: right;\n",
       "    }\n",
       "</style>\n",
       "<table border=\"1\" class=\"dataframe\">\n",
       "  <thead>\n",
       "    <tr style=\"text-align: right;\">\n",
       "      <th></th>\n",
       "      <th>churn</th>\n",
       "      <th>proba</th>\n",
       "    </tr>\n",
       "  </thead>\n",
       "  <tbody>\n",
       "    <tr>\n",
       "      <th>3</th>\n",
       "      <td>1.0</td>\n",
       "      <td>0.403721</td>\n",
       "    </tr>\n",
       "    <tr>\n",
       "      <th>5</th>\n",
       "      <td>0.0</td>\n",
       "      <td>0.587731</td>\n",
       "    </tr>\n",
       "    <tr>\n",
       "      <th>7</th>\n",
       "      <td>1.0</td>\n",
       "      <td>0.700772</td>\n",
       "    </tr>\n",
       "    <tr>\n",
       "      <th>8</th>\n",
       "      <td>1.0</td>\n",
       "      <td>0.793698</td>\n",
       "    </tr>\n",
       "    <tr>\n",
       "      <th>10</th>\n",
       "      <td>0.0</td>\n",
       "      <td>0.526575</td>\n",
       "    </tr>\n",
       "  </tbody>\n",
       "</table>\n",
       "</div>"
      ],
      "text/plain": [
       "    churn     proba\n",
       "3     1.0  0.403721\n",
       "5     0.0  0.587731\n",
       "7     1.0  0.700772\n",
       "8     1.0  0.793698\n",
       "10    0.0  0.526575"
      ]
     },
     "execution_count": 9,
     "metadata": {},
     "output_type": "execute_result"
    }
   ],
   "source": [
    "# 预测流失的可能性\n",
    "train['proba'] = lg.predict(train)\n",
    "test['proba'] = lg.predict(test)\n",
    "\n",
    "test[['churn', 'proba']].head() # 我们可以假设 proba > 0.5 就算流失，\n",
    "# 即如果 churn=1，proba > 0.5，则表示预测正确，当然，这个 proba 需要根据业务实际情况来定"
   ]
  },
  {
   "cell_type": "code",
   "execution_count": 10,
   "metadata": {},
   "outputs": [
    {
     "data": {
      "text/html": [
       "<div>\n",
       "<style scoped>\n",
       "    .dataframe tbody tr th:only-of-type {\n",
       "        vertical-align: middle;\n",
       "    }\n",
       "\n",
       "    .dataframe tbody tr th {\n",
       "        vertical-align: top;\n",
       "    }\n",
       "\n",
       "    .dataframe thead th {\n",
       "        text-align: right;\n",
       "    }\n",
       "</style>\n",
       "<table border=\"1\" class=\"dataframe\">\n",
       "  <thead>\n",
       "    <tr style=\"text-align: right;\">\n",
       "      <th></th>\n",
       "      <th>churn</th>\n",
       "      <th>prediction</th>\n",
       "    </tr>\n",
       "  </thead>\n",
       "  <tbody>\n",
       "    <tr>\n",
       "      <th>1917</th>\n",
       "      <td>0.0</td>\n",
       "      <td>0</td>\n",
       "    </tr>\n",
       "    <tr>\n",
       "      <th>2918</th>\n",
       "      <td>0.0</td>\n",
       "      <td>0</td>\n",
       "    </tr>\n",
       "    <tr>\n",
       "      <th>2909</th>\n",
       "      <td>1.0</td>\n",
       "      <td>1</td>\n",
       "    </tr>\n",
       "    <tr>\n",
       "      <th>2735</th>\n",
       "      <td>0.0</td>\n",
       "      <td>1</td>\n",
       "    </tr>\n",
       "    <tr>\n",
       "      <th>314</th>\n",
       "      <td>0.0</td>\n",
       "      <td>0</td>\n",
       "    </tr>\n",
       "  </tbody>\n",
       "</table>\n",
       "</div>"
      ],
      "text/plain": [
       "      churn  prediction\n",
       "1917    0.0           0\n",
       "2918    0.0           0\n",
       "2909    1.0           1\n",
       "2735    0.0           1\n",
       "314     0.0           0"
      ]
     },
     "execution_count": 10,
     "metadata": {},
     "output_type": "execute_result"
    }
   ],
   "source": [
    "# 以 proba > 0.5 就设为流失作为预测结果\n",
    "test['prediction'] = (test['proba'] > 0.5)*1 \n",
    "                        # 把 True 和 False 转化成 1 和 0\n",
    "test[['churn', 'prediction']].sample(5)"
   ]
  },
  {
   "cell_type": "markdown",
   "metadata": {},
   "source": [
    "### 检验预测结果"
   ]
  },
  {
   "cell_type": "code",
   "execution_count": 11,
   "metadata": {},
   "outputs": [
    {
     "data": {
      "text/html": [
       "<div>\n",
       "<style scoped>\n",
       "    .dataframe tbody tr th:only-of-type {\n",
       "        vertical-align: middle;\n",
       "    }\n",
       "\n",
       "    .dataframe tbody tr th {\n",
       "        vertical-align: top;\n",
       "    }\n",
       "\n",
       "    .dataframe thead th {\n",
       "        text-align: right;\n",
       "    }\n",
       "</style>\n",
       "<table border=\"1\" class=\"dataframe\">\n",
       "  <thead>\n",
       "    <tr style=\"text-align: right;\">\n",
       "      <th>prediction</th>\n",
       "      <th>0</th>\n",
       "      <th>1</th>\n",
       "      <th>All</th>\n",
       "    </tr>\n",
       "    <tr>\n",
       "      <th>churn</th>\n",
       "      <th></th>\n",
       "      <th></th>\n",
       "      <th></th>\n",
       "    </tr>\n",
       "  </thead>\n",
       "  <tbody>\n",
       "    <tr>\n",
       "      <th>0.0</th>\n",
       "      <td>427</td>\n",
       "      <td>156</td>\n",
       "      <td>583</td>\n",
       "    </tr>\n",
       "    <tr>\n",
       "      <th>1.0</th>\n",
       "      <td>88</td>\n",
       "      <td>368</td>\n",
       "      <td>456</td>\n",
       "    </tr>\n",
       "    <tr>\n",
       "      <th>All</th>\n",
       "      <td>515</td>\n",
       "      <td>524</td>\n",
       "      <td>1039</td>\n",
       "    </tr>\n",
       "  </tbody>\n",
       "</table>\n",
       "</div>"
      ],
      "text/plain": [
       "prediction    0    1   All\n",
       "churn                     \n",
       "0.0         427  156   583\n",
       "1.0          88  368   456\n",
       "All         515  524  1039"
      ]
     },
     "execution_count": 11,
     "metadata": {},
     "output_type": "execute_result"
    }
   ],
   "source": [
    "pd.crosstab(index=test.churn, columns=test.prediction, margins=True)"
   ]
  },
  {
   "cell_type": "code",
   "execution_count": 12,
   "metadata": {},
   "outputs": [
    {
     "name": "stdout",
     "output_type": "stream",
     "text": [
      "The accuracy is: 0.7651588065447545\n"
     ]
    }
   ],
   "source": [
    "# 计算一下模型预测的准度如何\n",
    "acc = sum(test['prediction'] == test['churn']) / np.float(len(test))\n",
    "print(f'The accuracy is: {acc}') "
   ]
  },
  {
   "cell_type": "code",
   "execution_count": 13,
   "metadata": {},
   "outputs": [
    {
     "data": {
      "image/png": "[encoded data removed]",
      "text/plain": [
       "<Figure size 216x216 with 1 Axes>"
      ]
     },
     "metadata": {},
     "output_type": "display_data"
    },
    {
     "name": "stdout",
     "output_type": "stream",
     "text": [
      "AUC = 0.8790154524389877\n"
     ]
    }
   ],
   "source": [
    "# sklearn 包绘制 Python 专门用来评估逻辑回归模型精度的 ROC 曲线\n",
    "import sklearn.metrics as metrics\n",
    "fpr_test, tpr_test, th_test = metrics.roc_curve(test.churn, test.proba)\n",
    "fpr_train, tpr_train, th_train = metrics.roc_curve(train.churn, train.proba)\n",
    "\n",
    "plt.figure(figsize=[3, 3])\n",
    "plt.plot(fpr_test, tpr_test, 'b--')\n",
    "plt.plot(fpr_train, tpr_train, 'r--')\n",
    "plt.title('ROC curve'); plt.show()\n",
    "\n",
    "# 还可以，其实越靠近左上角越好\n",
    "\n",
    "print(f'AUC = {metrics.auc(fpr_test, tpr_test)}')\n",
    "# 模型精度比较高"
   ]
  },
  {
   "cell_type": "markdown",
   "metadata": {},
   "source": [
    "## 多元逻辑回归"
   ]
  },
  {
   "cell_type": "markdown",
   "metadata": {},
   "source": [
    "### 逐步向前法筛选变量\n",
    "当然，这里的变量还不算特别特别多，还可以使用分层抽样，假设检验，方差分析等方法筛选\n",
    "\n",
    "这里不用多解释了，逻辑回归的逐步向前法已有优秀前人的轮子，直接拿来用即可\n",
    "\n",
    "    逐步向前法筛选变量时，线性回归与逻辑回归的代码差别看下面这个代码框的注释即可"
   ]
  },
  {
   "cell_type": "code",
   "execution_count": 14,
   "metadata": {},
   "outputs": [],
   "source": [
    "def forward_select(data, response):\n",
    "    remaining = set(data.columns)\n",
    "    remaining.remove(response)\n",
    "    selected = []\n",
    "    current_score, best_new_score = float('inf'), float('inf')\n",
    "    while remaining:\n",
    "        aic_with_candidates=[]\n",
    "        for candidate in remaining:\n",
    "            formula = \"{} ~ {}\".format(\n",
    "                response,' + '.join(selected + [candidate]))\n",
    "            aic = smf.glm(\n",
    "                formula=formula, data=data, \n",
    "                family=sm.families.Binomial(sm.families.links.logit)\n",
    "                # 多元线性回归与多元逻辑回归的不同\n",
    "            ).fit().aic\n",
    "            aic_with_candidates.append((aic, candidate))\n",
    "        aic_with_candidates.sort(reverse=True)\n",
    "        best_new_score, best_candidate=aic_with_candidates.pop()\n",
    "        if current_score > best_new_score: \n",
    "            remaining.remove(best_candidate)\n",
    "            selected.append(best_candidate)\n",
    "            current_score = best_new_score\n",
    "            print ('aic is {},continuing!'.format(current_score))\n",
    "        else:        \n",
    "            print ('forward selection over!')\n",
    "            break\n",
    "            \n",
    "    formula = \"{} ~ {} \".format(response,' + '.join(selected))\n",
    "    print('final formula is {}'.format(formula))\n",
    "    model = smf.glm(\n",
    "        formula=formula, data=data, \n",
    "        family=sm.families.Binomial(sm.families.links.logit)\n",
    "    ).fit()\n",
    "    return(model)"
   ]
  },
  {
   "cell_type": "code",
   "execution_count": 15,
   "metadata": {},
   "outputs": [
    {
     "data": {
      "text/plain": [
       "Index(['subscriberID', 'churn', 'gender', 'AGE', 'edu_class', 'incomeCode',\n",
       "       'duration', 'feton', 'peakMinAv', 'peakMinDiff', 'posTrend', 'negTrend',\n",
       "       'nrProm', 'prom', 'curPlan', 'avgplan', 'planChange', 'posPlanChange',\n",
       "       'negPlanChange', 'call_10086'],\n",
       "      dtype='object')"
      ]
     },
     "execution_count": 15,
     "metadata": {},
     "output_type": "execute_result"
    }
   ],
   "source": [
    "churn.columns"
   ]
  },
  {
   "cell_type": "code",
   "execution_count": 16,
   "metadata": {},
   "outputs": [
    {
     "data": {
      "text/html": [
       "<div>\n",
       "<style scoped>\n",
       "    .dataframe tbody tr th:only-of-type {\n",
       "        vertical-align: middle;\n",
       "    }\n",
       "\n",
       "    .dataframe tbody tr th {\n",
       "        vertical-align: top;\n",
       "    }\n",
       "\n",
       "    .dataframe thead th {\n",
       "        text-align: right;\n",
       "    }\n",
       "</style>\n",
       "<table border=\"1\" class=\"dataframe\">\n",
       "  <thead>\n",
       "    <tr style=\"text-align: right;\">\n",
       "      <th></th>\n",
       "      <th>churn</th>\n",
       "      <th>gender</th>\n",
       "      <th>AGE</th>\n",
       "      <th>edu_class</th>\n",
       "      <th>incomeCode</th>\n",
       "      <th>duration</th>\n",
       "      <th>feton</th>\n",
       "      <th>peakMinAv</th>\n",
       "      <th>peakMinDiff</th>\n",
       "      <th>posTrend</th>\n",
       "      <th>negTrend</th>\n",
       "      <th>nrProm</th>\n",
       "      <th>prom</th>\n",
       "      <th>curPlan</th>\n",
       "      <th>avgplan</th>\n",
       "      <th>planChange</th>\n",
       "      <th>posPlanChange</th>\n",
       "      <th>negPlanChange</th>\n",
       "      <th>call_10086</th>\n",
       "    </tr>\n",
       "  </thead>\n",
       "  <tbody>\n",
       "    <tr>\n",
       "      <th>1131</th>\n",
       "      <td>0.0</td>\n",
       "      <td>1.0</td>\n",
       "      <td>27.0</td>\n",
       "      <td>0.0</td>\n",
       "      <td>58.0</td>\n",
       "      <td>9.0</td>\n",
       "      <td>1.0</td>\n",
       "      <td>300.666667</td>\n",
       "      <td>-66.0</td>\n",
       "      <td>0.0</td>\n",
       "      <td>1.0</td>\n",
       "      <td>0.0</td>\n",
       "      <td>0.0</td>\n",
       "      <td>3.0</td>\n",
       "      <td>3.0</td>\n",
       "      <td>0.0</td>\n",
       "      <td>0.0</td>\n",
       "      <td>0.0</td>\n",
       "      <td>1.0</td>\n",
       "    </tr>\n",
       "  </tbody>\n",
       "</table>\n",
       "</div>"
      ],
      "text/plain": [
       "      churn  gender   AGE  edu_class  incomeCode  duration  feton   peakMinAv  \\\n",
       "1131    0.0     1.0  27.0        0.0        58.0       9.0    1.0  300.666667   \n",
       "\n",
       "      peakMinDiff  posTrend  negTrend  nrProm  prom  curPlan  avgplan  \\\n",
       "1131        -66.0       0.0       1.0     0.0   0.0      3.0      3.0   \n",
       "\n",
       "      planChange  posPlanChange  negPlanChange  call_10086  \n",
       "1131         0.0            0.0            0.0         1.0  "
      ]
     },
     "execution_count": 16,
     "metadata": {},
     "output_type": "execute_result"
    }
   ],
   "source": [
    "# 待放入的变量，除了 subsriberID 没用外，其他都可以放进去看下\n",
    "candidates = churn.columns.tolist()[1:]\n",
    "data_for_select = train[candidates]\n",
    "data_for_select.sample()"
   ]
  },
  {
   "cell_type": "code",
   "execution_count": 17,
   "metadata": {},
   "outputs": [
    {
     "name": "stdout",
     "output_type": "stream",
     "text": [
      "aic is 2139.9815513388403,continuing!\n",
      "aic is 2015.2487668432518,continuing!\n",
      "aic is 1881.937082067902,continuing!\n",
      "aic is 1824.2267798372743,continuing!\n",
      "aic is 1768.3126157284164,continuing!\n",
      "aic is 1720.3724820021637,continuing!\n",
      "aic is 1698.6276836135844,continuing!\n",
      "aic is 1694.3503537722104,continuing!\n",
      "aic is 1685.96916823163,continuing!\n",
      "aic is 1683.5274343084689,continuing!\n",
      "aic is 1677.5174259811881,continuing!\n",
      "aic is 1675.025740842283,continuing!\n",
      "aic is 1674.277814107007,continuing!\n",
      "forward selection over!\n",
      "final formula is churn ~ duration + feton + gender + call_10086 + peakMinDiff + edu_class + AGE + prom + nrProm + posTrend + negTrend + peakMinAv + posPlanChange \n"
     ]
    },
    {
     "data": {
      "text/html": [
       "<table class=\"simpletable\">\n",
       "<caption>Generalized Linear Model Regression Results</caption>\n",
       "<tr>\n",
       "  <th>Dep. Variable:</th>        <td>churn</td>      <th>  No. Observations:  </th>  <td>  2424</td>  \n",
       "</tr>\n",
       "<tr>\n",
       "  <th>Model:</th>                 <td>GLM</td>       <th>  Df Residuals:      </th>  <td>  2410</td>  \n",
       "</tr>\n",
       "<tr>\n",
       "  <th>Model Family:</th>       <td>Binomial</td>     <th>  Df Model:          </th>  <td>    13</td>  \n",
       "</tr>\n",
       "<tr>\n",
       "  <th>Link Function:</th>        <td>logit</td>      <th>  Scale:             </th> <td>  1.0000</td> \n",
       "</tr>\n",
       "<tr>\n",
       "  <th>Method:</th>               <td>IRLS</td>       <th>  Log-Likelihood:    </th> <td> -823.14</td> \n",
       "</tr>\n",
       "<tr>\n",
       "  <th>Date:</th>           <td>Thu, 17 Sep 2020</td> <th>  Deviance:          </th> <td>  1646.3</td> \n",
       "</tr>\n",
       "<tr>\n",
       "  <th>Time:</th>               <td>11:37:34</td>     <th>  Pearson chi2:      </th> <td>1.88e+03</td> \n",
       "</tr>\n",
       "<tr>\n",
       "  <th>No. Iterations:</th>         <td>7</td>        <th>  Covariance Type:   </th> <td>nonrobust</td>\n",
       "</tr>\n",
       "</table>\n",
       "<table class=\"simpletable\">\n",
       "<tr>\n",
       "        <td></td>           <th>coef</th>     <th>std err</th>      <th>z</th>      <th>P>|z|</th>  <th>[0.025</th>    <th>0.975]</th>  \n",
       "</tr>\n",
       "<tr>\n",
       "  <th>Intercept</th>     <td>    4.7601</td> <td>    0.470</td> <td>   10.133</td> <td> 0.000</td> <td>    3.839</td> <td>    5.681</td>\n",
       "</tr>\n",
       "<tr>\n",
       "  <th>duration</th>      <td>   -0.2917</td> <td>    0.015</td> <td>  -19.969</td> <td> 0.000</td> <td>   -0.320</td> <td>   -0.263</td>\n",
       "</tr>\n",
       "<tr>\n",
       "  <th>feton</th>         <td>   -1.4144</td> <td>    0.128</td> <td>  -11.012</td> <td> 0.000</td> <td>   -1.666</td> <td>   -1.163</td>\n",
       "</tr>\n",
       "<tr>\n",
       "  <th>gender</th>        <td>    1.4394</td> <td>    0.131</td> <td>   11.012</td> <td> 0.000</td> <td>    1.183</td> <td>    1.696</td>\n",
       "</tr>\n",
       "<tr>\n",
       "  <th>call_10086</th>    <td>   -0.9040</td> <td>    0.126</td> <td>   -7.161</td> <td> 0.000</td> <td>   -1.151</td> <td>   -0.657</td>\n",
       "</tr>\n",
       "<tr>\n",
       "  <th>peakMinDiff</th>   <td>   -0.0024</td> <td>    0.001</td> <td>   -4.625</td> <td> 0.000</td> <td>   -0.003</td> <td>   -0.001</td>\n",
       "</tr>\n",
       "<tr>\n",
       "  <th>edu_class</th>     <td>    0.5434</td> <td>    0.078</td> <td>    6.942</td> <td> 0.000</td> <td>    0.390</td> <td>    0.697</td>\n",
       "</tr>\n",
       "<tr>\n",
       "  <th>AGE</th>           <td>   -0.0195</td> <td>    0.005</td> <td>   -4.255</td> <td> 0.000</td> <td>   -0.029</td> <td>   -0.011</td>\n",
       "</tr>\n",
       "<tr>\n",
       "  <th>prom</th>          <td>    2.3925</td> <td>    0.693</td> <td>    3.451</td> <td> 0.001</td> <td>    1.034</td> <td>    3.751</td>\n",
       "</tr>\n",
       "<tr>\n",
       "  <th>nrProm</th>        <td>   -0.7430</td> <td>    0.248</td> <td>   -2.993</td> <td> 0.003</td> <td>   -1.230</td> <td>   -0.256</td>\n",
       "</tr>\n",
       "<tr>\n",
       "  <th>posTrend</th>      <td>   -1.5598</td> <td>    0.416</td> <td>   -3.747</td> <td> 0.000</td> <td>   -2.376</td> <td>   -0.744</td>\n",
       "</tr>\n",
       "<tr>\n",
       "  <th>negTrend</th>      <td>   -1.3003</td> <td>    0.414</td> <td>   -3.138</td> <td> 0.002</td> <td>   -2.113</td> <td>   -0.488</td>\n",
       "</tr>\n",
       "<tr>\n",
       "  <th>peakMinAv</th>     <td>    0.0011</td> <td>    0.000</td> <td>    2.289</td> <td> 0.022</td> <td>    0.000</td> <td>    0.002</td>\n",
       "</tr>\n",
       "<tr>\n",
       "  <th>posPlanChange</th> <td>   -1.0211</td> <td>    0.624</td> <td>   -1.637</td> <td> 0.102</td> <td>   -2.244</td> <td>    0.202</td>\n",
       "</tr>\n",
       "</table>"
      ],
      "text/plain": [
       "<class 'statsmodels.iolib.summary.Summary'>\n",
       "\"\"\"\n",
       "                 Generalized Linear Model Regression Results                  \n",
       "==============================================================================\n",
       "Dep. Variable:                  churn   No. Observations:                 2424\n",
       "Model:                            GLM   Df Residuals:                     2410\n",
       "Model Family:                Binomial   Df Model:                           13\n",
       "Link Function:                  logit   Scale:                          1.0000\n",
       "Method:                          IRLS   Log-Likelihood:                -823.14\n",
       "Date:                Thu, 17 Sep 2020   Deviance:                       1646.3\n",
       "Time:                        11:37:34   Pearson chi2:                 1.88e+03\n",
       "No. Iterations:                     7   Covariance Type:             nonrobust\n",
       "=================================================================================\n",
       "                    coef    std err          z      P>|z|      [0.025      0.975]\n",
       "---------------------------------------------------------------------------------\n",
       "Intercept         4.7601      0.470     10.133      0.000       3.839       5.681\n",
       "duration         -0.2917      0.015    -19.969      0.000      -0.320      -0.263\n",
       "feton            -1.4144      0.128    -11.012      0.000      -1.666      -1.163\n",
       "gender            1.4394      0.131     11.012      0.000       1.183       1.696\n",
       "call_10086       -0.9040      0.126     -7.161      0.000      -1.151      -0.657\n",
       "peakMinDiff      -0.0024      0.001     -4.625      0.000      -0.003      -0.001\n",
       "edu_class         0.5434      0.078      6.942      0.000       0.390       0.697\n",
       "AGE              -0.0195      0.005     -4.255      0.000      -0.029      -0.011\n",
       "prom              2.3925      0.693      3.451      0.001       1.034       3.751\n",
       "nrProm           -0.7430      0.248     -2.993      0.003      -1.230      -0.256\n",
       "posTrend         -1.5598      0.416     -3.747      0.000      -2.376      -0.744\n",
       "negTrend         -1.3003      0.414     -3.138      0.002      -2.113      -0.488\n",
       "peakMinAv         0.0011      0.000      2.289      0.022       0.000       0.002\n",
       "posPlanChange    -1.0211      0.624     -1.637      0.102      -2.244       0.202\n",
       "=================================================================================\n",
       "\"\"\""
      ]
     },
     "execution_count": 17,
     "metadata": {},
     "output_type": "execute_result"
    }
   ],
   "source": [
    "lg_m1 = forward_select(data=data_for_select, response='churn')\n",
    "lg_m1.summary()"
   ]
  },
  {
   "cell_type": "code",
   "execution_count": 18,
   "metadata": {},
   "outputs": [
    {
     "name": "stdout",
     "output_type": "stream",
     "text": [
      "原来有 19 个变量\n",
      "筛选剩下 14 个(包含 intercept 截距项)。\n"
     ]
    }
   ],
   "source": [
    "print(f'原来有 {len(candidates)} 个变量')\n",
    "print(f'筛选剩下 {len(lg_m1.params.index.tolist())} 个(包含 intercept 截距项)。')"
   ]
  },
  {
   "cell_type": "markdown",
   "metadata": {},
   "source": [
    "### 方差膨胀因子检测\n",
    "多元逻辑回归中也有多元共线性"
   ]
  },
  {
   "cell_type": "code",
   "execution_count": 19,
   "metadata": {},
   "outputs": [],
   "source": [
    "def vif(df, col_i):\n",
    "    from statsmodels.formula.api import ols\n",
    "    \n",
    "    cols = list(df.columns)\n",
    "    cols.remove(col_i)\n",
    "    cols_noti = cols\n",
    "    formula = col_i + '~' + '+'.join(cols_noti)\n",
    "    r2 = ols(formula, df).fit().rsquared\n",
    "    return 1. / (1. - r2)"
   ]
  },
  {
   "cell_type": "code",
   "execution_count": 20,
   "metadata": {},
   "outputs": [],
   "source": [
    "after_select = lg_m1.params.index.tolist()[1:] # Intercept 不算\n",
    "exog = train[after_select]"
   ]
  },
  {
   "cell_type": "code",
   "execution_count": 21,
   "metadata": {},
   "outputs": [
    {
     "name": "stdout",
     "output_type": "stream",
     "text": [
      "duration \t 1.161504699105813\n",
      "feton \t 1.0328256567299992\n",
      "gender \t 1.0133391644017549\n",
      "call_10086 \t 1.031223607502261\n",
      "peakMinDiff \t 1.751496545110971\n",
      "edu_class \t 1.0889914844535982\n",
      "AGE \t 1.0509696212426345\n",
      "prom \t 10.737528463052845\n",
      "nrProm \t 10.65776904003062\n",
      "posTrend \t 10.796864945899232\n",
      "negTrend \t 10.721360755367623\n",
      "peakMinAv \t 1.098680725629805\n",
      "posPlanChange \t 1.0556555380450348\n"
     ]
    }
   ],
   "source": [
    "for i in exog.columns:\n",
    "    print(i, '\\t', vif(df=exog, col_i=i))\n",
    "# 按照一般规则，大于10的就算全部超标，通常成对出现，只需要删除成对出现的一个即可。\n",
    " ## 这里我们挑成对出现中较大的删除"
   ]
  },
  {
   "cell_type": "code",
   "execution_count": 22,
   "metadata": {},
   "outputs": [
    {
     "name": "stdout",
     "output_type": "stream",
     "text": [
      "duration \t 1.1589258261690665\n",
      "feton \t 1.0319590476682936\n",
      "gender \t 1.012938595864984\n",
      "call_10086 \t 1.0309266554767367\n",
      "peakMinDiff \t 1.7195996869483132\n",
      "edu_class \t 1.088768285735715\n",
      "AGE \t 1.0479446481316028\n",
      "nrProm \t 1.0040572241454906\n",
      "negTrend \t 1.7000124717548541\n",
      "peakMinAv \t 1.0469256802908606\n",
      "posPlanChange \t 1.0120499617910745\n"
     ]
    }
   ],
   "source": [
    "# 删除 prom，posTrend\n",
    "drop = ['prom', 'posTrend']\n",
    "final_left = [x for x in after_select if x not in drop]\n",
    "\n",
    "# 再来一次方差膨胀因子检测\n",
    "exog = train[final_left]\n",
    "for i in exog.columns:\n",
    "    print(i, '\\t', vif(df=exog, col_i=i))\n",
    "# 方差膨胀因子合格了"
   ]
  },
  {
   "cell_type": "code",
   "execution_count": null,
   "metadata": {},
   "outputs": [],
   "source": []
  },
  {
   "cell_type": "markdown",
   "metadata": {},
   "source": [
    "### 再次进行建模与模型精度的检验\n",
    "重复一元逻辑回归的步骤"
   ]
  },
  {
   "cell_type": "code",
   "execution_count": null,
   "metadata": {},
   "outputs": [],
   "source": []
  },
  {
   "cell_type": "code",
   "execution_count": null,
   "metadata": {},
   "outputs": [],
   "source": []
  },
  {
   "cell_type": "code",
   "execution_count": null,
   "metadata": {},
   "outputs": [],
   "source": []
  }
 ],
 "metadata": {
  "kernelspec": {
   "display_name": "Python 3",
   "language": "python",
   "name": "python3"
  },
  "language_info": {
   "codemirror_mode": {
    "name": "ipython",
    "version": 3
   },
   "file_extension": ".py",
   "mimetype": "text/x-python",
   "name": "python",
   "nbconvert_exporter": "python",
   "pygments_lexer": "ipython3",
   "version": "3.6.5"
  },
  "latex_envs": {
   "LaTeX_envs_menu_present": true,
   "autoclose": false,
   "autocomplete": true,
   "bibliofile": "biblio.bib",
   "cite_by": "apalike",
   "current_citInitial": 1,
   "eqLabelWithNumbers": true,
   "eqNumInitial": 1,
   "hotkeys": {
    "equation": "Ctrl-E",
    "itemize": "Ctrl-I"
   },
   "labels_anchors": false,
   "latex_user_defs": false,
   "report_style_numbering": false,
   "user_envs_cfg": false
  },
  "toc": {
   "base_numbering": 1,
   "nav_menu": {},
   "number_sections": true,
   "sideBar": true,
   "skip_h1_title": false,
   "title_cell": "Table of Contents",
   "title_sidebar": "Contents",
   "toc_cell": false,
   "toc_position": {},
   "toc_section_display": true,
   "toc_window_display": false
  },
  "varInspector": {
   "cols": {
    "lenName": 16,
    "lenType": 16,
    "lenVar": 40
   },
   "kernels_config": {
    "python": {
     "delete_cmd_postfix": "",
     "delete_cmd_prefix": "del ",
     "library": "var_list.py",
     "varRefreshCmd": "print(var_dic_list())"
    },
    "r": {
     "delete_cmd_postfix": ") ",
     "delete_cmd_prefix": "rm(",
     "library": "var_list.r",
     "varRefreshCmd": "cat(var_dic_list()) "
    }
   },
   "types_to_exclude": [
    "module",
    "function",
    "builtin_function_or_method",
    "instance",
    "_Feature"
   ],
   "window_display": false
  }
 },
 "nbformat": 4,
 "nbformat_minor": 2
}
