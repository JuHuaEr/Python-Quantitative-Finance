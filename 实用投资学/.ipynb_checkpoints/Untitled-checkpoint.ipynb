{
 "cells": [
  {
   "cell_type": "markdown",
   "metadata": {},
   "source": [
    "# 实用投资学\n",
    "### 考核方式：有考试\n",
    "#### 张彪 zhbalfred\n",
    "#### zhbalfred@126.com"
   ]
  },
  {
   "cell_type": "markdown",
   "metadata": {},
   "source": [
    "复利\n",
    "$F = A(1+i)^n$\n",
    "净资产收益率（ROE） = 税后利润/所有者权益"
   ]
  },
  {
   "cell_type": "code",
   "execution_count": 27,
   "metadata": {},
   "outputs": [
    {
     "data": {
      "text/plain": [
       "1.0964473460448896e+16"
      ]
     },
     "execution_count": 27,
     "metadata": {},
     "output_type": "execute_result"
    }
   ],
   "source": [
    "#递归计算复利\n",
    "def fuli(A,i,n):\n",
    "    if n == 0 or n == 1:\n",
    "        return A*(1+i)**n\n",
    "    else:\n",
    "        return fuli(A,i,n-1)*(1+i)**n\n",
    "fuli(100,.8,10)"
   ]
  },
  {
   "cell_type": "code",
   "execution_count": 7,
   "metadata": {},
   "outputs": [
    {
     "data": {
      "text/plain": [
       "304800"
      ]
     },
     "execution_count": 7,
     "metadata": {},
     "output_type": "execute_result"
    }
   ],
   "source": [
    "(22500 + (100+1800)*4 + 8000 )*8#四年大概30万左右"
   ]
  },
  {
   "cell_type": "code",
   "execution_count": 6,
   "metadata": {},
   "outputs": [
    {
     "data": {
      "text/plain": [
       "208.76712328767124"
      ]
     },
     "execution_count": 6,
     "metadata": {},
     "output_type": "execute_result"
    }
   ],
   "source": [
    "(22500 + (100+1800)*4 + 8000 )*8/(4*365)#每天平均消费200多。。。"
   ]
  },
  {
   "cell_type": "code",
   "execution_count": 5,
   "metadata": {},
   "outputs": [
    {
     "data": {
      "text/plain": [
       "1460"
      ]
     },
     "execution_count": 5,
     "metadata": {},
     "output_type": "execute_result"
    }
   ],
   "source": [
    "4*365"
   ]
  },
  {
   "cell_type": "markdown",
   "metadata": {},
   "source": [
    "# 经济学十大原理：\n",
    "### 1.人们面临权衡取舍、\n",
    "### 2.某种东西的成本是为了得到它而放弃的东西、\n",
    "### 3.理性人考虑边际量、\n",
    "### 4.人们会对激励作出反应、\n",
    "### 5.贸易能使每个人状况更好、\n",
    "### 6.市场通常是组织经济活动的一种好方法、\n",
    "### 7.政府有时可以改善市场结果、\n",
    "### 8.一国的生活水平取决于它生产物品与劳务的能力、\n",
    "### 9.当政府发行了过多货币时，物价上升、\n",
    "### 10.社会面临通货膨胀与失业之间的短期交替关系。\n"
   ]
  },
  {
   "cell_type": "markdown",
   "metadata": {},
   "source": [
    "# 货币供给，银行有哪些种类（中行，政府，商业银行 >信用中介），他们的运作方式"
   ]
  },
  {
   "cell_type": "code",
   "execution_count": null,
   "metadata": {},
   "outputs": [],
   "source": []
  }
 ],
 "metadata": {
  "kernelspec": {
   "display_name": "Python 3",
   "language": "python",
   "name": "python3"
  },
  "language_info": {
   "codemirror_mode": {
    "name": "ipython",
    "version": 3
   },
   "file_extension": ".py",
   "mimetype": "text/x-python",
   "name": "python",
   "nbconvert_exporter": "python",
   "pygments_lexer": "ipython3",
   "version": "3.6.5"
  }
 },
 "nbformat": 4,
 "nbformat_minor": 2
}
