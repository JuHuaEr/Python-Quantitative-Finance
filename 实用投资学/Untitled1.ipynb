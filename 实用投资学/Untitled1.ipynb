{
 "cells": [
  {
   "cell_type": "markdown",
   "metadata": {},
   "source": [
    "# 比特币的历史\n",
    "\n",
    "\n",
    "## 比特币客户端产生\n",
    "    2008年，中本聪在metzdowd.com上发表了一篇论文，论述了比特币的电子现金系统。一年后，2009年1月3日，比特币网络诞生，中本聪发布了开源的第一版比特币客户端——Bitcoind，中本聪本人挖出最开始的50个比特币。\n",
    "\n",
    "## 比特币\n",
    "\n",
    "\n"
   ]
  },
  {
   "cell_type": "code",
   "execution_count": null,
   "metadata": {},
   "outputs": [],
   "source": []
  }
 ],
 "metadata": {
  "kernelspec": {
   "display_name": "Python 3",
   "language": "python",
   "name": "python3"
  },
  "language_info": {
   "codemirror_mode": {
    "name": "ipython",
    "version": 3
   },
   "file_extension": ".py",
   "mimetype": "text/x-python",
   "name": "python",
   "nbconvert_exporter": "python",
   "pygments_lexer": "ipython3",
   "version": "3.6.5"
  }
 },
 "nbformat": 4,
 "nbformat_minor": 2
}
